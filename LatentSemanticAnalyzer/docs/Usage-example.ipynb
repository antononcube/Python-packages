{
 "cells": [
  {
   "cell_type": "markdown",
   "source": [
    "## Usage example\n",
    "\n",
    "Here is an example of a LSA pipeline that:\n",
    "1. Ingests a collection of texts\n",
    "2. Makes the corresponding document-term matrix using stemming and removing stop words\n",
    "3. Extracts 40 topics\n",
    "4. Shows a table with the extracted topics\n",
    "5. Shows a table with statistical thesaurus entries for selected words  "
   ],
   "metadata": {
    "collapsed": false
   },
   "id": "1553ae02132d4eae"
  },
  {
   "cell_type": "code",
   "execution_count": 2,
   "id": "486beb1e81a60d0e",
   "metadata": {
    "collapsed": true,
    "ExecuteTime": {
     "end_time": "2023-10-19T14:23:05.015723Z",
     "start_time": "2023-10-19T14:23:05.007521Z"
    }
   },
   "outputs": [],
   "source": [
    "import random\n",
    "from LatentSemanticAnalyzer.LatentSemanticAnalyzer import *\n",
    "from LatentSemanticAnalyzer.DataLoaders import *\n",
    "import snowballstemmer"
   ]
  },
  {
   "cell_type": "code",
   "execution_count": 15,
   "outputs": [
    {
     "data": {
      "text/plain": "578"
     },
     "execution_count": 15,
     "metadata": {},
     "output_type": "execute_result"
    }
   ],
   "source": [
    "# Collection of texts\n",
    "dfAbstracts = load_abstracts_data_frame()\n",
    "docs = dict(zip(dfAbstracts.ID, dfAbstracts.Abstract))\n",
    "len(docs)"
   ],
   "metadata": {
    "collapsed": false,
    "ExecuteTime": {
     "end_time": "2023-10-19T14:25:05.031554Z",
     "start_time": "2023-10-19T14:25:05.020454Z"
    }
   },
   "id": "6c2cedabe262adb0"
  },
  {
   "cell_type": "code",
   "execution_count": 4,
   "outputs": [],
   "source": [
    "# Stemmer object (to preprocess words in the pipeline below)\n",
    "stemmerObj = snowballstemmer.stemmer(\"english\")"
   ],
   "metadata": {
    "collapsed": false,
    "ExecuteTime": {
     "end_time": "2023-10-19T14:23:07.979893Z",
     "start_time": "2023-10-19T14:23:07.974305Z"
    }
   },
   "id": "610780d0626b2df2"
  },
  {
   "cell_type": "code",
   "execution_count": 5,
   "outputs": [],
   "source": [
    "# Words to show statistical thesaurus entries for\n",
    "words = [\"notebook\", \"computational\", \"function\", \"neural\", \"talk\", \"programming\"]"
   ],
   "metadata": {
    "collapsed": false,
    "ExecuteTime": {
     "end_time": "2023-10-19T14:23:10.303170Z",
     "start_time": "2023-10-19T14:23:10.297302Z"
    }
   },
   "id": "3ab77f3fd3097d8"
  },
  {
   "cell_type": "code",
   "execution_count": 6,
   "outputs": [],
   "source": [
    "# Reproducible results\n",
    "random.seed(12)"
   ],
   "metadata": {
    "collapsed": false,
    "ExecuteTime": {
     "end_time": "2023-10-19T14:23:11.762941Z",
     "start_time": "2023-10-19T14:23:11.759699Z"
    }
   },
   "id": "49992add7c4e9c03"
  },
  {
   "cell_type": "code",
   "execution_count": 13,
   "outputs": [
    {
     "data": {
      "text/plain": "567"
     },
     "execution_count": 13,
     "metadata": {},
     "output_type": "execute_result"
    }
   ],
   "source": [
    "# Remove non-strings\n",
    "docs2 = { k:v for k, v in docs.items() if isinstance(v, str) }\n",
    "len(docs2)"
   ],
   "metadata": {
    "collapsed": false,
    "ExecuteTime": {
     "end_time": "2023-10-19T14:24:35.908229Z",
     "start_time": "2023-10-19T14:24:35.903818Z"
    }
   },
   "id": "f0a3954c2c2e3a33"
  },
  {
   "cell_type": "code",
   "execution_count": 14,
   "outputs": [
    {
     "name": "stdout",
     "output_type": "stream",
     "text": [
      "                                           0           1            2          3          4            5         6           7          8            9           10          11\n",
      "tpc.000.player-app-view                player         app         view     storag    account       websit       cdf        file      cloud     interact    document       learn\n",
      "tpc.001.complex-look-plot             complex        look         plot     number       valu        quick  function        take     improv        exist       cover        talk\n",
      "tpc.002.materi-assign-teacher          materi      assign      teacher     school    concept      univers      made     explain     physic     particip  understand     student\n",
      "tpc.003.audio-signal-analysi            audio      signal      analysi    extract    classif      generat    effect       refer    process        updat    introduc        show\n",
      "tpc.004.curv-algebra-plane               curv     algebra        plane    theorem    project    represent     defin     describ       plot        media      repres        real\n",
      "tpc.005.scienc-data-analyt             scienc        data       analyt     inform       life       social     organ        tool   workflow         year      public      health\n",
      "tpc.006.resourc-repositori-submit     resourc  repositori       submit     public      share          net  function     publish     includ         data      system     content\n",
      "tpc.007.game-engin-question              game       engin     question       link    technic     geometri      plan       video        get       theori        play        come\n",
      "tpc.008.think-comput-learn              think      comput        learn     design       tool      languag     human       activ       idea         real      experi     discuss\n",
      "tpc.009.softwar-develop-cloud         softwar     develop        cloud      train    control      hardwar      test        high    program      address       still       focus\n",
      "tpc.010.point-pattern-anim              point     pattern         anim       tree      space        posit     locat        data      event        upcom       refer         aim\n",
      "tpc.011.rule-space-defin                 rule       space        defin     explor    cluster       design   contain  particular        way        order       class       studi\n",
      "tpc.012.cloud-build-notebook            cloud       build     notebook        web     privat      general    applic      websit      entir    introduct        show       thing\n",
      "tpc.013.dynam-interfac-manipul          dynam    interfac      manipul    illustr      build         issu  techniqu     element      other       specif    interact  particular\n",
      "tpc.014.grade-assess-teacher            grade      assess      teacher       test      onlin     question  individu       autom   platform        handl       cours       scale\n",
      "tpc.015.librari-evalu-parallel        librari       evalu     parallel     kernel     vector         link    linear      improv    perform         work     algebra        also\n",
      "tpc.016.math-scienc-interpret            math      scienc    interpret   mathemat      topic      environ   project    progress    subject       impact       teach       typic\n",
      "tpc.017.alpha-introduct-give            alpha   introduct         give    project       site        local   wolfram     discuss        app      product    notebook  background\n",
      "tpc.018.educ-classroom-want              educ   classroom         want    generat        set        teach      work      improv        get          app   introduct     problem\n",
      "tpc.019.student-school-mathematica    student      school  mathematica       high      share        print     class      experi      train        learn     problem      colleg\n",
      "tpc.020.excel-servic-api                excel      servic          api        web     applic       deploy      code       power     privat      connect       write       allow\n",
      "tpc.021.time-seri-date                   time        seri         date    process   interest         data     trend      output  algorithm        input     analysi       focus\n",
      "tpc.022.technolog-wolfram-servic    technolog     wolfram       servic       done      engin      leverag     stack      explor       work      compani         new    industri\n",
      "tpc.023.geometr-latest-region         geometr      latest       region       gain      upcom       capabl   insight    geometri     analyz         help       addit      improv\n",
      "tpc.024.cours-packag-engin              cours      packag        engin     exampl   mathemat       electr    theori       grade      avail      student        last      submit\n",
      "tpc.025.optim-solver-problem            optim      solver      problem      focus     linear     overview   general    advantag        new       effici        take        solv\n",
      "tpc.026.financi-data-market           financi        data       market       live      enabl      retriev       key    platform      sourc       access    interfac     perform\n",
      "tpc.027.calculus-equat-differenti    calculus       equat   differenti      relat   document     function   algebra        give     symbol       recent     partial       limit\n",
      "tpc.028.notebook-cdf-initi           notebook         cdf        initi      relat     deploy      current    featur      format    general        thing    document   introduct\n",
      "tpc.029.model-system-engin              model      system        engin      world        key        field       now      physic      organ      control     sophist        life\n",
      "tpc.030.new-featur-graphic                new      featur      graphic      cover    present      version      will        also     exampl  mathematica        well      releas\n",
      "tpc.031.geograph-dataset-data        geograph     dataset         data    coordin        way           ad  introduc      explor    version       inform       basic    function\n",
      "tpc.032.visual-look-scientif           visual        look     scientif       main       best        world     creat        tool    display         make       graph         day\n",
      "tpc.033.imag-process-object              imag     process       object      video    classif       vision      oper        mani       deep       applic      import       updat\n",
      "tpc.034.neural-network-train           neural     network        train        net  framework     workshop     learn      applic      build      sequenc        deep        task\n",
      "tpc.035.precis-numer-method            precis       numer       method  arbitrari   approxim  mathematica    number      comput   mathemat       result       digit    constant\n",
      "tpc.036.learn-cluster-classifi          learn     cluster     classifi     machin   function     structur       etc      detect       tool      predict       level        high\n",
      "tpc.037.entiti-properti-queri          entiti    properti        queri      class    databas        defin      type       thing      curat        store    structur        list\n",
      "tpc.038.abstract-order-explor        abstract       order       explor      focus       work    algorithm    origin       entir       seri       custom      system     process\n",
      "tpc.039.step-problem-come                step     problem         come    geometr      solut         solv   generat       bring   question       follow   framework       power\n",
      "                0        1         2        3         4          5         6            7          8          9         10        11\n",
      "comput      comput    think   audienc     idea       far      human       low        activ  contribut   intellig  principl      vari\n",
      "function  function   includ    review     area    recent       will   probabl    distribut  fundament       talk  structur     sampl\n",
      "neural      neural  network     train  sequenc       net  framework  workshop  architectur      rapid       hand      text  artifici\n",
      "notebook  notebook    initi       cdf  current    deploy       keep     relat       across     select    general    format     thing\n",
      "program    program     rich  challeng  flexibl  research        use    within         call     requir  contribut      user     along\n",
      "talk          talk     will    option     show    includ     provid      also        great   overview   function   various   convert\n"
     ]
    }
   ],
   "source": [
    "# LSA pipeline\n",
    "lsaObj = (LatentSemanticAnalyzer()\n",
    "          .make_document_term_matrix(docs=docs2,\n",
    "                                     stop_words=True,\n",
    "                                     stemming_rules=True,\n",
    "                                     min_length=3)\n",
    "          .apply_term_weight_functions(global_weight_func=\"IDF\",\n",
    "                                       local_weight_func=\"None\",\n",
    "                                       normalizer_func=\"Cosine\")\n",
    "          .extract_topics(number_of_topics=40, min_number_of_documents_per_term=10, method=\"NNMF\")\n",
    "          .echo_topics_interpretation(number_of_terms=12, wide_form=True)\n",
    "          .echo_statistical_thesaurus(terms=stemmerObj.stemWords(words),\n",
    "                                      wide_form=True,\n",
    "                                      number_of_nearest_neighbors=12,\n",
    "                                      method=\"cosine\",\n",
    "                                      echo_function=lambda x: print(x.to_string())))"
   ],
   "metadata": {
    "collapsed": false,
    "ExecuteTime": {
     "end_time": "2023-10-19T14:25:05.019546Z",
     "start_time": "2023-10-19T14:24:39.486833Z"
    }
   },
   "id": "initial_id"
  },
  {
   "cell_type": "code",
   "execution_count": null,
   "outputs": [],
   "source": [],
   "metadata": {
    "collapsed": false
   },
   "id": "8e98edbbc7cca393"
  }
 ],
 "metadata": {
  "kernelspec": {
   "display_name": "Python 3",
   "language": "python",
   "name": "python3"
  },
  "language_info": {
   "codemirror_mode": {
    "name": "ipython",
    "version": 2
   },
   "file_extension": ".py",
   "mimetype": "text/x-python",
   "name": "python",
   "nbconvert_exporter": "python",
   "pygments_lexer": "ipython2",
   "version": "2.7.6"
  }
 },
 "nbformat": 4,
 "nbformat_minor": 5
}
