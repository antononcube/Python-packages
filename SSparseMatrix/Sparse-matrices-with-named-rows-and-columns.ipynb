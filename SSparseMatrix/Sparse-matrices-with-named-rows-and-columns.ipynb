{
 "cells": [
  {
   "cell_type": "markdown",
   "id": "d7b0b914",
   "metadata": {},
   "source": [
    "# Sparse matrices with named rows and columns"
   ]
  },
  {
   "cell_type": "markdown",
   "id": "637a0d0e",
   "metadata": {},
   "source": [
    "## In brief\n",
    "This package attempts to cover as many as possible of the functionalities for \n",
    "sparse matrix objects that are provided by R’s Matrix library. \n",
    "\n",
    "- [X] Sub-matrix extraction by row and column names\n",
    "   - [X] Single element access\n",
    "   - [X] Slices (with integers)\n",
    "   - [X] Subsets of row names and column names\n",
    "- [X] Row and column names propagation for dot products\n",
    "   - [X] Lists\n",
    "   - [X] Dense vectors (`numpy.array`)\n",
    "   - [X] `scipy` sparse matrices\n",
    "   - [X] `SSparseMatrix` objects\n",
    "- [X] Row and column sums \n",
    "- [X] Transposing\n",
    "- [X] Pretty printing\n",
    "- [ ] Row and column binding of `SSparseMatrix` objects\n",
    "  - [ ] Row binding\n",
    "  - [ ] Column binding\n",
    "- [ ] \"Export\" functions\n",
    "  - [ ] Triplets\n",
    "  - [ ] Row-dictionaries\n",
    "  - [ ] Column-dictionaries\n",
    "\n",
    "This package more or less follows the design of the\n",
    "Mathematica package\n",
    "[SSparseMatrix.m](https://github.com/antononcube/MathematicaForPrediction/blob/master/SSparseMatrix.m).\n",
    "\n",
    "The usage examples below can be also run through the file [\"examples.py\"](./examples.py)."
   ]
  },
  {
   "cell_type": "markdown",
   "id": "2d9eb64a",
   "metadata": {},
   "source": [
    "## Installation\n",
    "\n",
    "### Install from GitHub\n",
    "\n",
    "```shell\n",
    "pip install -e git+https://github.com/antononcube/Python-packages.git#egg=SSparseMatrix-antononcube\\&subdirectory=SSparseMatrix\n",
    "```\n",
    "\n",
    "### From local directory\n",
    "\n",
    "```shell\n",
    "pip install ./SSparseMatrix\n",
    "```\n"
   ]
  },
  {
   "cell_type": "markdown",
   "id": "4e05d4af",
   "metadata": {},
   "source": [
    "## Setup and creation"
   ]
  },
  {
   "cell_type": "markdown",
   "id": "ac4d496c",
   "metadata": {},
   "source": [
    "Setup:"
   ]
  },
  {
   "cell_type": "code",
   "execution_count": 8,
   "id": "7f52540c",
   "metadata": {},
   "outputs": [],
   "source": [
    "from SSparseMatrix.src.SSparseMatrix import *"
   ]
  },
  {
   "cell_type": "markdown",
   "id": "c17ae9db",
   "metadata": {},
   "source": [
    "Create a sparse matrix with named rows and columns (a `SSparseMatrix` object):"
   ]
  },
  {
   "cell_type": "code",
   "execution_count": 9,
   "id": "8d6a57bd",
   "metadata": {},
   "outputs": [
    {
     "data": {
      "text/plain": [
       "<SSparseMatrix.src.SSparseMatrix.SSparseMatrix at 0x1112ec8b0>"
      ]
     },
     "execution_count": 9,
     "metadata": {},
     "output_type": "execute_result"
    }
   ],
   "source": [
    "mat = [[1, 0, 0, 3], [4, 0, 0, 5], [0, 3, 0, 5], [0, 0, 1, 0], [0, 0, 0, 5]]\n",
    "smat = SSparseMatrix(mat)\n",
    "smat.set_row_names([\"A\", \"B\", \"C\", \"D\", \"E\"])\n",
    "smat.set_column_names([\"a\", \"b\", \"c\", \"d\"])"
   ]
  },
  {
   "cell_type": "markdown",
   "id": "afc680ba",
   "metadata": {},
   "source": [
    "Print the created sparse matrix:"
   ]
  },
  {
   "cell_type": "code",
   "execution_count": 10,
   "id": "daa63c68",
   "metadata": {},
   "outputs": [
    {
     "name": "stdout",
     "output_type": "stream",
     "text": [
      "===================================\n",
      "  |       a       b       c       d\n",
      "-----------------------------------\n",
      "A |       1       0       0       3\n",
      "B |       4       0       0       5\n",
      "C |       0       3       0       5\n",
      "D |       0       0       1       0\n",
      "E |       0       0       0       5\n",
      "===================================\n"
     ]
    }
   ],
   "source": [
    "smat.print_matrix()"
   ]
  },
  {
   "cell_type": "markdown",
   "id": "2ec22cec",
   "metadata": {},
   "source": [
    " Here is the dense version of the sparse matrix:"
   ]
  },
  {
   "cell_type": "code",
   "execution_count": 11,
   "id": "500ad7a5",
   "metadata": {},
   "outputs": [
    {
     "name": "stdout",
     "output_type": "stream",
     "text": [
      "[[1 0 0 3]\n",
      " [4 0 0 5]\n",
      " [0 3 0 5]\n",
      " [0 0 1 0]\n",
      " [0 0 0 5]]\n"
     ]
    }
   ],
   "source": [
    "print(smat.sparse_matrix().todense())"
   ]
  },
  {
   "cell_type": "markdown",
   "id": "c00ae9be",
   "metadata": {},
   "source": [
    "## Multiplication"
   ]
  },
  {
   "cell_type": "markdown",
   "id": "f06f73c2",
   "metadata": {},
   "source": [
    "Multiply with the transpose and print"
   ]
  },
  {
   "cell_type": "code",
   "execution_count": 12,
   "id": "42f19e51",
   "metadata": {},
   "outputs": [
    {
     "name": "stdout",
     "output_type": "stream",
     "text": [
      "===========================================\n",
      "  |       A       B       C       D       E\n",
      "-------------------------------------------\n",
      "A |      10      19      15       0      15\n",
      "B |      19      41      25       0      25\n",
      "C |      15      25      34       0      25\n",
      "D |       0       0       0       1       0\n",
      "E |      15      25      25       0      25\n",
      "===========================================\n"
     ]
    }
   ],
   "source": [
    "smat2 = smat.dot(smat.transpose())\n",
    "smat2.print_matrix()"
   ]
  },
  {
   "cell_type": "markdown",
   "id": "c61dcee6",
   "metadata": {},
   "source": [
    "Multiply with a list-vector:"
   ]
  },
  {
   "cell_type": "code",
   "execution_count": 13,
   "id": "0a1d2d91",
   "metadata": {},
   "outputs": [
    {
     "name": "stdout",
     "output_type": "stream",
     "text": [
      "===========\n",
      "  |       0\n",
      "-----------\n",
      "A |       1\n",
      "B |       4\n",
      "C |       6\n",
      "D |       1\n",
      "E |       0\n",
      "===========\n"
     ]
    }
   ],
   "source": [
    "smat3 = smat.dot([1, 2, 1, 0])\n",
    "smat3.print_matrix()"
   ]
  },
  {
   "cell_type": "markdown",
   "id": "2745e707",
   "metadata": {},
   "source": [
    "**Remark:** The type of the `.dot` argument can be:\n",
    "- `SSparseMatrix`\n",
    "- `list`\n",
    "- `numpy.array`\n",
    "- `scipy.sparse.csr_matrix`"
   ]
  },
  {
   "cell_type": "markdown",
   "id": "54052eb9",
   "metadata": {},
   "source": [
    "## Slices"
   ]
  },
  {
   "cell_type": "markdown",
   "id": "5d1db7ac",
   "metadata": {},
   "source": [
    "Single element access:"
   ]
  },
  {
   "cell_type": "code",
   "execution_count": 14,
   "id": "3b5bf617",
   "metadata": {},
   "outputs": [
    {
     "name": "stdout",
     "output_type": "stream",
     "text": [
      "3\n",
      "3\n"
     ]
    }
   ],
   "source": [
    "print(smat[\"A\", \"d\"])\n",
    "print(smat[0, 3])"
   ]
  },
  {
   "cell_type": "markdown",
   "id": "94a4cce2",
   "metadata": {},
   "source": [
    "Get sub-matrix of rows using row names:"
   ]
  },
  {
   "cell_type": "code",
   "execution_count": 15,
   "id": "88f3ea1b",
   "metadata": {},
   "outputs": [
    {
     "name": "stdout",
     "output_type": "stream",
     "text": [
      "===================================\n",
      "  |       a       b       c       d\n",
      "-----------------------------------\n",
      "A |       1       0       0       3\n",
      "D |       0       0       1       0\n",
      "B |       4       0       0       5\n",
      "===================================\n"
     ]
    }
   ],
   "source": [
    "smat[[\"A\", \"D\", \"B\"], :].print_matrix()"
   ]
  },
  {
   "cell_type": "markdown",
   "id": "5a296569",
   "metadata": {},
   "source": [
    "Get sub-matrix using row indices:"
   ]
  },
  {
   "cell_type": "code",
   "execution_count": 16,
   "id": "415e8523",
   "metadata": {},
   "outputs": [
    {
     "name": "stdout",
     "output_type": "stream",
     "text": [
      "===================================\n",
      "  |       a       b       c       d\n",
      "-----------------------------------\n",
      "A |       1       0       0       3\n",
      "D |       0       0       1       0\n",
      "B |       4       0       0       5\n",
      "===================================\n"
     ]
    }
   ],
   "source": [
    "smat[[0, 3, 1], :].print_matrix()"
   ]
  },
  {
   "cell_type": "markdown",
   "id": "c9dcce98",
   "metadata": {},
   "source": [
    "Get sub-matrix with columns names:"
   ]
  },
  {
   "cell_type": "code",
   "execution_count": 17,
   "id": "6ee0b550",
   "metadata": {},
   "outputs": [
    {
     "name": "stdout",
     "output_type": "stream",
     "text": [
      "===================\n",
      "  |       a       c\n",
      "-------------------\n",
      "A |       1       0\n",
      "B |       4       0\n",
      "C |       0       0\n",
      "D |       0       1\n",
      "E |       0       0\n",
      "===================\n"
     ]
    }
   ],
   "source": [
    "smat[:, ['a', 'c']].print_matrix()"
   ]
  },
  {
   "cell_type": "markdown",
   "id": "f17dfa65",
   "metadata": {},
   "source": [
    "Get sub-matrix with columns indices:"
   ]
  },
  {
   "cell_type": "code",
   "execution_count": 18,
   "id": "3b9271f0",
   "metadata": {},
   "outputs": [
    {
     "name": "stdout",
     "output_type": "stream",
     "text": [
      "===================\n",
      "  |       a       c\n",
      "-------------------\n",
      "A |       1       0\n",
      "B |       4       0\n",
      "C |       0       0\n",
      "D |       0       1\n",
      "E |       0       0\n",
      "===================\n"
     ]
    }
   ],
   "source": [
    "smat[:, [0, 2]].print_matrix()"
   ]
  },
  {
   "cell_type": "markdown",
   "id": "75fc2df6",
   "metadata": {},
   "source": [
    "## Row and column sums"
   ]
  },
  {
   "cell_type": "markdown",
   "id": "892bff22",
   "metadata": {},
   "source": [
    "Row sums and dictionary of row sums:"
   ]
  },
  {
   "cell_type": "code",
   "execution_count": 19,
   "id": "efbdc007",
   "metadata": {},
   "outputs": [
    {
     "name": "stdout",
     "output_type": "stream",
     "text": [
      "[4, 9, 8, 1, 5]\n",
      "{'A': 4, 'B': 9, 'C': 8, 'D': 1, 'E': 5}\n"
     ]
    }
   ],
   "source": [
    "print(smat.row_sums())\n",
    "print(smat.row_sums_dict())"
   ]
  },
  {
   "cell_type": "markdown",
   "id": "13eba917",
   "metadata": {},
   "source": [
    "Column sums and dictionary of column sums:"
   ]
  },
  {
   "cell_type": "code",
   "execution_count": 20,
   "id": "39fa75bc",
   "metadata": {},
   "outputs": [
    {
     "name": "stdout",
     "output_type": "stream",
     "text": [
      "[5, 3, 1, 18]\n",
      "{'a': 5, 'b': 3, 'c': 1, 'd': 18}\n"
     ]
    }
   ],
   "source": [
    "print(smat.column_sums())\n",
    "print(smat.column_sums_dict())"
   ]
  },
  {
   "cell_type": "markdown",
   "id": "c353b7ee",
   "metadata": {},
   "source": [
    "## References\n",
    "\n",
    "### Articles\n",
    "\n",
    "[AA1] Anton Antonov,\n",
    "[\"RSparseMatrix for sparse matrices with named rows and columns\"](https://mathematicaforprediction.wordpress.com/2015/10/08/rsparsematrix-for-sparse-matrices-with-named-rows-and-columns/),\n",
    "(2015),\n",
    "[MathematicaForPrediction at WordPress](https://mathematicaforprediction.wordpress.com).\n",
    "\n",
    "### Packages\n",
    "\n",
    "[AAp1] Anton Antonov,\n",
    "[SSparseMatrix.m](https://github.com/antononcube/MathematicaForPrediction/blob/master/SSparseMatrix.m),\n",
    "(2018),\n",
    "[MathematicaForPrediction at GitHub](https://github.com/antononcube/MathematicaForPrediction).\n"
   ]
  }
 ],
 "metadata": {
  "kernelspec": {
   "display_name": "SciPyExpreiments",
   "language": "python",
   "name": "scipyexpreiments"
  },
  "language_info": {
   "codemirror_mode": {
    "name": "ipython",
    "version": 3
   },
   "file_extension": ".py",
   "mimetype": "text/x-python",
   "name": "python",
   "nbconvert_exporter": "python",
   "pygments_lexer": "ipython3",
   "version": "3.9.7"
  }
 },
 "nbformat": 4,
 "nbformat_minor": 5
}