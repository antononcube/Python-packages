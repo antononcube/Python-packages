{
 "cells": [
  {
   "cell_type": "markdown",
   "id": "d7b0b914",
   "metadata": {},
   "source": [
    "# Sparse matrices with named rows and columns"
   ]
  },
  {
   "cell_type": "markdown",
   "id": "637a0d0e",
   "metadata": {},
   "source": [
    "## In brief\n",
    "\n",
    "This Python package attempts to cover as many as possible of the functionalities for \n",
    "sparse matrix objects that are provided by R’s Matrix library. \n",
    "\n",
    "- [X] Sub-matrix extraction by row and column names\n",
    "   - [X] Single element access\n",
    "   - [X] Slices (with integers)\n",
    "   - [X] Subsets of row names and column names\n",
    "- [X] Row and column names propagation for dot products\n",
    "   - [X] Lists\n",
    "   - [X] Dense vectors (`numpy.array`)\n",
    "   - [X] `scipy` sparse matrices\n",
    "   - [X] `SSparseMatrix` objects\n",
    "- [X] Row and column sums \n",
    "- [X] Transposing\n",
    "- [X] Pretty printing\n",
    "- [X] Row and column binding of `SSparseMatrix` objects\n",
    "  - [X] Row binding\n",
    "  - [X] Column binding\n",
    "- [ ] \"Export\" functions\n",
    "  - [ ] Triplets\n",
    "  - [ ] Row-dictionaries\n",
    "  - [ ] Column-dictionaries\n",
    "\n",
    "The full list of features and development status can be found in the \n",
    "[org-mode](https://orgmode.org)\n",
    "file\n",
    "[SSparseMatrix-work-plan.org](../org/SSparseMatrix-work-plan.org).\n",
    "\n",
    "This package more or less follows the design of the\n",
    "Mathematica package\n",
    "[SSparseMatrix.m](https://github.com/antononcube/MathematicaForPrediction/blob/master/SSparseMatrix.m).\n",
    "\n",
    "The usage examples below can be also run through the file [\"examples.py\"](./examples.py)."
   ]
  },
  {
   "cell_type": "markdown",
   "id": "2d9eb64a",
   "metadata": {},
   "source": [
    "## Installation\n",
    "\n",
    "### Install from GitHub\n",
    "\n",
    "```shell\n",
    "pip install -e git+https://github.com/antononcube/Python-packages.git#egg=SSparseMatrix-antononcube\\&subdirectory=SSparseMatrix\n",
    "```\n",
    "\n",
    "### From local directory\n",
    "\n",
    "```shell\n",
    "pip install ./SSparseMatrix\n",
    "```\n"
   ]
  },
  {
   "cell_type": "markdown",
   "id": "4e05d4af",
   "metadata": {},
   "source": [
    "## Setup and creation"
   ]
  },
  {
   "cell_type": "markdown",
   "id": "ac4d496c",
   "metadata": {},
   "source": [
    "Setup:"
   ]
  },
  {
   "cell_type": "code",
   "execution_count": 1,
   "id": "7f52540c",
   "metadata": {},
   "outputs": [
    {
     "ename": "ModuleNotFoundError",
     "evalue": "No module named 'SSparseMatrix'",
     "output_type": "error",
     "traceback": [
      "\u001b[0;31m---------------------------------------------------------------------------\u001b[0m",
      "\u001b[0;31mModuleNotFoundError\u001b[0m                       Traceback (most recent call last)",
      "\u001b[0;32m/var/folders/q5/qh3cs3z16mn93nyy97k_pcn80000gn/T/ipykernel_483/1621601722.py\u001b[0m in \u001b[0;36m<module>\u001b[0;34m\u001b[0m\n\u001b[0;32m----> 1\u001b[0;31m \u001b[0;32mfrom\u001b[0m \u001b[0mSSparseMatrix\u001b[0m\u001b[0;34m.\u001b[0m\u001b[0msrc\u001b[0m\u001b[0;34m.\u001b[0m\u001b[0mSSparseMatrix\u001b[0m \u001b[0;32mimport\u001b[0m \u001b[0;34m*\u001b[0m\u001b[0;34m\u001b[0m\u001b[0;34m\u001b[0m\u001b[0m\n\u001b[0m",
      "\u001b[0;31mModuleNotFoundError\u001b[0m: No module named 'SSparseMatrix'"
     ]
    }
   ],
   "source": [
    "from SSparseMatrix.src.SSparseMatrix import *"
   ]
  },
  {
   "cell_type": "markdown",
   "id": "c17ae9db",
   "metadata": {},
   "source": [
    "Create a sparse matrix with named rows and columns (a `SSparseMatrix` object):"
   ]
  },
  {
   "cell_type": "code",
   "execution_count": null,
   "id": "8d6a57bd",
   "metadata": {},
   "outputs": [],
   "source": [
    "mat = [[1, 0, 0, 3], [4, 0, 0, 5], [0, 3, 0, 5], [0, 0, 1, 0], [0, 0, 0, 5]]\n",
    "smat = SSparseMatrix(mat)\n",
    "smat.set_row_names([\"A\", \"B\", \"C\", \"D\", \"E\"])\n",
    "smat.set_column_names([\"a\", \"b\", \"c\", \"d\"])"
   ]
  },
  {
   "cell_type": "markdown",
   "id": "afc680ba",
   "metadata": {},
   "source": [
    "Print the created sparse matrix:"
   ]
  },
  {
   "cell_type": "code",
   "execution_count": null,
   "id": "daa63c68",
   "metadata": {
    "scrolled": true
   },
   "outputs": [],
   "source": [
    "smat.print_matrix()"
   ]
  },
  {
   "cell_type": "markdown",
   "id": "12fe5fd9",
   "metadata": {},
   "source": [
    "## Structure\n",
    "\n",
    "The `SSparseMatrix` objects have a simple structure. Here are the attributes:\n",
    "- `sparseMatrix`\n",
    "- `rowNames`\n",
    "- `colNames`\n",
    "- `dimNames`\n",
    "\n",
    "Here are the methods to \"query\" `SSparseMatrix` objects:\n",
    "- `sparse_matrix()`\n",
    "- `row_names()` and `row_names_dict()`\n",
    "- `column_names()` and `column_names_dict()`\n",
    "- `shape()`\n",
    "- `dimension_names()`"
   ]
  },
  {
   "cell_type": "markdown",
   "id": "2ec22cec",
   "metadata": {},
   "source": [
    " Here is the dense version of the sparse matrix:"
   ]
  },
  {
   "cell_type": "code",
   "execution_count": null,
   "id": "500ad7a5",
   "metadata": {},
   "outputs": [],
   "source": [
    "print(smat.sparse_matrix().todense())"
   ]
  },
  {
   "cell_type": "markdown",
   "id": "c00ae9be",
   "metadata": {},
   "source": [
    "## Multiplication"
   ]
  },
  {
   "cell_type": "markdown",
   "id": "f06f73c2",
   "metadata": {},
   "source": [
    "Multiply with the transpose and print"
   ]
  },
  {
   "cell_type": "code",
   "execution_count": null,
   "id": "42f19e51",
   "metadata": {},
   "outputs": [],
   "source": [
    "smat2 = smat.dot(smat.transpose())\n",
    "smat2.print_matrix()"
   ]
  },
  {
   "cell_type": "markdown",
   "id": "c61dcee6",
   "metadata": {},
   "source": [
    "Multiply with a list-vector:"
   ]
  },
  {
   "cell_type": "code",
   "execution_count": null,
   "id": "0a1d2d91",
   "metadata": {},
   "outputs": [],
   "source": [
    "smat3 = smat.dot([1, 2, 1, 0])\n",
    "smat3.print_matrix()"
   ]
  },
  {
   "cell_type": "markdown",
   "id": "2745e707",
   "metadata": {},
   "source": [
    "**Remark:** The type of the `.dot` argument can be:\n",
    "- `SSparseMatrix`\n",
    "- `list`\n",
    "- `numpy.array`\n",
    "- `scipy.sparse.csr_matrix`"
   ]
  },
  {
   "cell_type": "markdown",
   "id": "54052eb9",
   "metadata": {},
   "source": [
    "## Slices"
   ]
  },
  {
   "cell_type": "markdown",
   "id": "5d1db7ac",
   "metadata": {},
   "source": [
    "Single element access:"
   ]
  },
  {
   "cell_type": "code",
   "execution_count": null,
   "id": "3b5bf617",
   "metadata": {},
   "outputs": [],
   "source": [
    "print(smat[\"A\", \"d\"])\n",
    "print(smat[0, 3])"
   ]
  },
  {
   "cell_type": "markdown",
   "id": "94a4cce2",
   "metadata": {},
   "source": [
    "Get sub-matrix of rows using row names:"
   ]
  },
  {
   "cell_type": "code",
   "execution_count": null,
   "id": "88f3ea1b",
   "metadata": {},
   "outputs": [],
   "source": [
    "smat[[\"A\", \"D\", \"B\"], :].print_matrix()"
   ]
  },
  {
   "cell_type": "markdown",
   "id": "5a296569",
   "metadata": {},
   "source": [
    "Get sub-matrix using row indices:"
   ]
  },
  {
   "cell_type": "code",
   "execution_count": null,
   "id": "415e8523",
   "metadata": {},
   "outputs": [],
   "source": [
    "smat[[0, 3, 1], :].print_matrix()"
   ]
  },
  {
   "cell_type": "markdown",
   "id": "c9dcce98",
   "metadata": {},
   "source": [
    "Get sub-matrix with columns names:"
   ]
  },
  {
   "cell_type": "code",
   "execution_count": null,
   "id": "6ee0b550",
   "metadata": {},
   "outputs": [],
   "source": [
    "smat[:, ['a', 'c']].print_matrix()"
   ]
  },
  {
   "cell_type": "markdown",
   "id": "f17dfa65",
   "metadata": {},
   "source": [
    "Get sub-matrix with columns indices:"
   ]
  },
  {
   "cell_type": "code",
   "execution_count": null,
   "id": "3b9271f0",
   "metadata": {
    "scrolled": false
   },
   "outputs": [],
   "source": [
    "smat[:, [0, 2]].print_matrix()"
   ]
  },
  {
   "cell_type": "markdown",
   "id": "78a5ebb8",
   "metadata": {},
   "source": [
    "**Remark:** The current implementation of `scipy` (1.7.1) does not allow retrieval\n",
    "of sub-matrices by specifying *both* row and column ranges or slices. \n",
    "\n",
    "**Remark:** \"Standard\" slices with integers also work. "
   ]
  },
  {
   "cell_type": "markdown",
   "id": "75fc2df6",
   "metadata": {},
   "source": [
    "## Row and column sums"
   ]
  },
  {
   "cell_type": "markdown",
   "id": "892bff22",
   "metadata": {},
   "source": [
    "Row sums and dictionary of row sums:"
   ]
  },
  {
   "cell_type": "code",
   "execution_count": null,
   "id": "efbdc007",
   "metadata": {},
   "outputs": [],
   "source": [
    "print(smat.row_sums())\n",
    "print(smat.row_sums_dict())"
   ]
  },
  {
   "cell_type": "markdown",
   "id": "13eba917",
   "metadata": {},
   "source": [
    "Column sums and dictionary of column sums:"
   ]
  },
  {
   "cell_type": "code",
   "execution_count": null,
   "id": "39fa75bc",
   "metadata": {
    "scrolled": false
   },
   "outputs": [],
   "source": [
    "print(smat.column_sums())\n",
    "print(smat.column_sums_dict())"
   ]
  },
  {
   "cell_type": "markdown",
   "id": "feccde55",
   "metadata": {},
   "source": [
    "## In place computations"
   ]
  },
  {
   "cell_type": "markdown",
   "id": "dfaee4c8",
   "metadata": {},
   "source": [
    "- The methods for setting row- and column-names are \"in place\" methods -- no new `SSparseMatrix` objects a created.\n",
    "\n",
    "- The dot product, arithmetic, and transposing methods have a optional argument whether to do computations in place or not. \n",
    "    - By default, the computations are *not* in place: new objects are created.\n",
    "    - The name of the optional argument is \"inplace\".\n",
    " \n",
    "- The class `SSparseMatrix` has the method `copy()` that produces deep copies when invoked."
   ]
  },
  {
   "cell_type": "markdown",
   "id": "e982c708",
   "metadata": {},
   "source": [
    "## Unit tests"
   ]
  },
  {
   "cell_type": "markdown",
   "id": "3a63454e",
   "metadata": {},
   "source": [
    "The unit tests (so far) are broken into functionalities; see the folder [./tests](./tests). Similar unit tests are given in [AAp2]."
   ]
  },
  {
   "cell_type": "markdown",
   "id": "c353b7ee",
   "metadata": {},
   "source": [
    "## References\n",
    "\n",
    "### Articles\n",
    "\n",
    "[AA1] Anton Antonov,\n",
    "[\"RSparseMatrix for sparse matrices with named rows and columns\"](https://mathematicaforprediction.wordpress.com/2015/10/08/rsparsematrix-for-sparse-matrices-with-named-rows-and-columns/),\n",
    "(2015),\n",
    "[MathematicaForPrediction at WordPress](https://mathematicaforprediction.wordpress.com).\n",
    "\n",
    "### Packages\n",
    "\n",
    "[AAp1] Anton Antonov,\n",
    "[SSparseMatrix.m](https://github.com/antononcube/MathematicaForPrediction/blob/master/SSparseMatrix.m),\n",
    "(2018),\n",
    "[MathematicaForPrediction at GitHub](https://github.com/antononcube/MathematicaForPrediction).\n",
    "\n",
    "[AAp2] Anton Antonov,\n",
    "[SSparseMatrix Mathematica unit tests](https://github.com/antononcube/MathematicaForPrediction/blob/master/UnitTests/SSparseMatrix-tests.wlt),\n",
    "(2018),\n",
    "[MathematicaForPrediction at GitHub](https://github.com/antononcube/MathematicaForPrediction).\n"
   ]
  }
 ],
 "metadata": {
  "kernelspec": {
   "display_name": "SciPyCentric",
   "language": "python",
   "name": "scipycentric"
  },
  "language_info": {
   "codemirror_mode": {
    "name": "ipython",
    "version": 3
   },
   "file_extension": ".py",
   "mimetype": "text/x-python",
   "name": "python",
   "nbconvert_exporter": "python",
   "pygments_lexer": "ipython3",
   "version": "3.9.7"
  }
 },
 "nbformat": 4,
 "nbformat_minor": 5
}
