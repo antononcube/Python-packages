{
 "cells": [
  {
   "cell_type": "markdown",
   "id": "d7b0b914",
   "metadata": {
    "pycharm": {
     "name": "#%% md\n"
    }
   },
   "source": [
    "# Sparse matrices with named rows and columns"
   ]
  },
  {
   "cell_type": "markdown",
   "id": "637a0d0e",
   "metadata": {
    "pycharm": {
     "name": "#%% md\n"
    }
   },
   "source": [
    "## Introduction\n",
    "\n",
    "This Python package provides the class `SSparseMatrix` the objects of which are sparse matrices with named rows and columns.\n",
    "\n",
    "We can say the package attempts to cover as many as possible of the functionalities for \n",
    "sparse matrix objects that are provided by R’s library [Matrix](http://matrix.r-forge.r-project.org). ([R](https://en.wikipedia.org/wiki/R_(programming_language)) is a implementation of [S](https://en.wikipedia.org/wiki/S_(programming_language)). S introduced named data structures for statistical computations, [RB1], hence the name `SSparseMatrix`.)\n",
    "\n",
    "The package builds on top of the [`scipy` sparse matrices](https://scipy.github.io/devdocs/reference/sparse.html). (The added functionalities though are general -- other sparse matrix implementations could be used.)\n",
    "\n",
    "Here is a list of functionalities provided for `SSparseMatrix`:\n",
    "\n",
    "- Sub-matrix extraction by row and column names:\n",
    "   - Single element access\n",
    "   - Subsets of row names and column names\n",
    "- Slices (with integers)\n",
    "- Row and column names propagation for dot products with:\n",
    "   - Lists\n",
    "   - Dense vectors (`numpy.array`)\n",
    "   - `scipy` sparse matrices\n",
    "   - `SSparseMatrix` objects\n",
    "- Row and column sums \n",
    "   - Vector form\n",
    "   - Dictionary form\n",
    "- Transposing\n",
    "- Representation:\n",
    "  - Tabular, matrix form (\"pretty printing\")\n",
    "  - String and `repr` forms\n",
    "- Row and column binding of `SSparseMatrix` objects\n",
    "- \"Export\" functions\n",
    "  - Triplets\n",
    "  - Row-dictionaries\n",
    "  - Column-dictionaries\n",
    "  - Wolfram Language full form representation\n",
    "\n",
    "The full list of features and development status can be found in the \n",
    "[org-mode](https://orgmode.org)\n",
    "file\n",
    "[SSparseMatrix-work-plan.org](https://github.com/antononcube/Python-packages/blob/main/org/SSparseMatrix-work-plan.org).\n",
    "\n",
    "This package more or less follows the design of the\n",
    "Mathematica package\n",
    "[SSparseMatrix.m](https://github.com/antononcube/MathematicaForPrediction/blob/master/SSparseMatrix.m).\n",
    "\n",
    "The usage examples below can be also run through the file [\"examples.py\"](./examples.py).\n",
    "\n",
    "### Usage in other packages\n",
    "\n",
    "The class `SSparseMatrix` is foundational in the packages\n",
    "[SparseMatrixRecommender](https://github.com/antononcube/Python-packages/tree/main/SparseMatrixRecommender)\n",
    "and\n",
    "[LatentSemanticAnalyzer](https://github.com/antononcube/Python-packages/tree/main/LatentSemanticAnalyzer).\n",
    "(The implementation of those packages was one of the primary motivations to develop `SSparseMatrix`.)\n",
    "\n",
    "The package\n",
    "[RandomSparseMatrix](https://github.com/antononcube/Python-packages/tree/main/RandomSparseMatrix)\n",
    "can be used to generate random sparse matrices (`SSparseMatrix` objects.)"
   ]
  },
  {
   "cell_type": "markdown",
   "id": "2d9eb64a",
   "metadata": {
    "pycharm": {
     "name": "#%% md\n"
    }
   },
   "source": [
    "------\n",
    "\n",
    "## Installation\n",
    "\n",
    "### Install from GitHub\n",
    "\n",
    "```shell\n",
    "pip install -e git+https://github.com/antononcube/Python-packages.git#egg=SSparseMatrix-antononcube\\&subdirectory=SSparseMatrix\n",
    "```\n",
    "\n",
    "### From PyPi\n",
    "\n",
    "```shell\n",
    "pip install SSparseMatrix\n",
    "```\n"
   ]
  },
  {
   "cell_type": "markdown",
   "id": "4e05d4af",
   "metadata": {
    "pycharm": {
     "name": "#%% md\n"
    }
   },
   "source": [
    "------\n",
    "\n",
    "## Setup"
   ]
  },
  {
   "cell_type": "markdown",
   "id": "ac4d496c",
   "metadata": {
    "pycharm": {
     "name": "#%% md\n"
    }
   },
   "source": [
    "Import the package:"
   ]
  },
  {
   "cell_type": "code",
   "execution_count": 1,
   "id": "7f52540c",
   "metadata": {
    "pycharm": {
     "name": "#%%\n"
    }
   },
   "outputs": [],
   "source": [
    "from SSparseMatrix import *"
   ]
  },
  {
   "cell_type": "markdown",
   "id": "0f78c4a4",
   "metadata": {
    "pycharm": {
     "name": "#%% md\n"
    }
   },
   "source": [
    "The import command above is equivalent to the import commands:\n",
    "\n",
    "```python\n",
    "from SSparseMatrix.SSparseMatrix import SSparseMatrix\n",
    "from SSparseMatrix.SSparseMatrix import make_s_sparse_matrix\n",
    "from SSparseMatrix.SSparseMatrix import is_s_sparse_matrix\n",
    "from SSparseMatrix.SSparseMatrix import column_bind\n",
    "```"
   ]
  },
  {
   "cell_type": "markdown",
   "id": "c17ae9db",
   "metadata": {
    "pycharm": {
     "name": "#%% md\n"
    }
   },
   "source": [
    "-----\n",
    "\n",
    "## Creation\n",
    "\n",
    "Create a sparse matrix with named rows and columns (a `SSparseMatrix` object):"
   ]
  },
  {
   "cell_type": "code",
   "execution_count": 2,
   "id": "8d6a57bd",
   "metadata": {
    "pycharm": {
     "name": "#%%\n"
    }
   },
   "outputs": [
    {
     "data": {
      "text/plain": [
       "<5x4 SSparseMatrix (sparse matrix with named rows and columns) of type '<class 'numpy.int64'>'\n",
       "\twith 8 stored elements in Compressed Sparse Row format, and fill-in 0.4>"
      ]
     },
     "execution_count": 2,
     "metadata": {},
     "output_type": "execute_result"
    }
   ],
   "source": [
    "mat = [[1, 0, 0, 3], [4, 0, 0, 5], [0, 3, 0, 5], [0, 0, 1, 0], [0, 0, 0, 5]]\n",
    "smat = SSparseMatrix(mat)\n",
    "smat.set_row_names([\"A\", \"B\", \"C\", \"D\", \"E\"])\n",
    "smat.set_column_names([\"a\", \"b\", \"c\", \"d\"])"
   ]
  },
  {
   "cell_type": "markdown",
   "id": "afc680ba",
   "metadata": {
    "pycharm": {
     "name": "#%% md\n"
    }
   },
   "source": [
    "Print the created sparse matrix:"
   ]
  },
  {
   "cell_type": "code",
   "execution_count": 3,
   "id": "daa63c68",
   "metadata": {
    "scrolled": true,
    "pycharm": {
     "name": "#%%\n"
    }
   },
   "outputs": [
    {
     "name": "stdout",
     "output_type": "stream",
     "text": [
      "===================================\n",
      "  |       a       b       c       d\n",
      "-----------------------------------\n",
      "A |       1       .       .       3\n",
      "B |       4       .       .       5\n",
      "C |       .       3       .       5\n",
      "D |       .       .       1       .\n",
      "E |       .       .       .       5\n",
      "===================================\n"
     ]
    }
   ],
   "source": [
    "smat.print_matrix()"
   ]
  },
  {
   "cell_type": "markdown",
   "id": "5f251956",
   "metadata": {
    "pycharm": {
     "name": "#%% md\n"
    }
   },
   "source": [
    "Another way to create using the function `make_s_sparse_matrix`:"
   ]
  },
  {
   "cell_type": "code",
   "execution_count": 4,
   "id": "8444d428",
   "metadata": {
    "pycharm": {
     "name": "#%%\n"
    }
   },
   "outputs": [
    {
     "data": {
      "text/plain": [
       "<5x4 SSparseMatrix (sparse matrix with named rows and columns) of type '<class 'numpy.int64'>'\n",
       "\twith 8 stored elements in Compressed Sparse Row format, and fill-in 0.4>"
      ]
     },
     "execution_count": 4,
     "metadata": {},
     "output_type": "execute_result"
    }
   ],
   "source": [
    "ssmat=make_s_sparse_matrix(mat)\n",
    "ssmat"
   ]
  },
  {
   "cell_type": "markdown",
   "id": "2fb29457",
   "metadata": {
    "pycharm": {
     "name": "#%% md\n"
    }
   },
   "source": [
    "------\n",
    "\n",
    "## Structure\n",
    "\n",
    "The `SSparseMatrix` objects have a simple structure. Here are the attributes:\n",
    "- `_sparseMatrix`\n",
    "- `_rowNames`\n",
    "- `_colNames`\n",
    "- `_dimNames`\n",
    "\n",
    "Here are the methods to \"query\" `SSparseMatrix` objects:\n",
    "- `sparse_matrix()`\n",
    "- `row_names()` and `row_names_dict()`\n",
    "- `column_names()` and `column_names_dict()`\n",
    "- `shape()`\n",
    "- `dimension_names()`"
   ]
  },
  {
   "cell_type": "markdown",
   "id": "2ec22cec",
   "metadata": {
    "pycharm": {
     "name": "#%% md\n"
    }
   },
   "source": [
    "`SSparseMatrix` over-writes the methods of `scipy.sparse.csr_matrix` that might require the handling of row names and column names.\n",
    "\n",
    "Most of the rest of the `scipy.sparse.csr_matrix`\n",
    "[methods](https://docs.scipy.org/doc/scipy/reference/generated/scipy.sparse.csr_matrix.html)\n",
    "are delegated to the `_sparseMatrix` attribute.\n",
    "\n",
    "For example, for a given `SSparseMatrix` object `smat` the dense version of `smat`'s sparse matrix attribute\n",
    "can be obtained by accessing that attribute first and then using the method `todense`:"
   ]
  },
  {
   "cell_type": "code",
   "execution_count": 5,
   "id": "500ad7a5",
   "metadata": {
    "pycharm": {
     "name": "#%%\n"
    }
   },
   "outputs": [
    {
     "name": "stdout",
     "output_type": "stream",
     "text": [
      "[[1 0 0 3]\n",
      " [4 0 0 5]\n",
      " [0 3 0 5]\n",
      " [0 0 1 0]\n",
      " [0 0 0 5]]\n"
     ]
    }
   ],
   "source": [
    "print(smat.sparse_matrix().todense())"
   ]
  },
  {
   "cell_type": "markdown",
   "id": "c00ae9be",
   "metadata": {
    "pycharm": {
     "name": "#%% md\n"
    }
   },
   "source": [
    "Alternatively, we can use the \"delegated\" form and directly invoke `todense` on `smat`:"
   ]
  },
  {
   "cell_type": "code",
   "execution_count": 6,
   "id": "e84783c6",
   "metadata": {
    "pycharm": {
     "name": "#%%\n"
    }
   },
   "outputs": [
    {
     "name": "stdout",
     "output_type": "stream",
     "text": [
      "[[1 0 0 3]\n",
      " [4 0 0 5]\n",
      " [0 3 0 5]\n",
      " [0 0 1 0]\n",
      " [0 0 0 5]]\n"
     ]
    }
   ],
   "source": [
    "print(smat.todense())"
   ]
  },
  {
   "cell_type": "markdown",
   "id": "df905313",
   "metadata": {
    "pycharm": {
     "name": "#%% md\n"
    }
   },
   "source": [
    "Here is another example showing a direct application of the element-wise operation `sin` through\n",
    "the `scipy.sparse.csr_matrix` method `sin`:"
   ]
  },
  {
   "cell_type": "code",
   "execution_count": 7,
   "id": "ea013d76",
   "metadata": {
    "pycharm": {
     "name": "#%%\n"
    }
   },
   "outputs": [
    {
     "name": "stdout",
     "output_type": "stream",
     "text": [
      "===================================================================================\n",
      "  |                   a                   b                   c                   d\n",
      "-----------------------------------------------------------------------------------\n",
      "A |  0.8414709848078965                   .                   .  0.1411200080598672\n",
      "B | -0.7568024953079282                   .                   . -0.9589242746631385\n",
      "C |                   .  0.1411200080598672                   . -0.9589242746631385\n",
      "D |                   .                   .  0.8414709848078965                   .\n",
      "E |                   .                   .                   . -0.9589242746631385\n",
      "===================================================================================\n"
     ]
    }
   ],
   "source": [
    "smat.sin().print_matrix(n_digits=20)"
   ]
  },
  {
   "cell_type": "markdown",
   "id": "0ef1af8c",
   "metadata": {
    "pycharm": {
     "name": "#%% md\n"
    }
   },
   "source": [
    "------\n",
    "## Representation\n",
    "\n",
    "Here the function `print` uses the string representation of `SSparseMatrix` object:"
   ]
  },
  {
   "cell_type": "code",
   "execution_count": 8,
   "id": "cb4ffb15",
   "metadata": {
    "pycharm": {
     "name": "#%%\n"
    }
   },
   "outputs": [
    {
     "name": "stdout",
     "output_type": "stream",
     "text": [
      "  ('A', 'a')\t1\n",
      "  ('A', 'd')\t3\n",
      "  ('B', 'a')\t4\n",
      "  ('B', 'd')\t5\n",
      "  ('C', 'b')\t3\n",
      "  ('C', 'd')\t5\n",
      "  ('D', 'c')\t1\n",
      "  ('E', 'd')\t5\n"
     ]
    }
   ],
   "source": [
    "print(smat)"
   ]
  },
  {
   "cell_type": "markdown",
   "id": "0ea5e3df",
   "metadata": {
    "pycharm": {
     "name": "#%% md\n"
    }
   },
   "source": [
    "Here we print the representation obtained with [`repr`](https://docs.python.org/3.4/library/functions.html?highlight=repr#repr):"
   ]
  },
  {
   "cell_type": "code",
   "execution_count": 9,
   "id": "a46ebe9c",
   "metadata": {
    "pycharm": {
     "name": "#%%\n"
    }
   },
   "outputs": [
    {
     "name": "stdout",
     "output_type": "stream",
     "text": [
      "<5x4 SSparseMatrix (sparse matrix with named rows and columns) of type '<class 'numpy.int64'>'\n",
      "\twith 8 stored elements in Compressed Sparse Row format, and fill-in 0.4>\n"
     ]
    }
   ],
   "source": [
    "print(repr(smat))"
   ]
  },
  {
   "cell_type": "markdown",
   "id": "cbbe576b",
   "metadata": {
    "pycharm": {
     "name": "#%% md\n"
    }
   },
   "source": [
    "Here is the matrix form (\"pretty printing\" ):"
   ]
  },
  {
   "cell_type": "code",
   "execution_count": 10,
   "id": "ee83baeb",
   "metadata": {
    "pycharm": {
     "name": "#%%\n"
    }
   },
   "outputs": [
    {
     "name": "stdout",
     "output_type": "stream",
     "text": [
      "===================================\n",
      "  |       a       b       c       d\n",
      "-----------------------------------\n",
      "A |       1       .       .       3\n",
      "B |       4       .       .       5\n",
      "C |       .       3       .       5\n",
      "D |       .       .       1       .\n",
      "E |       .       .       .       5\n",
      "===================================\n"
     ]
    }
   ],
   "source": [
    "smat.print_matrix()"
   ]
  },
  {
   "cell_type": "markdown",
   "id": "4bba47ff",
   "metadata": {
    "pycharm": {
     "name": "#%% md\n"
    }
   },
   "source": [
    "The method `triplets` can be used to obtain a list of `(row, column, value)` triplets:"
   ]
  },
  {
   "cell_type": "code",
   "execution_count": 11,
   "id": "897f7c86",
   "metadata": {
    "pycharm": {
     "name": "#%%\n"
    }
   },
   "outputs": [
    {
     "data": {
      "text/plain": [
       "[('A', 'a', 1),\n",
       " ('A', 'd', 3),\n",
       " ('B', 'a', 4),\n",
       " ('B', 'd', 5),\n",
       " ('C', 'b', 3),\n",
       " ('C', 'd', 5),\n",
       " ('D', 'c', 1),\n",
       " ('E', 'd', 5)]"
      ]
     },
     "execution_count": 11,
     "metadata": {},
     "output_type": "execute_result"
    }
   ],
   "source": [
    "smat.triplets()"
   ]
  },
  {
   "cell_type": "markdown",
   "id": "32694c60",
   "metadata": {
    "pycharm": {
     "name": "#%% md\n"
    }
   },
   "source": [
    "The method `row_dictionaries` gives a dictionary with keys that are row-names and values that are column-name-to-matrix-value dictionaries:"
   ]
  },
  {
   "cell_type": "code",
   "execution_count": 12,
   "id": "0294dad2",
   "metadata": {
    "pycharm": {
     "name": "#%%\n"
    }
   },
   "outputs": [
    {
     "data": {
      "text/plain": [
       "{'A': {'a': 1, 'd': 3},\n",
       " 'B': {'a': 4, 'd': 5},\n",
       " 'C': {'b': 3, 'd': 5},\n",
       " 'D': {'c': 1},\n",
       " 'E': {'d': 5}}"
      ]
     },
     "execution_count": 12,
     "metadata": {},
     "output_type": "execute_result"
    }
   ],
   "source": [
    "smat.row_dictionaries()"
   ]
  },
  {
   "cell_type": "markdown",
   "id": "80346254",
   "metadata": {
    "pycharm": {
     "name": "#%% md\n"
    }
   },
   "source": [
    "Similarly, the method `column_dictionaries` gives a dictionary with keys that are column-names and values that are row-name-to-matrix-value dictionaries:"
   ]
  },
  {
   "cell_type": "code",
   "execution_count": 13,
   "id": "2fd5fb55",
   "metadata": {
    "pycharm": {
     "name": "#%%\n"
    }
   },
   "outputs": [
    {
     "data": {
      "text/plain": [
       "{'a': {'A': 1, 'B': 4},\n",
       " 'b': {'C': 3},\n",
       " 'c': {'D': 1},\n",
       " 'd': {'A': 3, 'B': 5, 'C': 5, 'E': 5}}"
      ]
     },
     "execution_count": 13,
     "metadata": {},
     "output_type": "execute_result"
    }
   ],
   "source": [
    "smat.column_dictionaries()"
   ]
  },
  {
   "cell_type": "markdown",
   "id": "dabd7ce8",
   "metadata": {
    "pycharm": {
     "name": "#%% md\n"
    }
   },
   "source": [
    "------\n",
    "\n",
    "## Multiplication"
   ]
  },
  {
   "cell_type": "markdown",
   "id": "f06f73c2",
   "metadata": {
    "pycharm": {
     "name": "#%% md\n"
    }
   },
   "source": [
    "Multiply with the transpose and print:"
   ]
  },
  {
   "cell_type": "code",
   "execution_count": 14,
   "id": "42f19e51",
   "metadata": {
    "pycharm": {
     "name": "#%%\n"
    }
   },
   "outputs": [
    {
     "name": "stdout",
     "output_type": "stream",
     "text": [
      "===========================================\n",
      "  |       A       B       C       D       E\n",
      "-------------------------------------------\n",
      "0 |      10      19      15       .      15\n",
      "1 |      19      41      25       .      25\n",
      "2 |      15      25      34       .      25\n",
      "3 |       .       .       .       1       .\n",
      "4 |      15      25      25       .      25\n",
      "===========================================\n"
     ]
    }
   ],
   "source": [
    "ssmat2 = ssmat.dot(smat.transpose())\n",
    "ssmat2.print_matrix()"
   ]
  },
  {
   "cell_type": "markdown",
   "id": "c61dcee6",
   "metadata": {
    "pycharm": {
     "name": "#%% md\n"
    }
   },
   "source": [
    "Multiply with a list-vector:"
   ]
  },
  {
   "cell_type": "code",
   "execution_count": 15,
   "id": "0a1d2d91",
   "metadata": {
    "pycharm": {
     "name": "#%%\n"
    }
   },
   "outputs": [
    {
     "name": "stdout",
     "output_type": "stream",
     "text": [
      "===========\n",
      "  |       0\n",
      "-----------\n",
      "A |       1\n",
      "B |       4\n",
      "C |       6\n",
      "D |       1\n",
      "E |       .\n",
      "===========\n"
     ]
    }
   ],
   "source": [
    "smat3 = smat.dot([1, 2, 1, 0])\n",
    "smat3.print_matrix()"
   ]
  },
  {
   "cell_type": "markdown",
   "id": "2745e707",
   "metadata": {
    "pycharm": {
     "name": "#%% md\n"
    }
   },
   "source": [
    "**Remark:** The type of the `.dot` argument can be:\n",
    "- `SSparseMatrix`\n",
    "- `list`\n",
    "- `numpy.array`\n",
    "- `scipy.sparse.csr_matrix`"
   ]
  },
  {
   "cell_type": "markdown",
   "id": "54052eb9",
   "metadata": {
    "pycharm": {
     "name": "#%% md\n"
    }
   },
   "source": [
    "------\n",
    "\n",
    "## Slices"
   ]
  },
  {
   "cell_type": "markdown",
   "id": "5d1db7ac",
   "metadata": {
    "pycharm": {
     "name": "#%% md\n"
    }
   },
   "source": [
    "Single element access:"
   ]
  },
  {
   "cell_type": "code",
   "execution_count": 16,
   "id": "3b5bf617",
   "metadata": {
    "pycharm": {
     "name": "#%%\n"
    }
   },
   "outputs": [
    {
     "name": "stdout",
     "output_type": "stream",
     "text": [
      "3\n",
      "3\n"
     ]
    }
   ],
   "source": [
    "print(smat[\"A\", \"d\"])\n",
    "print(smat[0, 3])"
   ]
  },
  {
   "cell_type": "markdown",
   "id": "94a4cce2",
   "metadata": {
    "pycharm": {
     "name": "#%% md\n"
    }
   },
   "source": [
    "Get sub-matrix of rows using row names:"
   ]
  },
  {
   "cell_type": "code",
   "execution_count": 17,
   "id": "88f3ea1b",
   "metadata": {
    "pycharm": {
     "name": "#%%\n"
    }
   },
   "outputs": [
    {
     "name": "stdout",
     "output_type": "stream",
     "text": [
      "===================================\n",
      "  |       a       b       c       d\n",
      "-----------------------------------\n",
      "A |       1       .       .       3\n",
      "D |       .       .       1       .\n",
      "B |       4       .       .       5\n",
      "===================================\n"
     ]
    }
   ],
   "source": [
    "smat[[\"A\", \"D\", \"B\"], :].print_matrix()"
   ]
  },
  {
   "cell_type": "markdown",
   "id": "5a296569",
   "metadata": {
    "pycharm": {
     "name": "#%% md\n"
    }
   },
   "source": [
    "Get sub-matrix using row indices:"
   ]
  },
  {
   "cell_type": "code",
   "execution_count": 18,
   "id": "415e8523",
   "metadata": {
    "pycharm": {
     "name": "#%%\n"
    }
   },
   "outputs": [
    {
     "name": "stdout",
     "output_type": "stream",
     "text": [
      "===================================\n",
      "  |       a       b       c       d\n",
      "-----------------------------------\n",
      "A |       1       .       .       3\n",
      "D |       .       .       1       .\n",
      "B |       4       .       .       5\n",
      "===================================\n"
     ]
    }
   ],
   "source": [
    "smat[[0, 3, 1], :].print_matrix()"
   ]
  },
  {
   "cell_type": "markdown",
   "id": "c9dcce98",
   "metadata": {
    "pycharm": {
     "name": "#%% md\n"
    }
   },
   "source": [
    "Get sub-matrix with columns names:"
   ]
  },
  {
   "cell_type": "code",
   "execution_count": 19,
   "id": "6ee0b550",
   "metadata": {
    "pycharm": {
     "name": "#%%\n"
    }
   },
   "outputs": [
    {
     "name": "stdout",
     "output_type": "stream",
     "text": [
      "===================\n",
      "  |       a       c\n",
      "-------------------\n",
      "A |       1       .\n",
      "B |       4       .\n",
      "C |       .       .\n",
      "D |       .       1\n",
      "E |       .       .\n",
      "===================\n"
     ]
    }
   ],
   "source": [
    "smat[:, ['a', 'c']].print_matrix()"
   ]
  },
  {
   "cell_type": "markdown",
   "id": "f17dfa65",
   "metadata": {
    "pycharm": {
     "name": "#%% md\n"
    }
   },
   "source": [
    "Get sub-matrix with columns indices:"
   ]
  },
  {
   "cell_type": "code",
   "execution_count": 20,
   "id": "3b9271f0",
   "metadata": {
    "scrolled": false,
    "pycharm": {
     "name": "#%%\n"
    }
   },
   "outputs": [
    {
     "name": "stdout",
     "output_type": "stream",
     "text": [
      "===================\n",
      "  |       a       c\n",
      "-------------------\n",
      "A |       1       .\n",
      "B |       4       .\n",
      "C |       .       .\n",
      "D |       .       1\n",
      "E |       .       .\n",
      "===================\n"
     ]
    }
   ],
   "source": [
    "smat[:, [0, 2]].print_matrix()"
   ]
  },
  {
   "cell_type": "markdown",
   "id": "78a5ebb8",
   "metadata": {
    "pycharm": {
     "name": "#%% md\n"
    }
   },
   "source": [
    "**Remark:** The current implementation of `scipy` (1.7.1) does not allow retrieval\n",
    "of sub-matrices by specifying *both* row and column ranges or slices. \n",
    "\n",
    "**Remark:** \"Standard\" slices with integers also work. "
   ]
  },
  {
   "cell_type": "markdown",
   "id": "75fc2df6",
   "metadata": {
    "pycharm": {
     "name": "#%% md\n"
    }
   },
   "source": [
    "-------\n",
    "\n",
    "## Row and column sums"
   ]
  },
  {
   "cell_type": "markdown",
   "id": "892bff22",
   "metadata": {
    "pycharm": {
     "name": "#%% md\n"
    }
   },
   "source": [
    "Row sums and dictionary of row sums:"
   ]
  },
  {
   "cell_type": "code",
   "execution_count": 21,
   "id": "efbdc007",
   "metadata": {
    "pycharm": {
     "name": "#%%\n"
    }
   },
   "outputs": [
    {
     "name": "stdout",
     "output_type": "stream",
     "text": [
      "[4, 9, 8, 1, 5]\n",
      "{'A': 4, 'B': 9, 'C': 8, 'D': 1, 'E': 5}\n"
     ]
    }
   ],
   "source": [
    "print(smat.row_sums())\n",
    "print(smat.row_sums_dict())"
   ]
  },
  {
   "cell_type": "markdown",
   "id": "13eba917",
   "metadata": {
    "pycharm": {
     "name": "#%% md\n"
    }
   },
   "source": [
    "Column sums and dictionary of column sums:"
   ]
  },
  {
   "cell_type": "code",
   "execution_count": 22,
   "id": "39fa75bc",
   "metadata": {
    "scrolled": false,
    "pycharm": {
     "name": "#%%\n"
    }
   },
   "outputs": [
    {
     "name": "stdout",
     "output_type": "stream",
     "text": [
      "[5, 3, 1, 18]\n",
      "{'a': 5, 'b': 3, 'c': 1, 'd': 18}\n"
     ]
    }
   ],
   "source": [
    "print(smat.column_sums())\n",
    "print(smat.column_sums_dict())"
   ]
  },
  {
   "cell_type": "markdown",
   "id": "58733fa6",
   "metadata": {
    "pycharm": {
     "name": "#%% md\n"
    }
   },
   "source": [
    "------\n",
    "\n",
    "## Column and row binding\n",
    "\n",
    "### Column binding\n",
    "\n",
    "Here we create another `SSparseMatrix` object:"
   ]
  },
  {
   "cell_type": "code",
   "execution_count": 23,
   "id": "2b882a9f",
   "metadata": {
    "pycharm": {
     "name": "#%%\n"
    }
   },
   "outputs": [
    {
     "name": "stdout",
     "output_type": "stream",
     "text": [
      "===========================================\n",
      "  |      c0      c1      c2      c3      c4\n",
      "-------------------------------------------\n",
      "A |       1       4       .       .       .\n",
      "B |       .       .       3       .       .\n",
      "C |       .       .       .       1       .\n",
      "D |       3       5       5       .       5\n",
      "===========================================\n"
     ]
    }
   ],
   "source": [
    "mat2=smat.sparse_matrix().transpose()\n",
    "smat2 = SSparseMatrix(mat2, row_names=list(\"ABCD\"), column_names=\"c\")\n",
    "smat2.print_matrix()"
   ]
  },
  {
   "cell_type": "markdown",
   "id": "b92acd6f",
   "metadata": {
    "pycharm": {
     "name": "#%% md\n"
    }
   },
   "source": [
    "Here we column-bind two SSparseMatrix objects:"
   ]
  },
  {
   "cell_type": "code",
   "execution_count": 24,
   "id": "f43f7c18",
   "metadata": {
    "pycharm": {
     "name": "#%%\n"
    }
   },
   "outputs": [
    {
     "name": "stdout",
     "output_type": "stream",
     "text": [
      "===========================================================================\n",
      "  |       a       b       c       d      c0      c1      c2      c3      c4\n",
      "---------------------------------------------------------------------------\n",
      "A |       1       .       .       3       1       4       .       .       .\n",
      "B |       4       .       .       5       .       .       3       .       .\n",
      "C |       .       3       .       5       .       .       .       1       .\n",
      "D |       .       .       1       .       3       5       5       .       5\n",
      "===========================================================================\n"
     ]
    }
   ],
   "source": [
    "smat[list(\"ABCD\"), :].column_bind(smat2).print_matrix()"
   ]
  },
  {
   "cell_type": "markdown",
   "id": "d626a0a0",
   "metadata": {
    "pycharm": {
     "name": "#%% md\n"
    }
   },
   "source": [
    "**Remark:** If during column-binding some column names are duplicated then to the column names of both matrices are\n",
    "added suffixes that designate to which matrix each column belongs to."
   ]
  },
  {
   "cell_type": "markdown",
   "id": "b3f755e9",
   "metadata": {
    "pycharm": {
     "name": "#%% md\n"
    }
   },
   "source": [
    "### Row binding\n",
    "\n",
    "Here we rename the column names of `smat` to be the same as `smat2`:"
   ]
  },
  {
   "cell_type": "code",
   "execution_count": 25,
   "id": "4a79e8d8",
   "metadata": {
    "pycharm": {
     "name": "#%%\n"
    }
   },
   "outputs": [
    {
     "name": "stdout",
     "output_type": "stream",
     "text": [
      "===========================================\n",
      "  |      c0      c1      c2      c3      c4\n",
      "-------------------------------------------\n",
      "A |       1       .       .       3       .\n",
      "B |       4       .       .       5       .\n",
      "C |       .       3       .       5       .\n",
      "D |       .       .       1       .       .\n",
      "E |       .       .       .       5       .\n",
      "===========================================\n"
     ]
    }
   ],
   "source": [
    "smat3 = smat.copy()\n",
    "smat3.set_column_names(smat2.column_names()[0:4])\n",
    "smat3 = smat3.impose_column_names(smat2.column_names())\n",
    "smat3.print_matrix()"
   ]
  },
  {
   "cell_type": "markdown",
   "id": "656f463b",
   "metadata": {
    "pycharm": {
     "name": "#%% md\n"
    }
   },
   "source": [
    "Here we row-bind `smat2` and `smat3`:"
   ]
  },
  {
   "cell_type": "code",
   "execution_count": 26,
   "id": "50598a10",
   "metadata": {
    "pycharm": {
     "name": "#%%\n"
    }
   },
   "outputs": [
    {
     "name": "stdout",
     "output_type": "stream",
     "text": [
      "=============================================\n",
      "    |      c0      c1      c2      c3      c4\n",
      "---------------------------------------------\n",
      "A.1 |       1       4       .       .       .\n",
      "B.1 |       .       .       3       .       .\n",
      "C.1 |       .       .       .       1       .\n",
      "D.1 |       3       5       5       .       5\n",
      "A.2 |       1       .       .       3       .\n",
      "B.2 |       4       .       .       5       .\n",
      "C.2 |       .       3       .       5       .\n",
      "D.2 |       .       .       1       .       .\n",
      "E.2 |       .       .       .       5       .\n",
      "=============================================\n"
     ]
    }
   ],
   "source": [
    "smat2.row_bind(smat3).print_matrix()\n"
   ]
  },
  {
   "cell_type": "markdown",
   "id": "313a7f48",
   "metadata": {
    "pycharm": {
     "name": "#%% md\n"
    }
   },
   "source": [
    "**Remark:** If during row-binding some row names are duplicated then to the row names of both matrices are added\n",
    "suffixes that designate to which matrix each row belongs to."
   ]
  },
  {
   "cell_type": "markdown",
   "id": "feccde55",
   "metadata": {
    "pycharm": {
     "name": "#%% md\n"
    }
   },
   "source": [
    "------\n",
    "\n",
    "## In place computations"
   ]
  },
  {
   "cell_type": "markdown",
   "id": "dfaee4c8",
   "metadata": {
    "pycharm": {
     "name": "#%% md\n"
    }
   },
   "source": [
    "- The methods for setting row- and column-names are \"in place\" methods -- no new `SSparseMatrix` objects a created.\n",
    "\n",
    "- The dot product, arithmetic, and transposing methods have an optional argument whether to do computations in place or not.\n",
    "    - The optional argument is `copy`, which corresponds to argument with the same name and function in `scipy.sparse`.\n",
    "    - By default, the computations are *not* in place: new objects are created.\n",
    "    - I.e. `copy=True` default.\n",
    "\n",
    "- The class `SSparseMatrix` has the method `copy()` that produces deep copies when invoked."
   ]
  },
  {
   "cell_type": "markdown",
   "id": "e982c708",
   "metadata": {
    "pycharm": {
     "name": "#%% md\n"
    }
   },
   "source": [
    "-------\n",
    "\n",
    "## Unit tests"
   ]
  },
  {
   "cell_type": "markdown",
   "id": "3a63454e",
   "metadata": {
    "pycharm": {
     "name": "#%% md\n"
    }
   },
   "source": [
    "The unit tests (so far) are broken into functionalities; see the folder\n",
    "[./tests](https://github.com/antononcube/Python-packages/tree/main/SSparseMatrix/tests).\n",
    "Similar unit tests are given in [AAp2]."
   ]
  },
  {
   "cell_type": "markdown",
   "source": [
    "-------\n",
    "\n",
    "## References\n",
    "\n",
    "### Articles\n",
    "\n",
    "[AA1] Anton Antonov,\n",
    "[\"RSparseMatrix for sparse matrices with named rows and columns\"](https://mathematicaforprediction.wordpress.com/2015/10/08/rsparsematrix-for-sparse-matrices-with-named-rows-and-columns/),\n",
    "(2015),\n",
    "[MathematicaForPrediction at WordPress](https://mathematicaforprediction.wordpress.com).\n",
    "\n",
    "[RB1] Richard Becker, \n",
    "[“A Brief History of S”](https://citeseerx.ist.psu.edu/viewdoc/download?doi=10.1.1.131.1428&rep=rep1&type=pdf),\n",
    "(2004).\n",
    "\n",
    "### Packages\n",
    "\n",
    "[AAp1] Anton Antonov,\n",
    "[SSparseMatrix.m](https://github.com/antononcube/MathematicaForPrediction/blob/master/SSparseMatrix.m),\n",
    "(2018),\n",
    "[MathematicaForPrediction at GitHub](https://github.com/antononcube/MathematicaForPrediction).\n",
    "\n",
    "[AAp2] Anton Antonov,\n",
    "[SSparseMatrix Mathematica unit tests](https://github.com/antononcube/MathematicaForPrediction/blob/master/UnitTests/SSparseMatrix-tests.wlt),\n",
    "(2018),\n",
    "[MathematicaForPrediction at GitHub](https://github.com/antononcube/MathematicaForPrediction).\n"
   ],
   "metadata": {
    "collapsed": false,
    "pycharm": {
     "name": "#%% md\n"
    }
   }
  }
 ],
 "metadata": {
  "kernelspec": {
   "display_name": "SciPyCentric",
   "language": "python",
   "name": "scipycentric"
  },
  "language_info": {
   "codemirror_mode": {
    "name": "ipython",
    "version": 3
   },
   "file_extension": ".py",
   "mimetype": "text/x-python",
   "name": "python",
   "nbconvert_exporter": "python",
   "pygments_lexer": "ipython3",
   "version": "3.9.7"
  }
 },
 "nbformat": 4,
 "nbformat_minor": 5
}