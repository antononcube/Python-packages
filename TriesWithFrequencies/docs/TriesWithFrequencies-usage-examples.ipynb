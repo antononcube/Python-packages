{
 "cells": [
  {
   "cell_type": "markdown",
   "source": [
    "# Trie with frequencies usage examples\n",
    "\n",
    "Anton Antonov\n",
    "Python-packages at GitHub\n",
    "PythonForPrediction at WordPress\n",
    "September 2022\n",
    "\n",
    "## Setup"
   ],
   "metadata": {
    "collapsed": false,
    "pycharm": {
     "name": "#%% md\n"
    }
   }
  },
  {
   "cell_type": "code",
   "execution_count": 1,
   "outputs": [],
   "source": [
    "from TriesWithFrequencies import *"
   ],
   "metadata": {
    "collapsed": false,
    "pycharm": {
     "name": "#%%\n"
    }
   }
  },
  {
   "cell_type": "markdown",
   "source": [
    "------\n",
    "\n",
    "## Creation examples\n",
    "\n",
    "In this section we show a few ways to create tries with frequencies.\n",
    "\n",
    "Consider a trie (prefix tree) created over a list of words:"
   ],
   "metadata": {
    "collapsed": false,
    "pycharm": {
     "name": "#%% md\n"
    }
   }
  },
  {
   "cell_type": "code",
   "execution_count": 2,
   "outputs": [
    {
     "name": "stdout",
     "output_type": "stream",
     "text": [
      "TRIEROOT => 6.0\n",
      "├─b => 4.0\n",
      "│ └─a => 4.0\n",
      "│   ├─r => 3.0\n",
      "│   │ └─k => 1.0\n",
      "│   │ └─s => 1.0\n",
      "│   └─l => 1.0\n",
      "│     └─m => 1.0\n",
      "└─c => 2.0\n",
      "  └─e => 2.0\n",
      "    ├─r => 1.0\n",
      "    │ └─t => 1.0\n",
      "    └─l => 1.0\n",
      "      └─l => 1.0\n"
     ]
    }
   ],
   "source": [
    "tr = trie_create_by_split( [\"bar\", \"bark\", \"bars\", \"balm\", \"cert\", \"cell\"] )\n",
    "trie_form(tr)"
   ],
   "metadata": {
    "collapsed": false,
    "pycharm": {
     "name": "#%%\n"
    }
   }
  },
  {
   "cell_type": "markdown",
   "source": [
    "Here we convert the trie with frequencies above into a trie with probabilities:"
   ],
   "metadata": {
    "collapsed": false,
    "pycharm": {
     "name": "#%% md\n"
    }
   }
  },
  {
   "cell_type": "code",
   "execution_count": 3,
   "outputs": [
    {
     "name": "stdout",
     "output_type": "stream",
     "text": [
      "TRIEROOT => 1.0\n",
      "├─b => 0.6666666666666666\n",
      "│ └─a => 1.0\n",
      "│   ├─r => 0.75\n",
      "│   │ ├─k => 0.3333333333333333\n",
      "│   │ └─s => 0.3333333333333333\n",
      "│   └─l => 0.25\n",
      "│     └─m => 1.0\n",
      "└─c => 0.3333333333333333\n",
      "  └─e => 1.0\n",
      "    ├─r => 0.5\n",
      "    │ └─t => 1.0\n",
      "    └─l => 0.5\n",
      "      └─l => 1.0\n"
     ]
    }
   ],
   "source": [
    "ptr = trie_node_probabilities( tr )\n",
    "trie_form(ptr)"
   ],
   "metadata": {
    "collapsed": false,
    "pycharm": {
     "name": "#%%\n"
    }
   }
  },
  {
   "cell_type": "markdown",
   "source": [
    "------\n",
    "\n",
    "## Shrinking\n",
    "\n",
    "Here we shrink the trie with probabilities above:"
   ],
   "metadata": {
    "collapsed": false,
    "pycharm": {
     "name": "#%% md\n"
    }
   }
  },
  {
   "cell_type": "code",
   "execution_count": 4,
   "outputs": [
    {
     "name": "stdout",
     "output_type": "stream",
     "text": [
      "TRIEROOT => 1.0\n",
      "└─ba => 1.0\n",
      "  └─r => 0.75\n",
      "    └─k => 0.3333333333333333\n",
      "    └─s => 0.3333333333333333\n",
      "  └─lm => 1.0\n",
      "└─ce => 1.0\n",
      "  └─rt => 1.0\n",
      "  └─ll => 1.0\n"
     ]
    }
   ],
   "source": [
    "trie_form(trie_shrink(ptr))"
   ],
   "metadata": {
    "collapsed": false,
    "pycharm": {
     "name": "#%%\n"
    }
   }
  },
  {
   "cell_type": "markdown",
   "source": [
    "Here we shrink the frequencies trie using a separator:"
   ],
   "metadata": {
    "collapsed": false,
    "pycharm": {
     "name": "#%% md\n"
    }
   }
  },
  {
   "cell_type": "code",
   "execution_count": 5,
   "outputs": [
    {
     "name": "stdout",
     "output_type": "stream",
     "text": [
      "TRIEROOT => 6.0\n",
      "└─b~a => 4.0\n",
      "  └─r => 3.0\n",
      "    └─k => 1.0\n",
      "    └─s => 1.0\n",
      "  └─l~m => 1.0\n",
      "└─c~e => 2.0\n",
      "  └─r~t => 1.0\n",
      "  └─l~l => 1.0\n"
     ]
    }
   ],
   "source": [
    "trie_form(trie_shrink(tr, sep=\"~\"))"
   ],
   "metadata": {
    "collapsed": false,
    "pycharm": {
     "name": "#%%\n"
    }
   }
  },
  {
   "cell_type": "markdown",
   "source": [
    "-------\n",
    "\n",
    "## Retrieval and sub-tries"
   ],
   "metadata": {
    "collapsed": false,
    "pycharm": {
     "name": "#%% md\n"
    }
   }
  },
  {
   "cell_type": "markdown",
   "source": [
    "Here we retrieve a sub-trie with a key:"
   ],
   "metadata": {
    "collapsed": false,
    "pycharm": {
     "name": "#%% md\n"
    }
   }
  },
  {
   "cell_type": "code",
   "execution_count": 6,
   "outputs": [
    {
     "name": "stdout",
     "output_type": "stream",
     "text": [
      "r => 3.0\n",
      "└─k => 1.0\n",
      "└─s => 1.0\n"
     ]
    }
   ],
   "source": [
    "trie_form(trie_sub_trie(tr, list(\"bar\")))"
   ],
   "metadata": {
    "collapsed": false,
    "pycharm": {
     "name": "#%%\n"
    }
   }
  },
  {
   "cell_type": "markdown",
   "source": [
    "------\n",
    "\n",
    "## Classification\n",
    "\n",
    "Create a trie:"
   ],
   "metadata": {
    "collapsed": false,
    "pycharm": {
     "name": "#%% md\n"
    }
   }
  },
  {
   "cell_type": "code",
   "execution_count": 7,
   "outputs": [],
   "source": [
    "words = [*([\"bar\"] * 6), *([\"bark\"] * 3), *([\"bare\"] * 2), *([\"cam\"] * 3), \"came\", *([\"camelia\"] * 4)]\n",
    "tr = trie_create_by_split(words)\n",
    "tr = trie_node_probabilities(tr)"
   ],
   "metadata": {
    "collapsed": false,
    "pycharm": {
     "name": "#%%\n"
    }
   }
  },
  {
   "cell_type": "markdown",
   "source": [
    "Show node counts:"
   ],
   "metadata": {
    "collapsed": false,
    "pycharm": {
     "name": "#%% md\n"
    }
   }
  },
  {
   "cell_type": "code",
   "execution_count": 8,
   "outputs": [
    {
     "data": {
      "text/plain": "{'total': 13, 'internal': 10, 'leaves': 3}"
     },
     "execution_count": 8,
     "metadata": {},
     "output_type": "execute_result"
    }
   ],
   "source": [
    "trie_node_counts(tr)"
   ],
   "metadata": {
    "collapsed": false,
    "pycharm": {
     "name": "#%%\n"
    }
   }
  },
  {
   "cell_type": "code",
   "execution_count": 9,
   "outputs": [
    {
     "name": "stdout",
     "output_type": "stream",
     "text": [
      "TRIEROOT => 1.0\n",
      "├─b => 0.5789473684210527\n",
      "│ └─a => 1.0\n",
      "│   └─r => 1.0\n",
      "│     ├─k => 0.2727272727272727\n",
      "│     └─e => 0.18181818181818182\n",
      "└─c => 0.42105263157894735\n",
      "  └─a => 1.0\n",
      "    └─m => 1.0\n",
      "      └─e => 0.625\n",
      "        └─l => 0.8\n",
      "          └─i => 1.0\n",
      "            └─a => 1.0\n"
     ]
    }
   ],
   "source": [
    "trie_form(tr)"
   ],
   "metadata": {
    "collapsed": false,
    "pycharm": {
     "name": "#%%\n"
    }
   }
  },
  {
   "cell_type": "code",
   "execution_count": 10,
   "outputs": [
    {
     "ename": "ValueError",
     "evalue": "The first argument is expected to be a trie body.",
     "output_type": "error",
     "traceback": [
      "\u001B[0;31m---------------------------------------------------------------------------\u001B[0m",
      "\u001B[0;31mValueError\u001B[0m                                Traceback (most recent call last)",
      "Input \u001B[0;32mIn [10]\u001B[0m, in \u001B[0;36m<module>\u001B[0;34m\u001B[0m\n\u001B[0;32m----> 1\u001B[0m \u001B[43mtrie_classify\u001B[49m\u001B[43m(\u001B[49m\u001B[43mtr\u001B[49m\u001B[43m,\u001B[49m\u001B[43m \u001B[49m\u001B[38;5;28;43mlist\u001B[39;49m\u001B[43m(\u001B[49m\u001B[38;5;124;43m\"\u001B[39;49m\u001B[38;5;124;43mcam\u001B[39;49m\u001B[38;5;124;43m\"\u001B[39;49m\u001B[43m)\u001B[49m\u001B[43m,\u001B[49m\u001B[43m \u001B[49m\u001B[43mprop\u001B[49m\u001B[38;5;241;43m=\u001B[39;49m\u001B[38;5;124;43m\"\u001B[39;49m\u001B[38;5;124;43mProbabilities\u001B[39;49m\u001B[38;5;124;43m\"\u001B[39;49m\u001B[43m)\u001B[49m\n",
      "File \u001B[0;32m~/miniforge3/envs/SciPyCentric/lib/python3.10/site-packages/TriesWithFrequencies/TriesWithFrequencies.py:590\u001B[0m, in \u001B[0;36mtrie_classify\u001B[0;34m(tr, record, prop, default, verify_key_existence)\u001B[0m\n\u001B[1;32m    588\u001B[0m     res \u001B[38;5;241m=\u001B[39m {default: \u001B[38;5;241m0\u001B[39m}\n\u001B[1;32m    589\u001B[0m \u001B[38;5;28;01melse\u001B[39;00m:\n\u001B[0;32m--> 590\u001B[0m     res \u001B[38;5;241m=\u001B[39m _reverse_sort_dict(\u001B[43mtrie_leaf_probabilities\u001B[49m\u001B[43m(\u001B[49m\u001B[43mres\u001B[49m\u001B[43m)\u001B[49m)\n\u001B[1;32m    592\u001B[0m \u001B[38;5;28;01mif\u001B[39;00m prop\u001B[38;5;241m.\u001B[39mlower() \u001B[38;5;241m==\u001B[39m \u001B[38;5;124m\"\u001B[39m\u001B[38;5;124mdecision\u001B[39m\u001B[38;5;124m\"\u001B[39m:\n\u001B[1;32m    593\u001B[0m     \u001B[38;5;28;01mreturn\u001B[39;00m \u001B[38;5;28mlist\u001B[39m(res\u001B[38;5;241m.\u001B[39mkeys())[\u001B[38;5;241m0\u001B[39m]\n",
      "File \u001B[0;32m~/miniforge3/envs/SciPyCentric/lib/python3.10/site-packages/TriesWithFrequencies/TriesWithFrequencies.py:512\u001B[0m, in \u001B[0;36mtrie_leaf_probabilities\u001B[0;34m(tr)\u001B[0m\n\u001B[1;32m    504\u001B[0m \u001B[38;5;124;03m\"\"\"\u001B[39;00m\n\u001B[1;32m    505\u001B[0m \u001B[38;5;124;03mTrie leaf probabilities\u001B[39;00m\n\u001B[1;32m    506\u001B[0m \u001B[38;5;124;03m-----------------------\u001B[39;00m\n\u001B[0;32m   (...)\u001B[0m\n\u001B[1;32m    509\u001B[0m \u001B[38;5;124;03m:return: dict\u001B[39;00m\n\u001B[1;32m    510\u001B[0m \u001B[38;5;124;03m\"\"\"\u001B[39;00m\n\u001B[1;32m    511\u001B[0m \u001B[38;5;28;01mif\u001B[39;00m \u001B[38;5;129;01mnot\u001B[39;00m is_trie_body(tr):\n\u001B[0;32m--> 512\u001B[0m     \u001B[38;5;28;01mraise\u001B[39;00m \u001B[38;5;167;01mValueError\u001B[39;00m(\u001B[38;5;124m\"\u001B[39m\u001B[38;5;124mThe first argument is expected to be a trie body.\u001B[39m\u001B[38;5;124m\"\u001B[39m)\n\u001B[1;32m    514\u001B[0m t \u001B[38;5;241m=\u001B[39m \u001B[38;5;28mlist\u001B[39m(tr\u001B[38;5;241m.\u001B[39mitems())[\u001B[38;5;241m0\u001B[39m]\n\u001B[1;32m    515\u001B[0m res \u001B[38;5;241m=\u001B[39m _trie_leaf_probabilities_rec(t[\u001B[38;5;241m0\u001B[39m], t[\u001B[38;5;241m1\u001B[39m])\n",
      "\u001B[0;31mValueError\u001B[0m: The first argument is expected to be a trie body."
     ]
    }
   ],
   "source": [
    "trie_classify(tr, list(\"cam\"), prop=\"Probabilities\")"
   ],
   "metadata": {
    "collapsed": false,
    "pycharm": {
     "name": "#%%\n"
    }
   }
  },
  {
   "cell_type": "markdown",
   "source": [
    "---------\n",
    "\n",
    "## References\n",
    "\n",
    "### Articles\n",
    "\n",
    "[AA1] Anton Antonov,\n",
    "[\"Tries with frequencies for data mining\"](https://mathematicaforprediction.wordpress.com/2013/12/06/tries-with-frequencies-for-data-mining/), (2013), [MathematicaForPrediction at WordPress](https://mathematicaforprediction.wordpress.com).\n",
    "\n",
    "[AA2] Anton Antonov, [\"Removal of sub-trees in tries\"](https://mathematicaforprediction.wordpress.com/2014/10/12/removal-of-sub-trees-in-tries/), (2013), [MathematicaForPrediction at WordPress](https://mathematicaforprediction.wordpress.com).\n",
    "\n",
    "[AA3] Anton Antonov, [\"Tries with frequencies in Java\"](https://mathematicaforprediction.wordpress.com/2017/01/31/tries-with-frequencies-in-java/) (2017), [MathematicaForPrediction at WordPress](https://mathematicaforprediction.wordpress.com).\n",
    "[GitHub Markdown](https://github.com/antononcube/MathematicaForPrediction).\n",
    "\n",
    "[WK1] Wikipedia entry, [Trie](https://en.wikipedia.org/wiki/Trie).\n",
    "\n",
    "\n",
    "### Packages\n",
    "\n",
    "[AAp1] Anton Antonov, [Tries with frequencies Mathematica Version 9.0 package](https://github.com/antononcube/MathematicaForPrediction/blob/master/TriesWithFrequenciesV9.m), (2013), [MathematicaForPrediction at GitHub](https://github.com/antononcube/MathematicaForPrediction).\n",
    "\n",
    "[AAp2] Anton Antonov, [Tries with frequencies Mathematica package](https://github.com/antononcube/MathematicaForPrediction/blob/master/TriesWithFrequencies.m), (2013-2018), [MathematicaForPrediction at GitHub](https://github.com/antononcube/MathematicaForPrediction).\n",
    "\n",
    "[AAp3] Anton Antonov, [Tries with frequencies in Java](https://github.com/antononcube/MathematicaForPrediction/tree/master/Java/TriesWithFrequencies), (2017), [MathematicaForPrediction at GitHub](https://github.com/antononcube/MathematicaForPrediction).\n",
    "\n",
    "[AAp4] Anton Antonov, [Java tries with frequencies Mathematica package](https://github.com/antononcube/MathematicaForPrediction/blob/master/JavaTriesWithFrequencies.m), (2017), [MathematicaForPrediction at GitHub](https://github.com/antononcube/MathematicaForPrediction).\n",
    "\n",
    "[AAp5] Anton Antonov, [Java tries with frequencies Mathematica unit tests](https://github.com/antononcube/MathematicaForPrediction/blob/master/UnitTests/JavaTriesWithFrequencies-Unit-Tests.wlt), (2017), [MathematicaForPrediction at GitHub](https://github.com/antononcube/MathematicaForPrediction).\n",
    "\n",
    "[AAp6] Anton Antonov, [ML::TriesWithFrequencies Raku package](https://github.com/antononcube/Raku-ML-TriesWithFrequencies), (2021), [GitHub/antononcube](https://github.com/antononcube).\n",
    "\n",
    "\n",
    "### Videos\n",
    "\n",
    "[AAv1] Anton Antonov, [\"Prefix Trees with Frequencies for Data Analysis and Machine Learning\"](https://www.youtube.com/watch?v=MdVp7t8xQbQ), (2017), Wolfram Technology Conference 2017, [Wolfram channel at YouTube](https://www.youtube.com/channel/UCJekgf6k62CQHdENWf2NgAQ).\n"
   ],
   "metadata": {
    "collapsed": false,
    "pycharm": {
     "name": "#%% md\n"
    }
   }
  }
 ],
 "metadata": {
  "kernelspec": {
   "display_name": "Python 3",
   "language": "python",
   "name": "python3"
  },
  "language_info": {
   "codemirror_mode": {
    "name": "ipython",
    "version": 2
   },
   "file_extension": ".py",
   "mimetype": "text/x-python",
   "name": "python",
   "nbconvert_exporter": "python",
   "pygments_lexer": "ipython2",
   "version": "2.7.6"
  }
 },
 "nbformat": 4,
 "nbformat_minor": 0
}