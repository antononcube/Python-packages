{
 "cells": [
  {
   "cell_type": "markdown",
   "id": "38e15d7a",
   "metadata": {},
   "source": [
    "# Workflows with LLM functions\n",
    "\n",
    "## Introduction\n",
    "\n",
    "In this computational document we discuss and demonstrate the inclusion and integration of\n",
    "Large Language Model (LLM) functions into different types of Raku workflows.\n",
    "\n",
    "Since LLMs hallucinate results, it becomes necessary to manipulate their inputs, the outputs, or both. \n",
    "Therefore, having a system for managing, coordinating, and streamlining LLM requests, \n",
    "along with methods for incorporating these requests into the \"playgrounds\" of a certain programming language, \n",
    "would be highly beneficial.\n",
    "\n",
    "This is what the package \n",
    "[\"LLMFunctionObjects\"](https://pypi.org/project/LLMFunctionObjects), [AAp1],\n",
    "aims to do in Python and Python's ecosystem. \n",
    "\n",
    "### Dynamic duo\n",
    "\n",
    "LLMs are celebrated for producing good to great results, but they have a few big issues. \n",
    "The content they generate can be inconsistent, prone to hallucination, and sometimes biased, making it unreliable.\n",
    "The form, or stylistic structure, may also vary widely, with a lack of determinism and sensitivity \n",
    "to hyperparameters contributing to challenges in reproducibility. \n",
    "Moreover, customization and debugging can be complex due to these inconsistencies. \n",
    "\n",
    "The lack of reliability and reproducibility in both content and form underscore\n",
    "the need for streamlining, managing, and transforming LLM inquiries and results.\n",
    "\n",
    "Python, has fairly good tools for text manipulation, hence it can complement LLMs well. \n",
    "While Raku might not be everyone's favorite language and has certain intricacies that take some getting used to, \n",
    "its popularity is hard to ignore. ***Creating well-crafted pairings of Python with LLMs \n",
    "can speed up a lot of educational and research activities that require software support.***\n",
    "\n",
    "\"LLMFunctionObjects\" establishes a (object-oriented programming) connection between Python's capabilities and the vast potential of LLMs. \n",
    "Ideally that promising LLM-Python pairing is further strengthened and enriched into something that some might call a \"dynamic duo.\"\n",
    "\n",
    "**Remark:** For an example of a mature effort with the same mission (and naming, and design) see [SW1] and [WRIp1].\n",
    "\n",
    "**Remark:** And yes, for Mathematica or Wolfram Language (WL) it can be also said:\n",
    "*Creating well-crafted pairings of WL with LLMs can broaden WL's adoption and utilization.*\n",
    "WL, though, is much better positioned for integrating with multi-modal LLMs because of WL's\n",
    "ability to create and manipulate symbolic representation of different types of objects \n",
    "(audio, images, and video included), and WL's very advanced notebook technology.\n",
    "\n",
    "### Standard enhancements\n",
    "\n",
    "To enhance the pairing of Python with LLMs, it is *also* essential to have:\n",
    "- LLM prompt repository with many well documented prompts\n",
    "- Polyglot parsing of dates, numbers, regular expressions, data formats, grammar specs, etc.  \n",
    "\n",
    "For an example of the former see the Wolfram Prompt Repository, [WRIr1], or the Python package \"LLMPrompts\", [AAp2].\n",
    "For examples of the latter see the sub-parsers of \"LLMFunctionObjects\", [AAp1].\n",
    "\n",
    "### Interactivity is needed\n",
    "\n",
    "Generally speaking, using LLM functions in Python (or Mathematica, or R, or Raku) requires \n",
    "good tools for [Read Eval Print Loop (REPL)](https://en.wikipedia.org/wiki/Read–eval–print_loop).\n",
    "\n",
    "Notebooks are best for LLM utilization because notebooks offer an interactive environment where\n",
    "LLM whisperers, LLM tamers, neural net navigators, and bot wranglers can write code, run it, see the results, \n",
    "and tweak the code -- all in one place.\n",
    "\n",
    "Python currently has (at least) three notebook solutions: \n",
    "1. [\"IPython\"](https://ipython.org/) with the [Jupyter framework](https://jupyter.org)\n",
    "2. [RStudio notebooks](https://rmarkdown.rstudio.com/lesson-10.html) (with Python cells)\n",
    "3. [Python external evaluation cells](https://www.wolfram.com/language/12/external-system-integration/evaluate-python-in-a-notebook.html) in [Mathematica notebooks](https://www.wolfram.com/mathematica)\n",
    "\n",
    "**Remark:** Also see [Quarto](https://quarto.org) that combines different notebook solutions.\n",
    "\n",
    "\"Just\" using scripts is an option, but since LLM queries have certain time lag and usage expenses, it is not a good one:\n",
    "- We cannot see the intermediate results and adjust accordingly\n",
    "- Multiple (slow) executions would be needed to get desired results\n"
   ]
  },
  {
   "cell_type": "markdown",
   "id": "15c7fb02",
   "metadata": {},
   "source": [
    "### Article structure\n",
    "\n",
    "Here are sections of the article:\n",
    "\n",
    "- **General structure of LLM-based workflows**   \n",
    "  ... Formulating and visualizing the overall process used in all LLM workflow examples.\n",
    "- **Plot data**   \n",
    "  ... Plotting LLM-retrieved data.\n",
    "- **Normalizing outputs**   \n",
    "  ... Examples of how LLM-function outputs can be \"normalized\" using other LLM functions.\n",
    "- **Conversion to Python objects**   \n",
    "  ... Conversion of LLM-outputs in Python physical units objects.\n",
    "- **Chemical formulas**   \n",
    "  ... Retrieving chemical formulas and investigating them.\n",
    "- **Making (embedded) Mermaid diagrams**   \n",
    "  ... Straightforward application of LLM abilities and literate programming tools.\n",
    "- **Named entity recognition**  \n",
    "  ... How to obtain music album names and release dates and tabulate or plot them.\n",
    "- **Statistics of output data types**   \n",
    "  ... Illustration why programmers need streamlining solutions for LLMs.\n",
    "- **Other workflows**   \n",
    "  ... Outline of other workflows using LLM chat objects. (Also provided by \"LLM::Functions\".)\n",
    "\n",
    "**Remark:** Most of the sections have a sub-section titled \"Exercise questions\". \n",
    "The reader is the secondary target audience for those. The primary target are LLMs to respond to them.\n",
    "(Another article is going to discuss the staging and evaluating of those LLM answers.) \n",
    "\n",
    "### Packages and LLM access\n",
    "\n",
    "The following Python packages used below:"
   ]
  },
  {
   "cell_type": "code",
   "execution_count": 40,
   "id": "d4964ca6c13bba62",
   "metadata": {
    "ExecuteTime": {
     "end_time": "2023-09-30T15:21:56.211410Z",
     "start_time": "2023-09-30T15:21:54.977797Z"
    }
   },
   "outputs": [],
   "source": [
    "from LLMFunctionObjects import *\n",
    "from DataTypeSystem import *\n",
    "import json\n",
    "import pandas\n",
    "import astropy\n",
    "import chempy"
   ]
  },
  {
   "cell_type": "markdown",
   "id": "de136fba34397923",
   "metadata": {},
   "source": [
    "\"Out of the box\"\n",
    "[\"LLMFunctions\"](https://pypi.org/project/LLMFunctions) uses\n",
    "[\"openai\"](https://pypi.org/project/openai/), [OAIp1], and\n",
    "[\"google-generativeai\"](https://pypi.org/project/google-generativeai/), [GAIp1].\n",
    "Other LLM access packages can be utilized via appropriate LLM configurations.\n",
    "\n",
    "The LLM functions below use the LLM authorization tokens that are kept\n",
    "in the OS environment. See [OAIp1] and [GAOp1] for details how to setup LLM access."
   ]
  },
  {
   "cell_type": "markdown",
   "id": "331a3559c9ab2be1",
   "metadata": {
    "collapsed": false
   },
   "source": [
    "### Other versions\n",
    "\n",
    "The content of the article was previously developed for Raku and Wolfram Language (WL). \n",
    "See the notebooks:\n",
    "- [\"Workflows with LLM functions (in Raku)\"](https://community.wolfram.com/groups/-/m/t/2982320) \n",
    "- [\"Workflows with LLM functions (in WL)\"](https://community.wolfram.com/groups/-/m/t/2983602)"
   ]
  },
  {
   "cell_type": "markdown",
   "id": "e06bb2f88e7085d4",
   "metadata": {},
   "source": [
    "----\n",
    "\n",
    "## General structure of LLM-based workflows\n",
    "\n",
    "All systematic approaches of unfolding and refining workflows based on LLM functions, \n",
    "will include several decision points and iterations to ensure satisfactory results.\n",
    "\n",
    "This flowchart outlines such a systematic approach:"
   ]
  },
  {
   "cell_type": "markdown",
   "id": "d2382b81",
   "metadata": {},
   "source": [
    "```mermaid\n",
    "graph TD\n",
    "    A([Start]) --> HumanWorkflow[Outline a workflow] --> MakeLLMFuncs[\"Make LLM function(s)\"]\n",
    "    MakeLLMFuncs --> MakePipeline[Make pipeline]\n",
    "    MakePipeline --> LLMEval[\"Evaluate LLM function(s)\"]\n",
    "    LLMEval --> HumanAsses[Asses LLM's Outputs]\n",
    "    HumanAsses --> GoodLLMQ{Good or workable<br>results?}\n",
    "    GoodLLMQ --> |No| CanProgramQ{Can you<br>programmatically<br>change the<br>outputs?}\n",
    "    CanProgramQ --> |No| KnowVerb{Can you<br>verbalize<br>the required<br>change?}\n",
    "    KnowVerb --> |No| KnowRule{Can you<br>specify the change<br>as a set of training<br>rules?}\n",
    "    KnowVerb --> |Yes| ShouldAddLLMQ{\"Is it better to<br>make additional<br>LLM function(s)?\"}\n",
    "    ShouldAddLLMQ --> |Yes| AddLLM[\"Make additional<br>LLM function(s)\"]\n",
    "    AddLLM --> MakePipeline\n",
    "    ShouldAddLLMQ --> |No| ChangePrompt[\"Change prompt(s)<br>of LLM function(s)\"]\n",
    "    ChangePrompt --> ChangeOutputDescr[\"Change output description(s)<br>of LLM function(s)\"]\n",
    "    ChangeOutputDescr --> MakeLLMFuncs\n",
    "    CanProgramQ --> |Yes| ApplySubParser[\"Apply suitable (sub-)parsers\"]\n",
    "    ApplySubParser --> HumanMassageOutput[Program output transformations]\n",
    "    HumanMassageOutput --> MakePipeline\n",
    "    GoodLLMQ --> |Yes| OverallGood{\"Overall<br>satisfactory<br>(robust enough)<br>results?\"}\n",
    "    OverallGood --> |Yes| End([End])\n",
    "    OverallGood --> |No| DifferentModelQ{\"Willing and able<br>to apply<br>different model(s) or<br>model parameters?\"}\n",
    "    DifferentModelQ --> |No| HumanWorkflow\n",
    "    DifferentModelQ --> |Yes| ChangeModel[Change model<br>or model parameters]\n",
    "    ChangeModel --> MakeLLMFuncs\n",
    "    KnowRule --> |Yes| LLMExamFunc[Make LLM example function]\n",
    "    KnowRule --> |No| HumanWorkflow\n",
    "    LLMExamFunc --> MakePipeline     \n",
    "```"
   ]
  },
  {
   "cell_type": "markdown",
   "id": "7f7d6906",
   "metadata": {},
   "source": [
    "\n",
    "Here is a corresponding description:\n",
    "\n",
    "- **Start**: The beginning of the process.\n",
    "- **Outline a workflow**: The stage where a human outlines a general workflow for the process.\n",
    "- **Make LLM function(s)**: Creation of specific LLM function(s).\n",
    "- **Make pipeline**: Construction of a pipeline to integrate the LLM function(s).\n",
    "- **Evaluate LLM function(s)**: Evaluation of the created LLM function(s).\n",
    "- **Asses LLM's Outputs**: A human assesses the outputs from the LLM.\n",
    "- **Good or workable results?**: A decision point to check whether the results are good or workable.\n",
    "- **Can you programmatically change the outputs?**: If not satisfactory, a decision point to check if the outputs can be changed programmatically.\n",
    "  - *The human acts like a real programmer.*\n",
    "- **Can you verbalize the required change?**: If not programmable, a decision point to check if the changes can be verbalized.\n",
    "  - *The human programming is delegated to the LLM.*\n",
    "- **Can you specify the change as a set of training rules?**: If not verbalizable, a decision point to check if the change can be specified as training rules.\n",
    "  - *The human cannot program or verbalize the required changes, but can provide examples of those changes.*\n",
    "- **Is it better to make additional LLM function(s)?**: If changes can be verbalized, a decision point to check whether it is better to make additional LLM function(s), or it is better to change prompts or output descriptions. \n",
    "- **Make additional LLM function(s)**: Make additional LLM function(s) (since it is considered to be the better option.)  \n",
    "- **Change prompts of LLM function(s)**: Change prompts of already created LLM function(s).\n",
    "- **Change output description(s) of LLM function(s)**: Change output description(s) of already created LLM function(s).\n",
    "- **Apply suitable (sub-)parsers**: If changes can be programmed, choose, or program, and apply suitable parser(s) or sub-parser(s) for LLM's outputs.\n",
    "- **Program output transformations**: Transform the outputs of the (sub-)parser(s) programmatically.\n",
    "- **Overall satisfactory (robust enough) results?**: A decision point to assess whether the results are overall satisfactory.\n",
    "  - *This should include evaluation or estimate how robust and reproducible the results are.*\n",
    "- **Willing and able to apply different model(s) or model parameters?**: A decision point should the LLM functions pipeline should evaluated or tested with different LLM model or model parameters.\n",
    "  - *In view of robustness and reproducibility, systematic change of LLM models and LLM functions pipeline inputs should be considered.* \n",
    "- **Change model or model parameters**: If willing to change models or model parameters then do so.\n",
    "  - *Different models can have different adherence to prompt specs, evaluation speeds, and evaluation prices.*\n",
    "- **Make LLM example function**: If changes can be specified as training rules, make an example function for the LLM.\n",
    "- **End**: The end of the process.\n",
    "\n",
    "To summarise:\n",
    "- We work within an iterative process for refining the results of LLM function(s) pipeline.\n",
    "- If the overall results are not satisfactory, we loop back to the outlining workflow stage.\n",
    "- If additional LLM functions are made, we return to the pipeline creation stage.\n",
    "- If prompts or output descriptions are changed, we return the LLM function(s) creation stage. \n",
    "- Our (human) inability or unwillingness to program transformations has a few decision steps for delegation to LLMs.\n",
    "\n",
    "**Remark:** We leave as exercises to the reader to see how the workflows programmed below fit the flowchart above.\n",
    "\n",
    "**Remark:** The mapping of the workflow code below onto the flowchart can be made using LLMs. \n",
    "\n",
    "------\n",
    "\n",
    "## Plot data\n",
    "\n",
    "**Workflow:** Consider a workflow with the following steps:\n",
    "\n",
    "1. Request an LLM to produce in JSON format a dictionary of a certain numerical quantity during a certain year.\n",
    "2. The corresponding LLM function converts the JSON text into Python data structure.\n",
    "3. Print or summarize obtained data in tabular form.\n",
    "4. A plot is made with the obtained data.\n",
    "\n",
    "Here is a general quantities finder LLM function:"
   ]
  },
  {
   "cell_type": "code",
   "execution_count": 2,
   "id": "297aed4d",
   "metadata": {
    "ExecuteTime": {
     "end_time": "2023-09-30T15:21:56.211619Z",
     "start_time": "2023-09-30T15:21:55.251554Z"
    }
   },
   "outputs": [],
   "source": [
    "qf3 = llm_function(\n",
    "        prompt= lambda a, b, c: f\"What are the {a} of {b} in {c}? Give the result as name-value pairs in JSON format.\",\n",
    "        e = llm_configuration('openai', temperature =0.7),\n",
    "        form = sub_parser('JSON', drop=True));"
   ]
  },
  {
   "cell_type": "markdown",
   "id": "f642884a",
   "metadata": {},
   "source": [
    "### Countries GDP\n",
    "\n",
    "Consider finding and plotting the GDP of top 10 largest countries:"
   ]
  },
  {
   "cell_type": "code",
   "execution_count": 3,
   "id": "24ec3494",
   "metadata": {
    "ExecuteTime": {
     "end_time": "2023-09-30T15:21:57.038909Z",
     "start_time": "2023-09-30T15:21:55.253929Z"
    }
   },
   "outputs": [
    {
     "data": {
      "text/plain": [
       "[{'China': 18.1,\n",
       "  'United States': 22.6,\n",
       "  'India': 5.8,\n",
       "  'Japan': 5.3,\n",
       "  'Germany': 4.7,\n",
       "  'United Kingdom': 4.4,\n",
       "  'France': 3.9,\n",
       "  'Italy': 3.6,\n",
       "  'Brazil': 3.1,\n",
       "  'Canada': 2.3}]"
      ]
     },
     "execution_count": 3,
     "metadata": {},
     "output_type": "execute_result"
    }
   ],
   "source": [
    "gdp1 = qf3('GDP', 'top 10 largest countries', '2022')\n",
    "gdp1"
   ]
  },
  {
   "cell_type": "markdown",
   "id": "db844d0d",
   "metadata": {},
   "source": [
    "In order to make a corresponding table (data frame) we select form the LLM function's response only the elements that are dictionaries:"
   ]
  },
  {
   "cell_type": "code",
   "execution_count": 4,
   "id": "59fa32386da9f287",
   "metadata": {
    "ExecuteTime": {
     "end_time": "2023-09-30T15:21:57.055881Z",
     "start_time": "2023-09-30T15:21:57.037569Z"
    }
   },
   "outputs": [
    {
     "data": {
      "text/plain": [
       "[{'China': 18.1,\n",
       "  'United States': 22.6,\n",
       "  'India': 5.8,\n",
       "  'Japan': 5.3,\n",
       "  'Germany': 4.7,\n",
       "  'United Kingdom': 4.4,\n",
       "  'France': 3.9,\n",
       "  'Italy': 3.6,\n",
       "  'Brazil': 3.1,\n",
       "  'Canada': 2.3}]"
      ]
     },
     "execution_count": 4,
     "metadata": {},
     "output_type": "execute_result"
    }
   ],
   "source": [
    "gdp1f = list(filter(lambda x: isinstance(x, dict), gdp1))\n",
    "gdp1f"
   ]
  },
  {
   "cell_type": "markdown",
   "id": "c70fa43e4856edbe",
   "metadata": {
    "collapsed": false
   },
   "source": [
    "Here is the corresponding table (data frame):"
   ]
  },
  {
   "cell_type": "code",
   "execution_count": 5,
   "id": "e019fe21",
   "metadata": {
    "ExecuteTime": {
     "end_time": "2023-09-30T15:21:57.058310Z",
     "start_time": "2023-09-30T15:21:57.043333Z"
    },
    "collapsed": false
   },
   "outputs": [
    {
     "data": {
      "text/html": [
       "<div>\n",
       "<style scoped>\n",
       "    .dataframe tbody tr th:only-of-type {\n",
       "        vertical-align: middle;\n",
       "    }\n",
       "\n",
       "    .dataframe tbody tr th {\n",
       "        vertical-align: top;\n",
       "    }\n",
       "\n",
       "    .dataframe thead th {\n",
       "        text-align: right;\n",
       "    }\n",
       "</style>\n",
       "<table border=\"1\" class=\"dataframe\">\n",
       "  <thead>\n",
       "    <tr style=\"text-align: right;\">\n",
       "      <th></th>\n",
       "      <th>0</th>\n",
       "    </tr>\n",
       "  </thead>\n",
       "  <tbody>\n",
       "    <tr>\n",
       "      <th>China</th>\n",
       "      <td>18.1</td>\n",
       "    </tr>\n",
       "    <tr>\n",
       "      <th>United States</th>\n",
       "      <td>22.6</td>\n",
       "    </tr>\n",
       "    <tr>\n",
       "      <th>India</th>\n",
       "      <td>5.8</td>\n",
       "    </tr>\n",
       "    <tr>\n",
       "      <th>Japan</th>\n",
       "      <td>5.3</td>\n",
       "    </tr>\n",
       "    <tr>\n",
       "      <th>Germany</th>\n",
       "      <td>4.7</td>\n",
       "    </tr>\n",
       "    <tr>\n",
       "      <th>United Kingdom</th>\n",
       "      <td>4.4</td>\n",
       "    </tr>\n",
       "    <tr>\n",
       "      <th>France</th>\n",
       "      <td>3.9</td>\n",
       "    </tr>\n",
       "    <tr>\n",
       "      <th>Italy</th>\n",
       "      <td>3.6</td>\n",
       "    </tr>\n",
       "    <tr>\n",
       "      <th>Brazil</th>\n",
       "      <td>3.1</td>\n",
       "    </tr>\n",
       "    <tr>\n",
       "      <th>Canada</th>\n",
       "      <td>2.3</td>\n",
       "    </tr>\n",
       "  </tbody>\n",
       "</table>\n",
       "</div>"
      ],
      "text/plain": [
       "                   0\n",
       "China           18.1\n",
       "United States   22.6\n",
       "India            5.8\n",
       "Japan            5.3\n",
       "Germany          4.7\n",
       "United Kingdom   4.4\n",
       "France           3.9\n",
       "Italy            3.6\n",
       "Brazil           3.1\n",
       "Canada           2.3"
      ]
     },
     "execution_count": 5,
     "metadata": {},
     "output_type": "execute_result"
    }
   ],
   "source": [
    "pandas.DataFrame.from_dict(gdp1f).transpose()"
   ]
  },
  {
   "cell_type": "markdown",
   "id": "544a47e9dbcfea31",
   "metadata": {
    "collapsed": false
   },
   "source": [
    "Instead of programmatically manipulating the LLM function result we can request the LLM to produce the desired transformation (with another LLM function):   "
   ]
  },
  {
   "cell_type": "code",
   "execution_count": 6,
   "id": "2bb1bb74d5d985e5",
   "metadata": {
    "ExecuteTime": {
     "end_time": "2023-09-30T15:21:58.877274Z",
     "start_time": "2023-09-30T15:21:57.050593Z"
    }
   },
   "outputs": [
    {
     "data": {
      "text/plain": [
       "[{'Name': 'China', 'Value': 18.1},\n",
       " {'Name': 'United States', 'Value': 22.6},\n",
       " {'Name': 'India', 'Value': 5.8},\n",
       " {'Name': 'Japan', 'Value': 5.3},\n",
       " {'Name': 'Germany', 'Value': 4.7},\n",
       " {'Name': 'United Kingdom', 'Value': 4.4},\n",
       " {'Name': 'France', 'Value': 3.9},\n",
       " {'Name': 'Italy', 'Value': 3.6},\n",
       " {'Name': 'Brazil', 'Value': 3.1},\n",
       " {'Name': 'Canada', 'Value': 2.3}]"
      ]
     },
     "execution_count": 6,
     "metadata": {},
     "output_type": "execute_result"
    }
   ],
   "source": [
    "ftc = llm_function(lambda x: f\"Convert the JSON dictionary {x} into two column table with column names Name and Value. Show the result in JSON format.\", form = sub_parser(\"JSON\",drop=True))\n",
    "ftc(gdp1)"
   ]
  },
  {
   "cell_type": "markdown",
   "id": "28638fb48c249058",
   "metadata": {
    "collapsed": false
   },
   "source": [
    "Here is the table (data frame) for the result above:"
   ]
  },
  {
   "cell_type": "code",
   "execution_count": 7,
   "id": "b7d400ed8cdd1a16",
   "metadata": {
    "ExecuteTime": {
     "end_time": "2023-09-30T15:21:58.894226Z",
     "start_time": "2023-09-30T15:21:58.879984Z"
    }
   },
   "outputs": [
    {
     "data": {
      "text/html": [
       "<div>\n",
       "<style scoped>\n",
       "    .dataframe tbody tr th:only-of-type {\n",
       "        vertical-align: middle;\n",
       "    }\n",
       "\n",
       "    .dataframe tbody tr th {\n",
       "        vertical-align: top;\n",
       "    }\n",
       "\n",
       "    .dataframe thead th {\n",
       "        text-align: right;\n",
       "    }\n",
       "</style>\n",
       "<table border=\"1\" class=\"dataframe\">\n",
       "  <thead>\n",
       "    <tr style=\"text-align: right;\">\n",
       "      <th></th>\n",
       "      <th>Name</th>\n",
       "      <th>Value</th>\n",
       "    </tr>\n",
       "  </thead>\n",
       "  <tbody>\n",
       "    <tr>\n",
       "      <th>0</th>\n",
       "      <td>China</td>\n",
       "      <td>18.1</td>\n",
       "    </tr>\n",
       "    <tr>\n",
       "      <th>1</th>\n",
       "      <td>United States</td>\n",
       "      <td>22.6</td>\n",
       "    </tr>\n",
       "    <tr>\n",
       "      <th>2</th>\n",
       "      <td>India</td>\n",
       "      <td>5.8</td>\n",
       "    </tr>\n",
       "    <tr>\n",
       "      <th>3</th>\n",
       "      <td>Japan</td>\n",
       "      <td>5.3</td>\n",
       "    </tr>\n",
       "    <tr>\n",
       "      <th>4</th>\n",
       "      <td>Germany</td>\n",
       "      <td>4.7</td>\n",
       "    </tr>\n",
       "    <tr>\n",
       "      <th>5</th>\n",
       "      <td>United Kingdom</td>\n",
       "      <td>4.4</td>\n",
       "    </tr>\n",
       "    <tr>\n",
       "      <th>6</th>\n",
       "      <td>France</td>\n",
       "      <td>3.9</td>\n",
       "    </tr>\n",
       "    <tr>\n",
       "      <th>7</th>\n",
       "      <td>Italy</td>\n",
       "      <td>3.6</td>\n",
       "    </tr>\n",
       "    <tr>\n",
       "      <th>8</th>\n",
       "      <td>Brazil</td>\n",
       "      <td>3.1</td>\n",
       "    </tr>\n",
       "    <tr>\n",
       "      <th>9</th>\n",
       "      <td>Canada</td>\n",
       "      <td>2.3</td>\n",
       "    </tr>\n",
       "  </tbody>\n",
       "</table>\n",
       "</div>"
      ],
      "text/plain": [
       "             Name  Value\n",
       "0           China   18.1\n",
       "1   United States   22.6\n",
       "2           India    5.8\n",
       "3           Japan    5.3\n",
       "4         Germany    4.7\n",
       "5  United Kingdom    4.4\n",
       "6          France    3.9\n",
       "7           Italy    3.6\n",
       "8          Brazil    3.1\n",
       "9          Canada    2.3"
      ]
     },
     "execution_count": 7,
     "metadata": {},
     "output_type": "execute_result"
    }
   ],
   "source": [
    "dfGDP = pandas.DataFrame.from_dict(_)\n",
    "dfGDP"
   ]
  },
  {
   "cell_type": "markdown",
   "id": "5fe817bdf22a3e50",
   "metadata": {
    "collapsed": false
   },
   "source": [
    "**Remark:** We can define the transformation function to produce Python code, but actually requires more notebook-manual steps. Here is the corresponding definition:\n",
    "```python\n",
    "ftc = llm_function(lambda x: f\"Convert the JSON dictionary {x} into two column Python pandas data frame with column names Name and Value. Show the result in Python code.\")\n",
    "```"
   ]
  },
  {
   "cell_type": "markdown",
   "id": "d93e2374",
   "metadata": {},
   "source": [
    "Here is a plot attempt:"
   ]
  },
  {
   "cell_type": "code",
   "execution_count": 8,
   "id": "2124fe1d",
   "metadata": {
    "ExecuteTime": {
     "end_time": "2023-09-30T15:21:59.142170Z",
     "start_time": "2023-09-30T15:21:58.884671Z"
    }
   },
   "outputs": [
    {
     "data": {
      "image/png": "[encoded data removed]",
      "text/plain": [
       "<Figure size 640x480 with 1 Axes>"
      ]
     },
     "metadata": {},
     "output_type": "display_data"
    }
   ],
   "source": [
    "import matplotlib.pyplot as plt\n",
    "\n",
    "def plot_points(df, title=''):\n",
    "    plt.plot(df['Name'], df['Value'], 'o')\n",
    "    plt.xlabel('Name')\n",
    "    plt.ylabel('Value')\n",
    "    plt.title(title)\n",
    "    plt.show()\n",
    "    \n",
    "plot_points(dfGDP, 'GDP')"
   ]
  },
  {
   "cell_type": "markdown",
   "id": "0ede7245",
   "metadata": {},
   "source": [
    "Here we obtain the GDP for all countries and make the corresponding Pareto principle plot:"
   ]
  },
  {
   "cell_type": "code",
   "execution_count": 9,
   "id": "cee51fff",
   "metadata": {
    "ExecuteTime": {
     "end_time": "2023-09-30T15:22:03.365195Z",
     "start_time": "2023-09-30T15:21:59.140460Z"
    },
    "incorrectly_encoded_metadata": ", eval=FALSE"
   },
   "outputs": [
    {
     "data": {
      "text/plain": [
       "[{'United States': 20494100,\n",
       "  'China': 13608100,\n",
       "  'Japan': 4970910,\n",
       "  'Germany': 3996750,\n",
       "  'United Kingdom': 2825210,\n",
       "  'India': 2719720,\n",
       "  'France': 2710950,\n",
       "  'Italy': 2086910,\n",
       "  'Brazil': 1885510,\n",
       "  'Canada': 1708610,\n",
       "  'Russia': 1708490,\n",
       "  'South Korea': 1667120,\n",
       "  'Spain': 1437040,\n",
       "  'Australia': 1329180,\n",
       "  'Mexico': 1238840,\n",
       "  'Indonesia': 1049870,\n",
       "  'Netherlands': 929140,\n",
       "  'Turkey': 851102,\n",
       "  'Switzerland': 705047,\n",
       "  'Saudi Arabia': 683827,\n",
       "  'Argentina': 637486,\n",
       "  'Sweden': 538575,\n",
       "  'Poland': 586313,\n",
       "  'Belgium': 536055,\n",
       "  'Thailand': 502938,\n",
       "  'Iran': 454674,\n",
       "  'Austria': 455450,\n",
       "  'Norway': 434951,\n",
       "  'United Arab Emirates': 414371,\n",
       "  'Nigeria': 397472,\n",
       "  'South Africa': 366057}]"
      ]
     },
     "execution_count": 9,
     "metadata": {},
     "output_type": "execute_result"
    }
   ],
   "source": [
    "gdp2 = qf3('GDP', 'top 30 countries', '2018')\n",
    "gdp2"
   ]
  },
  {
   "cell_type": "markdown",
   "id": "20cd542e",
   "metadata": {},
   "source": [
    "Here is a plot attempt:"
   ]
  },
  {
   "cell_type": "code",
   "execution_count": 10,
   "id": "c947edcf",
   "metadata": {
    "ExecuteTime": {
     "end_time": "2023-09-30T15:22:03.433642Z",
     "start_time": "2023-09-30T15:22:03.382892Z"
    },
    "incorrectly_encoded_metadata": ", eval=FALSE"
   },
   "outputs": [
    {
     "data": {
      "image/png": "[encoded data removed]",
      "text/plain": [
       "<Figure size 640x480 with 1 Axes>"
      ]
     },
     "metadata": {},
     "output_type": "display_data"
    }
   ],
   "source": [
    "import numpy as np\n",
    "\n",
    "def plot_pareto(numbers):\n",
    "    numbers = np.array(numbers)\n",
    "    sorted_indices = numbers.argsort()[::-1]\n",
    "    sorted_numbers = numbers[sorted_indices]\n",
    "    cumulative_sum = np.cumsum(sorted_numbers)\n",
    "\n",
    "    plt.plot(range(1, len(numbers) + 1), cumulative_sum / cumulative_sum[-1] * 100, 'ro-')\n",
    "    plt.xlabel('Items')\n",
    "    plt.ylabel('Cumulative Percentage')\n",
    "    plt.title('Pareto Principle')\n",
    "    plt.ylim(0, 100)\n",
    "    plt.show()\n",
    "\n",
    "\n",
    "plot_pareto(list(gdp2[0].values()))    "
   ]
  },
  {
   "cell_type": "markdown",
   "id": "500b8c40",
   "metadata": {},
   "source": [
    "Here is another one based on the most frequent \"non-compliant\" output form:"
   ]
  },
  {
   "cell_type": "code",
   "execution_count": 11,
   "id": "4d9065d8",
   "metadata": {
    "ExecuteTime": {
     "end_time": "2023-09-30T15:22:03.494249Z",
     "start_time": "2023-09-30T15:22:03.432325Z"
    },
    "incorrectly_encoded_metadata": ", eval=FALSE"
   },
   "outputs": [
    {
     "data": {
      "image/png": "[encoded data removed]",
      "text/plain": [
       "<Figure size 640x480 with 1 Axes>"
      ]
     },
     "metadata": {},
     "output_type": "display_data"
    }
   ],
   "source": [
    "plot_pareto([v for v in gdp2[0].values() if isinstance(v, float|int)])"
   ]
  },
  {
   "cell_type": "markdown",
   "id": "6ed2c46c",
   "metadata": {},
   "source": [
    "### Gold medals\n",
    "\n",
    "Here we retrieve data for gold Olympic medal counts:"
   ]
  },
  {
   "cell_type": "code",
   "execution_count": 12,
   "id": "d40cb1a0",
   "metadata": {
    "ExecuteTime": {
     "end_time": "2023-09-30T15:22:04.409138Z",
     "start_time": "2023-09-30T15:22:03.485954Z"
    }
   },
   "outputs": [
    {
     "data": {
      "text/plain": [
       "[{'United States': 103,\n",
       "  'China': 88,\n",
       "  'Great Britain': 68,\n",
       "  'Russia': 49,\n",
       "  'Germany': 42,\n",
       "  'Japan': 37,\n",
       "  'Australia': 30,\n",
       "  'France': 29,\n",
       "  'South Korea': 28,\n",
       "  'Italy': 26}]"
      ]
     },
     "execution_count": 12,
     "metadata": {},
     "output_type": "execute_result"
    }
   ],
   "source": [
    "gmd = qf3(\"counts of Olympic gold medals\", \"countries\", \"the last decade\")\n",
    "gmd"
   ]
  },
  {
   "cell_type": "markdown",
   "id": "f347fdc2",
   "metadata": {},
   "source": [
    "Here is a corresponding data frame:"
   ]
  },
  {
   "cell_type": "code",
   "execution_count": 13,
   "id": "29503d1a",
   "metadata": {
    "ExecuteTime": {
     "end_time": "2023-09-30T15:22:04.414211Z",
     "start_time": "2023-09-30T15:22:04.410582Z"
    }
   },
   "outputs": [
    {
     "data": {
      "text/html": [
       "<div>\n",
       "<style scoped>\n",
       "    .dataframe tbody tr th:only-of-type {\n",
       "        vertical-align: middle;\n",
       "    }\n",
       "\n",
       "    .dataframe tbody tr th {\n",
       "        vertical-align: top;\n",
       "    }\n",
       "\n",
       "    .dataframe thead th {\n",
       "        text-align: right;\n",
       "    }\n",
       "</style>\n",
       "<table border=\"1\" class=\"dataframe\">\n",
       "  <thead>\n",
       "    <tr style=\"text-align: right;\">\n",
       "      <th></th>\n",
       "      <th>Name</th>\n",
       "      <th>Value</th>\n",
       "    </tr>\n",
       "  </thead>\n",
       "  <tbody>\n",
       "    <tr>\n",
       "      <th>0</th>\n",
       "      <td>United States</td>\n",
       "      <td>103</td>\n",
       "    </tr>\n",
       "    <tr>\n",
       "      <th>1</th>\n",
       "      <td>China</td>\n",
       "      <td>88</td>\n",
       "    </tr>\n",
       "    <tr>\n",
       "      <th>2</th>\n",
       "      <td>Great Britain</td>\n",
       "      <td>68</td>\n",
       "    </tr>\n",
       "    <tr>\n",
       "      <th>3</th>\n",
       "      <td>Russia</td>\n",
       "      <td>49</td>\n",
       "    </tr>\n",
       "    <tr>\n",
       "      <th>4</th>\n",
       "      <td>Germany</td>\n",
       "      <td>42</td>\n",
       "    </tr>\n",
       "    <tr>\n",
       "      <th>5</th>\n",
       "      <td>Japan</td>\n",
       "      <td>37</td>\n",
       "    </tr>\n",
       "    <tr>\n",
       "      <th>6</th>\n",
       "      <td>Australia</td>\n",
       "      <td>30</td>\n",
       "    </tr>\n",
       "    <tr>\n",
       "      <th>7</th>\n",
       "      <td>France</td>\n",
       "      <td>29</td>\n",
       "    </tr>\n",
       "    <tr>\n",
       "      <th>8</th>\n",
       "      <td>South Korea</td>\n",
       "      <td>28</td>\n",
       "    </tr>\n",
       "    <tr>\n",
       "      <th>9</th>\n",
       "      <td>Italy</td>\n",
       "      <td>26</td>\n",
       "    </tr>\n",
       "  </tbody>\n",
       "</table>\n",
       "</div>"
      ],
      "text/plain": [
       "            Name  Value\n",
       "0  United States    103\n",
       "1          China     88\n",
       "2  Great Britain     68\n",
       "3         Russia     49\n",
       "4        Germany     42\n",
       "5          Japan     37\n",
       "6      Australia     30\n",
       "7         France     29\n",
       "8    South Korea     28\n",
       "9          Italy     26"
      ]
     },
     "execution_count": 13,
     "metadata": {},
     "output_type": "execute_result"
    }
   ],
   "source": [
    "gmdf = list(filter(lambda x: isinstance(x, dict), gmd))\n",
    "gmdf = [ {\"Name\" : k, \"Value\" : v} for k, v in gmdf[0].items()]\n",
    "dfGM = pandas.DataFrame.from_dict(gmdf)\n",
    "dfGM"
   ]
  },
  {
   "cell_type": "markdown",
   "id": "2531a40d",
   "metadata": {},
   "source": [
    "Here is a plot attempt:"
   ]
  },
  {
   "cell_type": "code",
   "execution_count": 14,
   "id": "fb94731c",
   "metadata": {
    "ExecuteTime": {
     "end_time": "2023-09-30T15:22:04.523216Z",
     "start_time": "2023-09-30T15:22:04.415239Z"
    }
   },
   "outputs": [
    {
     "data": {
      "image/png": "[encoded data removed]",
      "text/plain": [
       "<Figure size 640x480 with 1 Axes>"
      ]
     },
     "metadata": {},
     "output_type": "display_data"
    }
   ],
   "source": [
    "plot_points(dfGM, \"Gold medals\")"
   ]
  },
  {
   "cell_type": "markdown",
   "id": "13c5377c",
   "metadata": {},
   "source": [
    "### Exercise questions\n",
    "\n",
    "- How does the code in this section maps on the flowchart in the section \"General structure of LLM-based workflows\"?\n",
    "- Come up with other argument values for the three slots of `&qf3` and execute the workflow. \n",
    "\n",
    "-------\n",
    "\n",
    "## Refining and adapting outputs\n",
    "\n",
    "**Workflow:** We want to transform text into a specific format that is both expected and ready for immediate processing.\n",
    "For example:\n",
    "\n",
    "- Remove certain pesky symbols and strings from LLM results\n",
    "- Put a Python (or JSON) dataset into a tabular data format suitable for immediate rendering\n",
    "- Convert a dataset into a plotting language spec\n",
    "\n",
    "### Normalizing numerical outputs\n",
    "\n",
    "The following *LLM example* function \"normalizes\" outputs that have numerical values with certain number\n",
    "localization or currency units:"
   ]
  },
  {
   "cell_type": "code",
   "execution_count": 15,
   "id": "3a7eb815",
   "metadata": {
    "ExecuteTime": {
     "end_time": "2023-09-30T15:22:04.523375Z",
     "start_time": "2023-09-30T15:22:04.475057Z"
    }
   },
   "outputs": [],
   "source": [
    "fNumNorm = llm_example_function({'1,034': '1_034', \n",
    "                                 '13,003,553': '13_003_553', \n",
    "                                 '9,323,003,553': '9_323_003_553',\n",
    "                                 '43 thousand USD': '23E3', \n",
    "                                 '3.9 thousand' : '3.9E3',\n",
    "                                 '23 million USD': '23E6', \n",
    "                                 '2.3 million': '2.3E6',\n",
    "                                 '3.2343 trillion USD': '3.2343E12', \n",
    "                                 '0.3 trillion' : '0.3E12'})"
   ]
  },
  {
   "cell_type": "markdown",
   "id": "b421534a",
   "metadata": {},
   "source": [
    "This LLM function can be useful to transform outputs of other LLM functions (before utilizing those outputs further.)\n",
    "\n",
    "Here is an example of normalizing the results of countries GDP query output:"
   ]
  },
  {
   "cell_type": "code",
   "execution_count": 16,
   "id": "3939684f",
   "metadata": {
    "ExecuteTime": {
     "end_time": "2023-09-30T15:22:05.413207Z",
     "start_time": "2023-09-30T15:22:04.477572Z"
    }
   },
   "outputs": [
    {
     "data": {
      "text/plain": [
       "' {Brazil : 2.6E12, China : 17.3E12, France : 2.7E12, Germany : 3.9E12, India : 8.2E12, Japan : 5.3E12}'"
      ]
     },
     "execution_count": 16,
     "metadata": {},
     "output_type": "execute_result"
    }
   ],
   "source": [
    "gdpRes = \"{Brazil : 2.6 trillion, China : 17.3 trillion, France : 2.7 trillion USD, Germany : 3.9 trillion, India : 8.2 trillion, Japan : 5.3 trillion}\"\n",
    "fNumNorm(gdpRes)"
   ]
  },
  {
   "cell_type": "markdown",
   "id": "d887c6f1",
   "metadata": {},
   "source": [
    "### Dataset into tabular format\n",
    "\n",
    "Here is an LLM function that transforms the plain text data above into a GitHub Markdown table:"
   ]
  },
  {
   "cell_type": "code",
   "execution_count": 17,
   "id": "446e54ee",
   "metadata": {
    "ExecuteTime": {
     "end_time": "2023-09-30T15:22:05.430527Z",
     "start_time": "2023-09-30T15:22:05.413448Z"
    }
   },
   "outputs": [],
   "source": [
    "fgt = llm_function(lambda x: f\"Transform the plain-text table {x} into a GitHub table.\")"
   ]
  },
  {
   "cell_type": "markdown",
   "id": "b6f1765d",
   "metadata": {},
   "source": [
    "Here is an example application:"
   ]
  },
  {
   "cell_type": "code",
   "execution_count": 18,
   "id": "c52b5dc10451839c",
   "metadata": {
    "ExecuteTime": {
     "end_time": "2023-09-30T15:22:07.340286Z",
     "start_time": "2023-09-30T15:22:05.422656Z"
    }
   },
   "outputs": [
    {
     "data": {
      "text/markdown": [
       "\n",
       "\n",
       "| Country        | Population (in millions) |\n",
       "|----------------|-------------------------|\n",
       "| China          | 18.1                    |\n",
       "| United States  | 22.6                    |\n",
       "| India          | 5.8                     |\n",
       "| Japan          | 5.3                     |\n",
       "| Germany        | 4.7                     |\n",
       "| United Kingdom | 4.4                     |\n",
       "| France         | 3.9                     |\n",
       "| Italy          | 3.6                     |\n",
       "| Brazil         | 3.1                     |\n",
       "| Canada         | 2.3                     |"
      ]
     },
     "metadata": {},
     "output_type": "display_data"
    }
   ],
   "source": [
    "from IPython.display import display_markdown\n",
    "\n",
    "gdp2f = fgt(' '.join([str(x) for x in gdp1]))\n",
    "display_markdown(gdp2f, raw=True)"
   ]
  },
  {
   "cell_type": "markdown",
   "id": "bbda5344",
   "metadata": {},
   "source": [
    "Let us define a function that translates the dataset by converting to JSON format first,\n",
    "and then converting into a GitHub Markdown table:"
   ]
  },
  {
   "cell_type": "code",
   "execution_count": 19,
   "id": "0ff64830",
   "metadata": {
    "ExecuteTime": {
     "end_time": "2023-09-30T15:22:07.340555Z",
     "start_time": "2023-09-30T15:22:07.334381Z"
    }
   },
   "outputs": [],
   "source": [
    "fjgt = llm_function(lambda x: f\"Transform the JSON data {x} into a GitHub table.\")"
   ]
  },
  {
   "cell_type": "markdown",
   "id": "f29d0044",
   "metadata": {},
   "source": [
    "Here is an example application:"
   ]
  },
  {
   "cell_type": "code",
   "execution_count": 20,
   "id": "4cb4bc97",
   "metadata": {
    "ExecuteTime": {
     "end_time": "2023-09-30T15:22:08.717094Z",
     "start_time": "2023-09-30T15:22:07.337778Z"
    },
    "incorrectly_encoded_metadata": ", results=asis"
   },
   "outputs": [
    {
     "data": {
      "text/markdown": [
       "\n",
       "\n",
       "| Country      | Medals |\n",
       "|--------------|--------|\n",
       "| United States| 103    |\n",
       "| China        | 88     |\n",
       "| Great Britain| 68     |\n",
       "| Russia       | 49     |\n",
       "| Germany      | 42     |\n",
       "| Japan        | 37     |\n",
       "| Australia    | 30     |\n",
       "| France       | 29     |\n",
       "| South Korea  | 28     |\n",
       "| Italy        | 26     |"
      ]
     },
     "metadata": {},
     "output_type": "display_data"
    }
   ],
   "source": [
    "display_markdown(fjgt(json.dumps(gmd[0])), raw=True)"
   ]
  },
  {
   "cell_type": "markdown",
   "id": "580bb6c7",
   "metadata": {},
   "source": [
    "### Dataset into diagrams\n",
    "\n",
    "Here we define a reformatting function that translates JSON data into Python code for plotting different types of diagrams:"
   ]
  },
  {
   "cell_type": "code",
   "execution_count": 21,
   "id": "b2d5dab4",
   "metadata": {
    "ExecuteTime": {
     "end_time": "2023-09-30T15:22:08.743226Z",
     "start_time": "2023-09-30T15:22:08.717352Z"
    }
   },
   "outputs": [],
   "source": [
    "fjp = llm_function(lambda a, b: f\"Transform the JSON data {a} into a Python code to plot a {b}.\")"
   ]
  },
  {
   "cell_type": "markdown",
   "id": "e769f05a",
   "metadata": {},
   "source": [
    "Here we convert the gold medals data into a pie chart Python code:"
   ]
  },
  {
   "cell_type": "code",
   "execution_count": 22,
   "id": "90e58c9a",
   "metadata": {
    "ExecuteTime": {
     "end_time": "2023-09-30T15:22:10.325824Z",
     "start_time": "2023-09-30T15:22:08.726766Z"
    },
    "incorrectly_encoded_metadata": ", output.prompt=NONE, output.lang=mermaid"
   },
   "outputs": [
    {
     "name": "stdout",
     "output_type": "stream",
     "text": [
      "\n",
      "\n",
      "import matplotlib.pyplot as plt\n",
      "\n",
      "data = [{\"United States\": 103, \"China\": 88, \"Great Britain\": 68, \"Russia\": 49, \"Germany\": 42, \"Japan\": 37, \"Australia\": 30, \"France\": 29, \"South Korea\": 28, \"Italy\": 26}]\n",
      "\n",
      "# Extract country names and medal counts from data\n",
      "countries = list(data[0].keys())\n",
      "medal_counts = list(data[0].values())\n",
      "\n",
      "# Plot pie chart\n",
      "plt.pie(medal_counts, labels=countries, autopct='%1.1f%%')\n",
      "plt.title(\"Medal Counts by Country\")\n",
      "plt.show()\n"
     ]
    }
   ],
   "source": [
    "codeRes = fjp(json.dumps(gmd), 'pie chart')\n",
    "print(codeRes)"
   ]
  },
  {
   "cell_type": "markdown",
   "id": "5e46cfb84a45ff88",
   "metadata": {
    "collapsed": false
   },
   "source": [
    "Here the generated code above is evaluated:"
   ]
  },
  {
   "cell_type": "code",
   "execution_count": 23,
   "id": "50f53c77ee2b4acb",
   "metadata": {
    "ExecuteTime": {
     "end_time": "2023-09-30T15:22:10.402893Z",
     "start_time": "2023-09-30T15:22:10.332139Z"
    },
    "collapsed": false
   },
   "outputs": [
    {
     "data": {
      "image/png": "[encoded data removed]",
      "text/plain": [
       "<Figure size 640x480 with 1 Axes>"
      ]
     },
     "metadata": {},
     "output_type": "display_data"
    }
   ],
   "source": [
    "exec(codeRes)"
   ]
  },
  {
   "cell_type": "markdown",
   "id": "a7ca5b8e",
   "metadata": {},
   "source": [
    "Here is a more \"data creative\" example:\n",
    "\n",
    "1. First we get a dataset and cross-tabulate it\n",
    "2. Then we ask an LLM make the corresponding flow chart, or class-, or state diagram for it\n",
    "\n",
    "Here is a cross-tabulation of the Titanic dataset (over the sex and class variables):"
   ]
  },
  {
   "cell_type": "code",
   "execution_count": 24,
   "id": "d69c0b298d17f060",
   "metadata": {
    "ExecuteTime": {
     "end_time": "2023-09-30T15:22:10.686388Z",
     "start_time": "2023-09-30T15:22:10.402479Z"
    },
    "collapsed": false
   },
   "outputs": [
    {
     "data": {
      "text/html": [
       "<div>\n",
       "<style scoped>\n",
       "    .dataframe tbody tr th:only-of-type {\n",
       "        vertical-align: middle;\n",
       "    }\n",
       "\n",
       "    .dataframe tbody tr th {\n",
       "        vertical-align: top;\n",
       "    }\n",
       "\n",
       "    .dataframe thead th {\n",
       "        text-align: right;\n",
       "    }\n",
       "</style>\n",
       "<table border=\"1\" class=\"dataframe\">\n",
       "  <thead>\n",
       "    <tr style=\"text-align: right;\">\n",
       "      <th></th>\n",
       "      <th>survived</th>\n",
       "      <th>pclass</th>\n",
       "      <th>sex</th>\n",
       "      <th>age</th>\n",
       "      <th>sibsp</th>\n",
       "      <th>parch</th>\n",
       "      <th>fare</th>\n",
       "      <th>embarked</th>\n",
       "      <th>class</th>\n",
       "      <th>who</th>\n",
       "      <th>adult_male</th>\n",
       "      <th>deck</th>\n",
       "      <th>embark_town</th>\n",
       "      <th>alive</th>\n",
       "      <th>alone</th>\n",
       "    </tr>\n",
       "  </thead>\n",
       "  <tbody>\n",
       "    <tr>\n",
       "      <th>0</th>\n",
       "      <td>0</td>\n",
       "      <td>3</td>\n",
       "      <td>male</td>\n",
       "      <td>22.0</td>\n",
       "      <td>1</td>\n",
       "      <td>0</td>\n",
       "      <td>7.2500</td>\n",
       "      <td>S</td>\n",
       "      <td>Third</td>\n",
       "      <td>man</td>\n",
       "      <td>True</td>\n",
       "      <td>NaN</td>\n",
       "      <td>Southampton</td>\n",
       "      <td>no</td>\n",
       "      <td>False</td>\n",
       "    </tr>\n",
       "    <tr>\n",
       "      <th>1</th>\n",
       "      <td>1</td>\n",
       "      <td>1</td>\n",
       "      <td>female</td>\n",
       "      <td>38.0</td>\n",
       "      <td>1</td>\n",
       "      <td>0</td>\n",
       "      <td>71.2833</td>\n",
       "      <td>C</td>\n",
       "      <td>First</td>\n",
       "      <td>woman</td>\n",
       "      <td>False</td>\n",
       "      <td>C</td>\n",
       "      <td>Cherbourg</td>\n",
       "      <td>yes</td>\n",
       "      <td>False</td>\n",
       "    </tr>\n",
       "    <tr>\n",
       "      <th>2</th>\n",
       "      <td>1</td>\n",
       "      <td>3</td>\n",
       "      <td>female</td>\n",
       "      <td>26.0</td>\n",
       "      <td>0</td>\n",
       "      <td>0</td>\n",
       "      <td>7.9250</td>\n",
       "      <td>S</td>\n",
       "      <td>Third</td>\n",
       "      <td>woman</td>\n",
       "      <td>False</td>\n",
       "      <td>NaN</td>\n",
       "      <td>Southampton</td>\n",
       "      <td>yes</td>\n",
       "      <td>True</td>\n",
       "    </tr>\n",
       "    <tr>\n",
       "      <th>3</th>\n",
       "      <td>1</td>\n",
       "      <td>1</td>\n",
       "      <td>female</td>\n",
       "      <td>35.0</td>\n",
       "      <td>1</td>\n",
       "      <td>0</td>\n",
       "      <td>53.1000</td>\n",
       "      <td>S</td>\n",
       "      <td>First</td>\n",
       "      <td>woman</td>\n",
       "      <td>False</td>\n",
       "      <td>C</td>\n",
       "      <td>Southampton</td>\n",
       "      <td>yes</td>\n",
       "      <td>False</td>\n",
       "    </tr>\n",
       "    <tr>\n",
       "      <th>4</th>\n",
       "      <td>0</td>\n",
       "      <td>3</td>\n",
       "      <td>male</td>\n",
       "      <td>35.0</td>\n",
       "      <td>0</td>\n",
       "      <td>0</td>\n",
       "      <td>8.0500</td>\n",
       "      <td>S</td>\n",
       "      <td>Third</td>\n",
       "      <td>man</td>\n",
       "      <td>True</td>\n",
       "      <td>NaN</td>\n",
       "      <td>Southampton</td>\n",
       "      <td>no</td>\n",
       "      <td>True</td>\n",
       "    </tr>\n",
       "    <tr>\n",
       "      <th>...</th>\n",
       "      <td>...</td>\n",
       "      <td>...</td>\n",
       "      <td>...</td>\n",
       "      <td>...</td>\n",
       "      <td>...</td>\n",
       "      <td>...</td>\n",
       "      <td>...</td>\n",
       "      <td>...</td>\n",
       "      <td>...</td>\n",
       "      <td>...</td>\n",
       "      <td>...</td>\n",
       "      <td>...</td>\n",
       "      <td>...</td>\n",
       "      <td>...</td>\n",
       "      <td>...</td>\n",
       "    </tr>\n",
       "    <tr>\n",
       "      <th>886</th>\n",
       "      <td>0</td>\n",
       "      <td>2</td>\n",
       "      <td>male</td>\n",
       "      <td>27.0</td>\n",
       "      <td>0</td>\n",
       "      <td>0</td>\n",
       "      <td>13.0000</td>\n",
       "      <td>S</td>\n",
       "      <td>Second</td>\n",
       "      <td>man</td>\n",
       "      <td>True</td>\n",
       "      <td>NaN</td>\n",
       "      <td>Southampton</td>\n",
       "      <td>no</td>\n",
       "      <td>True</td>\n",
       "    </tr>\n",
       "    <tr>\n",
       "      <th>887</th>\n",
       "      <td>1</td>\n",
       "      <td>1</td>\n",
       "      <td>female</td>\n",
       "      <td>19.0</td>\n",
       "      <td>0</td>\n",
       "      <td>0</td>\n",
       "      <td>30.0000</td>\n",
       "      <td>S</td>\n",
       "      <td>First</td>\n",
       "      <td>woman</td>\n",
       "      <td>False</td>\n",
       "      <td>B</td>\n",
       "      <td>Southampton</td>\n",
       "      <td>yes</td>\n",
       "      <td>True</td>\n",
       "    </tr>\n",
       "    <tr>\n",
       "      <th>888</th>\n",
       "      <td>0</td>\n",
       "      <td>3</td>\n",
       "      <td>female</td>\n",
       "      <td>NaN</td>\n",
       "      <td>1</td>\n",
       "      <td>2</td>\n",
       "      <td>23.4500</td>\n",
       "      <td>S</td>\n",
       "      <td>Third</td>\n",
       "      <td>woman</td>\n",
       "      <td>False</td>\n",
       "      <td>NaN</td>\n",
       "      <td>Southampton</td>\n",
       "      <td>no</td>\n",
       "      <td>False</td>\n",
       "    </tr>\n",
       "    <tr>\n",
       "      <th>889</th>\n",
       "      <td>1</td>\n",
       "      <td>1</td>\n",
       "      <td>male</td>\n",
       "      <td>26.0</td>\n",
       "      <td>0</td>\n",
       "      <td>0</td>\n",
       "      <td>30.0000</td>\n",
       "      <td>C</td>\n",
       "      <td>First</td>\n",
       "      <td>man</td>\n",
       "      <td>True</td>\n",
       "      <td>C</td>\n",
       "      <td>Cherbourg</td>\n",
       "      <td>yes</td>\n",
       "      <td>True</td>\n",
       "    </tr>\n",
       "    <tr>\n",
       "      <th>890</th>\n",
       "      <td>0</td>\n",
       "      <td>3</td>\n",
       "      <td>male</td>\n",
       "      <td>32.0</td>\n",
       "      <td>0</td>\n",
       "      <td>0</td>\n",
       "      <td>7.7500</td>\n",
       "      <td>Q</td>\n",
       "      <td>Third</td>\n",
       "      <td>man</td>\n",
       "      <td>True</td>\n",
       "      <td>NaN</td>\n",
       "      <td>Queenstown</td>\n",
       "      <td>no</td>\n",
       "      <td>True</td>\n",
       "    </tr>\n",
       "  </tbody>\n",
       "</table>\n",
       "<p>891 rows × 15 columns</p>\n",
       "</div>"
      ],
      "text/plain": [
       "     survived  pclass     sex   age  sibsp  parch     fare embarked   class  \\\n",
       "0           0       3    male  22.0      1      0   7.2500        S   Third   \n",
       "1           1       1  female  38.0      1      0  71.2833        C   First   \n",
       "2           1       3  female  26.0      0      0   7.9250        S   Third   \n",
       "3           1       1  female  35.0      1      0  53.1000        S   First   \n",
       "4           0       3    male  35.0      0      0   8.0500        S   Third   \n",
       "..        ...     ...     ...   ...    ...    ...      ...      ...     ...   \n",
       "886         0       2    male  27.0      0      0  13.0000        S  Second   \n",
       "887         1       1  female  19.0      0      0  30.0000        S   First   \n",
       "888         0       3  female   NaN      1      2  23.4500        S   Third   \n",
       "889         1       1    male  26.0      0      0  30.0000        C   First   \n",
       "890         0       3    male  32.0      0      0   7.7500        Q   Third   \n",
       "\n",
       "       who  adult_male deck  embark_town alive  alone  \n",
       "0      man        True  NaN  Southampton    no  False  \n",
       "1    woman       False    C    Cherbourg   yes  False  \n",
       "2    woman       False  NaN  Southampton   yes   True  \n",
       "3    woman       False    C  Southampton   yes  False  \n",
       "4      man        True  NaN  Southampton    no   True  \n",
       "..     ...         ...  ...          ...   ...    ...  \n",
       "886    man        True  NaN  Southampton    no   True  \n",
       "887  woman       False    B  Southampton   yes   True  \n",
       "888  woman       False  NaN  Southampton    no  False  \n",
       "889    man        True    C    Cherbourg   yes   True  \n",
       "890    man        True  NaN   Queenstown    no   True  \n",
       "\n",
       "[891 rows x 15 columns]"
      ]
     },
     "execution_count": 24,
     "metadata": {},
     "output_type": "execute_result"
    }
   ],
   "source": [
    "dfTitanic = pandas.read_csv('https://raw.githubusercontent.com/mwaskom/seaborn-data/master/titanic.csv')\n",
    "dfTitanic"
   ]
  },
  {
   "cell_type": "code",
   "execution_count": 25,
   "id": "040de157",
   "metadata": {
    "ExecuteTime": {
     "end_time": "2023-09-30T15:22:10.695909Z",
     "start_time": "2023-09-30T15:22:10.684877Z"
    }
   },
   "outputs": [
    {
     "data": {
      "text/html": [
       "<div>\n",
       "<style scoped>\n",
       "    .dataframe tbody tr th:only-of-type {\n",
       "        vertical-align: middle;\n",
       "    }\n",
       "\n",
       "    .dataframe tbody tr th {\n",
       "        vertical-align: top;\n",
       "    }\n",
       "\n",
       "    .dataframe thead th {\n",
       "        text-align: right;\n",
       "    }\n",
       "</style>\n",
       "<table border=\"1\" class=\"dataframe\">\n",
       "  <thead>\n",
       "    <tr style=\"text-align: right;\">\n",
       "      <th>pclass</th>\n",
       "      <th>1</th>\n",
       "      <th>2</th>\n",
       "      <th>3</th>\n",
       "    </tr>\n",
       "    <tr>\n",
       "      <th>sex</th>\n",
       "      <th></th>\n",
       "      <th></th>\n",
       "      <th></th>\n",
       "    </tr>\n",
       "  </thead>\n",
       "  <tbody>\n",
       "    <tr>\n",
       "      <th>female</th>\n",
       "      <td>94</td>\n",
       "      <td>76</td>\n",
       "      <td>144</td>\n",
       "    </tr>\n",
       "    <tr>\n",
       "      <th>male</th>\n",
       "      <td>122</td>\n",
       "      <td>108</td>\n",
       "      <td>347</td>\n",
       "    </tr>\n",
       "  </tbody>\n",
       "</table>\n",
       "</div>"
      ],
      "text/plain": [
       "pclass    1    2    3\n",
       "sex                  \n",
       "female   94   76  144\n",
       "male    122  108  347"
      ]
     },
     "execution_count": 25,
     "metadata": {},
     "output_type": "execute_result"
    }
   ],
   "source": [
    "ct = pandas.crosstab( index = dfTitanic[\"sex\"], columns = dfTitanic[\"pclass\"] )\n",
    "ct"
   ]
  },
  {
   "cell_type": "markdown",
   "id": "f6c181b0cd2dc97",
   "metadata": {
    "collapsed": false
   },
   "source": [
    "Here we define an LLM function for obtaining Mermaid code:"
   ]
  },
  {
   "cell_type": "code",
   "execution_count": 26,
   "id": "5cafb540cefc236b",
   "metadata": {
    "ExecuteTime": {
     "end_time": "2023-09-30T15:22:10.696180Z",
     "start_time": "2023-09-30T15:22:10.692406Z"
    },
    "collapsed": false
   },
   "outputs": [],
   "source": [
    "fjmmd = llm_function(lambda a, b: f\"Transform the JSON data {a} into a Mermaid {b} spec.\")"
   ]
  },
  {
   "cell_type": "markdown",
   "id": "0fa7ef93",
   "metadata": {},
   "source": [
    "Here we convert the contingency matrix into a flow chart:"
   ]
  },
  {
   "cell_type": "code",
   "execution_count": 27,
   "id": "4f3375880fa36c92",
   "metadata": {
    "ExecuteTime": {
     "end_time": "2023-09-30T15:22:11.605903Z",
     "start_time": "2023-09-30T15:22:10.695245Z"
    },
    "collapsed": false
   },
   "outputs": [
    {
     "name": "stdout",
     "output_type": "stream",
     "text": [
      "\n",
      "\n",
      "graph TD;\n",
      "    A[1] --> B[{\"female\": 94, \"male\": 122}]\n",
      "    A --> C[{\"female\": 76, \"male\": 108}]\n",
      "    A --> D[{\"female\": 144, \"male\": 347}]\n"
     ]
    }
   ],
   "source": [
    "print(fjmmd(json.dumps(ct.to_dict()), \"flow chart\"))"
   ]
  },
  {
   "cell_type": "markdown",
   "id": "e062d9f14e457a5f",
   "metadata": {
    "collapsed": false
   },
   "source": [
    "Here is the corresponding Mermaid diagram:\n",
    "\n",
    "[![](https://mermaid.ink/img/pako:eNpF0L0OgjAUBeBXae6ECSTyE9EOJiAouupGHRq4CNFWgjAYwrvbUIHt9pybL217yN45AoVHw-uS3CImg9S-E8vak7AvUPAXUrLzTKIn23EGJsOxPxi6X01BZPyPQepoIp4JfzMT660i4rE_LoQOTgvhaiKZCdubr-F6vjKSceG8GDq4TAaYILARvMrVA3smCWHQliiQAVVjzpsnAyYHtce79n39ygxo23RoQlfnvMWo4upfBNCCvz44_ADj6VrB?type=png)](https://mermaid.live/edit#pako:eNpF0L0OgjAUBeBXae6ECSTyE9EOJiAouupGHRq4CNFWgjAYwrvbUIHt9pybL217yN45AoVHw-uS3CImg9S-E8vak7AvUPAXUrLzTKIn23EGJsOxPxi6X01BZPyPQepoIp4JfzMT660i4rE_LoQOTgvhaiKZCdubr-F6vjKSceG8GDq4TAaYILARvMrVA3smCWHQliiQAVVjzpsnAyYHtce79n39ygxo23RoQlfnvMWo4upfBNCCvz44_ADj6VrB)"
   ]
  },
  {
   "cell_type": "markdown",
   "id": "93d86940",
   "metadata": {},
   "source": [
    "Here we convert the contingency matrix into a state diagram :"
   ]
  },
  {
   "cell_type": "code",
   "execution_count": 28,
   "id": "4f55d2b6",
   "metadata": {
    "ExecuteTime": {
     "end_time": "2023-09-30T15:22:12.637331Z",
     "start_time": "2023-09-30T15:22:11.612047Z"
    },
    "incorrectly_encoded_metadata": ", output.prompt=NONE, output.lang=mermaid"
   },
   "outputs": [
    {
     "name": "stdout",
     "output_type": "stream",
     "text": [
      "\n",
      "\n",
      "stateDiagram\n",
      "    [*] --> 1\n",
      "    1 --> 2\n",
      "    2 --> 3\n",
      "    3 --> [*]\n",
      "\n",
      "    state 1 {\n",
      "        [*] --> female: 94\n",
      "        female --> male: 122\n",
      "    }\n",
      "\n",
      "    state 2 {\n",
      "        [*] --> female: 76\n",
      "        female --> male: 108\n",
      "    }\n",
      "\n",
      "    state 3 {\n",
      "        [*] --> female: 144\n",
      "        female --> male: 347\n",
      "    }\n"
     ]
    }
   ],
   "source": [
    "print(fjmmd(json.dumps(ct.to_dict()), 'state diagram'))"
   ]
  },
  {
   "cell_type": "markdown",
   "id": "7571993252556200",
   "metadata": {
    "collapsed": false
   },
   "source": [
    "Here is the corresponding Mermaid diagram:\n",
    "\n",
    "[![](https://mermaid.ink/img/pako:eNpVz7EOgyAQgOFXITdrUpTUlqFT36Ary0WO1gSwQRga47sXo03xpsuXf7iboR81gQTllZ8iRroP-AzolGd5OKvrGzPk0BKT7CpK3pE3zabNMe7OJf_i02XT9hhzIUrftRXdehdU4Cg4HHQ-dF47BfFFjhTIvGoymGxU-Yclp5ji-Pj4HmQMiSpIb_1_C6RBO9HyBeefRxI?type=png)](https://mermaid.live/edit#pako:eNpVz7EOgyAQgOFXITdrUpTUlqFT36Ary0WO1gSwQRga47sXo03xpsuXf7iboR81gQTllZ8iRroP-AzolGd5OKvrGzPk0BKT7CpK3pE3zabNMe7OJf_i02XT9hhzIUrftRXdehdU4Cg4HHQ-dF47BfFFjhTIvGoymGxU-Yclp5ji-Pj4HmQMiSpIb_1_C6RBO9HyBeefRxI)"
   ]
  },
  {
   "cell_type": "markdown",
   "id": "ebcb9e3d",
   "metadata": {},
   "source": [
    "### Exercise questions\n",
    "\n",
    "- To which parts of the flowchart above the workflow in this section corresponds to?\n",
    "- What is preferable: one LLM-function with complicated prompt and argument specs, \n",
    "  or several LLM-functions with simply structured prompts and arguments? \n",
    "\n",
    "------\n",
    "\n",
    "## Conversion to Python objects\n",
    "\n",
    "**Workflow:** We want to retrieve different physical quantities and make corresponding Python objects.\n",
    "(For further scientific computations with them.)\n",
    "\n",
    "The following LLM example function transforms different kinds of physical quantity specs into Python code\n",
    "for the package [\"Astropy\"](https://github.com/astropy/astropy), [APYp1]:"
   ]
  },
  {
   "cell_type": "code",
   "execution_count": 29,
   "id": "431f0457",
   "metadata": {
    "ExecuteTime": {
     "end_time": "2023-09-30T15:22:12.637695Z",
     "start_time": "2023-09-30T15:22:12.623454Z"
    },
    "collapsed": false
   },
   "outputs": [],
   "source": [
    "pu = llm_example_function(\n",
    "    {'11,042 m/s' : '11_042 * u.m / u.s\")', \n",
    "     '4,380,042 J' : '4_380_042 * u.J\")', \n",
    "     '304.342 m/s^2' : '304.342 * u.m / u.s**2'}, \n",
    "    e = 'PaLM')"
   ]
  },
  {
   "cell_type": "markdown",
   "id": "59a6fb65",
   "metadata": {},
   "source": [
    "Here is an example of speed query function:"
   ]
  },
  {
   "cell_type": "code",
   "execution_count": 30,
   "id": "ae672cf2",
   "metadata": {
    "ExecuteTime": {
     "end_time": "2023-09-30T15:22:12.684809Z",
     "start_time": "2023-09-30T15:22:12.626701Z"
    }
   },
   "outputs": [],
   "source": [
    "fs = llm_function(lambda a, b: f\"What is the average speed of {a} in the units of {b}?\", e = 'PaLM')"
   ]
  },
  {
   "cell_type": "markdown",
   "id": "c387342e",
   "metadata": {},
   "source": [
    "Here is a concrete query:"
   ]
  },
  {
   "cell_type": "code",
   "execution_count": 31,
   "id": "a10845d3",
   "metadata": {
    "ExecuteTime": {
     "end_time": "2023-09-30T15:22:13.257824Z",
     "start_time": "2023-09-30T15:22:12.634079Z"
    }
   },
   "outputs": [
    {
     "data": {
      "text/plain": [
       "'11,186 m/s'"
      ]
     },
     "execution_count": 31,
     "metadata": {},
     "output_type": "execute_result"
    }
   ],
   "source": [
    "rs1 = fs('rocket leaving Earth', 'meters per second')\n",
    "rs1"
   ]
  },
  {
   "cell_type": "markdown",
   "id": "8b4194bf",
   "metadata": {},
   "source": [
    "Here we convert the LLM output into Python code for making a unit object:"
   ]
  },
  {
   "cell_type": "code",
   "execution_count": 32,
   "id": "fd318371",
   "metadata": {
    "ExecuteTime": {
     "end_time": "2023-09-30T15:22:13.730441Z",
     "start_time": "2023-09-30T15:22:13.255563Z"
    }
   },
   "outputs": [
    {
     "data": {
      "text/plain": [
       "'11186 * u.m / u.s'"
      ]
     },
     "execution_count": 32,
     "metadata": {},
     "output_type": "execute_result"
    }
   ],
   "source": [
    "rs2 = pu(rs1)\n",
    "rs2"
   ]
  },
  {
   "cell_type": "markdown",
   "id": "45c55f80",
   "metadata": {},
   "source": [
    "Here we evaluate the Python code (into an object):"
   ]
  },
  {
   "cell_type": "code",
   "execution_count": 34,
   "id": "43a211c7",
   "metadata": {
    "ExecuteTime": {
     "end_time": "2023-09-30T15:22:13.916334Z",
     "start_time": "2023-09-30T15:22:13.729240Z"
    }
   },
   "outputs": [
    {
     "data": {
      "text/latex": [
       "$11186 \\; \\mathrm{\\frac{m}{s}}$"
      ],
      "text/plain": [
       "<Quantity 11186. m / s>"
      ]
     },
     "execution_count": 34,
     "metadata": {},
     "output_type": "execute_result"
    }
   ],
   "source": [
    "import astropy.units as u\n",
    "\n",
    "rs3 = eval(rs2)\n",
    "rs3"
   ]
  },
  {
   "cell_type": "markdown",
   "id": "2863b2d9",
   "metadata": {},
   "source": [
    "Of course, the steps above can be combined into one function.\n",
    "In general, though, care should be taken to handle or prevent situations in which function inputs and outputs\n",
    "do not agree with each other.\n",
    "\n",
    "### Exercise questions\n",
    "\n",
    "- Can you write a Python function that combines the LLM-functions mentioned above?\n",
    "- What kind of computations involve the discussed unit objects?\n",
    "\n",
    "------\n",
    "\n",
    "## Chemical formulas\n",
    "\n",
    "**Workflow:** Assume that we want to:\n",
    "\n",
    "- Obtain a list of Stoichiometry equations according to some criteria\n",
    "- Evaluate the consistency of the equations\n",
    "- Find the molecular masses of the components for each equation\n",
    "- Tabulate the formulas and found component molecular masses\n",
    "\n",
    "Here we define LLM functions for retrieving chemical formulas with specified species:"
   ]
  },
  {
   "cell_type": "code",
   "execution_count": 35,
   "id": "d3c31b85",
   "metadata": {
    "ExecuteTime": {
     "end_time": "2023-09-30T15:22:13.916507Z",
     "start_time": "2023-09-30T15:22:13.914926Z"
    }
   },
   "outputs": [],
   "source": [
    "cfn = llm_function( lambda a, b: f\"Give a list of {a} chemical stoichiometry formulas that include {b}. Give the only formulas. Put the result in JSON format.\", \n",
    "                    e = 'OpenAI', \n",
    "                    form = sub_parser('JSON'))"
   ]
  },
  {
   "cell_type": "markdown",
   "id": "aa037a06",
   "metadata": {},
   "source": [
    "Here is a query:"
   ]
  },
  {
   "cell_type": "code",
   "execution_count": 36,
   "id": "1638a6fc",
   "metadata": {
    "ExecuteTime": {
     "end_time": "2023-09-30T15:22:14.862249Z",
     "start_time": "2023-09-30T15:22:13.917727Z"
    }
   },
   "outputs": [
    {
     "data": {
      "text/plain": [
       "['\\n\\n',\n",
       " {'1': 'S + O2 -> SO2',\n",
       "  '2': '2H2S + 3O2 -> 2H2O + 2SO2',\n",
       "  '3': 'FeS2 + 7O2 -> Fe2O3 + 2SO2'},\n",
       " '']"
      ]
     },
     "execution_count": 36,
     "metadata": {},
     "output_type": "execute_result"
    }
   ],
   "source": [
    "chemRes1 = cfn(3, 'sulfur')\n",
    "chemRes1"
   ]
  },
  {
   "cell_type": "markdown",
   "id": "db2e9300",
   "metadata": {},
   "source": [
    "Let us convince ourselves that we got a list of strings (or not):"
   ]
  },
  {
   "cell_type": "code",
   "execution_count": 41,
   "id": "0e53c8cb",
   "metadata": {
    "ExecuteTime": {
     "end_time": "2023-09-30T15:22:14.881820Z",
     "start_time": "2023-09-30T15:22:14.856432Z"
    }
   },
   "outputs": [
    {
     "data": {
      "text/plain": [
       "Tuple([Atom(<class 'str'>), Assoc(Atom(<class 'str'>), Atom(<class 'str'>), 3), Atom(<class 'str'>)])"
      ]
     },
     "execution_count": 41,
     "metadata": {},
     "output_type": "execute_result"
    }
   ],
   "source": [
    "deduce_type(chemRes1)"
   ]
  },
  {
   "cell_type": "markdown",
   "id": "5c89d9e9",
   "metadata": {},
   "source": []
  },
  {
   "cell_type": "markdown",
   "id": "e5cde1c2",
   "metadata": {},
   "source": [
    "**Remark:** If the column \"balancing\" shows two different numbers separated by \"=>\" that \n",
    "means the LLM hallucinated an inconsistent chemical reaction equation.\n",
    "(Because the LLM does not know, or disregarded for some reason, the \n",
    "[law of conservation of mass](https://en.wikipedia.org/wiki/Conservation_of_mass).) \n",
    "\n",
    "Here we define a function that parses chemical components using [\"chempy\"](https://pypi.org/project/chempy/), [BDp1]:"
   ]
  },
  {
   "cell_type": "code",
   "execution_count": 42,
   "id": "c3bd1f05",
   "metadata": {
    "ExecuteTime": {
     "end_time": "2023-09-30T15:22:15.073344Z",
     "start_time": "2023-09-30T15:22:14.863146Z"
    }
   },
   "outputs": [],
   "source": [
    "from chempy import Substance\n",
    "\n",
    "def chem_component(x):\n",
    "  try:\n",
    "    res = Substance.from_formula(x)\n",
    "    return res.mass\n",
    "  except:\n",
    "    return None"
   ]
  },
  {
   "cell_type": "markdown",
   "id": "d2b1edf1d5de72f0",
   "metadata": {
    "collapsed": false
   },
   "source": [
    "Here we split strings of the equations:"
   ]
  },
  {
   "cell_type": "code",
   "execution_count": 43,
   "id": "b2b9e296debf5f4",
   "metadata": {
    "ExecuteTime": {
     "end_time": "2023-09-30T15:22:15.076959Z",
     "start_time": "2023-09-30T15:22:15.074558Z"
    },
    "collapsed": false
   },
   "outputs": [
    {
     "data": {
      "text/plain": [
       "{'1': ['S ', ' O2 ', ' SO2'],\n",
       " '2': ['2H2S ', ' 3O2 ', ' 2H2O ', ' 2SO2'],\n",
       " '3': ['FeS2 ', ' 7O2 ', ' Fe2O3 ', ' 2SO2']}"
      ]
     },
     "execution_count": 43,
     "metadata": {},
     "output_type": "execute_result"
    }
   ],
   "source": [
    "import re\n",
    "\n",
    "{k: re.split(r\"->|\\+\", v) for k, v in chemRes1[1].items()}"
   ]
  },
  {
   "cell_type": "markdown",
   "id": "9e1fdf0e673b8c08",
   "metadata": {
    "collapsed": false
   },
   "source": [
    "Here for each formula we extract the chemical components and find the corresponding molecular masses:"
   ]
  },
  {
   "cell_type": "code",
   "execution_count": 44,
   "id": "5f36e4029d380418",
   "metadata": {
    "ExecuteTime": {
     "end_time": "2023-09-30T15:22:15.088450Z",
     "start_time": "2023-09-30T15:22:15.078137Z"
    },
    "collapsed": false
   },
   "outputs": [
    {
     "data": {
      "text/plain": [
       "{'1': [32.06, 31.998, 64.058],\n",
       " '2': [None, None, None, None],\n",
       " '3': [119.965, None, 159.687, None]}"
      ]
     },
     "execution_count": 44,
     "metadata": {},
     "output_type": "execute_result"
    }
   ],
   "source": [
    "{k: [ chem_component(x) for x in re.split(r\"\\->|\\+\", v)] for k, v in chemRes1[1].items()}"
   ]
  },
  {
   "cell_type": "markdown",
   "id": "14daeb53d7d42284",
   "metadata": {
    "collapsed": false
   },
   "source": [
    "Since parsing in the statement above is not able to find chemical terms (i.e. `factor * <formula>`) let us write a dedicated function that givens records for all chemical terms in a chemical expression strings:"
   ]
  },
  {
   "cell_type": "code",
   "execution_count": 45,
   "id": "bd5206ecaca59e05",
   "metadata": {
    "ExecuteTime": {
     "end_time": "2023-09-30T15:22:15.092021Z",
     "start_time": "2023-09-30T15:22:15.086956Z"
    },
    "collapsed": false
   },
   "outputs": [],
   "source": [
    "def chem_masses_records(chemExpr):\n",
    "    chemMasses = []\n",
    "    for s in re.finditer(r'(\\d*)([A-Z]\\S*)', chemExpr):\n",
    "        term = ''.join(s.groups())\n",
    "        factor = 1\n",
    "        if len(s.groups()[0]) > 0:\n",
    "            factor = eval(s.groups()[0])\n",
    "        mass = chem_component(s.groups()[1])\n",
    "        record = {\"term\" : term,  \"factor\" : factor, \"formula\" : s.groups()[1]}\n",
    "        if mass is None:\n",
    "            chemMasses = chemMasses + [record | {\"mass\" : None},]\n",
    "        else:\n",
    "            chemMasses = chemMasses + [record | {\"mass\" : factor * mass}, ]   \n",
    "            \n",
    "    return chemMasses"
   ]
  },
  {
   "cell_type": "markdown",
   "id": "9e47963de625a49f",
   "metadata": {
    "collapsed": false
   },
   "source": [
    "Here is an example application:"
   ]
  },
  {
   "cell_type": "code",
   "execution_count": 46,
   "id": "502a64a1eeced160",
   "metadata": {
    "ExecuteTime": {
     "end_time": "2023-09-30T15:22:15.093527Z",
     "start_time": "2023-09-30T15:22:15.090354Z"
    },
    "collapsed": false
   },
   "outputs": [
    {
     "data": {
      "text/plain": [
       "[{'term': '2SO2', 'factor': 2, 'formula': 'SO2', 'mass': 128.116}]"
      ]
     },
     "execution_count": 46,
     "metadata": {},
     "output_type": "execute_result"
    }
   ],
   "source": [
    "chem_masses_records(\"2SO2\")"
   ]
  },
  {
   "cell_type": "markdown",
   "id": "25a0abbe5eb77b82",
   "metadata": {
    "collapsed": false
   },
   "source": [
    "Here for each LLM generated stoichiometry formula we find the masses of the components of Left Hand Side (LHS) and Right Hand Side (RHS):"
   ]
  },
  {
   "cell_type": "code",
   "execution_count": 47,
   "id": "36e1989db2216cc7",
   "metadata": {
    "ExecuteTime": {
     "end_time": "2023-09-30T15:42:31.233780Z",
     "start_time": "2023-09-30T15:42:31.203287Z"
    },
    "collapsed": false
   },
   "outputs": [
    {
     "data": {
      "text/html": [
       "<div>\n",
       "<style scoped>\n",
       "    .dataframe tbody tr th:only-of-type {\n",
       "        vertical-align: middle;\n",
       "    }\n",
       "\n",
       "    .dataframe tbody tr th {\n",
       "        vertical-align: top;\n",
       "    }\n",
       "\n",
       "    .dataframe thead th {\n",
       "        text-align: right;\n",
       "    }\n",
       "</style>\n",
       "<table border=\"1\" class=\"dataframe\">\n",
       "  <thead>\n",
       "    <tr style=\"text-align: right;\">\n",
       "      <th></th>\n",
       "      <th>eq</th>\n",
       "      <th>side</th>\n",
       "      <th>term</th>\n",
       "      <th>factor</th>\n",
       "      <th>formula</th>\n",
       "      <th>mass</th>\n",
       "    </tr>\n",
       "  </thead>\n",
       "  <tbody>\n",
       "    <tr>\n",
       "      <th>2</th>\n",
       "      <td>2H2S + 3O2 -&gt; 2H2O + 2SO2</td>\n",
       "      <td>LHS</td>\n",
       "      <td>2H2S</td>\n",
       "      <td>2</td>\n",
       "      <td>H2S</td>\n",
       "      <td>68.152</td>\n",
       "    </tr>\n",
       "    <tr>\n",
       "      <th>3</th>\n",
       "      <td>2H2S + 3O2 -&gt; 2H2O + 2SO2</td>\n",
       "      <td>LHS</td>\n",
       "      <td>3O2</td>\n",
       "      <td>3</td>\n",
       "      <td>O2</td>\n",
       "      <td>95.994</td>\n",
       "    </tr>\n",
       "    <tr>\n",
       "      <th>7</th>\n",
       "      <td>2H2S + 3O2 -&gt; 2H2O + 2SO2</td>\n",
       "      <td>RHS</td>\n",
       "      <td>2H2O</td>\n",
       "      <td>2</td>\n",
       "      <td>H2O</td>\n",
       "      <td>36.030</td>\n",
       "    </tr>\n",
       "    <tr>\n",
       "      <th>8</th>\n",
       "      <td>2H2S + 3O2 -&gt; 2H2O + 2SO2</td>\n",
       "      <td>RHS</td>\n",
       "      <td>2SO2</td>\n",
       "      <td>2</td>\n",
       "      <td>SO2</td>\n",
       "      <td>128.116</td>\n",
       "    </tr>\n",
       "    <tr>\n",
       "      <th>4</th>\n",
       "      <td>FeS2 + 7O2 -&gt; Fe2O3 + 2SO2</td>\n",
       "      <td>LHS</td>\n",
       "      <td>FeS2</td>\n",
       "      <td>1</td>\n",
       "      <td>FeS2</td>\n",
       "      <td>119.965</td>\n",
       "    </tr>\n",
       "    <tr>\n",
       "      <th>5</th>\n",
       "      <td>FeS2 + 7O2 -&gt; Fe2O3 + 2SO2</td>\n",
       "      <td>LHS</td>\n",
       "      <td>7O2</td>\n",
       "      <td>7</td>\n",
       "      <td>O2</td>\n",
       "      <td>223.986</td>\n",
       "    </tr>\n",
       "    <tr>\n",
       "      <th>9</th>\n",
       "      <td>FeS2 + 7O2 -&gt; Fe2O3 + 2SO2</td>\n",
       "      <td>RHS</td>\n",
       "      <td>Fe2O3</td>\n",
       "      <td>1</td>\n",
       "      <td>Fe2O3</td>\n",
       "      <td>159.687</td>\n",
       "    </tr>\n",
       "    <tr>\n",
       "      <th>10</th>\n",
       "      <td>FeS2 + 7O2 -&gt; Fe2O3 + 2SO2</td>\n",
       "      <td>RHS</td>\n",
       "      <td>2SO2</td>\n",
       "      <td>2</td>\n",
       "      <td>SO2</td>\n",
       "      <td>128.116</td>\n",
       "    </tr>\n",
       "    <tr>\n",
       "      <th>0</th>\n",
       "      <td>S + O2 -&gt; SO2</td>\n",
       "      <td>LHS</td>\n",
       "      <td>S</td>\n",
       "      <td>1</td>\n",
       "      <td>S</td>\n",
       "      <td>32.060</td>\n",
       "    </tr>\n",
       "    <tr>\n",
       "      <th>1</th>\n",
       "      <td>S + O2 -&gt; SO2</td>\n",
       "      <td>LHS</td>\n",
       "      <td>O2</td>\n",
       "      <td>1</td>\n",
       "      <td>O2</td>\n",
       "      <td>31.998</td>\n",
       "    </tr>\n",
       "    <tr>\n",
       "      <th>6</th>\n",
       "      <td>S + O2 -&gt; SO2</td>\n",
       "      <td>RHS</td>\n",
       "      <td>SO2</td>\n",
       "      <td>1</td>\n",
       "      <td>SO2</td>\n",
       "      <td>64.058</td>\n",
       "    </tr>\n",
       "  </tbody>\n",
       "</table>\n",
       "</div>"
      ],
      "text/plain": [
       "                            eq side   term  factor formula     mass\n",
       "2    2H2S + 3O2 -> 2H2O + 2SO2  LHS   2H2S       2     H2S   68.152\n",
       "3    2H2S + 3O2 -> 2H2O + 2SO2  LHS    3O2       3      O2   95.994\n",
       "7    2H2S + 3O2 -> 2H2O + 2SO2  RHS   2H2O       2     H2O   36.030\n",
       "8    2H2S + 3O2 -> 2H2O + 2SO2  RHS   2SO2       2     SO2  128.116\n",
       "4   FeS2 + 7O2 -> Fe2O3 + 2SO2  LHS   FeS2       1    FeS2  119.965\n",
       "5   FeS2 + 7O2 -> Fe2O3 + 2SO2  LHS    7O2       7      O2  223.986\n",
       "9   FeS2 + 7O2 -> Fe2O3 + 2SO2  RHS  Fe2O3       1   Fe2O3  159.687\n",
       "10  FeS2 + 7O2 -> Fe2O3 + 2SO2  RHS   2SO2       2     SO2  128.116\n",
       "0                S + O2 -> SO2  LHS      S       1       S   32.060\n",
       "1                S + O2 -> SO2  LHS     O2       1      O2   31.998\n",
       "6                S + O2 -> SO2  RHS    SO2       1     SO2   64.058"
      ]
     },
     "execution_count": 47,
     "metadata": {},
     "output_type": "execute_result"
    }
   ],
   "source": [
    "pres = [ [ {\"eq\" : v, \"side\": \"LHS\"} | rec for rec in chem_masses_records(v.split(\"->\")[0])] for k, v in chemRes1[1].items()]\n",
    "pres2 = [item for sl in pres for item in sl]\n",
    "pres = [ [ {\"eq\" : v, \"side\": \"RHS\"} | rec for rec in chem_masses_records(v.split(\"->\")[1])] for k, v in chemRes1[1].items()]\n",
    "pres3 = [item for sl in pres for item in sl]\n",
    "pres4 = pres2 + pres3\n",
    "dfEqs = pandas.DataFrame(pres4)\n",
    "dfEqs = dfEqs.sort_values( [\"eq\", \"side\"] )\n",
    "dfEqs"
   ]
  },
  {
   "cell_type": "markdown",
   "id": "9118cf37d3a989de",
   "metadata": {
    "collapsed": false
   },
   "source": [
    "Here we can see are all of the formulas (hallucinated by the LLMs) balanced:"
   ]
  },
  {
   "cell_type": "code",
   "execution_count": 48,
   "id": "5e3bc2e00aff15f8",
   "metadata": {
    "ExecuteTime": {
     "end_time": "2023-09-30T15:46:25.416500Z",
     "start_time": "2023-09-30T15:46:25.395823Z"
    },
    "collapsed": false
   },
   "outputs": [
    {
     "data": {
      "text/plain": [
       "eq                          side\n",
       "2H2S + 3O2 -> 2H2O + 2SO2   LHS     164.146\n",
       "                            RHS     164.146\n",
       "FeS2 + 7O2 -> Fe2O3 + 2SO2  LHS     343.951\n",
       "                            RHS     287.803\n",
       "S + O2 -> SO2               LHS      64.058\n",
       "                            RHS      64.058\n",
       "Name: mass, dtype: float64"
      ]
     },
     "execution_count": 48,
     "metadata": {},
     "output_type": "execute_result"
    }
   ],
   "source": [
    "dfEqs.groupby([\"eq\", \"side\"])[\"mass\"].agg(\"sum\")"
   ]
  },
  {
   "cell_type": "markdown",
   "id": "3fcf89932e43d1f9",
   "metadata": {},
   "source": [
    "### Alternative workflow and solution\n",
    "\n",
    "Assume that we only wanted to extract the chemical components together with their molecular masses\n",
    "from the LLM generated equations.\n",
    "\n",
    "Then we:\n",
    "- Use the function like the function `chem_component` defined above as a sub-parser in the retrieval LLM-function\n",
    "- Pick tuples (or other related objects) from the LLM function result "
   ]
  },
  {
   "cell_type": "markdown",
   "id": "5793495cd0100dfb",
   "metadata": {
    "collapsed": false
   },
   "source": [
    "Here is a sub-parser definition:"
   ]
  },
  {
   "cell_type": "code",
   "execution_count": 49,
   "id": "5c3e56b7e08faaea",
   "metadata": {
    "ExecuteTime": {
     "end_time": "2023-09-30T17:56:55.847849Z",
     "start_time": "2023-09-30T17:56:55.818165Z"
    },
    "collapsed": false
   },
   "outputs": [],
   "source": [
    "def chem_component2(x):\n",
    "    chemComps = []\n",
    "    for s in re.finditer(r'([A-Z]\\w*)', x):\n",
    "        comp = s.groups()[0]\n",
    "        res = chem_component(comp)\n",
    "        if res is not None:\n",
    "            chemComps = chemComps +[comp,]\n",
    "    return chemComps\n",
    "    "
   ]
  },
  {
   "cell_type": "markdown",
   "id": "e6fefc8b",
   "metadata": {
    "collapsed": false
   },
   "source": [
    "Here is the LLM function:"
   ]
  },
  {
   "cell_type": "code",
   "execution_count": 50,
   "id": "57aab4e8",
   "metadata": {
    "ExecuteTime": {
     "end_time": "2023-09-30T17:57:00.944351Z",
     "start_time": "2023-09-30T17:57:00.922243Z"
    }
   },
   "outputs": [],
   "source": [
    "cfnp = llm_function( lambda a, b: f\"Give {a} chemical stoichiometry formulas that includes {b}.\", llm_evaluator = 'OpenAI', form = sub_parser(chem_component2))"
   ]
  },
  {
   "cell_type": "markdown",
   "id": "71b7de20",
   "metadata": {},
   "source": [
    "Here is an invocation:"
   ]
  },
  {
   "cell_type": "code",
   "execution_count": 51,
   "id": "bf870233",
   "metadata": {
    "ExecuteTime": {
     "end_time": "2023-09-30T17:57:02.949439Z",
     "start_time": "2023-09-30T17:57:01.741554Z"
    }
   },
   "outputs": [
    {
     "data": {
      "text/plain": [
       "['H2S', 'H2S2', 'S3H3', 'S4H6']"
      ]
     },
     "execution_count": 51,
     "metadata": {},
     "output_type": "execute_result"
    }
   ],
   "source": [
    "chemRes2 = cfnp(4, 'sulfur and hydrogen')\n",
    "chemRes2"
   ]
  },
  {
   "cell_type": "markdown",
   "id": "a196f044835966e0",
   "metadata": {},
   "source": [
    "### Exercise questions\n",
    "\n",
    "- What is a good approach to evaluate the ability of LLMs to respect the conservation of mass law?\n",
    "- Is it better for that evaluation to use predominantly Python code or mostly LLM-functions?"
   ]
  },
  {
   "cell_type": "markdown",
   "id": "12ef26b4",
   "metadata": {},
   "source": [
    "------\n",
    "\n",
    "## Named entity recognition\n",
    "\n",
    "**Workflow:** We want to download text from the Web, extract the names of certain types of entities from it,\n",
    "and visualize relationships between them.\n",
    "\n",
    "For example, we might want to extract all album names and their release dates from\n",
    "a biographical web page of a certain music artist, and make a timeline plot."
   ]
  },
  {
   "cell_type": "code",
   "execution_count": 52,
   "id": "f36b6ae772985445",
   "metadata": {
    "ExecuteTime": {
     "end_time": "2023-09-30T15:22:16.231484Z",
     "start_time": "2023-09-30T15:22:16.210564Z"
    },
    "collapsed": false
   },
   "outputs": [],
   "source": [
    "fner = llm_function(lambda a, b: f\"Extract {a} from the text: {b} . Give the result in a JSON format\", e = 'OpenAI', form = sub_parser('JSON'))"
   ]
  },
  {
   "cell_type": "markdown",
   "id": "e6a311789af3333",
   "metadata": {},
   "source": [
    "Here is a way to get a biography and discography text data of a music artist from Wikipedia:"
   ]
  },
  {
   "cell_type": "code",
   "execution_count": 53,
   "id": "e570a3fbcd492fd4",
   "metadata": {
    "ExecuteTime": {
     "end_time": "2023-09-30T15:22:16.816721Z",
     "start_time": "2023-09-30T15:22:16.221800Z"
    },
    "collapsed": false
   },
   "outputs": [
    {
     "name": "stdout",
     "output_type": "stream",
     "text": [
      "87328\n"
     ]
    }
   ],
   "source": [
    "import urllib.request\n",
    "\n",
    "url = 'https://en.wikipedia.org/wiki/Boris_Brejcha'\n",
    "\n",
    "try:\n",
    "   with urllib.request.urlopen(url) as f:\n",
    "       text = f.read().strip().decode(\"utf-8\")\n",
    "       print(len(text))\n",
    "except urllib.error.URLError as e:\n",
    "    print(e.reason)"
   ]
  },
  {
   "cell_type": "markdown",
   "id": "f04525fbcd6b32e7",
   "metadata": {
    "collapsed": false
   },
   "source": [
    "But now we have to convert the HTML code into plain text, *and* the text is too large\n",
    "to process all at once with LLMs. (Currently LLMs have ≈ 4096 ± 2048 input tokens limits.)\n",
    "\n",
    "**Remark:** A more completely worked out workflow would have included \n",
    "the breaking up of the text into suitably sized chunks, and combining the LLM processed results.\n",
    "\n",
    "Instead, we are going to ask an LLM to produce artist's bio and discography and then \n",
    "we going to pretend we got it from some repository or encyclopedia.\n",
    "\n",
    "Here we get the text:"
   ]
  },
  {
   "cell_type": "code",
   "execution_count": 54,
   "id": "599c5d0b234478c3",
   "metadata": {
    "ExecuteTime": {
     "end_time": "2023-09-30T15:22:21.597360Z",
     "start_time": "2023-09-30T15:22:16.812335Z"
    },
    "collapsed": false
   },
   "outputs": [
    {
     "name": "stdout",
     "output_type": "stream",
     "text": [
      "\n",
      "\n",
      "Boris Brejcha is a German electronic music producer and DJ. He was born on November 26, 1981 in Ludwigshafen, Germany. He started his music career in 2006 and has since become a prominent figure in the techno and minimal techno scene.\n",
      "\n",
      "Brejcha's music is characterized by a fusion of techno, minimal, and electro elements, often incorporating melodic and atmospheric elements into his tracks. He is also known for his signature mask, which he wears during his performances.\n",
      "\n",
      "Brejcha has released numerous EPs and albums throughout his career, including \"Die Maschinen Sind Gestrandet\" (2007), \"My Name is\" (2010), \"Feuerfalter Part 01\" (2012), \"22\" (2014), \"Feuerfalter Part 02\" (2016), \"22: The Remixes\" (2017), and \"Feuerfalter Special Edition\" (2018).\n",
      "\n",
      "In addition to his solo work, Brejcha has collaborated with other artists such as Ann Clue, Deniz Bul, and Laura Korinth. He has also remixed tracks for artists like Stephan Bodzin, Oliver Koletzki, and Joachim Pastor.\n",
      "\n",
      "Brejcha has performed at major music festivals and events around the world, including Tomorrowland, Awakenings, and Time Warp. He also runs his own record label, Fckng Serious, which he founded in 2015.\n",
      "\n",
      "Overall, Boris Brejcha is known for his unique sound and energetic live performances, making him a highly respected and influential figure in the electronic music scene. \n"
     ]
    }
   ],
   "source": [
    "text = llm_function('', e = llm_configuration('OpenAI', max_tokens=500))(\"What is Boris Brejcha's bio and discography?\")\n",
    "print(text)"
   ]
  },
  {
   "cell_type": "markdown",
   "id": "054a301d",
   "metadata": {
    "collapsed": false
   },
   "source": [
    "Here we do Named Entity Recognition (NER) via the LLM function defined above:"
   ]
  },
  {
   "cell_type": "code",
   "execution_count": 55,
   "id": "a7535556",
   "metadata": {
    "ExecuteTime": {
     "end_time": "2023-09-30T15:22:24.065518Z",
     "start_time": "2023-09-30T15:22:21.582758Z"
    }
   },
   "outputs": [
    {
     "data": {
      "text/plain": [
       "['\\n\\n',\n",
       " {'albums': [{'name': 'Die Maschinen Sind Gestrandet', 'year': 2007},\n",
       "   {'name': 'My Name is', 'year': 2010},\n",
       "   {'name': 'Feuerfalter Part 01', 'year': 2012},\n",
       "   {'name': '22', 'year': 2014},\n",
       "   {'name': 'Feuerfalter Part 02', 'year': 2016},\n",
       "   {'name': '22: The Remixes', 'year': 2017},\n",
       "   {'name': 'Feuerfalter Special Edition', 'year': 2018}]},\n",
       " '']"
      ]
     },
     "execution_count": 55,
     "metadata": {},
     "output_type": "execute_result"
    }
   ],
   "source": [
    "albRes = fner('album names and years', text)\n",
    "albRes"
   ]
  },
  {
   "cell_type": "markdown",
   "id": "e09cfe95",
   "metadata": {},
   "source": [
    "**Remark:** LLMs can produce NER data in several different structures. \n",
    "Using the function `deduce_type` from Python's package\n",
    "[\"DataTypeSystem\"](https://pypi.org/project/DataTypeSystem/), [AAp6],\n",
    "can help required post-processing: see [AA3]."
   ]
  },
  {
   "cell_type": "markdown",
   "id": "d5f6d022f3dbb043",
   "metadata": {
    "collapsed": false
   },
   "source": [
    "Based in our study of the result data type signatures, in this workflow we process result of `fner` with this code:"
   ]
  },
  {
   "cell_type": "code",
   "execution_count": 56,
   "id": "d93a5d20c10e4287",
   "metadata": {
    "ExecuteTime": {
     "end_time": "2023-09-30T15:22:24.085925Z",
     "start_time": "2023-09-30T15:22:24.065795Z"
    },
    "collapsed": false
   },
   "outputs": [
    {
     "name": "stdout",
     "output_type": "stream",
     "text": [
      "[{'albums': [{'name': 'Die Maschinen Sind Gestrandet', 'year': 2007}, {'name': 'My Name is', 'year': 2010}, {'name': 'Feuerfalter Part 01', 'year': 2012}, {'name': '22', 'year': 2014}, {'name': 'Feuerfalter Part 02', 'year': 2016}, {'name': '22: The Remixes', 'year': 2017}, {'name': 'Feuerfalter Special Edition', 'year': 2018}]}]\n"
     ]
    }
   ],
   "source": [
    "albRes2 = [x for x in albRes if isinstance(x, dict)]\n",
    "\n",
    "if not any(isinstance(x, dict) for x in albRes2):\n",
    "    albRes2 = {'albums': albRes2}\n",
    "\n",
    "print(albRes2)\n"
   ]
  },
  {
   "cell_type": "markdown",
   "id": "676423aa",
   "metadata": {},
   "source": [
    "Here we tabulate the result:"
   ]
  },
  {
   "cell_type": "code",
   "execution_count": 57,
   "id": "a373a943",
   "metadata": {
    "ExecuteTime": {
     "end_time": "2023-09-30T15:22:24.119075Z",
     "start_time": "2023-09-30T15:22:24.076349Z"
    }
   },
   "outputs": [
    {
     "data": {
      "text/html": [
       "<div>\n",
       "<style scoped>\n",
       "    .dataframe tbody tr th:only-of-type {\n",
       "        vertical-align: middle;\n",
       "    }\n",
       "\n",
       "    .dataframe tbody tr th {\n",
       "        vertical-align: top;\n",
       "    }\n",
       "\n",
       "    .dataframe thead th {\n",
       "        text-align: right;\n",
       "    }\n",
       "</style>\n",
       "<table border=\"1\" class=\"dataframe\">\n",
       "  <thead>\n",
       "    <tr style=\"text-align: right;\">\n",
       "      <th></th>\n",
       "      <th>albums</th>\n",
       "    </tr>\n",
       "  </thead>\n",
       "  <tbody>\n",
       "    <tr>\n",
       "      <th>0</th>\n",
       "      <td>[{'name': 'Die Maschinen Sind Gestrandet', 'ye...</td>\n",
       "    </tr>\n",
       "  </tbody>\n",
       "</table>\n",
       "</div>"
      ],
      "text/plain": [
       "                                              albums\n",
       "0  [{'name': 'Die Maschinen Sind Gestrandet', 'ye..."
      ]
     },
     "execution_count": 57,
     "metadata": {},
     "output_type": "execute_result"
    }
   ],
   "source": [
    "dfDiscography = pandas.DataFrame.from_dict(albRes2)\n",
    "dfDiscography"
   ]
  },
  {
   "cell_type": "markdown",
   "id": "9903cd969e291eff",
   "metadata": {},
   "source": [
    "Here we make a Mermaid-JS timeline plot (after we have figured out the structure of LLM's function output):"
   ]
  },
  {
   "cell_type": "code",
   "execution_count": 58,
   "id": "7f3ca609d94fcd33",
   "metadata": {
    "ExecuteTime": {
     "end_time": "2023-09-30T15:22:27.061263Z",
     "start_time": "2023-09-30T15:22:24.082819Z"
    },
    "collapsed": false
   },
   "outputs": [
    {
     "name": "stdout",
     "output_type": "stream",
     "text": [
      "\n",
      "\n",
      "import matplotlib.pyplot as plt\n",
      "import json\n",
      "\n",
      "# Load the JSON data\n",
      "data = '{\"albums\": {\"0\": [{\"name\": \"Die Maschinen Sind Gestrandet\", \"year\": 2007}, {\"name\": \"My Name is\", \"year\": 2010}, {\"name\": \"Feuerfalter Part 01\", \"year\": 2012}, {\"name\": \"22\", \"year\": 2014}, {\"name\": \"Feuerfalter Part 02\", \"year\": 2016}, {\"name\": \"22: The Remixes\", \"year\": 2017}, {\"name\": \"Feuerfalter Special Edition\", \"year\": 2018}]}}'\n",
      "data = json.loads(data)\n",
      "\n",
      "# Extract the album names and years\n",
      "albums = data[\"albums\"][\"0\"]\n",
      "names = [album[\"name\"] for album in albums]\n",
      "years = [album[\"year\"] for album in albums]\n",
      "\n",
      "# Create a time line plot\n",
      "plt.plot(years, names)\n",
      "plt.xlabel(\"Year\")\n",
      "plt.ylabel(\"Album Name\")\n",
      "plt.title(\"Album Release Timeline\")\n",
      "plt.show()\n"
     ]
    }
   ],
   "source": [
    "codeRes = fjp(json.dumps(dfDiscography.to_dict()), \"time line plot\")\n",
    "print(codeRes)"
   ]
  },
  {
   "cell_type": "markdown",
   "id": "d034c333101694b9",
   "metadata": {
    "collapsed": false
   },
   "source": [
    "Here the generated code above is pasted in the code cell and evaluated: "
   ]
  },
  {
   "cell_type": "code",
   "execution_count": 59,
   "id": "7e6a4641506ae2e8",
   "metadata": {
    "ExecuteTime": {
     "end_time": "2023-09-30T15:22:27.135504Z",
     "start_time": "2023-09-30T15:22:27.071444Z"
    },
    "collapsed": false
   },
   "outputs": [
    {
     "data": {
      "image/png": "[encoded data removed]",
      "text/plain": [
       "<Figure size 640x480 with 1 Axes>"
      ]
     },
     "metadata": {},
     "output_type": "display_data"
    }
   ],
   "source": [
    "exec(codeRes.replace(\"plt.title('Album Release Timeline\", \"\"))"
   ]
  },
  {
   "cell_type": "markdown",
   "id": "a9842963",
   "metadata": {
    "collapsed": false
   },
   "source": [
    "### Exercise questions\n",
    "\n",
    "- How the LLM-functions pipeline above should be changed in order to produce timeline plots of different wars?\n",
    "- How the Python code should be changed in order to produce timeline plots with [Mermaid-JS](https://mermaid.js.org)? \n",
    "\n",
    "------\n",
    "\n",
    "## Statistics of output data types\n",
    "\n",
    "**Workflow:** We want to see and evaluate the distribution of data types of LLM-function results:\n",
    "1. Make a pipeline of LLM-functions\n",
    "2. Create a list of random inputs \"expected\" by the pipeline\n",
    "   - Or use the same input multiple times.\n",
    "3. Deduce the data type of each output\n",
    "4. Compute descriptive statistics\n",
    "\n",
    "**Remark:** These kind of statistical workflows can be slow and expensive.\n",
    "(With the current line-up of LLM services.)\n",
    "\n",
    "Let us reuse the workflow from the previous section and enhance it with \n",
    "data type outputs finding. More precisely we:\n",
    "1. Generate random music artist names (using an LLM query)\n",
    "2. Retrieve short biography and discography for each music artist\n",
    "3. Extract album-and-release-date data for each artist (with NER-by-LLM)\n",
    "4. Deduce the type for each output, using several different type representations\n",
    "\n",
    "The data types are investigated with the functions `deduce_type` and `record_types` of \n",
    "[\"DataTypeSystem\"](https://pypi.org/project/DataTypeSystem/), [AAp5].\n",
    "\n",
    "Here we define a data retrieval function:"
   ]
  },
  {
   "cell_type": "code",
   "execution_count": 60,
   "id": "7efab612",
   "metadata": {
    "ExecuteTime": {
     "end_time": "2023-09-30T15:22:27.138701Z",
     "start_time": "2023-09-30T15:22:27.135022Z"
    }
   },
   "outputs": [],
   "source": [
    "fdb = llm_function(lambda x: f\"What is the short biography and discography of the artist {x}?\", e = llm_configuration('PaLM', max_tokens= 500))"
   ]
  },
  {
   "cell_type": "markdown",
   "id": "ed719d33",
   "metadata": {},
   "source": [
    "Here we define (again) the NER function:"
   ]
  },
  {
   "cell_type": "code",
   "execution_count": 61,
   "id": "00e302a5",
   "metadata": {
    "ExecuteTime": {
     "end_time": "2023-09-30T15:22:27.141557Z",
     "start_time": "2023-09-30T15:22:27.137849Z"
    }
   },
   "outputs": [],
   "source": [
    "fner = llm_function(lambda a, b: f\"Extract {a} from the text: {b} . Give the result in a JSON format\", e = 'PaLM', form = sub_parser('JSON'))"
   ]
  },
  {
   "cell_type": "markdown",
   "id": "1559fb4d",
   "metadata": {},
   "source": [
    "Here we find 10 random music artists:"
   ]
  },
  {
   "cell_type": "code",
   "execution_count": 62,
   "id": "8de8b217",
   "metadata": {
    "ExecuteTime": {
     "end_time": "2023-09-30T15:22:28.792898Z",
     "start_time": "2023-09-30T15:22:27.140747Z"
    }
   },
   "outputs": [
    {
     "data": {
      "text/plain": [
       "['```json\\n[\\n  ',\n",
       " {'name': 'Taylor Swift'},\n",
       " ',\\n  ',\n",
       " {'name': 'Adele'},\n",
       " ',\\n  ',\n",
       " {'name': 'Ed Sheeran'},\n",
       " ',\\n  ',\n",
       " {'name': 'Justin Bieber'},\n",
       " ',\\n  ',\n",
       " {'name': 'Rihanna'},\n",
       " ',\\n  ',\n",
       " {'name': 'Katy Perry'},\n",
       " ',\\n  ',\n",
       " {'name': 'Lady Gaga'},\n",
       " ',\\n  ',\n",
       " {'name': 'Bruno Mars'},\n",
       " ',\\n  ',\n",
       " {'name': 'The Weeknd'},\n",
       " ',\\n  ',\n",
       " {'name': 'Kendrick Lamar'},\n",
       " '\\n]\\n```']"
      ]
     },
     "execution_count": 62,
     "metadata": {},
     "output_type": "execute_result"
    }
   ],
   "source": [
    "artistNames = llm_function('',e='PaLM')(\"Give 10 random music artist names in a list in JSON format.\", \n",
    "                                        form = sub_parser('JSON'))\n",
    "artistNames"
   ]
  },
  {
   "cell_type": "code",
   "execution_count": 63,
   "id": "e36dd8bb5dc29f82",
   "metadata": {
    "ExecuteTime": {
     "end_time": "2023-09-30T15:22:28.813518Z",
     "start_time": "2023-09-30T15:22:28.790855Z"
    },
    "collapsed": false
   },
   "outputs": [
    {
     "data": {
      "text/plain": [
       "['Taylor Swift',\n",
       " 'Adele',\n",
       " 'Ed Sheeran',\n",
       " 'Justin Bieber',\n",
       " 'Rihanna',\n",
       " 'Katy Perry',\n",
       " 'Lady Gaga',\n",
       " 'Bruno Mars',\n",
       " 'The Weeknd',\n",
       " 'Kendrick Lamar']"
      ]
     },
     "execution_count": 63,
     "metadata": {},
     "output_type": "execute_result"
    }
   ],
   "source": [
    "artistNames2 = [list(item.items())[0][1] for item in artistNames if isinstance(item, dict)]\n",
    "artistNames2"
   ]
  },
  {
   "cell_type": "markdown",
   "id": "67eb22ef",
   "metadata": {},
   "source": [
    "Here is a loop that generates the biographies and does NER over them:"
   ]
  },
  {
   "cell_type": "code",
   "execution_count": 64,
   "id": "ff65ac66",
   "metadata": {
    "ExecuteTime": {
     "end_time": "2023-09-30T15:23:32.401095Z",
     "start_time": "2023-09-30T15:22:28.802893Z"
    }
   },
   "outputs": [
    {
     "data": {
      "text/plain": [
       "[['```json\\n',\n",
       "  {'albums': [{'name': 'Taylor Swift', 'release_date': '2006'},\n",
       "    {'name': 'Fearless', 'release_date': '2008'},\n",
       "    {'name': 'Speak Now', 'release_date': '2010'},\n",
       "    {'name': 'Red', 'release_date': '2012'},\n",
       "    {'name': '1989', 'release_date': '2014'},\n",
       "    {'name': 'Reputation', 'release_date': '2017'},\n",
       "    {'name': 'Lover', 'release_date': '2019'},\n",
       "    {'name': 'Folklore', 'release_date': '2020'},\n",
       "    {'name': 'Evermore', 'release_date': '2020'}]},\n",
       "  '\\n```'],\n",
       " ['```json\\n',\n",
       "  {'albums': [{'name': '19', 'release_date': '2008'},\n",
       "    {'name': '21', 'release_date': '2011'},\n",
       "    {'name': '25', 'release_date': '2015'},\n",
       "    {'name': '30', 'release_date': '2021'}]},\n",
       "  '\\n```'],\n",
       " ['```json\\n',\n",
       "  {'albums': [{'name': 'No. 5 Collaborations Project', 'release_date': '2011'},\n",
       "    {'name': '+', 'release_date': '2011'},\n",
       "    {'name': '×', 'release_date': '2014'},\n",
       "    {'name': '÷', 'release_date': '2017'},\n",
       "    {'name': 'No. 6 Collaborations Project', 'release_date': '2019'},\n",
       "    {'name': '=', 'release_date': '2022'}]},\n",
       "  '\\n```'],\n",
       " ['```json\\n',\n",
       "  {'albums': [{'name': 'My World', 'release_date': 'November 2009'},\n",
       "    {'name': 'My World 2.0', 'release_date': 'March 2010'},\n",
       "    {'name': 'Believe', 'release_date': 'June 2012'},\n",
       "    {'name': 'Purpose', 'release_date': 'November 2015'},\n",
       "    {'name': 'Changes', 'release_date': 'February 2020'}]},\n",
       "  '\\n```'],\n",
       " ['```json\\n',\n",
       "  {'albums': [{'name': 'Music of the Sun', 'release_date': '2005'},\n",
       "    {'name': 'A Girl Like Me', 'release_date': '2006'},\n",
       "    {'name': 'Good Girl Gone Bad', 'release_date': '2007'},\n",
       "    {'name': 'Rated R', 'release_date': '2009'},\n",
       "    {'name': 'Loud', 'release_date': '2010'},\n",
       "    {'name': 'Talk That Talk', 'release_date': '2011'},\n",
       "    {'name': 'Unapologetic', 'release_date': '2012'},\n",
       "    {'name': 'Anti', 'release_date': '2016'},\n",
       "    {'name': 'R9', 'release_date': '2022'}]},\n",
       "  '\\n```'],\n",
       " ['```json\\n',\n",
       "  {'albums': [{'name': 'Katy Hudson', 'release_date': '2001'},\n",
       "    {'name': 'One of the Boys', 'release_date': '2008'},\n",
       "    {'name': 'Teenage Dream', 'release_date': '2010'},\n",
       "    {'name': 'Prism', 'release_date': '2013'},\n",
       "    {'name': 'Witness', 'release_date': '2017'},\n",
       "    {'name': 'Smile', 'release_date': '2020'}]},\n",
       "  '\\n```'],\n",
       " ['```json\\n',\n",
       "  {'albums': [{'name': 'The Fame', 'release_date': '2008'},\n",
       "    {'name': 'Born This Way', 'release_date': '2011'},\n",
       "    {'name': 'Artpop', 'release_date': '2013'},\n",
       "    {'name': 'Joanne', 'release_date': '2016'},\n",
       "    {'name': 'Chromatica', 'release_date': '2020'}]},\n",
       "  '\\n```'],\n",
       " ['```json\\n',\n",
       "  {'albums': [{'name': 'Doo-Wops & Hooligans', 'release_date': '2010'},\n",
       "    {'name': 'Unorthodox Jukebox', 'release_date': '2012'},\n",
       "    {'name': '24K Magic', 'release_date': '2016'},\n",
       "    {'name': 'Silk Sonic (with Anderson .Paak)', 'release_date': '2022'}]},\n",
       "  '\\n```'],\n",
       " ['```json\\n',\n",
       "  {'albums': [{'name': 'Kiss Land', 'release_date': '2013-09-10'},\n",
       "    {'name': 'Beauty Behind the Madness', 'release_date': '2015-08-28'},\n",
       "    {'name': 'Starboy', 'release_date': '2016-11-25'},\n",
       "    {'name': 'After Hours', 'release_date': '2020-03-20'}]},\n",
       "  '\\n```'],\n",
       " ['```json\\n',\n",
       "  {'albums': [{'name': 'Overly Dedicated', 'release_date': '2010'},\n",
       "    {'name': 'Section.80', 'release_date': '2012'},\n",
       "    {'name': 'Good Kid, M.A.A.D City', 'release_date': '2012'},\n",
       "    {'name': 'To Pimp a Butterfly', 'release_date': '2015'},\n",
       "    {'name': 'DAMN.', 'release_date': '2017'},\n",
       "    {'name': 'Mr. Morale & the Big Steppers', 'release_date': '2022'}]},\n",
       "  '\\n```']]"
      ]
     },
     "execution_count": 64,
     "metadata": {},
     "output_type": "execute_result"
    }
   ],
   "source": [
    "dbRes = []\n",
    "for a in artistNames2:\n",
    "    text = fdb(a)\n",
    "    recs = fner('album names and release dates', text)    \n",
    "    dbRes = dbRes + [recs, ]\n",
    "\n",
    "dbRes"
   ]
  },
  {
   "cell_type": "markdown",
   "id": "3350c562",
   "metadata": {},
   "source": [
    "Here we call `deduce_type` on each LLM output:"
   ]
  },
  {
   "cell_type": "code",
   "execution_count": 65,
   "id": "f617d7a0",
   "metadata": {
    "ExecuteTime": {
     "end_time": "2023-09-30T15:23:32.401844Z",
     "start_time": "2023-09-30T15:23:32.398181Z"
    }
   },
   "outputs": [
    {
     "data": {
      "text/plain": [
       "[Tuple([Atom(<class 'str'>), Assoc(Atom(<class 'str'>), Vector(Assoc(Atom(<class 'str'>), Atom(<class 'str'>), 2), 9), 1), Atom(<class 'str'>)]),\n",
       " Tuple([Atom(<class 'str'>), Assoc(Atom(<class 'str'>), Vector(Assoc(Atom(<class 'str'>), Atom(<class 'str'>), 2), 4), 1), Atom(<class 'str'>)]),\n",
       " Tuple([Atom(<class 'str'>), Assoc(Atom(<class 'str'>), Vector(Assoc(Atom(<class 'str'>), Atom(<class 'str'>), 2), 6), 1), Atom(<class 'str'>)]),\n",
       " Tuple([Atom(<class 'str'>), Assoc(Atom(<class 'str'>), Vector(Assoc(Atom(<class 'str'>), Atom(<class 'str'>), 2), 5), 1), Atom(<class 'str'>)]),\n",
       " Tuple([Atom(<class 'str'>), Assoc(Atom(<class 'str'>), Vector(Assoc(Atom(<class 'str'>), Atom(<class 'str'>), 2), 9), 1), Atom(<class 'str'>)]),\n",
       " Tuple([Atom(<class 'str'>), Assoc(Atom(<class 'str'>), Vector(Assoc(Atom(<class 'str'>), Atom(<class 'str'>), 2), 6), 1), Atom(<class 'str'>)]),\n",
       " Tuple([Atom(<class 'str'>), Assoc(Atom(<class 'str'>), Vector(Assoc(Atom(<class 'str'>), Atom(<class 'str'>), 2), 5), 1), Atom(<class 'str'>)]),\n",
       " Tuple([Atom(<class 'str'>), Assoc(Atom(<class 'str'>), Vector(Assoc(Atom(<class 'str'>), Atom(<class 'str'>), 2), 4), 1), Atom(<class 'str'>)]),\n",
       " Tuple([Atom(<class 'str'>), Assoc(Atom(<class 'str'>), Vector(Assoc(Atom(<class 'str'>), Atom(<class 'str'>), 2), 4), 1), Atom(<class 'str'>)]),\n",
       " Tuple([Atom(<class 'str'>), Assoc(Atom(<class 'str'>), Vector(Assoc(Atom(<class 'str'>), Atom(<class 'str'>), 2), 6), 1), Atom(<class 'str'>)])]"
      ]
     },
     "execution_count": 65,
     "metadata": {},
     "output_type": "execute_result"
    }
   ],
   "source": [
    "[deduce_type(x) for x in dbRes]"
   ]
  },
  {
   "cell_type": "markdown",
   "id": "f16c3c93",
   "metadata": {},
   "source": [
    "Here we redo the type deduction using the argument setting `tally=True`:"
   ]
  },
  {
   "cell_type": "code",
   "execution_count": 66,
   "id": "d20692bf",
   "metadata": {
    "ExecuteTime": {
     "end_time": "2023-09-30T15:23:32.418482Z",
     "start_time": "2023-09-30T15:23:32.406419Z"
    }
   },
   "outputs": [
    {
     "data": {
      "text/plain": [
       "[Tuple([(\"Assoc(Atom(<class 'str'>), Vector(Assoc(Atom(<class 'str'>), Atom(<class 'str'>), 2), 9), 1)\", 1), (\"Atom(<class 'str'>)\", 2)], 3),\n",
       " Tuple([(\"Assoc(Atom(<class 'str'>), Vector(Assoc(Atom(<class 'str'>), Atom(<class 'str'>), 2), 4), 1)\", 1), (\"Atom(<class 'str'>)\", 2)], 3),\n",
       " Tuple([(\"Assoc(Atom(<class 'str'>), Vector(Assoc(Atom(<class 'str'>), Atom(<class 'str'>), 2), 6), 1)\", 1), (\"Atom(<class 'str'>)\", 2)], 3),\n",
       " Tuple([(\"Assoc(Atom(<class 'str'>), Vector(Assoc(Atom(<class 'str'>), Atom(<class 'str'>), 2), 5), 1)\", 1), (\"Atom(<class 'str'>)\", 2)], 3),\n",
       " Tuple([(\"Assoc(Atom(<class 'str'>), Vector(Assoc(Atom(<class 'str'>), Atom(<class 'str'>), 2), 9), 1)\", 1), (\"Atom(<class 'str'>)\", 2)], 3),\n",
       " Tuple([(\"Assoc(Atom(<class 'str'>), Vector(Assoc(Atom(<class 'str'>), Atom(<class 'str'>), 2), 6), 1)\", 1), (\"Atom(<class 'str'>)\", 2)], 3),\n",
       " Tuple([(\"Assoc(Atom(<class 'str'>), Vector(Assoc(Atom(<class 'str'>), Atom(<class 'str'>), 2), 5), 1)\", 1), (\"Atom(<class 'str'>)\", 2)], 3),\n",
       " Tuple([(\"Assoc(Atom(<class 'str'>), Vector(Assoc(Atom(<class 'str'>), Atom(<class 'str'>), 2), 4), 1)\", 1), (\"Atom(<class 'str'>)\", 2)], 3),\n",
       " Tuple([(\"Assoc(Atom(<class 'str'>), Vector(Assoc(Atom(<class 'str'>), Atom(<class 'str'>), 2), 4), 1)\", 1), (\"Atom(<class 'str'>)\", 2)], 3),\n",
       " Tuple([(\"Assoc(Atom(<class 'str'>), Vector(Assoc(Atom(<class 'str'>), Atom(<class 'str'>), 2), 6), 1)\", 1), (\"Atom(<class 'str'>)\", 2)], 3)]"
      ]
     },
     "execution_count": 66,
     "metadata": {},
     "output_type": "execute_result"
    }
   ],
   "source": [
    "[deduce_type(x, tally=True) for x in dbRes]"
   ]
  },
  {
   "cell_type": "markdown",
   "id": "a3aba3e8",
   "metadata": {},
   "source": [
    "We see that the LLM outputs produce lists of dictionaries \"surrounded\" by strings; each dictionary has with one rule:"
   ]
  },
  {
   "cell_type": "code",
   "execution_count": 67,
   "id": "66135d0e",
   "metadata": {
    "ExecuteTime": {
     "end_time": "2023-09-30T15:23:32.418894Z",
     "start_time": "2023-09-30T15:23:32.411144Z"
    }
   },
   "outputs": [
    {
     "data": {
      "text/plain": [
       "[[str, dict, str],\n",
       " [str, dict, str],\n",
       " [str, dict, str],\n",
       " [str, dict, str],\n",
       " [str, dict, str],\n",
       " [str, dict, str],\n",
       " [str, dict, str],\n",
       " [str, dict, str],\n",
       " [str, dict, str],\n",
       " [str, dict, str]]"
      ]
     },
     "execution_count": 67,
     "metadata": {},
     "output_type": "execute_result"
    }
   ],
   "source": [
    "[record_types(x) for x in dbRes]"
   ]
  },
  {
   "cell_type": "markdown",
   "id": "938d418d",
   "metadata": {},
   "source": [
    "Another record types finding call over the dictionaries:"
   ]
  },
  {
   "cell_type": "code",
   "execution_count": 80,
   "id": "55b3aad0",
   "metadata": {
    "ExecuteTime": {
     "end_time": "2023-09-30T15:23:32.503638Z",
     "start_time": "2023-09-30T15:23:32.416598Z"
    }
   },
   "outputs": [
    {
     "data": {
      "text/plain": [
       "[{'albums': list},\n",
       " {'albums': list},\n",
       " {'albums': list},\n",
       " {'albums': list},\n",
       " {'albums': list},\n",
       " {'albums': list},\n",
       " {'albums': list},\n",
       " {'albums': list},\n",
       " {'albums': list},\n",
       " {'albums': list}]"
      ]
     },
     "execution_count": 80,
     "metadata": {},
     "output_type": "execute_result"
    }
   ],
   "source": [
    "[record_types(x[1]) for x in dbRes]"
   ]
  },
  {
   "cell_type": "markdown",
   "id": "2fac89cd",
   "metadata": {},
   "source": [
    "The statistics show that most likely the output we get from the execution of the LLM-functions pipeline\n",
    "is a list of a string and a dictionary. The dictionaries are most likely to be of length one, with \"albums\" as the key.\n",
    "\n",
    "------\n",
    "\n",
    "## Other workflows\n",
    "\n",
    "In the future other workflows are going to be described:\n",
    "\n",
    "- Interactive building of grammars\n",
    "- Using LLM-based code writing assistants\n",
    "- Test suite generation via Gherkin specifications\n",
    "  - Here is a [teaser](https://github.com/antononcube/Raku-LLM-Functions/blob/main/docs/Convert-tests-into-Gherkin-specs_woven.md).\n",
    "- (Reliable) code generation from help pages\n",
    "\n",
    "Most likely all of the listed workflows would use chat objects and engineered prompts."
   ]
  },
  {
   "cell_type": "markdown",
   "id": "d99ef359",
   "metadata": {},
   "source": [
    "------\n",
    "\n",
    "## References\n",
    "\n",
    "### Articles\n",
    "\n",
    "[AA1] Anton Antonov,\n",
    "[\"Generating documents via templates and LLMs\"](https://rakuforprediction.wordpress.com/2023/07/11/generating-documents-via-templates-and-llms/),\n",
    "(2023),\n",
    "[RakuForPrediction at WordPress](https://rakuforprediction.wordpress.com).\n",
    "\n",
    "[AA2] Anton Antonov,\n",
    "[\"Connecting Mathematica and Raku\"](https://rakuforprediction.wordpress.com/2021/12/30/connecting-mathematica-and-raku/),\n",
    "(2021),\n",
    "[RakuForPrediction at WordPress](https://rakuforprediction.wordpress.com).\n",
    "\n",
    "[SW1] Stephen Wolfram,\n",
    "[\"The New World of LLM Functions: Integrating LLM Technology into the Wolfram Language\"](https://writings.stephenwolfram.com/2023/05/the-new-world-of-llm-functions-integrating-llm-technology-into-the-wolfram-language/),\n",
    "(2023),\n",
    "[Stephen Wolfram Writings](https://writings.stephenwolfram.com).\n",
    "\n",
    "### Repositories, sites\n",
    "\n",
    "[WRIr1] Wolfram Research, Inc.\n",
    "[Wolfram Prompt Repository](https://resources.wolframcloud.com/PromptRepository/).\n",
    "\n",
    "### Packages, paclets\n",
    "\n",
    "[AAp1] Anton Antonov,\n",
    "[LLMFunctionObjects Python package](https://github.com/antononcube/Python-packages/tree/main/LLMFunctionObjects),\n",
    "(2023),\n",
    "[Python-packages at GitHub/antononcube](https://github.com/antononcube/Python-packages).\n",
    "\n",
    "[AAp2] Anton Antonov,\n",
    "[LLMPrompts Python package](hhttps://github.com/antononcube/Python-packages/tree/main/LLMPrompts),\n",
    "(2023),\n",
    "[Python-packages at GitHub/antononcube](https://github.com/antononcube/Python-packages).\n",
    "\n",
    "[AAp3] Anton Antonov,\n",
    "[LLM::Functions Raku package](https://github.com/antononcube/Raku-LLM-Functions),\n",
    "(2023),\n",
    "[GitHub/antononcube](https://github.com/antononcube).\n",
    "\n",
    "[AAp4] Anton Antonov,\n",
    "[LLM::Prompts Raku package](https://github.com/antononcube/Raku-LLM-Prompts),\n",
    "(2023),\n",
    "[GitHub/antononcube](https://github.com/antononcube).\n",
    "\n",
    "[AAp5] Anton Antonov,\n",
    "[DataTypeSystem Python package](https://pypi.org/project/DataTypeSystem/),\n",
    "(2023),\n",
    "[PyPI.org/antononcube](https://pypi.org/user/antononcube/).\n",
    "\n",
    "[APYp1] Astropy, \n",
    "[Astropy](https://github.com/astropy/astropy),\n",
    "(2023),\n",
    "[GitHub/astropy](https://github.com/astropy).\n",
    "\n",
    "[BDp1] Bjorn Dahlgren, [chempy](https://github.com/bjodah/chempy), (2023), [GitHub/bjodah](https://github.com/bjodah). \n",
    "\n",
    "[GAIp1] Google AI,\n",
    "[google-generativeai (Google Generative AI Python Client)](https://pypi.org/project/google-generativeai/),\n",
    "(2023),\n",
    "[PyPI.org/google-ai](https://pypi.org/user/google-ai/).\n",
    "\n",
    "[OAIp1] OpenAI, \n",
    "[openai (OpenAI Python Library)](https://pypi.org/project/openai/),\n",
    "(2020-2023),\n",
    "[PyPI.org](https://pypi.org/).\n",
    "\n",
    "[WRIp1] Wolfram Research, Inc.,\n",
    "[LLMFunctions WL paclet](https://resources.wolframcloud.com/PacletRepository/resources/Wolfram/LLMFunctions/),\n",
    "(2023),\n",
    "[Wolfram Language Paclet Repository](https://resources.wolframcloud.com/PacletRepository/)."
   ]
  },
  {
   "cell_type": "code",
   "execution_count": null,
   "outputs": [],
   "source": [],
   "metadata": {
    "collapsed": false
   },
   "id": "547af15c92c9d081"
  }
 ],
 "metadata": {
  "jupytext": {
   "cell_metadata_filter": "incorrectly_encoded_metadata,-all",
   "main_language": "python",
   "notebook_metadata_filter": "-all"
  },
  "kernelspec": {
   "display_name": "Python 3 (ipykernel)",
   "language": "python",
   "name": "python3"
  },
  "language_info": {
   "codemirror_mode": {
    "name": "ipython",
    "version": 3
   },
   "file_extension": ".py",
   "mimetype": "text/x-python",
   "name": "python",
   "nbconvert_exporter": "python",
   "pygments_lexer": "ipython3",
   "version": "3.10.12"
  }
 },
 "nbformat": 4,
 "nbformat_minor": 5
}
