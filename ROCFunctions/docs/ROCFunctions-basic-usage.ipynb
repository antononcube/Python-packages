{
 "cells": [
  {
   "cell_type": "markdown",
   "source": [
    "# ROCFunctions basic usage\n",
    "\n",
    "This repository has the code of a Python package for\n",
    "[Receiver Operating Characteristic (ROC)](https://en.wikipedia.org/wiki/Receiver_operating_characteristic)\n",
    "functions.\n",
    "\n",
    "The ROC framework is used for analysis and tuning of binary classifiers, [Wk1].\n",
    "(The classifiers are assumed to classify into a positive/true label or a negative/false label. )\n",
    "\n",
    "For computational introduction to ROC utilization (in Mathematica) see the article\n",
    "[\"Basic example of using ROC with Linear regression\"](https://mathematicaforprediction.wordpress.com/2016/10/12/basic-example-of-using-roc-with-linear-regression/)\n",
    ",\n",
    "[AA1].\n",
    "\n",
    "The examples below use the package\n",
    "[\"RandomDataGenerators\"](https://pypi.org/project/RandomDataGenerators/),\n",
    "[AA2].\n",
    "\n",
    "-------\n",
    "\n",
    "## Installation\n",
    "\n",
    "From PyPI.org:\n",
    "\n",
    "```shell\n",
    "python3 -m pip install ROCFunctions\n",
    "```\n",
    "\n",
    "------\n",
    "\n",
    "## Usage examples\n",
    "\n",
    "### Properties\n",
    "\n",
    "Here are some retrieval functions:"
   ],
   "metadata": {
    "collapsed": false
   }
  },
  {
   "cell_type": "code",
   "execution_count": 1,
   "outputs": [
    {
     "name": "stdout",
     "output_type": "stream",
     "text": [
      "['FunctionInterpretations', 'FunctionNames', 'Functions', 'Methods', 'Properties']\n"
     ]
    }
   ],
   "source": [
    "import pandas\n",
    "from ROCFunctions import *\n",
    "print(roc_functions(\"properties\"))"
   ],
   "metadata": {
    "collapsed": false,
    "pycharm": {
     "name": "#%%\n"
    }
   }
  },
  {
   "cell_type": "code",
   "execution_count": 2,
   "outputs": [
    {
     "name": "stdout",
     "output_type": "stream",
     "text": [
      "{'TPR': 'true positive rate', 'TNR': 'true negative rate', 'SPC': 'specificity', 'PPV': 'positive predictive value', 'NPV': 'negative predictive value', 'FPR': 'false positive rate', 'FDR': 'false discovery rate', 'FNR': 'false negative rate', 'ACC': 'accuracy', 'AUROC': 'area under the ROC curve', 'FOR': 'false omission rate', 'F1': 'F1 score', 'MCC': 'Matthews correlation coefficient', 'Recall': 'same as TPR', 'Precision': 'same as PPV', 'Accuracy': 'same as ACC', 'Sensitivity': 'same as TPR'}\n"
     ]
    }
   ],
   "source": [
    "print(roc_functions(\"FunctionInterpretations\"))"
   ],
   "metadata": {
    "collapsed": false,
    "pycharm": {
     "name": "#%%\n"
    }
   }
  },
  {
   "cell_type": "code",
   "execution_count": 3,
   "outputs": [
    {
     "name": "stdout",
     "output_type": "stream",
     "text": [
      "<function FPR at 0x10683ec20>\n"
     ]
    }
   ],
   "source": [
    "print(roc_functions(\"FPR\"))"
   ],
   "metadata": {
    "collapsed": false,
    "pycharm": {
     "name": "#%%\n"
    }
   }
  },
  {
   "cell_type": "markdown",
   "source": [
    "### Single ROC record\n",
    "\n",
    "**Definition:** A\n",
    "ROC record (ROC-dictionary, or ROC-hash, or ROC-hash-map) is an associative object that has the keys:\n",
    "\"FalseNegative\", \"FalsePositive\", \"TrueNegative\", \"TruePositive\".Here is an example:"
   ],
   "metadata": {
    "collapsed": false,
    "pycharm": {
     "name": "#%% md\n"
    }
   }
  },
  {
   "cell_type": "code",
   "execution_count": 4,
   "outputs": [
    {
     "data": {
      "text/plain": "{'FalseNegative': 50,\n 'FalsePositive': 51,\n 'TrueNegative': 60,\n 'TruePositive': 39}"
     },
     "execution_count": 4,
     "metadata": {},
     "output_type": "execute_result"
    }
   ],
   "source": [
    "{\"FalseNegative\": 50, \"FalsePositive\": 51, \"TrueNegative\": 60, \"TruePositive\": 39}"
   ],
   "metadata": {
    "collapsed": false,
    "pycharm": {
     "name": "#%%\n"
    }
   }
  },
  {
   "cell_type": "markdown",
   "source": [
    "Here we generate a random \"dataset\" with columns \"Actual\" and \"Predicted\" that have the values\n",
    "\"true\" and \"false\"and show the summary:"
   ],
   "metadata": {
    "collapsed": false,
    "pycharm": {
     "name": "#%% md\n"
    }
   }
  },
  {
   "cell_type": "code",
   "execution_count": 5,
   "outputs": [
    {
     "data": {
      "text/plain": "(200, 2)"
     },
     "execution_count": 5,
     "metadata": {},
     "output_type": "execute_result"
    }
   ],
   "source": [
    "from RandomDataGenerators import *\n",
    "\n",
    "dfRandomLabels = random_data_frame(200, [\"Actual\", \"Predicted\"],\n",
    "                                   generators={\"Actual\": [\"true\", \"false\"],\n",
    "                                               \"Predicted\": [\"true\", \"false\"]})\n",
    "dfRandomLabels.shape"
   ],
   "metadata": {
    "collapsed": false,
    "pycharm": {
     "name": "#%%\n"
    }
   }
  },
  {
   "cell_type": "markdown",
   "source": [
    "Here is a sample of the dataset:\n"
   ],
   "metadata": {
    "collapsed": false,
    "pycharm": {
     "name": "#%% md\n"
    }
   }
  },
  {
   "cell_type": "code",
   "execution_count": 6,
   "outputs": [
    {
     "name": "stdout",
     "output_type": "stream",
     "text": [
      "  Actual Predicted\n",
      "0   true     false\n",
      "1   true      true\n",
      "2   true     false\n",
      "3  false     false\n"
     ]
    }
   ],
   "source": [
    "print(dfRandomLabels[:4])"
   ],
   "metadata": {
    "collapsed": false,
    "pycharm": {
     "name": "#%%\n"
    }
   }
  },
  {
   "cell_type": "markdown",
   "source": [
    "Here we make the corresponding ROC dictionary:"
   ],
   "metadata": {
    "collapsed": false,
    "pycharm": {
     "name": "#%% md\n"
    }
   }
  },
  {
   "cell_type": "code",
   "execution_count": 7,
   "outputs": [
    {
     "data": {
      "text/plain": "{'TruePositive': 57,\n 'FalsePositive': 48,\n 'TrueNegative': 44,\n 'FalseNegative': 51}"
     },
     "execution_count": 7,
     "metadata": {},
     "output_type": "execute_result"
    }
   ],
   "source": [
    "to_roc_dict('true', 'false',\n",
    "            list(dfRandomLabels.Actual.values),\n",
    "            list(dfRandomLabels.Predicted.values))"
   ],
   "metadata": {
    "collapsed": false,
    "pycharm": {
     "name": "#%%\n"
    }
   }
  },
  {
   "cell_type": "markdown",
   "source": [
    "### Multiple ROC records\n",
    "\n",
    "Here we make random dataset with entries that associated with a certain threshold parameter with three unique values:"
   ],
   "metadata": {
    "collapsed": false,
    "pycharm": {
     "name": "#%% md\n"
    }
   }
  },
  {
   "cell_type": "code",
   "execution_count": 8,
   "outputs": [],
   "source": [
    "dfRandomLabels2 = random_data_frame(200, [\"Threshold\", \"Actual\", \"Predicted\"],\n",
    "                                    generators={\"Threshold\": [0.2, 0.4, 0.6],\n",
    "                                                \"Actual\": [\"true\", \"false\"],\n",
    "                                                \"Predicted\": [\"true\", \"false\"]})"
   ],
   "metadata": {
    "collapsed": false,
    "pycharm": {
     "name": "#%%\n"
    }
   }
  },
  {
   "cell_type": "markdown",
   "source": [
    "**Remark:** Threshold parameters are typically used while tuning Machine Learning (ML) classifiers. Here we find and print the ROC records(dictionaries) for each unique threshold value:\n"
   ],
   "metadata": {
    "collapsed": false,
    "pycharm": {
     "name": "#%% md\n"
    }
   }
  },
  {
   "cell_type": "code",
   "execution_count": 9,
   "outputs": [
    {
     "data": {
      "text/plain": "{0.6: {'TruePositive': 26,\n  'FalsePositive': 21,\n  'TrueNegative': 17,\n  'FalseNegative': 11},\n 0.4: {'TruePositive': 19,\n  'FalsePositive': 15,\n  'TrueNegative': 10,\n  'FalseNegative': 15},\n 0.2: {'TruePositive': 18,\n  'FalsePositive': 21,\n  'TrueNegative': 12,\n  'FalseNegative': 15}}"
     },
     "execution_count": 9,
     "metadata": {},
     "output_type": "execute_result"
    }
   ],
   "source": [
    "thresholds = list(dfRandomLabels2.Threshold.drop_duplicates())\n",
    "\n",
    "rocGroups = {}\n",
    "for x in thresholds:\n",
    "    dfLocal = dfRandomLabels2[dfRandomLabels2[\"Threshold\"] == x]\n",
    "    rocGroups[x] = to_roc_dict('true', 'false',\n",
    "                        list(dfLocal.Actual.values),\n",
    "                        list(dfLocal.Predicted.values))\n",
    "\n",
    "rocGroups"
   ],
   "metadata": {
    "collapsed": false,
    "pycharm": {
     "name": "#%%\n"
    }
   }
  },
  {
   "cell_type": "markdown",
   "source": [
    "### Application of ROC functions\n",
    "\n",
    "Here we define a list of ROC functions:"
   ],
   "metadata": {
    "collapsed": false,
    "pycharm": {
     "name": "#%% md\n"
    }
   }
  },
  {
   "cell_type": "code",
   "execution_count": 10,
   "outputs": [],
   "source": [
    "funcs = [\"PPV\", \"NPV\", \"TPR\", \"ACC\", \"SPC\", \"MCC\"]"
   ],
   "metadata": {
    "collapsed": false,
    "pycharm": {
     "name": "#%%\n"
    }
   }
  },
  {
   "cell_type": "markdown",
   "source": [
    "Here we apply each ROC function to each of the ROC records obtained above:"
   ],
   "metadata": {
    "collapsed": false,
    "pycharm": {
     "name": "#%% md\n"
    }
   }
  },
  {
   "cell_type": "code",
   "execution_count": 14,
   "outputs": [
    {
     "name": "stdout",
     "output_type": "stream",
     "text": [
      "          0.6       0.4       0.2\n",
      "PPV  0.553191  0.558824  0.461538\n",
      "NPV  0.607143  0.400000  0.444444\n",
      "TPR  0.702703  0.558824  0.545455\n",
      "ACC  0.573333  0.491525  0.454545\n",
      "SPC  0.447368  0.400000  0.363636\n",
      "MCC  0.155216 -0.041706 -0.092450\n"
     ]
    }
   ],
   "source": [
    "import pandas\n",
    "rocRes = { k : {f: roc_functions(f)(v) for f in funcs} for (k, v) in rocGroups.items()}\n",
    "\n",
    "print(pandas.DataFrame(rocRes))"
   ],
   "metadata": {
    "collapsed": false,
    "pycharm": {
     "name": "#%%\n"
    }
   }
  },
  {
   "cell_type": "markdown",
   "source": [
    "\n",
    "-------\n",
    "\n",
    "## References\n",
    "\n",
    "### Articles\n",
    "\n",
    "[Wk1] Wikipedia entry,\n",
    "[\"Receiver operating characteristic\"](https://en.wikipedia.org/wiki/Receiver_operating_characteristic).\n",
    "\n",
    "[AA1] Anton Antonov,\n",
    "[\"Basic example of using ROC with Linear regression\"](https://mathematicaforprediction.wordpress.com/2016/10/12/basic-example-of-using-roc-with-linear-regression/)\n",
    ",\n",
    "(2016),\n",
    "[MathematicaForPrediction at WordPress](https://mathematicaforprediction.wordpress.com).\n",
    "\n",
    "[AA2] Anton Antonov,\n",
    "[\"Introduction to data wrangling with Raku\"](https://rakuforprediction.wordpress.com/2021/12/31/introduction-to-data-wrangling-with-raku/)\n",
    ",\n",
    "(2021),\n",
    "[RakuForPrediction at WordPress](https://rakuforprediction.wordpress.com).\n",
    "\n",
    "### Packages\n",
    "\n",
    "[AAp1] Anton Antonov,\n",
    "[ROCFunctions Mathematica package](https://github.com/antononcube/MathematicaForPrediction/blob/master/ROCFunctions.m),\n",
    "(2016-2022),\n",
    "[MathematicaForPrediction at GitHub/antononcube](https://github.com/antononcube/MathematicaForPrediction/).\n",
    "\n",
    "[AAp2] Anton Antonov,\n",
    "[ROCFunctions R package](https://github.com/antononcube/R-packages/tree/master/ROCFunctions),\n",
    "(2021),\n",
    "[R-packages at GitHub/antononcube](https://github.com/antononcube/R-packages).\n",
    "\n",
    "[AAp3] Anton Antonov,\n",
    "[ML::ROCFunctions Raku package](https://github.com/antononcube/Raku-ML-ROCFunctions),\n",
    "(2022),\n",
    "[GitHub/antononcube](https://github.com/antononcube)."
   ],
   "metadata": {
    "collapsed": false,
    "pycharm": {
     "name": "#%% md\n"
    }
   }
  }
 ],
 "metadata": {
  "kernelspec": {
   "display_name": "Python 3",
   "language": "python",
   "name": "python3"
  },
  "language_info": {
   "codemirror_mode": {
    "name": "ipython",
    "version": 2
   },
   "file_extension": ".py",
   "mimetype": "text/x-python",
   "name": "python",
   "nbconvert_exporter": "python",
   "pygments_lexer": "ipython2",
   "version": "2.7.6"
  }
 },
 "nbformat": 4,
 "nbformat_minor": 0
}