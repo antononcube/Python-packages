{
 "cells": [
  {
   "cell_type": "markdown",
   "id": "4c0224d6af21e074",
   "metadata": {},
   "source": [
    "# DataTypeSystem\n",
    "### ***Python package***\n",
    "\n",
    "This Python package provides a type system for different data structures that are \n",
    "coercible to full arrays. It is Python translation of the code of the Raku package\n",
    "[\"Data::Reshapers\"](https://github.com/antononcube/Raku-Data-Reshapers), [AAp1].\n",
    "\n",
    "------\n",
    "\n",
    "## Installation\n",
    "\n",
    "### Install from GitHub\n",
    "\n",
    "```shell\n",
    "pip install -e git+https://github.com/antononcube/Python-packages.git#egg=DataTypeSystem-antononcube\\&subdirectory=DataTypeSystem\n",
    "```\n",
    "\n",
    "### From PyPi\n",
    "\n",
    "```shell\n",
    "pip install DataTypeSystem\n",
    "```"
   ]
  },
  {
   "cell_type": "markdown",
   "id": "6cd83a5a0774a8d7",
   "metadata": {},
   "source": [
    "------\n",
    "\n",
    "## Usage examples\n",
    "\n",
    "The type system conventions follow those of Mathematica's \n",
    "[`Dataset`](https://reference.wolfram.com/language/ref/Dataset.html) \n",
    "-- see the presentation \n",
    "[\"Dataset improvements\"](https://www.wolfram.com/broadcast/video.php?c=488&p=4&disp=list&v=3264).\n",
    "\n",
    "Here we get the Titanic dataset, change the \"passengerAge\" column values to be numeric, \n",
    "and show dataset's dimensions:"
   ]
  },
  {
   "cell_type": "code",
   "execution_count": 14,
   "id": "67aaea507333477a",
   "metadata": {
    "ExecuteTime": {
     "end_time": "2023-09-24T19:32:22.728030Z",
     "start_time": "2023-09-24T19:32:22.572519Z"
    }
   },
   "outputs": [
    {
     "data": {
      "text/plain": [
       "(891, 4)"
      ]
     },
     "execution_count": 14,
     "metadata": {},
     "output_type": "execute_result"
    }
   ],
   "source": [
    "import pandas\n",
    "\n",
    "dfTitanic = pandas.read_csv('https://raw.githubusercontent.com/mwaskom/seaborn-data/master/titanic.csv')\n",
    "dfTitanic = dfTitanic[[\"sex\", \"age\", \"pclass\", \"survived\"]]\n",
    "dfTitanic = dfTitanic.rename(columns ={\"pclass\": \"class\"})\n",
    "dfTitanic.shape"
   ]
  },
  {
   "cell_type": "markdown",
   "id": "860a23cf1f3c4534",
   "metadata": {},
   "source": [
    "Here is a sample of dataset's records:"
   ]
  },
  {
   "cell_type": "code",
   "execution_count": 15,
   "id": "a39acb7c2d43ab66",
   "metadata": {
    "ExecuteTime": {
     "end_time": "2023-09-24T19:32:32.620372Z",
     "start_time": "2023-09-24T19:32:32.608505Z"
    }
   },
   "outputs": [
    {
     "data": {
      "text/html": [
       "<div>\n",
       "<style scoped>\n",
       "    .dataframe tbody tr th:only-of-type {\n",
       "        vertical-align: middle;\n",
       "    }\n",
       "\n",
       "    .dataframe tbody tr th {\n",
       "        vertical-align: top;\n",
       "    }\n",
       "\n",
       "    .dataframe thead th {\n",
       "        text-align: right;\n",
       "    }\n",
       "</style>\n",
       "<table border=\"1\" class=\"dataframe\">\n",
       "  <thead>\n",
       "    <tr style=\"text-align: right;\">\n",
       "      <th></th>\n",
       "      <th>sex</th>\n",
       "      <th>age</th>\n",
       "      <th>class</th>\n",
       "      <th>survived</th>\n",
       "    </tr>\n",
       "  </thead>\n",
       "  <tbody>\n",
       "    <tr>\n",
       "      <th>555</th>\n",
       "      <td>male</td>\n",
       "      <td>62.0</td>\n",
       "      <td>1</td>\n",
       "      <td>0</td>\n",
       "    </tr>\n",
       "    <tr>\n",
       "      <th>278</th>\n",
       "      <td>male</td>\n",
       "      <td>7.0</td>\n",
       "      <td>3</td>\n",
       "      <td>0</td>\n",
       "    </tr>\n",
       "    <tr>\n",
       "      <th>266</th>\n",
       "      <td>male</td>\n",
       "      <td>16.0</td>\n",
       "      <td>3</td>\n",
       "      <td>0</td>\n",
       "    </tr>\n",
       "  </tbody>\n",
       "</table>\n",
       "</div>"
      ],
      "text/plain": [
       "      sex   age  class  survived\n",
       "555  male  62.0      1         0\n",
       "278  male   7.0      3         0\n",
       "266  male  16.0      3         0"
      ]
     },
     "execution_count": 15,
     "metadata": {},
     "output_type": "execute_result"
    }
   ],
   "source": [
    "from DataTypeSystem import *\n",
    "\n",
    "dfTitanic.sample(3)"
   ]
  },
  {
   "cell_type": "markdown",
   "id": "91ada16c3e326bcb",
   "metadata": {},
   "source": [
    "Here is the type of a single record:"
   ]
  },
  {
   "cell_type": "code",
   "execution_count": 3,
   "id": "87b3d4a9c063576c",
   "metadata": {
    "ExecuteTime": {
     "end_time": "2023-09-24T19:27:28.221943Z",
     "start_time": "2023-09-24T19:27:28.217876Z"
    }
   },
   "outputs": [
    {
     "data": {
      "text/plain": [
       "Struct([age, class, sex, survived], [float, int, str, int])"
      ]
     },
     "execution_count": 3,
     "metadata": {},
     "output_type": "execute_result"
    }
   ],
   "source": [
    "deduce_type(dfTitanic.iloc[12].to_dict())"
   ]
  },
  {
   "cell_type": "markdown",
   "id": "839cc19fe4245fdb",
   "metadata": {},
   "source": [
    "Here is the type of single record's values:"
   ]
  },
  {
   "cell_type": "code",
   "execution_count": 4,
   "id": "af4fa770df0ba667",
   "metadata": {
    "ExecuteTime": {
     "end_time": "2023-09-24T19:27:28.226607Z",
     "start_time": "2023-09-24T19:27:28.221333Z"
    }
   },
   "outputs": [
    {
     "data": {
      "text/plain": [
       "Tuple([Atom(<class 'str'>), Atom(<class 'float'>), Atom(<class 'int'>), Atom(<class 'int'>)])"
      ]
     },
     "execution_count": 4,
     "metadata": {},
     "output_type": "execute_result"
    }
   ],
   "source": [
    "deduce_type(dfTitanic.iloc[12].to_dict().values())"
   ]
  },
  {
   "cell_type": "markdown",
   "id": "8f226e57282e2b08",
   "metadata": {},
   "source": [
    "Here is the type of the whole dataset:"
   ]
  },
  {
   "cell_type": "code",
   "execution_count": 5,
   "id": "42cb40fb5de1349f",
   "metadata": {
    "ExecuteTime": {
     "end_time": "2023-09-24T19:27:28.254361Z",
     "start_time": "2023-09-24T19:27:28.227994Z"
    }
   },
   "outputs": [
    {
     "data": {
      "text/plain": [
       "Assoc(Atom(<class 'str'>), Assoc(Atom(<class 'int'>), Atom(<class 'str'>), 891), 4)"
      ]
     },
     "execution_count": 5,
     "metadata": {},
     "output_type": "execute_result"
    }
   ],
   "source": [
    "deduce_type(dfTitanic.to_dict())"
   ]
  },
  {
   "cell_type": "markdown",
   "id": "6ba89766737e2ba9",
   "metadata": {},
   "source": [
    "Here is the type of \"values only\" records:"
   ]
  },
  {
   "cell_type": "code",
   "execution_count": 12,
   "id": "c02ae62ec21e76e5",
   "metadata": {
    "ExecuteTime": {
     "end_time": "2023-09-24T19:29:44.741780Z",
     "start_time": "2023-09-24T19:29:44.736330Z"
    }
   },
   "outputs": [
    {
     "data": {
      "text/plain": [
       "Vector(Struct([age, class, sex, survived], [float, int, str, int]), 891)"
      ]
     },
     "execution_count": 12,
     "metadata": {},
     "output_type": "execute_result"
    }
   ],
   "source": [
    "valArr = dfTitanic.transpose().to_dict().values()\n",
    "deduce_type(valArr)"
   ]
  },
  {
   "cell_type": "markdown",
   "id": "46aeacdfab8df000",
   "metadata": {},
   "source": [
    "-------\n",
    "\n",
    "## References\n",
    "\n",
    "[AAp1] Anton Antonov,\n",
    "[Data::TypeSystem Raku package](https://github.com/antononcube/Raku-Data-TypeSystem),\n",
    "(2023),\n",
    "[GitHub/antononcube](https://github.com/antononcube/)."
   ]
  }
 ],
 "metadata": {
  "kernelspec": {
   "display_name": "Python 3 (ipykernel)",
   "language": "python",
   "name": "python3"
  },
  "language_info": {
   "codemirror_mode": {
    "name": "ipython",
    "version": 3
   },
   "file_extension": ".py",
   "mimetype": "text/x-python",
   "name": "python",
   "nbconvert_exporter": "python",
   "pygments_lexer": "ipython3",
   "version": "3.10.8"
  }
 },
 "nbformat": 4,
 "nbformat_minor": 5
}
