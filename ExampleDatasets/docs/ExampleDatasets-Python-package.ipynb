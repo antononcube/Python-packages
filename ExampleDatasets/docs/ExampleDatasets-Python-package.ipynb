{
 "cells": [
  {
   "cell_type": "raw",
   "id": "4a99f591",
   "metadata": {},
   "source": [
    "---\n",
    "title: \"Example Datasets Python package\"\n",
    "author: \"Anton Antonov\"\n",
    "date: '2021-12-17'\n",
    "output:\n",
    "  md_document: default\n",
    "---"
   ]
  },
  {
   "cell_type": "markdown",
   "id": "67f10c12",
   "metadata": {},
   "source": [
    "# Example Datasets Python package\n",
    "\n",
    "Python package for (obtaining) example datasets.\n",
    "\n",
    "Currently, this repository contains only [datasets metadata](https://github.com/antononcube/Python-packages/raw/main/ExampleDatasets/ExampleDatasets/resources/dfRdatasets.csv.gz).\n",
    "The datasets are downloaded from the repository \n",
    "[Rdatasets](https://github.com/vincentarelbundock/Rdatasets/),\n",
    "[VAB1].\n",
    "\n",
    "This package follows the design of the [Raku](https://raku.org) package with the same name; see [AAr1].\n",
    "\n",
    "------\n",
    "\n",
    "## Usage examples\n",
    "\n",
    "### Setup\n",
    "\n",
    "Here we load the Python packages `time`, `pandas`, and this package:"
   ]
  },
  {
   "cell_type": "code",
   "execution_count": 1,
   "id": "02fb5911",
   "metadata": {},
   "outputs": [],
   "source": [
    "from ExampleDatasets import *\n",
    "import pandas"
   ]
  },
  {
   "cell_type": "markdown",
   "id": "a662d81d",
   "metadata": {},
   "source": [
    "### Get a dataset by using an identifier\n",
    "\n",
    "Here we get a dataset by using an identifier and display part of the obtained dataset:"
   ]
  },
  {
   "cell_type": "code",
   "execution_count": 2,
   "id": "74ee53d9",
   "metadata": {},
   "outputs": [
    {
     "data": {
      "text/plain": "<bound method NDFrame.head of     Unnamed: 0  group  pretest.1  pretest.2  post.test.1  post.test.2  \\\n0            1  Basal          4          3            5            4   \n1            2  Basal          6          5            9            5   \n2            3  Basal          9          4            5            3   \n3            4  Basal         12          6            8            5   \n4            5  Basal         16          5           10            9   \n..         ...    ...        ...        ...          ...          ...   \n61          62  Strat         11          4           11            7   \n62          63  Strat         14          4           15            7   \n63          64  Strat          8          2            9            5   \n64          65  Strat          5          3            6            8   \n65          66  Strat          8          3            4            6   \n\n    post.test.3  \n0            41  \n1            41  \n2            43  \n3            46  \n4            46  \n..          ...  \n61           48  \n62           49  \n63           33  \n64           45  \n65           42  \n\n[66 rows x 7 columns]>"
     },
     "execution_count": 2,
     "metadata": {},
     "output_type": "execute_result"
    }
   ],
   "source": [
    "tbl = example_dataset(itemSpec = 'Baumann')\n",
    "tbl.head"
   ]
  },
  {
   "cell_type": "markdown",
   "id": "a263b372",
   "metadata": {},
   "source": [
    "Here we summarize the dataset obtained above:"
   ]
  },
  {
   "cell_type": "code",
   "execution_count": 3,
   "id": "c994135a",
   "metadata": {},
   "outputs": [
    {
     "data": {
      "text/plain": "       Unnamed: 0  pretest.1  pretest.2  post.test.1  post.test.2  post.test.3\ncount   66.000000  66.000000  66.000000    66.000000    66.000000    66.000000\nmean    33.500000   9.787879   5.106061     8.075758     6.712121    44.015152\nstd     19.196354   3.020520   2.212752     3.393707     2.635644     6.643661\nmin      1.000000   4.000000   1.000000     1.000000     0.000000    30.000000\n25%     17.250000   8.000000   3.250000     5.000000     5.000000    40.000000\n50%     33.500000   9.000000   5.000000     8.000000     6.000000    45.000000\n75%     49.750000  12.000000   6.000000    11.000000     8.000000    49.000000\nmax     66.000000  16.000000  13.000000    15.000000    13.000000    57.000000",
      "text/html": "<div>\n<style scoped>\n    .dataframe tbody tr th:only-of-type {\n        vertical-align: middle;\n    }\n\n    .dataframe tbody tr th {\n        vertical-align: top;\n    }\n\n    .dataframe thead th {\n        text-align: right;\n    }\n</style>\n<table border=\"1\" class=\"dataframe\">\n  <thead>\n    <tr style=\"text-align: right;\">\n      <th></th>\n      <th>Unnamed: 0</th>\n      <th>pretest.1</th>\n      <th>pretest.2</th>\n      <th>post.test.1</th>\n      <th>post.test.2</th>\n      <th>post.test.3</th>\n    </tr>\n  </thead>\n  <tbody>\n    <tr>\n      <th>count</th>\n      <td>66.000000</td>\n      <td>66.000000</td>\n      <td>66.000000</td>\n      <td>66.000000</td>\n      <td>66.000000</td>\n      <td>66.000000</td>\n    </tr>\n    <tr>\n      <th>mean</th>\n      <td>33.500000</td>\n      <td>9.787879</td>\n      <td>5.106061</td>\n      <td>8.075758</td>\n      <td>6.712121</td>\n      <td>44.015152</td>\n    </tr>\n    <tr>\n      <th>std</th>\n      <td>19.196354</td>\n      <td>3.020520</td>\n      <td>2.212752</td>\n      <td>3.393707</td>\n      <td>2.635644</td>\n      <td>6.643661</td>\n    </tr>\n    <tr>\n      <th>min</th>\n      <td>1.000000</td>\n      <td>4.000000</td>\n      <td>1.000000</td>\n      <td>1.000000</td>\n      <td>0.000000</td>\n      <td>30.000000</td>\n    </tr>\n    <tr>\n      <th>25%</th>\n      <td>17.250000</td>\n      <td>8.000000</td>\n      <td>3.250000</td>\n      <td>5.000000</td>\n      <td>5.000000</td>\n      <td>40.000000</td>\n    </tr>\n    <tr>\n      <th>50%</th>\n      <td>33.500000</td>\n      <td>9.000000</td>\n      <td>5.000000</td>\n      <td>8.000000</td>\n      <td>6.000000</td>\n      <td>45.000000</td>\n    </tr>\n    <tr>\n      <th>75%</th>\n      <td>49.750000</td>\n      <td>12.000000</td>\n      <td>6.000000</td>\n      <td>11.000000</td>\n      <td>8.000000</td>\n      <td>49.000000</td>\n    </tr>\n    <tr>\n      <th>max</th>\n      <td>66.000000</td>\n      <td>16.000000</td>\n      <td>13.000000</td>\n      <td>15.000000</td>\n      <td>13.000000</td>\n      <td>57.000000</td>\n    </tr>\n  </tbody>\n</table>\n</div>"
     },
     "execution_count": 3,
     "metadata": {},
     "output_type": "execute_result"
    }
   ],
   "source": [
    "tbl.describe()"
   ]
  },
  {
   "cell_type": "markdown",
   "id": "8537d611",
   "metadata": {},
   "source": [
    "**Remark**: The values for the arguments `itemSpec` and `packageSpec` correspond to the values\n",
    "of the columns \"Item\" and \"Package\", respectively, in the \n",
    "[metadata dataset](https://vincentarelbundock.github.io/Rdatasets/articles/data.html)\n",
    "from the GitHub repository \"Rdatasets\", \n",
    "[[VAB1](https://github.com/vincentarelbundock/Rdatasets/)].\n",
    "See the datasets metadata sub-section below."
   ]
  },
  {
   "cell_type": "markdown",
   "id": "8ceb5c68",
   "metadata": {},
   "source": [
    "### Get a dataset by using an URL\n",
    "\n",
    "Here we can find URLs of datasets that have titles adhering to a regex:"
   ]
  },
  {
   "cell_type": "code",
   "execution_count": 4,
   "id": "8c4370d8",
   "metadata": {},
   "outputs": [
    {
     "name": "stdout",
     "output_type": "stream",
     "text": [
      "    Package        Item                                                                      CSV\n",
      "288   COUNT     titanic     https://vincentarelbundock.github.io/Rdatasets/csv/COUNT/titanic.csv\n",
      "289   COUNT  titanicgrp  https://vincentarelbundock.github.io/Rdatasets/csv/COUNT/titanicgrp.csv\n"
     ]
    }
   ],
   "source": [
    "dfMeta = load_datasets_metadata()\n",
    "print(dfMeta[dfMeta.Title.str.contains('^tita')][[\"Package\", \"Item\", \"CSV\"]].to_string())"
   ]
  },
  {
   "cell_type": "markdown",
   "id": "bdc2483f",
   "metadata": {},
   "source": [
    "Here we get a dataset through \n",
    "[`pandas`](https://pandas.pydata.org)\n",
    "by using an URL and display the head of the obtained dataset:"
   ]
  },
  {
   "cell_type": "code",
   "execution_count": 5,
   "id": "c3798737",
   "metadata": {
    "lines_to_next_cell": 2
   },
   "outputs": [
    {
     "data": {
      "text/plain": "   id passengerClass  passengerAge passengerSex passengerSurvival\n0   1            1st            30       female          survived\n1   2            1st             0         male          survived\n2   3            1st             0       female              died\n3   4            1st            30         male              died\n4   5            1st            20       female              died",
      "text/html": "<div>\n<style scoped>\n    .dataframe tbody tr th:only-of-type {\n        vertical-align: middle;\n    }\n\n    .dataframe tbody tr th {\n        vertical-align: top;\n    }\n\n    .dataframe thead th {\n        text-align: right;\n    }\n</style>\n<table border=\"1\" class=\"dataframe\">\n  <thead>\n    <tr style=\"text-align: right;\">\n      <th></th>\n      <th>id</th>\n      <th>passengerClass</th>\n      <th>passengerAge</th>\n      <th>passengerSex</th>\n      <th>passengerSurvival</th>\n    </tr>\n  </thead>\n  <tbody>\n    <tr>\n      <th>0</th>\n      <td>1</td>\n      <td>1st</td>\n      <td>30</td>\n      <td>female</td>\n      <td>survived</td>\n    </tr>\n    <tr>\n      <th>1</th>\n      <td>2</td>\n      <td>1st</td>\n      <td>0</td>\n      <td>male</td>\n      <td>survived</td>\n    </tr>\n    <tr>\n      <th>2</th>\n      <td>3</td>\n      <td>1st</td>\n      <td>0</td>\n      <td>female</td>\n      <td>died</td>\n    </tr>\n    <tr>\n      <th>3</th>\n      <td>4</td>\n      <td>1st</td>\n      <td>30</td>\n      <td>male</td>\n      <td>died</td>\n    </tr>\n    <tr>\n      <th>4</th>\n      <td>5</td>\n      <td>1st</td>\n      <td>20</td>\n      <td>female</td>\n      <td>died</td>\n    </tr>\n  </tbody>\n</table>\n</div>"
     },
     "execution_count": 5,
     "metadata": {},
     "output_type": "execute_result"
    }
   ],
   "source": [
    "import pandas\n",
    "url = 'https://raw.githubusercontent.com/antononcube/Raku-Data-Reshapers/main/resources/dfTitanic.csv'\n",
    "tbl2 = pandas.read_csv(url)\n",
    "tbl2.head()"
   ]
  },
  {
   "cell_type": "markdown",
   "id": "944466fa",
   "metadata": {},
   "source": [
    "### Datasets metadata\n",
    "\n",
    "Here we:\n",
    "1. Get the dataset of the datasets metadata\n",
    "2. Filter it to have only datasets with 13 rows\n",
    "3. Keep only the columns \"Item\", \"Title\", \"Rows\", and \"Cols\"\n",
    "4. Display it "
   ]
  },
  {
   "cell_type": "code",
   "execution_count": 6,
   "id": "6599b384",
   "metadata": {},
   "outputs": [
    {
     "data": {
      "text/plain": "            Item                                              Title  Rows  \\\n805   Snow.pumps  John Snow's Map and Data on the 1854 London Ch...    13   \n820          BCG                                   BCG Vaccine Data    13   \n935       cement                    Heat Evolved by Setting Cements    13   \n1354    kootenay  Waterflow Measurements of Kootenay River in Li...    13   \n1644  Newhouse77  Medical-Care Expenditure: A Cross-National Sur...    13   \n1735      Saxony                                 Families in Saxony    13   \n\n      Cols  \n805      4  \n820      7  \n935      5  \n1354     2  \n1644     5  \n1735     2  ",
      "text/html": "<div>\n<style scoped>\n    .dataframe tbody tr th:only-of-type {\n        vertical-align: middle;\n    }\n\n    .dataframe tbody tr th {\n        vertical-align: top;\n    }\n\n    .dataframe thead th {\n        text-align: right;\n    }\n</style>\n<table border=\"1\" class=\"dataframe\">\n  <thead>\n    <tr style=\"text-align: right;\">\n      <th></th>\n      <th>Item</th>\n      <th>Title</th>\n      <th>Rows</th>\n      <th>Cols</th>\n    </tr>\n  </thead>\n  <tbody>\n    <tr>\n      <th>805</th>\n      <td>Snow.pumps</td>\n      <td>John Snow's Map and Data on the 1854 London Ch...</td>\n      <td>13</td>\n      <td>4</td>\n    </tr>\n    <tr>\n      <th>820</th>\n      <td>BCG</td>\n      <td>BCG Vaccine Data</td>\n      <td>13</td>\n      <td>7</td>\n    </tr>\n    <tr>\n      <th>935</th>\n      <td>cement</td>\n      <td>Heat Evolved by Setting Cements</td>\n      <td>13</td>\n      <td>5</td>\n    </tr>\n    <tr>\n      <th>1354</th>\n      <td>kootenay</td>\n      <td>Waterflow Measurements of Kootenay River in Li...</td>\n      <td>13</td>\n      <td>2</td>\n    </tr>\n    <tr>\n      <th>1644</th>\n      <td>Newhouse77</td>\n      <td>Medical-Care Expenditure: A Cross-National Sur...</td>\n      <td>13</td>\n      <td>5</td>\n    </tr>\n    <tr>\n      <th>1735</th>\n      <td>Saxony</td>\n      <td>Families in Saxony</td>\n      <td>13</td>\n      <td>2</td>\n    </tr>\n  </tbody>\n</table>\n</div>"
     },
     "execution_count": 6,
     "metadata": {},
     "output_type": "execute_result"
    }
   ],
   "source": [
    "tblMeta = load_datasets_metadata()\n",
    "tblMeta = tblMeta[[\"Item\", \"Title\", \"Rows\", \"Cols\"]]\n",
    "tblMeta = tblMeta[tblMeta[\"Rows\"] == 13]\n",
    "tblMeta"
   ]
  },
  {
   "cell_type": "markdown",
   "id": "e56e1782",
   "metadata": {},
   "source": [
    "### Keeping downloaded data\n",
    "\n",
    "By default the data is obtained over the web from\n",
    "[Rdatasets](https://github.com/vincentarelbundock/Rdatasets/),\n",
    "but `example_dataset` has an option to keep the data \"locally.\"\n",
    "(The data is saved in `XDG_DATA_HOME`, see \n",
    "[SS1](https://pypi.org/project/xdg/).)\n",
    "\n",
    "This can be demonstrated with the following timings of a dataset with ~1300 rows:"
   ]
  },
  {
   "cell_type": "code",
   "execution_count": 7,
   "id": "33a2c451",
   "metadata": {},
   "outputs": [
    {
     "name": "stdout",
     "output_type": "stream",
     "text": [
      "Getting the data first time took 0.002950906753540039 seconds\n"
     ]
    }
   ],
   "source": [
    "import time\n",
    "startTime = time.time()\n",
    "data = example_dataset(itemSpec = 'titanic', packageSpec = 'COUNT', keep = True)\n",
    "endTime = time.time()\n",
    "print(\"Getting the data first time took \" + str( endTime - startTime ) + \" seconds\")"
   ]
  },
  {
   "cell_type": "code",
   "execution_count": 8,
   "id": "cfb62dac",
   "metadata": {},
   "outputs": [
    {
     "name": "stdout",
     "output_type": "stream",
     "text": [
      "Geting the data second time took 0.0029611587524414062 seconds\n"
     ]
    }
   ],
   "source": [
    "import time\n",
    "startTime = time.time()\n",
    "data = example_dataset(itemSpec = 'titanic', packageSpec = 'COUNT', keep = True)\n",
    "endTime = time.time()\n",
    "print(\"Geting the data second time took \" + str( endTime - startTime ) + \" seconds\")"
   ]
  },
  {
   "cell_type": "markdown",
   "id": "6e4a5b32",
   "metadata": {},
   "source": [
    "------\n",
    "\n",
    "## References\n",
    "\n",
    "### Functions, packages, repositories\n",
    "\n",
    "[AAf1] Anton Antonov,\n",
    "[`ExampleDataset`](https://resources.wolframcloud.com/FunctionRepository/resources/ExampleDataset),\n",
    "(2020),\n",
    "[Wolfram Function Repository](https://resources.wolframcloud.com/FunctionRepository).\n",
    "\n",
    "[AAr1] Anton Antonov,\n",
    "[`Data::ExampleDatasets Raku package`](https://github.com/antononcube/Raku-Data-ExampleDatasets),\n",
    "(2021),\n",
    "[GitHub/antononcube](https://github.com/antononcube).\n",
    "\n",
    "[VAB1] Vincent Arel-Bundock,\n",
    "[Rdatasets](https://github.com/vincentarelbundock/Rdatasets/),\n",
    "(2020),\n",
    "[GitHub/vincentarelbundock](https://github.com/vincentarelbundock).\n",
    "\n",
    "[SS1] Scott Stevenson,\n",
    "[xdg Python package](https://pypi.org/project/xdg/),\n",
    "(2016-2021),\n",
    "[PyPI.org](https://pypi.org/project/xdg/)."
   ]
  },
  {
   "cell_type": "markdown",
   "id": "add6014c",
   "metadata": {},
   "source": [
    "### Interactive interfaces\n",
    "\n",
    "[AAi1] Anton Antonov,\n",
    "[Example datasets recommender interface](https://antononcube.shinyapps.io/ExampleDatasetsRecommenderInterface/),\n",
    "(2021),\n",
    "[Shinyapps.io](https://antononcube.shinyapps.io/)."
   ]
  }
 ],
 "metadata": {
  "jupytext": {
   "cell_metadata_filter": "-all",
   "main_language": "python",
   "notebook_metadata_filter": "-all"
  }
 },
 "nbformat": 4,
 "nbformat_minor": 5
}
