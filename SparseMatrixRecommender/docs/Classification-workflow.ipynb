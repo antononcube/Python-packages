{
 "cells": [
  {
   "cell_type": "markdown",
   "id": "44244f27",
   "metadata": {},
   "source": [
    "# Sparse Matrix Recommender (SMR) Classification Workflow\n",
    "\n",
    "Anton Antonov  \n",
    "[PythonForPrediction at WordPress](https://pythonforprediction.wordpress.com)   \n",
    "October 2025"
   ]
  },
  {
   "cell_type": "markdown",
   "id": "fe8cd4ca",
   "metadata": {},
   "source": [
    "---\n",
    "\n",
    "## Setup"
   ]
  },
  {
   "cell_type": "code",
   "execution_count": 4,
   "id": "51fd0ef1",
   "metadata": {},
   "outputs": [],
   "source": [
    "import pandas\n",
    "import random\n",
    "import numpy\n",
    "from collections import Counter\n",
    "\n",
    "from SparseMatrixRecommender import *\n",
    "from SparseMatrixRecommender.DataLoaders import *\n",
    "from ROCFunctions import *\n",
    "from DataTypeSystem import *"
   ]
  },
  {
   "cell_type": "code",
   "execution_count": 46,
   "id": "c89d044d",
   "metadata": {},
   "outputs": [],
   "source": [
    "import matplotlib.pyplot as plt\n",
    "\n",
    "def plot_roc(fpr_list, tpr_list):\n",
    "    plt.style.use('dark_background')\n",
    "    plt.plot(fpr_list, tpr_list, label='ROC curve')\n",
    "    plt.plot([0, 1], [0, 1], '--', color='dimgray', label='Random guess')\n",
    "\n",
    "    plt.grid(color='gray', linestyle='--')\n",
    "    plt.xlabel('False Positive Rate')\n",
    "    plt.ylabel('True Positive Rate')\n",
    "    plt.title('ROC Curve')\n",
    "    plt.legend()\n",
    "    plt.show()"
   ]
  },
  {
   "cell_type": "markdown",
   "id": "5828a4e5",
   "metadata": {},
   "source": [
    "----\n",
    "\n",
    "## Get data"
   ]
  },
  {
   "cell_type": "code",
   "execution_count": 6,
   "id": "a182fbc9",
   "metadata": {},
   "outputs": [
    {
     "data": {
      "text/plain": [
       "(8124, 24)"
      ]
     },
     "execution_count": 6,
     "metadata": {},
     "output_type": "execute_result"
    }
   ],
   "source": [
    "dfData0 = load_mushroom_data_frame()\n",
    "dfData0.shape"
   ]
  },
  {
   "cell_type": "code",
   "execution_count": 7,
   "id": "222f992a",
   "metadata": {},
   "outputs": [
    {
     "data": {
      "text/html": [
       "<div>\n",
       "<style scoped>\n",
       "    .dataframe tbody tr th:only-of-type {\n",
       "        vertical-align: middle;\n",
       "    }\n",
       "\n",
       "    .dataframe tbody tr th {\n",
       "        vertical-align: top;\n",
       "    }\n",
       "\n",
       "    .dataframe thead th {\n",
       "        text-align: right;\n",
       "    }\n",
       "</style>\n",
       "<table border=\"1\" class=\"dataframe\">\n",
       "  <thead>\n",
       "    <tr style=\"text-align: right;\">\n",
       "      <th></th>\n",
       "      <th>id</th>\n",
       "      <th>cap-Shape</th>\n",
       "      <th>cap-Surface</th>\n",
       "      <th>cap-Color</th>\n",
       "      <th>bruises?</th>\n",
       "      <th>odor</th>\n",
       "      <th>gill-Attachment</th>\n",
       "      <th>gill-Spacing</th>\n",
       "      <th>gill-Size</th>\n",
       "      <th>gill-Color</th>\n",
       "      <th>...</th>\n",
       "      <th>stalk-Color-Above-Ring</th>\n",
       "      <th>stalk-Color-Below-Ring</th>\n",
       "      <th>veil-Type</th>\n",
       "      <th>veil-Color</th>\n",
       "      <th>ring-Number</th>\n",
       "      <th>ring-Type</th>\n",
       "      <th>spore-Print-Color</th>\n",
       "      <th>population</th>\n",
       "      <th>habitat</th>\n",
       "      <th>edibility</th>\n",
       "    </tr>\n",
       "  </thead>\n",
       "  <tbody>\n",
       "    <tr>\n",
       "      <th>0</th>\n",
       "      <td>id.1</td>\n",
       "      <td>convex</td>\n",
       "      <td>smooth</td>\n",
       "      <td>brown</td>\n",
       "      <td>True</td>\n",
       "      <td>pungent</td>\n",
       "      <td>free</td>\n",
       "      <td>close</td>\n",
       "      <td>narrow</td>\n",
       "      <td>black</td>\n",
       "      <td>...</td>\n",
       "      <td>white</td>\n",
       "      <td>white</td>\n",
       "      <td>partial</td>\n",
       "      <td>white</td>\n",
       "      <td>one</td>\n",
       "      <td>pendant</td>\n",
       "      <td>black</td>\n",
       "      <td>scattered</td>\n",
       "      <td>urban</td>\n",
       "      <td>poisonous</td>\n",
       "    </tr>\n",
       "    <tr>\n",
       "      <th>1</th>\n",
       "      <td>id.2</td>\n",
       "      <td>convex</td>\n",
       "      <td>smooth</td>\n",
       "      <td>yellow</td>\n",
       "      <td>True</td>\n",
       "      <td>almond</td>\n",
       "      <td>free</td>\n",
       "      <td>close</td>\n",
       "      <td>broad</td>\n",
       "      <td>black</td>\n",
       "      <td>...</td>\n",
       "      <td>white</td>\n",
       "      <td>white</td>\n",
       "      <td>partial</td>\n",
       "      <td>white</td>\n",
       "      <td>one</td>\n",
       "      <td>pendant</td>\n",
       "      <td>brown</td>\n",
       "      <td>numerous</td>\n",
       "      <td>grasses</td>\n",
       "      <td>edible</td>\n",
       "    </tr>\n",
       "    <tr>\n",
       "      <th>2</th>\n",
       "      <td>id.3</td>\n",
       "      <td>bell</td>\n",
       "      <td>smooth</td>\n",
       "      <td>white</td>\n",
       "      <td>True</td>\n",
       "      <td>anise</td>\n",
       "      <td>free</td>\n",
       "      <td>close</td>\n",
       "      <td>broad</td>\n",
       "      <td>brown</td>\n",
       "      <td>...</td>\n",
       "      <td>white</td>\n",
       "      <td>white</td>\n",
       "      <td>partial</td>\n",
       "      <td>white</td>\n",
       "      <td>one</td>\n",
       "      <td>pendant</td>\n",
       "      <td>brown</td>\n",
       "      <td>numerous</td>\n",
       "      <td>meadows</td>\n",
       "      <td>edible</td>\n",
       "    </tr>\n",
       "    <tr>\n",
       "      <th>3</th>\n",
       "      <td>id.4</td>\n",
       "      <td>convex</td>\n",
       "      <td>scaly</td>\n",
       "      <td>white</td>\n",
       "      <td>True</td>\n",
       "      <td>pungent</td>\n",
       "      <td>free</td>\n",
       "      <td>close</td>\n",
       "      <td>narrow</td>\n",
       "      <td>brown</td>\n",
       "      <td>...</td>\n",
       "      <td>white</td>\n",
       "      <td>white</td>\n",
       "      <td>partial</td>\n",
       "      <td>white</td>\n",
       "      <td>one</td>\n",
       "      <td>pendant</td>\n",
       "      <td>black</td>\n",
       "      <td>scattered</td>\n",
       "      <td>urban</td>\n",
       "      <td>poisonous</td>\n",
       "    </tr>\n",
       "    <tr>\n",
       "      <th>4</th>\n",
       "      <td>id.5</td>\n",
       "      <td>convex</td>\n",
       "      <td>smooth</td>\n",
       "      <td>gray</td>\n",
       "      <td>False</td>\n",
       "      <td>none</td>\n",
       "      <td>free</td>\n",
       "      <td>crowded</td>\n",
       "      <td>broad</td>\n",
       "      <td>black</td>\n",
       "      <td>...</td>\n",
       "      <td>white</td>\n",
       "      <td>white</td>\n",
       "      <td>partial</td>\n",
       "      <td>white</td>\n",
       "      <td>one</td>\n",
       "      <td>evanescent</td>\n",
       "      <td>brown</td>\n",
       "      <td>abundant</td>\n",
       "      <td>grasses</td>\n",
       "      <td>edible</td>\n",
       "    </tr>\n",
       "    <tr>\n",
       "      <th>...</th>\n",
       "      <td>...</td>\n",
       "      <td>...</td>\n",
       "      <td>...</td>\n",
       "      <td>...</td>\n",
       "      <td>...</td>\n",
       "      <td>...</td>\n",
       "      <td>...</td>\n",
       "      <td>...</td>\n",
       "      <td>...</td>\n",
       "      <td>...</td>\n",
       "      <td>...</td>\n",
       "      <td>...</td>\n",
       "      <td>...</td>\n",
       "      <td>...</td>\n",
       "      <td>...</td>\n",
       "      <td>...</td>\n",
       "      <td>...</td>\n",
       "      <td>...</td>\n",
       "      <td>...</td>\n",
       "      <td>...</td>\n",
       "      <td>...</td>\n",
       "    </tr>\n",
       "    <tr>\n",
       "      <th>8119</th>\n",
       "      <td>id.8120</td>\n",
       "      <td>knobbed</td>\n",
       "      <td>smooth</td>\n",
       "      <td>brown</td>\n",
       "      <td>False</td>\n",
       "      <td>none</td>\n",
       "      <td>attached</td>\n",
       "      <td>close</td>\n",
       "      <td>broad</td>\n",
       "      <td>yellow</td>\n",
       "      <td>...</td>\n",
       "      <td>orange</td>\n",
       "      <td>orange</td>\n",
       "      <td>partial</td>\n",
       "      <td>orange</td>\n",
       "      <td>one</td>\n",
       "      <td>pendant</td>\n",
       "      <td>buff</td>\n",
       "      <td>clustered</td>\n",
       "      <td>leaves</td>\n",
       "      <td>edible</td>\n",
       "    </tr>\n",
       "    <tr>\n",
       "      <th>8120</th>\n",
       "      <td>id.8121</td>\n",
       "      <td>convex</td>\n",
       "      <td>smooth</td>\n",
       "      <td>brown</td>\n",
       "      <td>False</td>\n",
       "      <td>none</td>\n",
       "      <td>attached</td>\n",
       "      <td>close</td>\n",
       "      <td>broad</td>\n",
       "      <td>yellow</td>\n",
       "      <td>...</td>\n",
       "      <td>orange</td>\n",
       "      <td>orange</td>\n",
       "      <td>partial</td>\n",
       "      <td>brown</td>\n",
       "      <td>one</td>\n",
       "      <td>pendant</td>\n",
       "      <td>buff</td>\n",
       "      <td>several</td>\n",
       "      <td>leaves</td>\n",
       "      <td>edible</td>\n",
       "    </tr>\n",
       "    <tr>\n",
       "      <th>8121</th>\n",
       "      <td>id.8122</td>\n",
       "      <td>flat</td>\n",
       "      <td>smooth</td>\n",
       "      <td>brown</td>\n",
       "      <td>False</td>\n",
       "      <td>none</td>\n",
       "      <td>attached</td>\n",
       "      <td>close</td>\n",
       "      <td>broad</td>\n",
       "      <td>brown</td>\n",
       "      <td>...</td>\n",
       "      <td>orange</td>\n",
       "      <td>orange</td>\n",
       "      <td>partial</td>\n",
       "      <td>orange</td>\n",
       "      <td>one</td>\n",
       "      <td>pendant</td>\n",
       "      <td>buff</td>\n",
       "      <td>clustered</td>\n",
       "      <td>leaves</td>\n",
       "      <td>edible</td>\n",
       "    </tr>\n",
       "    <tr>\n",
       "      <th>8122</th>\n",
       "      <td>id.8123</td>\n",
       "      <td>knobbed</td>\n",
       "      <td>scaly</td>\n",
       "      <td>brown</td>\n",
       "      <td>False</td>\n",
       "      <td>fishy</td>\n",
       "      <td>free</td>\n",
       "      <td>close</td>\n",
       "      <td>narrow</td>\n",
       "      <td>buff</td>\n",
       "      <td>...</td>\n",
       "      <td>white</td>\n",
       "      <td>white</td>\n",
       "      <td>partial</td>\n",
       "      <td>white</td>\n",
       "      <td>one</td>\n",
       "      <td>evanescent</td>\n",
       "      <td>white</td>\n",
       "      <td>several</td>\n",
       "      <td>leaves</td>\n",
       "      <td>poisonous</td>\n",
       "    </tr>\n",
       "    <tr>\n",
       "      <th>8123</th>\n",
       "      <td>id.8124</td>\n",
       "      <td>convex</td>\n",
       "      <td>smooth</td>\n",
       "      <td>brown</td>\n",
       "      <td>False</td>\n",
       "      <td>none</td>\n",
       "      <td>attached</td>\n",
       "      <td>close</td>\n",
       "      <td>broad</td>\n",
       "      <td>yellow</td>\n",
       "      <td>...</td>\n",
       "      <td>orange</td>\n",
       "      <td>orange</td>\n",
       "      <td>partial</td>\n",
       "      <td>orange</td>\n",
       "      <td>one</td>\n",
       "      <td>pendant</td>\n",
       "      <td>orange</td>\n",
       "      <td>clustered</td>\n",
       "      <td>leaves</td>\n",
       "      <td>edible</td>\n",
       "    </tr>\n",
       "  </tbody>\n",
       "</table>\n",
       "<p>8124 rows × 24 columns</p>\n",
       "</div>"
      ],
      "text/plain": [
       "           id cap-Shape cap-Surface cap-Color  bruises?     odor  \\\n",
       "0        id.1    convex      smooth     brown      True  pungent   \n",
       "1        id.2    convex      smooth    yellow      True   almond   \n",
       "2        id.3      bell      smooth     white      True    anise   \n",
       "3        id.4    convex       scaly     white      True  pungent   \n",
       "4        id.5    convex      smooth      gray     False     none   \n",
       "...       ...       ...         ...       ...       ...      ...   \n",
       "8119  id.8120   knobbed      smooth     brown     False     none   \n",
       "8120  id.8121    convex      smooth     brown     False     none   \n",
       "8121  id.8122      flat      smooth     brown     False     none   \n",
       "8122  id.8123   knobbed       scaly     brown     False    fishy   \n",
       "8123  id.8124    convex      smooth     brown     False     none   \n",
       "\n",
       "     gill-Attachment gill-Spacing gill-Size gill-Color  ...  \\\n",
       "0               free        close    narrow      black  ...   \n",
       "1               free        close     broad      black  ...   \n",
       "2               free        close     broad      brown  ...   \n",
       "3               free        close    narrow      brown  ...   \n",
       "4               free      crowded     broad      black  ...   \n",
       "...              ...          ...       ...        ...  ...   \n",
       "8119        attached        close     broad     yellow  ...   \n",
       "8120        attached        close     broad     yellow  ...   \n",
       "8121        attached        close     broad      brown  ...   \n",
       "8122            free        close    narrow       buff  ...   \n",
       "8123        attached        close     broad     yellow  ...   \n",
       "\n",
       "     stalk-Color-Above-Ring stalk-Color-Below-Ring veil-Type veil-Color  \\\n",
       "0                     white                  white   partial      white   \n",
       "1                     white                  white   partial      white   \n",
       "2                     white                  white   partial      white   \n",
       "3                     white                  white   partial      white   \n",
       "4                     white                  white   partial      white   \n",
       "...                     ...                    ...       ...        ...   \n",
       "8119                 orange                 orange   partial     orange   \n",
       "8120                 orange                 orange   partial      brown   \n",
       "8121                 orange                 orange   partial     orange   \n",
       "8122                  white                  white   partial      white   \n",
       "8123                 orange                 orange   partial     orange   \n",
       "\n",
       "     ring-Number   ring-Type spore-Print-Color population  habitat  edibility  \n",
       "0            one     pendant             black  scattered    urban  poisonous  \n",
       "1            one     pendant             brown   numerous  grasses     edible  \n",
       "2            one     pendant             brown   numerous  meadows     edible  \n",
       "3            one     pendant             black  scattered    urban  poisonous  \n",
       "4            one  evanescent             brown   abundant  grasses     edible  \n",
       "...          ...         ...               ...        ...      ...        ...  \n",
       "8119         one     pendant              buff  clustered   leaves     edible  \n",
       "8120         one     pendant              buff    several   leaves     edible  \n",
       "8121         one     pendant              buff  clustered   leaves     edible  \n",
       "8122         one  evanescent             white    several   leaves  poisonous  \n",
       "8123         one     pendant            orange  clustered   leaves     edible  \n",
       "\n",
       "[8124 rows x 24 columns]"
      ]
     },
     "execution_count": 7,
     "metadata": {},
     "output_type": "execute_result"
    }
   ],
   "source": [
    "dfData0"
   ]
  },
  {
   "cell_type": "markdown",
   "id": "e5917bb8",
   "metadata": {},
   "source": [
    "-----\n",
    "\n",
    "## Preliminary data analysis"
   ]
  },
  {
   "cell_type": "code",
   "execution_count": 8,
   "id": "8abe145a",
   "metadata": {},
   "outputs": [
    {
     "name": "stdout",
     "output_type": "stream",
     "text": [
      "==============================\n",
      "         |    edible poisonous\n",
      "------------------------------\n",
      "  almond |       400         .\n",
      "   anise |       400         .\n",
      "creosote |         .       192\n",
      "   fishy |         .       576\n",
      "    foul |         .      2160\n",
      "   musty |         .        36\n",
      "    none |      3408       120\n",
      " pungent |         .       256\n",
      "   spicy |         .       576\n",
      "==============================\n"
     ]
    }
   ],
   "source": [
    "cross_tabulate(dfData0, 'odor', 'edibility').print_matrix()"
   ]
  },
  {
   "cell_type": "markdown",
   "id": "bb855048",
   "metadata": {},
   "source": [
    "----\n",
    "\n",
    "## Make recommender"
   ]
  },
  {
   "cell_type": "markdown",
   "id": "9e219829",
   "metadata": {},
   "source": [
    "Split the data:"
   ]
  },
  {
   "cell_type": "code",
   "execution_count": 9,
   "id": "ccfd4d62",
   "metadata": {},
   "outputs": [
    {
     "name": "stdout",
     "output_type": "stream",
     "text": [
      "(6093, 24)\n",
      "(2031, 24)\n"
     ]
    }
   ],
   "source": [
    "random_seed = 42\n",
    "numpy.random.seed(random_seed)\n",
    "\n",
    "shuffled_indices = numpy.random.permutation(len(dfData0))\n",
    "split_point = int(len(dfData0) * 0.75)\n",
    "\n",
    "train_indices = shuffled_indices[:split_point]\n",
    "test_indices = shuffled_indices[split_point:]\n",
    "\n",
    "dfTraining = dfData0.iloc[train_indices].reset_index(drop=True)\n",
    "dfTesting = dfData0.iloc[test_indices].reset_index(drop=True)\n",
    "\n",
    "print(dfTraining.shape)\n",
    "print(dfTesting.shape)"
   ]
  },
  {
   "cell_type": "markdown",
   "id": "41624a0f",
   "metadata": {},
   "source": [
    "Make the recommender with the training data:"
   ]
  },
  {
   "cell_type": "code",
   "execution_count": 10,
   "id": "0bc6c791",
   "metadata": {},
   "outputs": [],
   "source": [
    "smrObj = (SparseMatrixRecommender()\n",
    "          .create_from_wide_form(dfTraining,\n",
    "                                 item_column_name=\"id\",\n",
    "                                 columns=[\"cap-Shape\", \"cap-Surface\", \"cap-Color\", \"bruises?\", \"odor\", \"gill-Attachment\", \"gill-Spacing\", \"gill-Size\", \"gill-Color\", \"edibility\"],\n",
    "                                 add_tag_types_to_column_names=True,\n",
    "                                 tag_value_separator=\":\")\n",
    "          .apply_term_weight_functions(\"IDF\", \"None\", \"Cosine\"))"
   ]
  },
  {
   "cell_type": "markdown",
   "id": "fbe8ef99",
   "metadata": {},
   "source": [
    "The obtained recommender object:"
   ]
  },
  {
   "cell_type": "code",
   "execution_count": 11,
   "id": "1428e74b",
   "metadata": {},
   "outputs": [
    {
     "data": {
      "text/plain": [
       "<Sparse matrix recommender object with matrix dimensions 6093x51\n",
       "\tand with 10 tag types>"
      ]
     },
     "execution_count": 11,
     "metadata": {},
     "output_type": "execute_result"
    }
   ],
   "source": [
    "smrObj"
   ]
  },
  {
   "cell_type": "markdown",
   "id": "27f5ef79",
   "metadata": {},
   "source": [
    "Classify by profile:"
   ]
  },
  {
   "cell_type": "code",
   "execution_count": 12,
   "id": "57f324ac",
   "metadata": {},
   "outputs": [
    {
     "data": {
      "text/plain": [
       "{'edibility:poisonous': 1.0}"
      ]
     },
     "execution_count": 12,
     "metadata": {},
     "output_type": "execute_result"
    }
   ],
   "source": [
    "recs = (smrObj\n",
    "        .classify_by_profile('edibility', profile={\"cap-Shape:convex\": 1.2, \"edibility:poisonous\": 1.4}, n_top_nearest_neighbors=20)\n",
    "        .take_value())\n",
    "\n",
    "recs"
   ]
  },
  {
   "cell_type": "markdown",
   "id": "807ae65d",
   "metadata": {},
   "source": [
    "----\n",
    "\n",
    "## Batch classification"
   ]
  },
  {
   "cell_type": "code",
   "execution_count": 13,
   "id": "6c0b3b30",
   "metadata": {},
   "outputs": [
    {
     "data": {
      "text/plain": [
       "Vector(Struct([actual, edible, id, predicted], [str, float, str, str]), 2031)"
      ]
     },
     "execution_count": 13,
     "metadata": {},
     "output_type": "execute_result"
    }
   ],
   "source": [
    "n_top_nearest_neighbors = 20\n",
    "\n",
    "noNNs = []\n",
    "\n",
    "dfResults = []\n",
    "for record in dfTesting.to_dict(orient='records'):\n",
    "    prof = [(k, v) for k, v in record.items() if k not in ('id', 'edibility')]\n",
    "    prof = [f\"{k}:{v}\" for k, v in prof]\n",
    "    class_dict = smrObj.classify_by_profile(tag_type='edibility', profile=prof, n_top_nearest_neighbors = n_top_nearest_neighbors, ignore_unknown=True).take_value()\n",
    "    class_dict = {k.replace('edibility:', ''): float(v) for k, v in class_dict.items()}\n",
    "\n",
    "    if len(class_dict) == 0:\n",
    "        noNNs.append(prof)\n",
    "\n",
    "    predicted = max(class_dict, key=class_dict.get) if class_dict else None\n",
    "    result = {'id': record['id'], 'actual': record['edibility'], 'predicted': predicted}\n",
    "    result.update(class_dict)\n",
    "    dfResults.append(result)\n",
    "\n",
    "deduce_type(dfResults)"
   ]
  },
  {
   "cell_type": "code",
   "execution_count": 14,
   "id": "759d7ef0",
   "metadata": {},
   "outputs": [
    {
     "data": {
      "text/plain": [
       "Counter({4: 1922, 5: 109})"
      ]
     },
     "execution_count": 14,
     "metadata": {},
     "output_type": "execute_result"
    }
   ],
   "source": [
    "Counter([len(row) for row in dfResults])"
   ]
  },
  {
   "cell_type": "code",
   "execution_count": 15,
   "id": "ee7b6ec0",
   "metadata": {},
   "outputs": [
    {
     "data": {
      "text/plain": [
       "Counter({5: 2031})"
      ]
     },
     "execution_count": 15,
     "metadata": {},
     "output_type": "execute_result"
    }
   ],
   "source": [
    "empty = {'poisonous': 0, 'edible': 0}\n",
    "dfResults = [{**empty, **res} for res in dfResults]\n",
    "\n",
    "from collections import Counter\n",
    "Counter(len(res) for res in dfResults)"
   ]
  },
  {
   "cell_type": "code",
   "execution_count": 16,
   "id": "96733d10",
   "metadata": {},
   "outputs": [
    {
     "data": {
      "text/html": [
       "<div>\n",
       "<style scoped>\n",
       "    .dataframe tbody tr th:only-of-type {\n",
       "        vertical-align: middle;\n",
       "    }\n",
       "\n",
       "    .dataframe tbody tr th {\n",
       "        vertical-align: top;\n",
       "    }\n",
       "\n",
       "    .dataframe thead th {\n",
       "        text-align: right;\n",
       "    }\n",
       "</style>\n",
       "<table border=\"1\" class=\"dataframe\">\n",
       "  <thead>\n",
       "    <tr style=\"text-align: right;\">\n",
       "      <th></th>\n",
       "      <th>poisonous</th>\n",
       "      <th>edible</th>\n",
       "      <th>id</th>\n",
       "      <th>actual</th>\n",
       "      <th>predicted</th>\n",
       "    </tr>\n",
       "  </thead>\n",
       "  <tbody>\n",
       "    <tr>\n",
       "      <th>0</th>\n",
       "      <td>0.0</td>\n",
       "      <td>1.00000</td>\n",
       "      <td>id.3527</td>\n",
       "      <td>edible</td>\n",
       "      <td>edible</td>\n",
       "    </tr>\n",
       "    <tr>\n",
       "      <th>1</th>\n",
       "      <td>0.0</td>\n",
       "      <td>1.00000</td>\n",
       "      <td>id.2515</td>\n",
       "      <td>edible</td>\n",
       "      <td>edible</td>\n",
       "    </tr>\n",
       "    <tr>\n",
       "      <th>2</th>\n",
       "      <td>1.0</td>\n",
       "      <td>0.04908</td>\n",
       "      <td>id.5446</td>\n",
       "      <td>poisonous</td>\n",
       "      <td>poisonous</td>\n",
       "    </tr>\n",
       "    <tr>\n",
       "      <th>3</th>\n",
       "      <td>0.0</td>\n",
       "      <td>1.00000</td>\n",
       "      <td>id.1008</td>\n",
       "      <td>edible</td>\n",
       "      <td>edible</td>\n",
       "    </tr>\n",
       "    <tr>\n",
       "      <th>4</th>\n",
       "      <td>1.0</td>\n",
       "      <td>0.00000</td>\n",
       "      <td>id.4771</td>\n",
       "      <td>poisonous</td>\n",
       "      <td>poisonous</td>\n",
       "    </tr>\n",
       "    <tr>\n",
       "      <th>...</th>\n",
       "      <td>...</td>\n",
       "      <td>...</td>\n",
       "      <td>...</td>\n",
       "      <td>...</td>\n",
       "      <td>...</td>\n",
       "    </tr>\n",
       "    <tr>\n",
       "      <th>2026</th>\n",
       "      <td>1.0</td>\n",
       "      <td>0.00000</td>\n",
       "      <td>id.5227</td>\n",
       "      <td>poisonous</td>\n",
       "      <td>poisonous</td>\n",
       "    </tr>\n",
       "    <tr>\n",
       "      <th>2027</th>\n",
       "      <td>0.0</td>\n",
       "      <td>1.00000</td>\n",
       "      <td>id.5391</td>\n",
       "      <td>edible</td>\n",
       "      <td>edible</td>\n",
       "    </tr>\n",
       "    <tr>\n",
       "      <th>2028</th>\n",
       "      <td>0.0</td>\n",
       "      <td>1.00000</td>\n",
       "      <td>id.861</td>\n",
       "      <td>edible</td>\n",
       "      <td>edible</td>\n",
       "    </tr>\n",
       "    <tr>\n",
       "      <th>2029</th>\n",
       "      <td>1.0</td>\n",
       "      <td>0.00000</td>\n",
       "      <td>id.7604</td>\n",
       "      <td>poisonous</td>\n",
       "      <td>poisonous</td>\n",
       "    </tr>\n",
       "    <tr>\n",
       "      <th>2030</th>\n",
       "      <td>0.0</td>\n",
       "      <td>1.00000</td>\n",
       "      <td>id.7271</td>\n",
       "      <td>edible</td>\n",
       "      <td>edible</td>\n",
       "    </tr>\n",
       "  </tbody>\n",
       "</table>\n",
       "<p>2031 rows × 5 columns</p>\n",
       "</div>"
      ],
      "text/plain": [
       "      poisonous   edible       id     actual  predicted\n",
       "0           0.0  1.00000  id.3527     edible     edible\n",
       "1           0.0  1.00000  id.2515     edible     edible\n",
       "2           1.0  0.04908  id.5446  poisonous  poisonous\n",
       "3           0.0  1.00000  id.1008     edible     edible\n",
       "4           1.0  0.00000  id.4771  poisonous  poisonous\n",
       "...         ...      ...      ...        ...        ...\n",
       "2026        1.0  0.00000  id.5227  poisonous  poisonous\n",
       "2027        0.0  1.00000  id.5391     edible     edible\n",
       "2028        0.0  1.00000   id.861     edible     edible\n",
       "2029        1.0  0.00000  id.7604  poisonous  poisonous\n",
       "2030        0.0  1.00000  id.7271     edible     edible\n",
       "\n",
       "[2031 rows x 5 columns]"
      ]
     },
     "execution_count": 16,
     "metadata": {},
     "output_type": "execute_result"
    }
   ],
   "source": [
    "dfResults=pandas.DataFrame(dfResults)\n",
    "dfResults"
   ]
  },
  {
   "cell_type": "markdown",
   "id": "92330a45",
   "metadata": {},
   "source": [
    "-----\n",
    "\n",
    "## Classifier metrics"
   ]
  },
  {
   "cell_type": "code",
   "execution_count": 17,
   "id": "6e9be99e",
   "metadata": {},
   "outputs": [
    {
     "name": "stdout",
     "output_type": "stream",
     "text": [
      "===============================\n",
      "          |    edible poisonous\n",
      "-------------------------------\n",
      "   edible |      1074         2\n",
      "poisonous |        13       942\n",
      "===============================\n"
     ]
    }
   ],
   "source": [
    "cross_tabulate(dfResults, \"actual\", \"predicted\").print_matrix()"
   ]
  },
  {
   "cell_type": "code",
   "execution_count": 37,
   "id": "84a8ccef",
   "metadata": {},
   "outputs": [
    {
     "data": {
      "text/plain": [
       "Assoc(Atom(<class 'float'>), Assoc(Atom(<class 'str'>), Atom(<class 'int'>), 4), 101)"
      ]
     },
     "execution_count": 37,
     "metadata": {},
     "output_type": "execute_result"
    }
   ],
   "source": [
    "thresholds = numpy.arange(0, 1.01, 0.01)\n",
    "\n",
    "rocGroups = {}\n",
    "for th in thresholds:\n",
    "    rocGroups[th] = to_roc_dict('poisonous', 'edible',\n",
    "                        list(dfResults.actual.values),\n",
    "                        [('poisonous' if value >= th else 'edible') for value in list(dfResults.poisonous)]\n",
    ")\n",
    "\n",
    "deduce_type(rocGroups)"
   ]
  },
  {
   "cell_type": "markdown",
   "id": "49d47cd8",
   "metadata": {},
   "source": [
    "The ROC curve plot:"
   ]
  },
  {
   "cell_type": "code",
   "execution_count": 47,
   "id": "410b2987",
   "metadata": {},
   "outputs": [
    {
     "data": {
      "image/png": "[encoded data removed]",
      "text/plain": [
       "<Figure size 640x480 with 1 Axes>"
      ]
     },
     "metadata": {},
     "output_type": "display_data"
    }
   ],
   "source": [
    "plot_roc(\n",
    "    [roc_functions('FPR')(v) for (k, v) in rocGroups.items()],\n",
    "    [roc_functions('TPR')(v) for (k, v) in rocGroups.items()]\n",
    ")"
   ]
  }
 ],
 "metadata": {
  "kernelspec": {
   "display_name": "SciPyCentric",
   "language": "python",
   "name": "python3"
  },
  "language_info": {
   "codemirror_mode": {
    "name": "ipython",
    "version": 3
   },
   "file_extension": ".py",
   "mimetype": "text/x-python",
   "name": "python",
   "nbconvert_exporter": "python",
   "pygments_lexer": "ipython3",
   "version": "3.12.2"
  }
 },
 "nbformat": 4,
 "nbformat_minor": 5
}
