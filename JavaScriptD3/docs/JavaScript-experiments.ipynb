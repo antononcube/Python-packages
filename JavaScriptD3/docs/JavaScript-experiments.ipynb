{
 "cells": [
  {
   "cell_type": "code",
   "execution_count": 25,
   "id": "c4054b20",
   "metadata": {},
   "outputs": [
    {
     "data": {
      "application/javascript": "require.config({\n     paths: {\n     d3: 'https://d3js.org/d3.v7.min'\n}});\n\nrequire(['d3'], function(d3) {\n     console.log(d3);\n});\n",
      "text/plain": [
       "<IPython.core.display.Javascript object>"
      ]
     },
     "metadata": {},
     "output_type": "display_data"
    }
   ],
   "source": [
    "%%javascript\n",
    "require.config({\n",
    "     paths: {\n",
    "     d3: 'https://d3js.org/d3.v7.min'\n",
    "}});\n",
    "\n",
    "require(['d3'], function(d3) {\n",
    "     console.log(d3);\n",
    "});"
   ]
  },
  {
   "cell_type": "code",
   "execution_count": 26,
   "id": "a860e8fd",
   "metadata": {},
   "outputs": [],
   "source": [
    "from IPython.display import clear_output, display, HTML, Javascript"
   ]
  },
  {
   "cell_type": "code",
   "execution_count": 27,
   "id": "1f168ea0",
   "metadata": {},
   "outputs": [],
   "source": [
    "from RandomDataGenerators import *\n",
    "from RandomMandala import *\n",
    "import numpy.random\n",
    "\n",
    "from JavaScriptD3 import * "
   ]
  },
  {
   "cell_type": "code",
   "execution_count": 28,
   "id": "244901b2",
   "metadata": {},
   "outputs": [
    {
     "data": {
      "text/html": [
       "<div>\n",
       "<style scoped>\n",
       "    .dataframe tbody tr th:only-of-type {\n",
       "        vertical-align: middle;\n",
       "    }\n",
       "\n",
       "    .dataframe tbody tr th {\n",
       "        vertical-align: top;\n",
       "    }\n",
       "\n",
       "    .dataframe thead th {\n",
       "        text-align: right;\n",
       "    }\n",
       "</style>\n",
       "<table border=\"1\" class=\"dataframe\">\n",
       "  <thead>\n",
       "    <tr style=\"text-align: right;\">\n",
       "      <th></th>\n",
       "      <th>x</th>\n",
       "      <th>y</th>\n",
       "      <th>group</th>\n",
       "    </tr>\n",
       "  </thead>\n",
       "  <tbody>\n",
       "    <tr>\n",
       "      <th>0</th>\n",
       "      <td>0.262568</td>\n",
       "      <td>-1.148159</td>\n",
       "      <td>barista</td>\n",
       "    </tr>\n",
       "    <tr>\n",
       "      <th>1</th>\n",
       "      <td>-0.031913</td>\n",
       "      <td>0.839354</td>\n",
       "      <td>c</td>\n",
       "    </tr>\n",
       "    <tr>\n",
       "      <th>2</th>\n",
       "      <td>0.969880</td>\n",
       "      <td>-0.244380</td>\n",
       "      <td>barista</td>\n",
       "    </tr>\n",
       "    <tr>\n",
       "      <th>3</th>\n",
       "      <td>0.263726</td>\n",
       "      <td>-0.248834</td>\n",
       "      <td>a</td>\n",
       "    </tr>\n",
       "    <tr>\n",
       "      <th>4</th>\n",
       "      <td>1.683072</td>\n",
       "      <td>-0.304048</td>\n",
       "      <td>c</td>\n",
       "    </tr>\n",
       "  </tbody>\n",
       "</table>\n",
       "</div>"
      ],
      "text/plain": [
       "          x         y    group\n",
       "0  0.262568 -1.148159  barista\n",
       "1 -0.031913  0.839354        c\n",
       "2  0.969880 -0.244380  barista\n",
       "3  0.263726 -0.248834        a\n",
       "4  1.683072 -0.304048        c"
      ]
     },
     "execution_count": 28,
     "metadata": {},
     "output_type": "execute_result"
    }
   ],
   "source": [
    "dfRand = random_data_frame(10, [\"x\", \"y\", \"group\"], generators={\"x\":numpy.random.normal, \"y\":numpy.random.normal, \"group\":[\"a\",\"barista\",\"c\"]})\n",
    "dfRand.head(5)"
   ]
  },
  {
   "cell_type": "code",
   "execution_count": 29,
   "id": "7ded8b01",
   "metadata": {},
   "outputs": [
    {
     "data": {
      "text/plain": [
       "[{'x': 0.2625683233973092, 'y': -1.1481590015896408, 'group': 'barista'},\n",
       " {'x': -0.0319129161550704, 'y': 0.8393543883561695, 'group': 'c'},\n",
       " {'x': 0.9698804833512005, 'y': -0.24437952935868482, 'group': 'barista'},\n",
       " {'x': 0.26372588576999306, 'y': -0.24883366577008692, 'group': 'a'},\n",
       " {'x': 1.6830719177189823, 'y': -0.30404822110695795, 'group': 'c'},\n",
       " {'x': 0.2735626209622221, 'y': -0.9788563936524668, 'group': 'barista'},\n",
       " {'x': 1.7361048695954895, 'y': -2.0148183557377037, 'group': 'c'},\n",
       " {'x': -0.08228852928319973, 'y': -0.9011735098509241, 'group': 'c'},\n",
       " {'x': 1.5840279668647543, 'y': 1.4771817494204376, 'group': 'a'},\n",
       " {'x': -0.06578378443936936, 'y': 0.510132954289384, 'group': 'c'}]"
      ]
     },
     "execution_count": 29,
     "metadata": {},
     "output_type": "execute_result"
    }
   ],
   "source": [
    "arrXYG = list(dfRand.transpose().to_dict().values())\n",
    "arrXYG"
   ]
  },
  {
   "cell_type": "code",
   "execution_count": 30,
   "id": "4b72cf50",
   "metadata": {},
   "outputs": [
    {
     "data": {
      "application/javascript": "\n    (function(element) { require(['d3'], function(d3) {\n    \n\n    // set the dimensions and margins of the graph\n    var margin = {\"top\": 40, \"bottom\": 40, \"left\": 40, \"right\": 132},\n        width = 600 - margin.left - margin.right,\n        height = 400 - margin.top - margin.bottom;\n    \n    // append the svg object to the body of the page\n    var svg = d3\n       .select(element.get(0))\n      .append(\"svg\")\n        .attr(\"width\", width + margin.left + margin.right)\n        .attr(\"height\", height + margin.top + margin.bottom)\n        .style(\"background\", \"white\")\n      .append(\"g\")\n        .attr(\"transform\",\n              \"translate(\" + margin.left + \",\" + margin.top + \")\")\n    \n    // Obtain title\n    var title = \"Groups plot\"\n    \n    if ( title.length > 0 ) {\n        svg.append(\"text\")\n            .attr(\"x\", (width / 2))\n            .attr(\"y\", 0 - (margin.top / 2))\n            .attr(\"text-anchor\", \"middle\")\n            .style(\"font-size\", \"16px\")\n            //.style(\"text-decoration\", \"underline\")\n            .text(title);\n    }\n    \n    // Obtain x-axis label\n    var xAxisLabel = \"My X\"\n    var xAxisLabelFontSize = 12\n    \n    if ( xAxisLabel.length > 0 ) {\n        svg.append(\"text\")\n            .attr(\"x\", (width / 2))\n            .attr(\"y\", height + margin.bottom - xAxisLabelFontSize/2)\n            .attr(\"text-anchor\", \"middle\")\n            .style(\"font-size\", xAxisLabelFontSize.toString() + \"px\")\n            .text(xAxisLabel);\n    }\n    \n    // Obtain y-axis label\n    var yAxisLabel = \"My Y\"\n    var yAxisLabelFontSize = 12\n    \n    if ( yAxisLabel.length > 0 ) {\n        svg.append(\"text\")\n            .attr(\"transform\", \"rotate(-90)\")\n            .attr(\"x\", - (height / 2))\n            .attr(\"y\", 0 - margin.left + yAxisLabelFontSize)\n            .attr(\"text-anchor\", \"middle\")\n            .style(\"font-size\", yAxisLabelFontSize.toString() + \"px\")\n            .text(yAxisLabel);\n    }\n    \n\n    // Obtain data\n    var data = [{\"x\": 0.2625683233973092, \"y\": -1.1481590015896408, \"group\": \"barista\"}, {\"x\": -0.0319129161550704, \"y\": 0.8393543883561695, \"group\": \"c\"}, {\"x\": 0.9698804833512005, \"y\": -0.24437952935868482, \"group\": \"barista\"}, {\"x\": 0.26372588576999306, \"y\": -0.24883366577008692, \"group\": \"a\"}, {\"x\": 1.6830719177189823, \"y\": -0.30404822110695795, \"group\": \"c\"}, {\"x\": 0.2735626209622221, \"y\": -0.9788563936524668, \"group\": \"barista\"}, {\"x\": 1.7361048695954895, \"y\": -2.0148183557377037, \"group\": \"c\"}, {\"x\": -0.08228852928319973, \"y\": -0.9011735098509241, \"group\": \"c\"}, {\"x\": 1.5840279668647543, \"y\": 1.4771817494204376, \"group\": \"a\"}, {\"x\": -0.06578378443936936, \"y\": 0.510132954289384, \"group\": \"c\"}]\n\n    var xMin = Math.min.apply(Math, data.map(function(o) { return o.x; }))\n    var xMax = Math.max.apply(Math, data.map(function(o) { return o.x; }))\n\n    var yMin = Math.min.apply(Math, data.map(function(o) { return o.y; }))\n    var yMax = Math.max.apply(Math, data.map(function(o) { return o.y; }))\n\n    // X scale and Axis\n    var x = d3.scaleLinear()\n        .domain([xMin, xMax])\n        .range([0, width]);\n\n    // Y scale and Axis\n    var y = d3.scaleLinear()\n        .domain([yMin, yMax])\n        .range([height, 0]);\n    \n\n    svg\n      .append('g')\n      .attr(\"transform\", \"translate(0,\" + height + \")\")\n      .call(d3.axisBottom(x).ticks(12).tickSizeInner(-height))\n    \n    svg\n      .append('g')\n      .call(d3.axisLeft(y).ticks(12).tickSizeInner(-width));\n    \n\n    // group the data: I want to draw one line per group\n    const sumstat = d3.group(data, d => d.group); // nest function allows to group the calculation per level of a factor\n\n    // Add a scale for line color\n    var myColor = d3.scaleOrdinal()\n        .domain(data.map(function(o) { return o.group; }))\n        .range(d3.schemeSet2);\n\n    // Draw the line\n    svg.selectAll(\".line\")\n          .data(sumstat)\n          .join(\"path\")\n            .attr(\"fill\", \"none\")\n            .attr(\"stroke\", function(d){ return myColor(d[0]) })\n            .attr(\"stroke-width\", 1.5)\n            .attr(\"d\", function(d){\n              return d3.line()\n                .x(function(d) { return x(d.x); })\n                .y(function(d) { return y(+d.y); })\n                (d[1])\n            })\n\n    \n\n    // create a list of keys\n    var keys = data.map(function(o) { return o.group; })\n    keys = [...new Set(keys)];\n    \n    // Add one dot in the legend for each name.\n    svg.selectAll(\"mydots\")\n      .data(keys)\n      .enter()\n      .append(\"circle\")\n        .attr(\"cx\", width + 3*12)\n        .attr(\"cy\", function(d,i){ return 0 + i*25})\n        .attr(\"r\", 6)\n        .style(\"fill\", function(d){ return myColor(d)})\n    \n    // Add one dot in the legend for each name.\n    svg.selectAll(\"mylabels\")\n      .data(keys)\n      .enter()\n      .append(\"text\")\n        .attr(\"x\", width + 3*12 + 12)\n        .attr(\"y\", function(d,i){ return 0 + i*25})\n        .style(\"fill\", function(d){ return myColor(d)})\n        .text(function(d){ return d})\n        .attr(\"text-anchor\", \"left\")\n        .style(\"alignment-baseline\", \"middle\")\n        .style(\"font-size\", \"12px\")\n        .attr(\"font-family\", \"Courier\")\n    \n\n    }) })(element);\n    ",
      "text/plain": [
       "<IPython.core.display.Javascript object>"
      ]
     },
     "metadata": {},
     "output_type": "display_data"
    }
   ],
   "source": [
    "js_d3_list_line_plot(arrXYG, title=\"Groups plot\", x_axis_label=\"My X\", y_axis_label=\"My Y\", grid_lines=12, legends=True)"
   ]
  },
  {
   "cell_type": "code",
   "execution_count": 31,
   "id": "b7901d6e",
   "metadata": {},
   "outputs": [
    {
     "data": {
      "text/plain": [
       "3"
      ]
     },
     "execution_count": 31,
     "metadata": {},
     "output_type": "execute_result"
    }
   ],
   "source": [
    "len(\"all\")"
   ]
  },
  {
   "cell_type": "code",
   "execution_count": 32,
   "id": "970be4a9",
   "metadata": {},
   "outputs": [],
   "source": [
    "arr1 = numpy.random.normal(3,1,30)"
   ]
  },
  {
   "cell_type": "code",
   "execution_count": 33,
   "id": "d7163648",
   "metadata": {},
   "outputs": [
    {
     "data": {
      "application/javascript": "\n    (function(element) { require(['d3'], function(d3) {\n    \n\n    // set the dimensions and margins of the graph\n    var margin = {\"top\": 140, \"bottom\": 40, \"left\": 40, \"right\": 40},\n        width = 600 - margin.left - margin.right,\n        height = 400 - margin.top - margin.bottom;\n    \n    // append the svg object to the body of the page\n    var svg = d3\n       .select(element.get(0))\n      .append(\"svg\")\n        .attr(\"width\", width + margin.left + margin.right)\n        .attr(\"height\", height + margin.top + margin.bottom)\n        .style(\"background\", \"white\")\n      .append(\"g\")\n        .attr(\"transform\",\n              \"translate(\" + margin.left + \",\" + margin.top + \")\")\n    \n    // Obtain title\n    var title = \"Some plot\"\n    \n    if ( title.length > 0 ) {\n        svg.append(\"text\")\n            .attr(\"x\", (width / 2))\n            .attr(\"y\", 0 - (margin.top / 2))\n            .attr(\"text-anchor\", \"middle\")\n            .style(\"font-size\", \"16px\")\n            //.style(\"text-decoration\", \"underline\")\n            .text(title);\n    }\n    \n    // Obtain x-axis label\n    var xAxisLabel = \"My X\"\n    var xAxisLabelFontSize = 12\n    \n    if ( xAxisLabel.length > 0 ) {\n        svg.append(\"text\")\n            .attr(\"x\", (width / 2))\n            .attr(\"y\", height + margin.bottom - xAxisLabelFontSize/2)\n            .attr(\"text-anchor\", \"middle\")\n            .style(\"font-size\", xAxisLabelFontSize.toString() + \"px\")\n            .text(xAxisLabel);\n    }\n    \n    // Obtain y-axis label\n    var yAxisLabel = \"My Y\"\n    var yAxisLabelFontSize = 12\n    \n    if ( yAxisLabel.length > 0 ) {\n        svg.append(\"text\")\n            .attr(\"transform\", \"rotate(-90)\")\n            .attr(\"x\", - (height / 2))\n            .attr(\"y\", 0 - margin.left + yAxisLabelFontSize)\n            .attr(\"text-anchor\", \"middle\")\n            .style(\"font-size\", yAxisLabelFontSize.toString() + \"px\")\n            .text(yAxisLabel);\n    }\n    \n\n    // Obtain data\n    var data = [{\"x\": 0, \"y\": 3.4858546011827056}, {\"x\": 1, \"y\": 2.8283847293717916}, {\"x\": 2, \"y\": 2.509714626605496}, {\"x\": 3, \"y\": 3.053574432897333}, {\"x\": 4, \"y\": 3.974022060003521}, {\"x\": 5, \"y\": 1.9299801579488536}, {\"x\": 6, \"y\": 4.147507633392102}, {\"x\": 7, \"y\": 4.31514122856407}, {\"x\": 8, \"y\": 2.0691900338562874}, {\"x\": 9, \"y\": 3.3144375553217884}, {\"x\": 10, \"y\": 1.6704951221452258}, {\"x\": 11, \"y\": 3.458522662949875}, {\"x\": 12, \"y\": 4.317821528729343}, {\"x\": 13, \"y\": 2.4297461680474717}, {\"x\": 14, \"y\": 2.431500644493905}, {\"x\": 15, \"y\": 3.541816239217669}, {\"x\": 16, \"y\": 1.8682223730568321}, {\"x\": 17, \"y\": 4.967935581177523}, {\"x\": 18, \"y\": 1.1190083218963223}, {\"x\": 19, \"y\": 2.4416199954145963}, {\"x\": 20, \"y\": 1.896646003958563}, {\"x\": 21, \"y\": 3.2427920999610254}, {\"x\": 22, \"y\": 2.042860973685903}, {\"x\": 23, \"y\": 1.5591453589210003}, {\"x\": 24, \"y\": 1.1218756516177364}, {\"x\": 25, \"y\": 4.50401144912499}, {\"x\": 26, \"y\": 1.3953288799772132}, {\"x\": 27, \"y\": 1.7971018084364945}, {\"x\": 28, \"y\": 0.6749951674204295}, {\"x\": 29, \"y\": 4.306081405991188}]\n\n    var xMin = Math.min.apply(Math, data.map(function(o) { return o.x; }))\n    var xMax = Math.max.apply(Math, data.map(function(o) { return o.x; }))\n\n    var yMin = Math.min.apply(Math, data.map(function(o) { return o.y; }))\n    var yMax = Math.max.apply(Math, data.map(function(o) { return o.y; }))\n\n    // X scale and Axis\n    var x = d3.scaleLinear()\n        .domain([xMin, xMax])\n        .range([0, width]);\n\n    // Y scale and Axis\n    var y = d3.scaleLinear()\n        .domain([yMin, yMax])\n        .range([height, 0]);\n    \n\n    svg\n      .append('g')\n      .attr(\"transform\", \"translate(0,\" + height + \")\")\n      .call(d3.axisBottom(x).ticks(12).tickSizeInner(-height))\n    \n    svg\n      .append('g')\n      .call(d3.axisLeft(y).ticks(12).tickSizeInner(-width));\n    \n\n    // Add dots\n    svg\n      .selectAll(\"whatever\")\n      .data(data)\n      .enter()\n      .append(\"circle\")\n        .attr(\"cx\", function(d){ return x(d.x) })\n        .attr(\"cy\", function(d){ return y(d.y) })\n        .attr(\"r\", 3)\n        .attr(\"color\", \"blue\")\n        .attr(\"fill\", \"steelblue\")\n    \n\n    }) })(element);\n    ",
      "text/plain": [
       "<IPython.core.display.Javascript object>"
      ]
     },
     "metadata": {},
     "output_type": "display_data"
    }
   ],
   "source": [
    "js_d3_list_plot(arr1, title=\"Some plot\", x_axis_label=\"My X\", y_axis_label=\"My Y\", grid_lines=12, margins = {\"top\":140} )"
   ]
  },
  {
   "cell_type": "code",
   "execution_count": 34,
   "id": "ab42ffc2",
   "metadata": {},
   "outputs": [
    {
     "data": {
      "text/plain": [
       "(300, 2)"
      ]
     },
     "execution_count": 34,
     "metadata": {},
     "output_type": "execute_result"
    }
   ],
   "source": [
    "arr2 = numpy.random.normal(120,4,(300,2))\n",
    "arr2.shape"
   ]
  },
  {
   "cell_type": "code",
   "execution_count": 35,
   "id": "a8382969",
   "metadata": {},
   "outputs": [
    {
     "data": {
      "application/javascript": "\n    (function(element) { require(['d3'], function(d3) {\n    \n\n    // set the dimensions and margins of the graph\n    var margin = {\"top\": 40, \"bottom\": 40, \"left\": 40, \"right\": 40},\n        width = 600 - margin.left - margin.right,\n        height = 600 - margin.top - margin.bottom;\n    \n    // append the svg object to the body of the page\n    var svg = d3\n       .select(element.get(0))\n      .append(\"svg\")\n        .attr(\"width\", width + margin.left + margin.right)\n        .attr(\"height\", height + margin.top + margin.bottom)\n        .style(\"background\", \"white\")\n      .append(\"g\")\n        .attr(\"transform\",\n              \"translate(\" + margin.left + \",\" + margin.top + \")\")\n    \n    // Obtain title\n    var title = \"\"\n    \n    if ( title.length > 0 ) {\n        svg.append(\"text\")\n            .attr(\"x\", (width / 2))\n            .attr(\"y\", 0 - (margin.top / 2))\n            .attr(\"text-anchor\", \"middle\")\n            .style(\"font-size\", \"16px\")\n            //.style(\"text-decoration\", \"underline\")\n            .text(title);\n    }\n    \n    // Obtain x-axis label\n    var xAxisLabel = \"\"\n    var xAxisLabelFontSize = 12\n    \n    if ( xAxisLabel.length > 0 ) {\n        svg.append(\"text\")\n            .attr(\"x\", (width / 2))\n            .attr(\"y\", height + margin.bottom - xAxisLabelFontSize/2)\n            .attr(\"text-anchor\", \"middle\")\n            .style(\"font-size\", xAxisLabelFontSize.toString() + \"px\")\n            .text(xAxisLabel);\n    }\n    \n    // Obtain y-axis label\n    var yAxisLabel = \"\"\n    var yAxisLabelFontSize = 12\n    \n    if ( yAxisLabel.length > 0 ) {\n        svg.append(\"text\")\n            .attr(\"transform\", \"rotate(-90)\")\n            .attr(\"x\", - (height / 2))\n            .attr(\"y\", 0 - margin.left + yAxisLabelFontSize)\n            .attr(\"text-anchor\", \"middle\")\n            .style(\"font-size\", yAxisLabelFontSize.toString() + \"px\")\n            .text(yAxisLabel);\n    }\n    \n\n    // Obtain data\n    var data = [{\"x\": 109.88070548170256, \"y\": 120.67523533721793}, {\"x\": 109.91225117868993, \"y\": 125.02441543914394}, {\"x\": 110.65461560770298, \"y\": 121.55851975706673}, {\"x\": 110.91936939682735, \"y\": 117.01533390736714}, {\"x\": 111.18403885642948, \"y\": 117.88203991122448}, {\"x\": 111.40470779897308, \"y\": 120.79566927836431}, {\"x\": 111.75506479749663, \"y\": 118.0603284335595}, {\"x\": 111.7644185072837, \"y\": 120.80899588246658}, {\"x\": 111.82973666322414, \"y\": 124.85524327970657}, {\"x\": 112.10618058360635, \"y\": 119.73345265514195}, {\"x\": 112.16702567023685, \"y\": 114.71643703953316}, {\"x\": 112.31462560172055, \"y\": 124.44714978146311}, {\"x\": 112.56846454841047, \"y\": 111.99091073655653}, {\"x\": 112.91262318989332, \"y\": 120.00235041626732}, {\"x\": 113.23049579593578, \"y\": 116.48520204566925}, {\"x\": 113.27170844568087, \"y\": 120.13446181724335}, {\"x\": 113.32473952581692, \"y\": 123.55064510667121}, {\"x\": 113.33103197740944, \"y\": 117.89318382654263}, {\"x\": 113.3894671981171, \"y\": 123.85450244407724}, {\"x\": 113.51271949430762, \"y\": 119.26290897020372}, {\"x\": 113.64729501195539, \"y\": 125.46529453364163}, {\"x\": 113.69859994675902, \"y\": 116.48912223677773}, {\"x\": 113.73017686450754, \"y\": 113.44978057075329}, {\"x\": 113.75940804347202, \"y\": 118.74039302263631}, {\"x\": 113.88572143821848, \"y\": 117.50214634647855}, {\"x\": 114.01689702130938, \"y\": 114.94150447995247}, {\"x\": 114.04265753745953, \"y\": 124.38172860648615}, {\"x\": 114.17644891060286, \"y\": 120.40957802932446}, {\"x\": 114.23466350219081, \"y\": 123.67660806816151}, {\"x\": 114.34581698283411, \"y\": 124.37026914694732}, {\"x\": 114.5026635648042, \"y\": 113.21671505688782}, {\"x\": 114.5887897969944, \"y\": 125.9466622579695}, {\"x\": 114.63776606557897, \"y\": 115.36901456279527}, {\"x\": 114.66109692055575, \"y\": 124.74928218498265}, {\"x\": 114.68771471032868, \"y\": 124.0540669309705}, {\"x\": 114.78119087875406, \"y\": 115.92964771868971}, {\"x\": 114.86639422451728, \"y\": 123.48727305381844}, {\"x\": 114.86659719404044, \"y\": 126.84861198368674}, {\"x\": 114.96709075999655, \"y\": 128.65249117584958}, {\"x\": 115.0286823848953, \"y\": 117.78601887593553}, {\"x\": 115.2488290987768, \"y\": 117.99116653595206}, {\"x\": 115.28472871323413, \"y\": 125.19880512974763}, {\"x\": 115.31207122053101, \"y\": 122.64539567941566}, {\"x\": 115.34001121305366, \"y\": 120.1023370405833}, {\"x\": 115.35969030162599, \"y\": 130.06157012247533}, {\"x\": 115.47078576706213, \"y\": 119.13738520454335}, {\"x\": 115.48325924633971, \"y\": 120.94037040422386}, {\"x\": 115.51796647661651, \"y\": 129.67101586240705}, {\"x\": 115.79784166044915, \"y\": 119.88548213470456}, {\"x\": 115.91905821140867, \"y\": 120.82921963567122}, {\"x\": 115.92778448173405, \"y\": 122.27381595646446}, {\"x\": 115.94844358461089, \"y\": 121.00759697989477}, {\"x\": 115.96416619550973, \"y\": 120.59894715545748}, {\"x\": 116.02270721018706, \"y\": 128.83176426777115}, {\"x\": 116.0971652857909, \"y\": 119.16548102342838}, {\"x\": 116.16418558201372, \"y\": 116.72952997884023}, {\"x\": 116.19198839238466, \"y\": 121.15533084839362}, {\"x\": 116.21646779714533, \"y\": 123.44713826823329}, {\"x\": 116.22806390359439, \"y\": 123.80697864929562}, {\"x\": 116.2797219339112, \"y\": 119.28191033020728}, {\"x\": 116.35513692666103, \"y\": 118.58744928442533}, {\"x\": 116.4482398730549, \"y\": 121.67581607560506}, {\"x\": 116.53251655662247, \"y\": 122.74773481122776}, {\"x\": 116.55207530744121, \"y\": 124.74240596962782}, {\"x\": 116.61287722677181, \"y\": 118.22615459122835}, {\"x\": 116.76535288772543, \"y\": 120.62207915149122}, {\"x\": 116.78007831640963, \"y\": 114.80019936704613}, {\"x\": 116.85502108567485, \"y\": 120.02712595067167}, {\"x\": 117.005791834262, \"y\": 117.06754082015922}, {\"x\": 117.0090724071636, \"y\": 124.01573558208086}, {\"x\": 117.01438165765478, \"y\": 122.50841419058452}, {\"x\": 117.01865229260623, \"y\": 121.43739464806266}, {\"x\": 117.05041555213725, \"y\": 120.77528229048141}, {\"x\": 117.09625815152768, \"y\": 115.53311967296806}, {\"x\": 117.12491354306472, \"y\": 120.93583084271101}, {\"x\": 117.18879465825738, \"y\": 114.47539956340185}, {\"x\": 117.26542723492918, \"y\": 119.15601698720737}, {\"x\": 117.26911645454099, \"y\": 118.6957267343559}, {\"x\": 117.29044683516442, \"y\": 116.41215216030058}, {\"x\": 117.34878843150491, \"y\": 118.86419314146048}, {\"x\": 117.58260689353095, \"y\": 121.99735053640558}, {\"x\": 117.60626365010903, \"y\": 118.4542159913132}, {\"x\": 117.71580528590904, \"y\": 124.89976383924288}, {\"x\": 117.72737594986937, \"y\": 121.27217211106108}, {\"x\": 117.78820491707813, \"y\": 112.5797518457021}, {\"x\": 117.86579186370084, \"y\": 125.7161368928403}, {\"x\": 117.8739814559133, \"y\": 116.17302089210904}, {\"x\": 117.87483837346954, \"y\": 117.12039264469261}, {\"x\": 117.94806927317666, \"y\": 118.91061001247112}, {\"x\": 117.98323478036365, \"y\": 119.79737581823372}, {\"x\": 117.99383522709097, \"y\": 120.01807329255676}, {\"x\": 118.06465365176483, \"y\": 114.64819864586293}, {\"x\": 118.07736715005503, \"y\": 121.26154302303723}, {\"x\": 118.10277194443219, \"y\": 119.89561589402933}, {\"x\": 118.12099853229635, \"y\": 124.14243813094271}, {\"x\": 118.17022911465575, \"y\": 119.37893948034645}, {\"x\": 118.17818374767995, \"y\": 120.16482409716005}, {\"x\": 118.27625814996176, \"y\": 119.32151357990439}, {\"x\": 118.42191224381794, \"y\": 117.3869572287}, {\"x\": 118.43272932180595, \"y\": 120.15850935420184}, {\"x\": 118.44003402010102, \"y\": 114.45389992689489}, {\"x\": 118.4507815114034, \"y\": 118.46848807370151}, {\"x\": 118.46072992408516, \"y\": 115.2003744980601}, {\"x\": 118.47539270414005, \"y\": 108.86752605415624}, {\"x\": 118.56027370938409, \"y\": 122.44282254870932}, {\"x\": 118.57770743048053, \"y\": 124.3812615946302}, {\"x\": 118.58760890790018, \"y\": 122.5592514833186}, {\"x\": 118.64730253905668, \"y\": 115.4520221142759}, {\"x\": 118.67190738872752, \"y\": 111.6869028043246}, {\"x\": 118.70954145467967, \"y\": 124.93948235388217}, {\"x\": 118.73162312284518, \"y\": 120.77465782969213}, {\"x\": 118.76191042243892, \"y\": 118.85467250950282}, {\"x\": 118.7944720336157, \"y\": 121.15898754797992}, {\"x\": 118.83188302595946, \"y\": 124.99962159337584}, {\"x\": 118.89508524544249, \"y\": 122.97644910929407}, {\"x\": 118.94070342930888, \"y\": 120.06258889447058}, {\"x\": 118.97258394881445, \"y\": 121.2367274971632}, {\"x\": 118.98149064941994, \"y\": 127.85933021901714}, {\"x\": 118.9888195862353, \"y\": 123.25853847797805}, {\"x\": 119.01388489431217, \"y\": 114.01195002357167}, {\"x\": 119.06702276021174, \"y\": 118.80269944788259}, {\"x\": 119.18342921920329, \"y\": 117.26421170839491}, {\"x\": 119.22995865983877, \"y\": 119.80804181214732}, {\"x\": 119.23903501405668, \"y\": 122.13815005962908}, {\"x\": 119.26774262742616, \"y\": 117.0729693773904}, {\"x\": 119.2943483954487, \"y\": 129.04057111596785}, {\"x\": 119.34592859738495, \"y\": 119.11579507527614}, {\"x\": 119.39003521474287, \"y\": 122.9127924994139}, {\"x\": 119.40317348335648, \"y\": 125.91594819233076}, {\"x\": 119.45331033674827, \"y\": 118.70714221440291}, {\"x\": 119.45912396567556, \"y\": 120.41311828587108}, {\"x\": 119.46750941093858, \"y\": 115.83036366690595}, {\"x\": 119.48825931448054, \"y\": 122.94705787002893}, {\"x\": 119.51904127771247, \"y\": 118.76645374408919}, {\"x\": 119.53872094504328, \"y\": 118.50099686080581}, {\"x\": 119.59080940580809, \"y\": 117.75677600768199}, {\"x\": 119.60313514970376, \"y\": 115.6091145062841}, {\"x\": 119.69104269134671, \"y\": 115.7861137569881}, {\"x\": 119.73890959762883, \"y\": 114.76728915569907}, {\"x\": 119.74295754658323, \"y\": 123.26002627681872}, {\"x\": 119.78852784234769, \"y\": 125.17754834890097}, {\"x\": 119.80287781092403, \"y\": 115.5242766868808}, {\"x\": 119.8830812891831, \"y\": 125.74501704903207}, {\"x\": 119.97303037381091, \"y\": 115.17400397720479}, {\"x\": 119.98947896339236, \"y\": 121.52130659033747}, {\"x\": 120.06305031233062, \"y\": 109.6387869063876}, {\"x\": 120.13095670643494, \"y\": 119.2835490736875}, {\"x\": 120.19606189802461, \"y\": 122.35829072865454}, {\"x\": 120.19772095560837, \"y\": 114.59105152833621}, {\"x\": 120.22042525198275, \"y\": 118.37975838794256}, {\"x\": 120.2274520063431, \"y\": 111.89680034606432}, {\"x\": 120.23676985394843, \"y\": 117.67141467295666}, {\"x\": 120.26258863685507, \"y\": 121.37882207028771}, {\"x\": 120.2676729238017, \"y\": 113.65819990362026}, {\"x\": 120.28610890727812, \"y\": 126.66641856351298}, {\"x\": 120.35762626344689, \"y\": 120.39237095965358}, {\"x\": 120.37831859166249, \"y\": 126.16820473814191}, {\"x\": 120.4345253088473, \"y\": 114.5207451677298}, {\"x\": 120.43847991391284, \"y\": 128.116436347427}, {\"x\": 120.46910811099214, \"y\": 126.018614446308}, {\"x\": 120.48242246107363, \"y\": 126.23336830734787}, {\"x\": 120.51203329386179, \"y\": 124.24000818528961}, {\"x\": 120.51981765611067, \"y\": 113.40862383701044}, {\"x\": 120.54658842414153, \"y\": 115.1205911326275}, {\"x\": 120.55034589933952, \"y\": 113.91656806941693}, {\"x\": 120.60243794873324, \"y\": 121.01993673756627}, {\"x\": 120.63878007411192, \"y\": 117.2703446225647}, {\"x\": 120.66644800406694, \"y\": 125.79356812086154}, {\"x\": 120.69995752477188, \"y\": 125.25408977044859}, {\"x\": 120.70519822233682, \"y\": 120.58853987606793}, {\"x\": 120.73680460913582, \"y\": 123.75756359658239}, {\"x\": 120.78006414408617, \"y\": 116.27334198102676}, {\"x\": 120.8207395770219, \"y\": 124.17710995910011}, {\"x\": 120.85001454140377, \"y\": 117.43604539789857}, {\"x\": 120.89118017927328, \"y\": 121.1994332713136}, {\"x\": 120.9393331976172, \"y\": 111.62672665139901}, {\"x\": 121.14938439024313, \"y\": 122.27046109939316}, {\"x\": 121.20974408118416, \"y\": 115.5141645785211}, {\"x\": 121.2383114769368, \"y\": 126.17462367721026}, {\"x\": 121.28699925864042, \"y\": 130.35695928329227}, {\"x\": 121.29815150879475, \"y\": 118.60124993754648}, {\"x\": 121.3043472304287, \"y\": 110.29427674019794}, {\"x\": 121.30704694753406, \"y\": 119.4176290263068}, {\"x\": 121.32875331678417, \"y\": 120.35214594342098}, {\"x\": 121.33444749712474, \"y\": 118.02201620417615}, {\"x\": 121.3555373015105, \"y\": 111.3482862920243}, {\"x\": 121.37540043484863, \"y\": 118.60273860712664}, {\"x\": 121.44567247381787, \"y\": 119.20960281029413}, {\"x\": 121.49597658490345, \"y\": 132.36689481638186}, {\"x\": 121.49745904005988, \"y\": 126.38027525257058}, {\"x\": 121.69801860282382, \"y\": 125.26510574722187}, {\"x\": 121.75182848560883, \"y\": 115.34345553304408}, {\"x\": 121.76065182807777, \"y\": 120.44859125769239}, {\"x\": 121.79909223191103, \"y\": 117.41473418688705}, {\"x\": 121.80588223189325, \"y\": 114.46383586336144}, {\"x\": 121.87337137380753, \"y\": 118.03599700900422}, {\"x\": 121.88487646781726, \"y\": 124.19257677123993}, {\"x\": 121.8925603014136, \"y\": 121.4753441556175}, {\"x\": 121.89673700562467, \"y\": 115.1192427017458}, {\"x\": 121.92587495815144, \"y\": 121.103829973563}, {\"x\": 122.14660569976985, \"y\": 118.70126274528994}, {\"x\": 122.18382807011254, \"y\": 118.49357035716457}, {\"x\": 122.20963923188295, \"y\": 115.25177224226663}, {\"x\": 122.23623300811974, \"y\": 124.00931927006931}, {\"x\": 122.23942101621994, \"y\": 127.42960428962569}, {\"x\": 122.2672688460269, \"y\": 117.72592689024812}, {\"x\": 122.32471246694895, \"y\": 116.54152796302157}, {\"x\": 122.33159007635163, \"y\": 119.70357295986234}, {\"x\": 122.40670596220482, \"y\": 122.96127710608185}, {\"x\": 122.47768440891602, \"y\": 119.96726911572394}, {\"x\": 122.53201227481667, \"y\": 119.2614197455375}, {\"x\": 122.56888222474804, \"y\": 124.81542930313428}, {\"x\": 122.69244349599104, \"y\": 119.64324962321044}, {\"x\": 122.74104988021773, \"y\": 121.10440080503193}, {\"x\": 122.76930468805648, \"y\": 121.1289553792585}, {\"x\": 122.78026362852759, \"y\": 124.2910393247069}, {\"x\": 122.82734188772689, \"y\": 122.9720675077762}, {\"x\": 122.831474098659, \"y\": 118.01774103139248}, {\"x\": 122.83673144449958, \"y\": 117.30153461261575}, {\"x\": 122.91565164772994, \"y\": 124.0625131812868}, {\"x\": 122.96940648724517, \"y\": 126.39592420431418}, {\"x\": 123.00555634020877, \"y\": 113.6171423332272}, {\"x\": 123.0223391071741, \"y\": 123.39328255380617}, {\"x\": 123.12021728913278, \"y\": 124.46309388839772}, {\"x\": 123.12077649127616, \"y\": 117.54497511993642}, {\"x\": 123.14304834659994, \"y\": 113.98803906969387}, {\"x\": 123.15832471148828, \"y\": 123.90674633669751}, {\"x\": 123.16303755053954, \"y\": 119.98367714073905}, {\"x\": 123.16718498446959, \"y\": 115.02127620865264}, {\"x\": 123.17108101426054, \"y\": 119.68550144908805}, {\"x\": 123.18329854829906, \"y\": 120.55100220044659}, {\"x\": 123.22175075934025, \"y\": 125.07745188931224}, {\"x\": 123.25461920145653, \"y\": 113.45679192310058}, {\"x\": 123.2636089050635, \"y\": 113.05012532952817}, {\"x\": 123.30992742493133, \"y\": 123.79399058650378}, {\"x\": 123.34173409066698, \"y\": 121.17509164222348}, {\"x\": 123.40229782006303, \"y\": 118.56833787132916}, {\"x\": 123.44267059907764, \"y\": 117.55894489610272}, {\"x\": 123.45527153170447, \"y\": 126.96977876611325}, {\"x\": 123.47409362979212, \"y\": 122.31498398352053}, {\"x\": 123.48837378797045, \"y\": 118.42156113590617}, {\"x\": 123.54555647343689, \"y\": 122.70460825264445}, {\"x\": 123.59425461139627, \"y\": 116.67301335542017}, {\"x\": 123.67172020266078, \"y\": 118.27717113405417}, {\"x\": 123.93339556453671, \"y\": 126.10599354386027}, {\"x\": 123.95495843449704, \"y\": 123.94955538425597}, {\"x\": 124.00511883140096, \"y\": 122.67217622745885}, {\"x\": 124.03969295230009, \"y\": 122.21318447157329}, {\"x\": 124.04549842430617, \"y\": 121.10239877512846}, {\"x\": 124.09393412554928, \"y\": 119.73147668572412}, {\"x\": 124.20020789110143, \"y\": 116.71423825436139}, {\"x\": 124.20827954647248, \"y\": 118.06887407747085}, {\"x\": 124.21547413947674, \"y\": 124.87446476004915}, {\"x\": 124.23120469605755, \"y\": 122.32711815316338}, {\"x\": 124.26198185613498, \"y\": 113.14485065197768}, {\"x\": 124.28746708708987, \"y\": 122.17885293045363}, {\"x\": 124.2890633121491, \"y\": 123.12343124058768}, {\"x\": 124.31031170530096, \"y\": 122.75795396343398}, {\"x\": 124.34414877874309, \"y\": 112.24240394259417}, {\"x\": 124.36725320541788, \"y\": 127.09403067543792}, {\"x\": 124.38842258575401, \"y\": 125.739889311894}, {\"x\": 124.43219656490618, \"y\": 123.27450928299467}, {\"x\": 124.55916200556705, \"y\": 124.578909700057}, {\"x\": 124.61613137560516, \"y\": 121.86881039496407}, {\"x\": 124.64350618922994, \"y\": 124.18663639845424}, {\"x\": 124.66289306206556, \"y\": 122.6205515470215}, {\"x\": 124.67163932903708, \"y\": 116.23708973560504}, {\"x\": 124.7158301086289, \"y\": 117.94071631513192}, {\"x\": 124.92814873770344, \"y\": 114.36854133865604}, {\"x\": 125.02439099633256, \"y\": 115.22578150824621}, {\"x\": 125.31820982683396, \"y\": 116.44755784096891}, {\"x\": 125.34657570701907, \"y\": 120.40880753485004}, {\"x\": 125.3552407883654, \"y\": 119.84590923129929}, {\"x\": 125.37356786394656, \"y\": 119.52453978744013}, {\"x\": 125.39176726358477, \"y\": 116.01673720490822}, {\"x\": 125.40667485505867, \"y\": 118.84609452179068}, {\"x\": 125.41041497548956, \"y\": 114.6320194632949}, {\"x\": 125.4176723056576, \"y\": 125.27299131636664}, {\"x\": 125.46209361181747, \"y\": 124.86626288143867}, {\"x\": 125.47576928650788, \"y\": 110.28222454468077}, {\"x\": 125.47635032585319, \"y\": 114.00396073597236}, {\"x\": 125.5657923802327, \"y\": 123.70088588678718}, {\"x\": 125.61312762548876, \"y\": 122.70357861056267}, {\"x\": 125.6856160085117, \"y\": 127.66139973385984}, {\"x\": 125.69497351971218, \"y\": 126.73204631813695}, {\"x\": 125.78593619590394, \"y\": 119.8121148944512}, {\"x\": 125.8422403389812, \"y\": 121.6151432029292}, {\"x\": 125.87855609870581, \"y\": 120.48952995047634}, {\"x\": 125.93648727193155, \"y\": 121.11013430112706}, {\"x\": 126.08630839562045, \"y\": 115.57103589279883}, {\"x\": 126.17477251748372, \"y\": 121.04926544322862}, {\"x\": 126.20877858135906, \"y\": 113.50016555750034}, {\"x\": 126.26514547255263, \"y\": 121.59785967656686}, {\"x\": 126.43173066921587, \"y\": 112.89274723052321}, {\"x\": 126.49460607130817, \"y\": 123.73114984698336}, {\"x\": 127.5248826036364, \"y\": 115.71927247730474}, {\"x\": 127.64310704161605, \"y\": 126.30965815374176}, {\"x\": 129.72376135543078, \"y\": 121.83917448086333}, {\"x\": 133.62605804228, \"y\": 117.23888027464044}, {\"x\": 133.6342720646712, \"y\": 124.79119676094913}]\n\n    var xMin = Math.min.apply(Math, data.map(function(o) { return o.x; }))\n    var xMax = Math.max.apply(Math, data.map(function(o) { return o.x; }))\n\n    var yMin = Math.min.apply(Math, data.map(function(o) { return o.y; }))\n    var yMax = Math.max.apply(Math, data.map(function(o) { return o.y; }))\n\n    // X scale and Axis\n    var x = d3.scaleLinear()\n        .domain([xMin, xMax])\n        .range([0, width]);\n\n    // Y scale and Axis\n    var y = d3.scaleLinear()\n        .domain([yMin, yMax])\n        .range([height, 0]);\n    \n\n    svg\n      .append('g')\n      .attr(\"transform\", \"translate(0,\" + height + \")\")\n      .call(d3.axisBottom(x).ticks(5).tickSizeInner(-height))\n    \n    svg\n      .append('g')\n      .call(d3.axisLeft(y).ticks(5).tickSizeInner(-width));\n    \n\n    // prepare a helper function\n    var lineFunc = d3.line()\n      .x(function(d) { return x(d.x) })\n      .y(function(d) { return y(d.y) })\n\n    // Add the path using this helper function\n    svg.append('path')\n      .attr('d', lineFunc(data))\n      .attr('stroke', \"steelblue\")\n      .attr('fill', 'none');\n    \n\n    }) })(element);\n    ",
      "text/plain": [
       "<IPython.core.display.Javascript object>"
      ]
     },
     "metadata": {},
     "output_type": "display_data"
    }
   ],
   "source": [
    "js_d3_list_line_plot(numpy.array(sorted(arr2, key=lambda d: d[0])), grid_lines=True, width=600, height=600) "
   ]
  },
  {
   "cell_type": "code",
   "execution_count": 36,
   "id": "37777fb7",
   "metadata": {},
   "outputs": [],
   "source": [
    "arrNP = numpy.random.normal(120,80,30)"
   ]
  },
  {
   "cell_type": "code",
   "execution_count": 37,
   "id": "c2869551",
   "metadata": {},
   "outputs": [
    {
     "data": {
      "application/javascript": "\n    (function(element) { require(['d3'], function(d3) {\n    \n\n    // set the dimensions and margins of the graph\n    var margin = {\"top\": 40, \"bottom\": 40, \"left\": 40, \"right\": 40},\n        width = 600 - margin.left - margin.right,\n        height = 400 - margin.top - margin.bottom;\n    \n    // append the svg object to the body of the page\n    var svg = d3\n       .select(element.get(0))\n      .append(\"svg\")\n        .attr(\"width\", width + margin.left + margin.right)\n        .attr(\"height\", height + margin.top + margin.bottom)\n        .style(\"background\", \"white\")\n      .append(\"g\")\n        .attr(\"transform\",\n              \"translate(\" + margin.left + \",\" + margin.top + \")\")\n    \n    // Obtain title\n    var title = \"\"\n    \n    if ( title.length > 0 ) {\n        svg.append(\"text\")\n            .attr(\"x\", (width / 2))\n            .attr(\"y\", 0 - (margin.top / 2))\n            .attr(\"text-anchor\", \"middle\")\n            .style(\"font-size\", \"16px\")\n            //.style(\"text-decoration\", \"underline\")\n            .text(title);\n    }\n    \n    // Obtain x-axis label\n    var xAxisLabel = \"\"\n    var xAxisLabelFontSize = 12\n    \n    if ( xAxisLabel.length > 0 ) {\n        svg.append(\"text\")\n            .attr(\"x\", (width / 2))\n            .attr(\"y\", height + margin.bottom - xAxisLabelFontSize/2)\n            .attr(\"text-anchor\", \"middle\")\n            .style(\"font-size\", xAxisLabelFontSize.toString() + \"px\")\n            .text(xAxisLabel);\n    }\n    \n    // Obtain y-axis label\n    var yAxisLabel = \"\"\n    var yAxisLabelFontSize = 12\n    \n    if ( yAxisLabel.length > 0 ) {\n        svg.append(\"text\")\n            .attr(\"transform\", \"rotate(-90)\")\n            .attr(\"x\", - (height / 2))\n            .attr(\"y\", 0 - margin.left + yAxisLabelFontSize)\n            .attr(\"text-anchor\", \"middle\")\n            .style(\"font-size\", yAxisLabelFontSize.toString() + \"px\")\n            .text(yAxisLabel);\n    }\n    \n\n    // Obtain data\n    var data = [{\"variable\": 0, \"value\": 139.76257947810353}, {\"variable\": 1, \"value\": 100.19270914630079}, {\"variable\": 2, \"value\": 131.72482599726}, {\"variable\": 3, \"value\": 194.9032197295305}, {\"variable\": 4, \"value\": 237.60589462606472}, {\"variable\": 5, \"value\": 181.25821815657866}, {\"variable\": 6, \"value\": -2.9170795129388694}, {\"variable\": 7, \"value\": 69.43961023270721}, {\"variable\": 8, \"value\": 4.36401495897131}, {\"variable\": 9, \"value\": 176.5884872468332}, {\"variable\": 10, \"value\": 168.24336283447087}, {\"variable\": 11, \"value\": 114.971860712659}, {\"variable\": 12, \"value\": 169.1941360582777}, {\"variable\": 13, \"value\": -10.40257802106845}, {\"variable\": 14, \"value\": 160.48386092680036}, {\"variable\": 15, \"value\": 46.01405245109764}, {\"variable\": 16, \"value\": 67.00189172661636}, {\"variable\": 17, \"value\": 45.28618474825713}, {\"variable\": 18, \"value\": 236.43089559815843}, {\"variable\": 19, \"value\": 109.93225486980255}, {\"variable\": 20, \"value\": 126.89639763504898}, {\"variable\": 21, \"value\": -20.568382964915884}, {\"variable\": 22, \"value\": 84.64557510933578}, {\"variable\": 23, \"value\": 340.12966455353217}, {\"variable\": 24, \"value\": 226.8617216790815}, {\"variable\": 25, \"value\": 179.31483551775486}, {\"variable\": 26, \"value\": 283.3473629097548}, {\"variable\": 27, \"value\": 95.1843171022746}, {\"variable\": 28, \"value\": 36.938360014328055}, {\"variable\": 29, \"value\": 186.8745607086085}]\n    \n    var valueMin = Math.min.apply(Math, data.map(function(o) { return o.value; }))\n    var valueMax = Math.max.apply(Math, data.map(function(o) { return o.value; }))\n    \n    // X axis\n    var x = d3.scaleBand()\n      .range([ 0, width ])\n      .domain(data.map(function(d) { return d.variable; }))\n      .padding(0.2);\n    svg.append(\"g\")\n      .attr(\"transform\", \"translate(0,\" + height + \")\")\n      .call(d3.axisBottom(x))\n      .selectAll(\"text\")\n        .attr(\"transform\", \"translate(-10,0)rotate(-45)\")\n        .style(\"text-anchor\", \"end\");\n    \n    // Add Y axis\n    var y = d3.scaleLinear()\n      .domain([0, valueMax])\n      .range([ height, 0]);\n    svg.append(\"g\")\n      .call(d3.axisLeft(y));\n    \n    // Bars\n    svg.selectAll(\"mybar\")\n      .data(data)\n      .enter()\n      .append(\"rect\")\n        .attr(\"x\", function(d) { return x(d.variable); })\n        .attr(\"y\", function(d) { return y(d.value); })\n        .attr(\"width\", x.bandwidth())\n        .attr(\"height\", function(d) { return height - y(d.value); })\n        .attr(\"fill\", \"steelblue\")    \n    \n\n    }) })(element);\n    ",
      "text/plain": [
       "<IPython.core.display.Javascript object>"
      ]
     },
     "metadata": {},
     "output_type": "display_data"
    }
   ],
   "source": [
    "js_d3_bar_chart(arrNP, legends=False)"
   ]
  },
  {
   "cell_type": "code",
   "execution_count": 38,
   "id": "f2ba1ace",
   "metadata": {},
   "outputs": [],
   "source": [
    "fruitsLongFormTr = [{'group': 'banana', 'variable': 'Nitrogen', 'value': 12}, \n",
    "                    {'group': 'poacee', 'variable': 'Nitrogen', 'value': 6}, \n",
    "                    {'group': 'sorgho', 'variable': 'Nitrogen', 'value': 11}, \n",
    "                    {'group': 'triticum', 'variable': 'Nitrogen', 'value': 19}, \n",
    "                    {'group': 'banana', 'variable': 'normal', 'value': 1}, \n",
    "                    {'group': 'poacee', 'variable': 'normal', 'value': 6}, \n",
    "                    {'group': 'sorgho', 'variable': 'normal', 'value': 28}, \n",
    "                    {'group': 'triticum', 'variable': 'normal', 'value': 6}, \n",
    "                    {'group': 'banana', 'variable': 'stress', 'value': 13}, \n",
    "                    {'group': 'poacee', 'variable': 'stress', 'value': 33}, \n",
    "                    {'group': 'sorgho', 'variable': 'stress', 'value': 12}, \n",
    "                    {'group': 'triticum', 'variable': 'stress', 'value': 1}]"
   ]
  },
  {
   "cell_type": "code",
   "execution_count": 39,
   "id": "bae4f77f",
   "metadata": {},
   "outputs": [
    {
     "data": {
      "application/javascript": "\n    (function(element) { require(['d3'], function(d3) {\n    \n\n    // set the dimensions and margins of the graph\n    var margin = {\"top\": 40, \"bottom\": 40, \"left\": 40, \"right\": 144},\n        width = 600 - margin.left - margin.right,\n        height = 400 - margin.top - margin.bottom;\n    \n    // append the svg object to the body of the page\n    var svg = d3\n       .select(element.get(0))\n      .append(\"svg\")\n        .attr(\"width\", width + margin.left + margin.right)\n        .attr(\"height\", height + margin.top + margin.bottom)\n        .style(\"background\", \"white\")\n      .append(\"g\")\n        .attr(\"transform\",\n              \"translate(\" + margin.left + \",\" + margin.top + \")\")\n    \n    // Obtain title\n    var title = \"Fruit\"\n    \n    if ( title.length > 0 ) {\n        svg.append(\"text\")\n            .attr(\"x\", (width / 2))\n            .attr(\"y\", 0 - (margin.top / 2))\n            .attr(\"text-anchor\", \"middle\")\n            .style(\"font-size\", \"16px\")\n            //.style(\"text-decoration\", \"underline\")\n            .text(title);\n    }\n    \n    // Obtain x-axis label\n    var xAxisLabel = \"\"\n    var xAxisLabelFontSize = 12\n    \n    if ( xAxisLabel.length > 0 ) {\n        svg.append(\"text\")\n            .attr(\"x\", (width / 2))\n            .attr(\"y\", height + margin.bottom - xAxisLabelFontSize/2)\n            .attr(\"text-anchor\", \"middle\")\n            .style(\"font-size\", xAxisLabelFontSize.toString() + \"px\")\n            .text(xAxisLabel);\n    }\n    \n    // Obtain y-axis label\n    var yAxisLabel = \"\"\n    var yAxisLabelFontSize = 12\n    \n    if ( yAxisLabel.length > 0 ) {\n        svg.append(\"text\")\n            .attr(\"transform\", \"rotate(-90)\")\n            .attr(\"x\", - (height / 2))\n            .attr(\"y\", 0 - margin.left + yAxisLabelFontSize)\n            .attr(\"text-anchor\", \"middle\")\n            .style(\"font-size\", yAxisLabelFontSize.toString() + \"px\")\n            .text(yAxisLabel);\n    }\n    \n\n    // Obtain data\n    var data = [{\"group\": \"banana\", \"variable\": \"Nitrogen\", \"value\": 12}, {\"group\": \"poacee\", \"variable\": \"Nitrogen\", \"value\": 6}, {\"group\": \"sorgho\", \"variable\": \"Nitrogen\", \"value\": 11}, {\"group\": \"triticum\", \"variable\": \"Nitrogen\", \"value\": 19}, {\"group\": \"banana\", \"variable\": \"normal\", \"value\": 1}, {\"group\": \"poacee\", \"variable\": \"normal\", \"value\": 6}, {\"group\": \"sorgho\", \"variable\": \"normal\", \"value\": 28}, {\"group\": \"triticum\", \"variable\": \"normal\", \"value\": 6}, {\"group\": \"banana\", \"variable\": \"stress\", \"value\": 13}, {\"group\": \"poacee\", \"variable\": \"stress\", \"value\": 33}, {\"group\": \"sorgho\", \"variable\": \"stress\", \"value\": 12}, {\"group\": \"triticum\", \"variable\": \"stress\", \"value\": 1}]\n    \n    var valueMin = Math.min.apply(Math, data.map(function(o) { return o.value; }))\n    var valueMax = Math.max.apply(Math, data.map(function(o) { return o.value; }))\n    \n    // List of subgroups\n    var subgroups = d3.map(data, function(d){return(d.variable)}).values()\n    subgroups = [...new Set(subgroups)];\n    \n    // List of groups\n    var groups = d3.map(data, function(d){return(d.group)}).values()\n    \n    // Add X axis\n    var x = d3.scaleBand()\n      .domain(groups)\n      .range([0, width])\n      .padding([0.2])\n    svg.append(\"g\")\n    .attr(\"transform\", \"translate(0,\" + height + \")\")\n    .call(d3.axisBottom(x).tickSize(0));\n    \n    // Add Y axis\n    var y = d3.scaleLinear()\n        .domain([0, valueMax])\n        .range([ height, 0 ]);\n    svg.append(\"g\")\n        .call(d3.axisLeft(y).ticks(5).tickSizeInner(-width));\n    \n    // Another scale for subgroup position?\n    var xSubgroup = d3.scaleBand()\n        .domain(subgroups)\n        .range([0, x.bandwidth()])\n        .padding([0.05])\n    \n    // Color palette = one color per subgroup\n    var myColor = d3.scaleOrdinal()\n        .domain(subgroups)\n        .range(d3.schemeSet2);\n    \n    // Show the bars\n    svg.append(\"g\")\n        .selectAll(\"g\")\n        // Enter in data = loop group per group\n        .data(data)\n        .join(\"g\")\n          .attr(\"transform\", d => `translate(${x(d.group)}, 0)`)\n        .selectAll(\"rect\")\n        .data(function(d) { return data.filter(function(x){ return x.group == d.group }) })\n        .join(\"rect\")\n          .attr(\"x\", d => xSubgroup(d.variable))\n          .attr(\"y\", d => y(d.value))\n          .attr(\"width\", xSubgroup.bandwidth())\n          .attr(\"height\", d => height - y(d.value))\n          .attr(\"fill\", d => myColor(d.variable));\n    \n\n    // create a list of keys\n    var keys = data.map(function(o) { return o.variable; })\n    keys = [...new Set(keys)];\n    \n    // Add one dot in the legend for each name.\n    svg.selectAll(\"mydots\")\n      .data(keys)\n      .enter()\n      .append(\"circle\")\n        .attr(\"cx\", width + 3*12)\n        .attr(\"cy\", function(d,i){ return 0 + i*25})\n        .attr(\"r\", 6)\n        .style(\"fill\", function(d){ return myColor(d)})\n    \n    // Add one dot in the legend for each name.\n    svg.selectAll(\"mylabels\")\n      .data(keys)\n      .enter()\n      .append(\"text\")\n        .attr(\"x\", width + 3*12 + 12)\n        .attr(\"y\", function(d,i){ return 0 + i*25})\n        .style(\"fill\", function(d){ return myColor(d)})\n        .text(function(d){ return d})\n        .attr(\"text-anchor\", \"left\")\n        .style(\"alignment-baseline\", \"middle\")\n        .style(\"font-size\", \"12px\")\n        .attr(\"font-family\", \"Courier\")\n    \n\n    }) })(element);\n    ",
      "text/plain": [
       "<IPython.core.display.Javascript object>"
      ]
     },
     "metadata": {},
     "output_type": "display_data"
    }
   ],
   "source": [
    "js_d3_bar_chart(fruitsLongFormTr, grid_lines=True, title=\"Fruit\", legends=True)"
   ]
  },
  {
   "cell_type": "markdown",
   "id": "e26449d7",
   "metadata": {},
   "source": [
    "--------\n",
    "\n",
    "## Histogram"
   ]
  },
  {
   "cell_type": "code",
   "execution_count": 40,
   "id": "3a0e7c0a",
   "metadata": {},
   "outputs": [
    {
     "data": {
      "application/javascript": "\n    (function(element) { require(['d3'], function(d3) {\n    \n\n    // set the dimensions and margins of the graph\n    var margin = {\"top\": 40, \"bottom\": 40, \"left\": 40, \"right\": 40},\n        width = 600 - margin.left - margin.right,\n        height = 400 - margin.top - margin.bottom;\n    \n    // append the svg object to the body of the page\n    var svg = d3\n       .select(element.get(0))\n      .append(\"svg\")\n        .attr(\"width\", width + margin.left + margin.right)\n        .attr(\"height\", height + margin.top + margin.bottom)\n        .style(\"background\", \"white\")\n      .append(\"g\")\n        .attr(\"transform\",\n              \"translate(\" + margin.left + \",\" + margin.top + \")\")\n    \n    // Obtain title\n    var title = \"Normal distribution\"\n    \n    if ( title.length > 0 ) {\n        svg.append(\"text\")\n            .attr(\"x\", (width / 2))\n            .attr(\"y\", 0 - (margin.top / 2))\n            .attr(\"text-anchor\", \"middle\")\n            .style(\"font-size\", \"16px\")\n            //.style(\"text-decoration\", \"underline\")\n            .text(title);\n    }\n    \n    // Obtain x-axis label\n    var xAxisLabel = \"\"\n    var xAxisLabelFontSize = 12\n    \n    if ( xAxisLabel.length > 0 ) {\n        svg.append(\"text\")\n            .attr(\"x\", (width / 2))\n            .attr(\"y\", height + margin.bottom - xAxisLabelFontSize/2)\n            .attr(\"text-anchor\", \"middle\")\n            .style(\"font-size\", xAxisLabelFontSize.toString() + \"px\")\n            .text(xAxisLabel);\n    }\n    \n    // Obtain y-axis label\n    var yAxisLabel = \"\"\n    var yAxisLabelFontSize = 12\n    \n    if ( yAxisLabel.length > 0 ) {\n        svg.append(\"text\")\n            .attr(\"transform\", \"rotate(-90)\")\n            .attr(\"x\", - (height / 2))\n            .attr(\"y\", 0 - margin.left + yAxisLabelFontSize)\n            .attr(\"text-anchor\", \"middle\")\n            .style(\"font-size\", yAxisLabelFontSize.toString() + \"px\")\n            .text(yAxisLabel);\n    }\n    \n\n    // Obtain data\n    var data = [101.55178522083048, 132.89175243102954, 94.17212155258174, 103.31902721137365, 135.97415152770276, 128.4554939421925, 122.67608265006393, 97.72242865676117, 119.42962454285173, 85.08066489570143, 95.91231445496507, 106.31139528973308, 117.6076082580256, 109.06812709130833, 156.36022844958586, 148.9593875693688, 117.19332717601424, 111.16136300478155, 133.73064015518938, 123.62572037635937, 106.66796759827767, 112.50272887572677, 114.74999230102335, 113.09010684885081, 129.57841133596048, 139.37620159239788, 119.20159633054477, 126.60631369850493, 105.63064690109654, 98.75306178003989, 143.16877564021874, 136.2309939591312, 123.60017479398276, 131.87191641642184, 150.15170824740625, 106.33350254328857, 113.01953701313951, 134.3590726338951, 96.54634526896542, 136.47576247029767, 113.58797338763617, 84.1140223352371, 86.00082427647436, 116.68137438245822, 99.8564192412956, 118.41462336932076, 145.6848968251993, 115.79516256080659, 171.17932036066125, 101.55496743913926, 130.90545496223342, 144.76970729673485, 125.78360810919246, 120.62101617193254, 107.64787266545267, 123.61327376090958, 121.00847548925844, 128.47616791871246, 116.94264031180785, 139.602366803036, 113.08049912120897, 127.7349062160945, 93.23116438366355, 119.07285450072472, 97.34023320635238, 114.35678759860282, 138.92039963125808, 106.4672216756265, 115.86807165934327, 133.33180549946306, 121.08467742666726, 96.07318146345638, 113.1187551814121, 95.81903373733672, 146.45581027150615, 165.7496498614819, 121.82256369007271, 138.02780201866352, 139.03219051187693, 113.28498872496877, 117.01831724420629, 144.1023062087571, 124.43670341261206, 87.8399669104743, 113.56737685586519, 149.4110741482999, 111.87614301273646, 77.93518339701501, 82.25819892919728, 129.00202993663294, 117.74369337240691, 133.249949413272, 131.26552392425793, 159.8804418822725, 79.72662986770781, 100.3517707957446, 142.0860495784562, 116.80058826928082, 103.4154109593688, 142.64968393122035, 115.90831017406401, 137.55090360471127, 167.42127372082388, 130.11341483097115, 111.62792505808332, 137.574457434853, 157.69252313376975, 90.60031741790503, 151.19451720341075, 135.53138275889177, 138.95207095070955, 139.63009480158348, 144.56913763985065, 107.84696510889871, 143.62270289263532, 130.38874130549743, 123.1100179976291, 126.01743508643142, 113.98078735422646, 116.72088300758882, 132.73205664285697, 120.15106953626713, 141.25853253229593, 126.58382095339279, 112.90544828157323, 151.90324043084493, 137.91331532186288, 136.59529742240073, 159.01477200630092, 146.99867169635115, 147.049689618662, 134.18177911547872, 118.38479338063989, 112.65813485345252, 98.54060835996228, 140.8763613215018, 114.01629578764211, 140.98973504568346, 147.8265579462097, 165.6207092809969, 104.90128551835257, 141.46658892755832, 123.13671124151199, 111.53290996278847, 141.60693790195646, 159.5871546217092, 106.99643371219854, 114.9151765584948, 125.28678786303517, 122.60793726677102, 112.556479393287, 118.07886191124555, 122.04707080997048, 142.00223589017256, 130.26074784579998, 114.22480524399678, 136.7598779750117, 110.88630621350251, 130.05951210741694, 147.28412530916924, 164.84677336358567, 139.2660257906521, 142.42423626626072, 135.3763784501186, 127.63738710040698, 138.55564142990826, 98.22859091593794, 115.35077082573952, 149.40342221307577, 125.95496488470678, 82.77309927797523, 121.19681776119646, 100.35149527764577, 99.61168765931532, 136.50327658702565, 117.41646317576412, 89.04081702956664, 139.82264865456006, 91.26029723430676, 113.00211183516923, 139.7221677383619, 83.1312686778165, 93.93295051009565, 98.12178272125858, 109.81301661452251, 120.95031451767274, 103.33840969067563, 139.48295180238097, 123.83780928751922, 111.63986037456361, 98.57687137301261, 110.21347055982591, 97.62466128354512, 146.6577810506028, 131.31450811879648, 134.81149379494573, 100.99502519011476, 138.82891902556298, 114.06423331775852, 129.01602083872214, 112.5520773635221, 120.5410509977971, 107.97970996506346, 112.51173829602031, 146.4479583931788, 113.54749478069986, 121.04921349964023, 116.27183305651138, 157.25765761434997, 98.17519961153943, 135.42070133694477, 111.01215204501784, 126.23265864869407, 117.97485721114863, 134.3192312717605, 127.76878912475851, 122.31359044065898, 91.55271449883674, 99.12003764868643, 133.93787422001657, 114.25068845646052, 139.36947105077908, 122.77326949777786, 134.89543380802817, 184.7398587923739, 91.3755450778225, 132.09106502978526, 156.52299514059854, 95.26339804586001, 105.51867983873453, 111.21037439929827, 84.78577540719147, 126.58147314523762, 93.56514410647542, 138.36326716084272, 143.50103935079147, 165.50147820069847, 125.82905338283975, 126.18924887724043, 144.83156013891454, 111.82873250489152, 133.22695010420648, 125.02304614753275, 112.88046931650695, 94.52998552940838, 136.9031141768371, 127.961500318583, 158.56330816032528, 87.28149083777322, 87.92574213149247, 109.86471167359673, 121.66072827725299, 132.1129787200207, 134.05624192292117, 131.02707214777368, 137.6096696431206, 121.98979604023184, 92.32824246540864, 126.97789291765312, 109.3794150075372, 113.26061153841637, 107.8422739489516, 122.76121183090784, 130.0350226536041, 135.86129054910933, 118.36252769196082, 125.46822805877807, 98.73840461519659, 144.71852237726722, 148.766401660877, 144.6859584263123, 132.09649716776642, 96.64695581530061, 93.10742234977258, 95.05230982023093, 101.05167170914126, 140.0784623628358, 107.09311718397109, 129.65810848315334, 85.24603970652629, 145.2741764567496, 96.30976241221477, 109.13174132890994, 113.81033061526378, 123.09980536764503, 128.85655977700264, 134.7844448672476, 169.28072806778965, 115.15142333221868, 90.4527523708606, 86.41336728224071, 110.31375009080942, 99.5646958785979, 96.28278538161027, 128.61556577545593, 101.4648610401887, 131.6570163427644, 112.5032598180408, 155.4255552692229, 86.2468455363558, 122.77753424944478, 129.14446250047337, 129.25659438212048, 109.41892353262898, 99.84604748284204, 116.03798286430079, 105.64673473202281, 102.03114804138266, 91.34709180994419, 132.15618940529586, 107.36695743138965, 154.94457614726178, 118.662864083211, 92.14744083381309, 91.56485051887124, 103.45771174481604, 122.71969366159786, 128.35399002545046, 114.09829808751736, 89.03613080711297, 120.7314177647817, 96.58174636570855, 126.81057416035556, 137.26791314871951, 136.65554379191116, 98.00473744476977, 133.72903432574842, 143.4417852515846, 120.19000450923033, 100.91536012243414, 108.62597391109541, 131.76792711080756, 78.46349665198093, 110.8865037081686, 99.64060401280881, 125.38355008431334, 122.25072890210183, 73.9560880317967, 114.47262301136348, 119.85082915317976, 89.74163531412663, 92.2133970496506, 159.22246963408685, 128.30607915717326, 108.26982451181493, 99.14409985692744, 115.1982622944094, 135.45596631392797, 116.07817028910675, 151.05671100118937, 95.99996574184263, 123.31246233148843, 108.47009423777526, 122.49521787409911, 139.8778655619877, 85.88629166473943, 84.92990249152322, 120.68992924783618, 128.86819100279416, 147.6125018919307, 127.92345574956921, 131.9033903507885, 123.86760801410756, 139.55118684284793, 127.04171106513097, 109.41502521665399, 110.95885665778914, 48.40756667939306, 92.43008944072264, 104.04997250152441, 102.12667911360366, 124.68934926176732, 142.90477547223662, 98.06597353082918, 116.54876279709897, 125.88730329105361, 118.37909894178777, 110.55240219525464, 105.05368810741761, 128.7337264578622, 117.08377865901774, 142.52688482888055, 161.75810617335074, 135.76018728788426, 115.63633675469666, 106.36001880359346, 114.00233705573885, 144.37210488114232, 108.46692508573665, 131.09693064203503, 94.85344203272516, 128.1153057113028, 109.43125903711402, 101.50714899264378, 135.74696535388148, 164.97506954317384, 146.9210255545406, 129.05709977756817, 129.04153932925394, 90.51273935754082, 128.79964561263918, 143.35617154432617, 111.30362300925205, 132.66629365671736, 174.929566548159, 156.44918869969857, 108.54093766552322, 106.82523982820213, 119.89308943886803, 128.61642515722244, 133.8075655614104, 118.44865042928657, 116.619011828956, 151.61443328248097, 144.07505927823917, 103.85773756402943, 131.14412330368174, 108.41640502447171, 114.8804845834084, 121.9976189358215, 151.59227982212343, 101.96735786506633, 124.10280714271208, 123.63286989301241, 98.9013409802393, 116.93558178943977, 114.1970390944985, 116.1145581718224, 100.48186558066669, 130.28051977678822, 120.13180791320221, 124.52801424621975, 124.79842259699187, 95.37044576054299, 130.62992608406304, 104.7119651389753, 146.65989909587722, 114.53828148189194, 109.39168571506534, 149.8508338463789, 133.17681224933702, 132.86992431409465, 113.70034647572929, 115.53710687475531, 121.97616851002093, 117.17276652519834, 133.74677317026303, 122.13843835429779, 139.91983401807806, 112.49646230035555, 135.43027582317484, 139.21753549488332, 144.4134851653434, 120.67405240882398, 142.2185867080713, 135.38878986286068, 129.78042783316127, 156.40393663737856, 108.93601297520313, 114.3318660491369, 89.35122038881917, 97.00347878111222, 113.70198567345088, 139.79398393318044, 117.83479985303623, 115.42268437155656, 148.59079545587318, 121.03958746687951, 148.27354265621656, 94.2354456095344, 155.9668751477088, 121.59513757651536, 134.55806858122588, 122.43148299349129, 123.72782959598047, 108.10529220402039, 114.71448915951956, 145.39332790754494, 114.53951530633448, 134.11350001289424, 112.63360996155106, 87.78336617407348, 132.93061569334253, 96.56694717004964, 156.51023345932978, 133.9339270977494, 120.51788144861327, 142.23882707188085, 124.57806373335544, 144.14552082855624, 95.89808467011395, 122.61293841672116, 63.00841793846787, 140.77198523813917, 103.22204698686758, 117.98697854920918, 117.52046173691352, 136.19339514917942, 124.07742336018441, 96.57940439853036, 88.0405802434276, 126.21093419040106, 114.60473394288282, 124.52307398301748, 115.23300369562494, 147.54267088404094, 99.13109022437607, 113.12518958984018, 129.38191363743732, 127.72403509106928, 95.67098106651085, 93.0848335932755, 112.42748832913337, 121.74165550329256, 104.30725898707608, 135.88247106556668, 175.2252353505556, 113.60199104867706, 114.0555575624881, 113.69960869291383, 101.17491735608976, 131.16110398401005, 124.41302035127072, 128.07319245386628, 137.5366206178035, 134.5432593990099, 90.06564029273814, 124.34647551864725, 141.43551330156777, 130.3341673128386, 117.62677321390674, 126.29590921611593, 89.51653809218502, 130.0257544308496, 98.96929140926365, 123.48808699989927, 155.16676651491412, 97.40224704563555, 87.44384772059078, 146.08177694980452, 122.03991774057347, 117.28107089350627, 105.0286680812731, 176.92500847680452, 136.29776156832105, 138.5644269207932, 143.63659582771862, 135.94269078162256, 122.80050251934891, 120.23930394221443, 140.76735056901094, 96.55978075726966, 121.95088009549008, 96.18810019112863, 103.41262585414141, 153.35951197149126, 121.00723392529211, 143.99250930933047, 125.34462275777335, 116.27989988341419, 120.95841138202735, 99.87566599456136, 92.47857046478521, 116.74511125422106, 109.15954420976973, 118.53302579976904, 69.62895509130722, 101.68613545685011, 81.70885518220611, 120.69926644913289, 93.51303685173612, 156.522278236656, 128.61940148955725, 97.7515494220261, 126.32911170422804, 136.41617515882433, 109.6337367571451, 118.84308513779983, 119.88295183249168, 114.45558176788647, 79.77640186787886, 96.89842321666711, 122.38353052706454, 133.5343793350109, 168.93104853431143, 150.50354941431465, 146.61751670454927, 112.99089847183278, 99.73017267325855, 114.50956825634299, 128.76152702114388, 94.49825136043671, 117.60706649459846, 112.49074312109835, 155.20536113940418, 125.74358571618984, 136.44817047676324, 112.04490444778321, 112.68922310442568, 121.66199758174862]\n    \n    var valueMin = Math.min.apply(Math, data)\n    var valueMax = Math.max.apply(Math, data)\n    \n    // X axis: scale and draw:\n    var x = d3.scaleLinear()\n          .domain([valueMin, valueMax])\n          .range([0, width]);\n    svg.append(\"g\")\n          .attr(\"transform\", \"translate(0,\" + height + \")\")\n          .call(d3.axisBottom(x).ticks(15).tickSizeInner(-height));\n    \n    // set the parameters for the histogram\n    var histogram = d3.histogram()\n          .value(function(d) { return d; }) \n          .domain(x.domain())\n          .thresholds(x.ticks(70));\n    \n    // And apply this function to data to get the bins\n    var bins = histogram(data);\n    \n    // Y axis: scale and draw:\n    var y = d3.scaleLinear()\n          .range([height, 0]);\n          y.domain([0, d3.max(bins, function(d) { return d.length; })]);\n    svg.append(\"g\")\n          .call(d3.axisLeft(y).ticks(15).tickSizeInner(-width));\n    \n    // append the bar rectangles to the svg element\n    svg.selectAll(\"rect\")\n          .data(bins)\n          .enter()\n          .append(\"rect\")\n            .attr(\"x\", 1)\n            .attr(\"transform\", function(d) { return \"translate(\" + x(d.x0) + \",\" + y(d.length) + \")\"; })\n            .attr(\"width\", function(d) { return x(d.x1) - x(d.x0) -1 ; })\n            .attr(\"height\", function(d) { return height - y(d.length); })\n            .style(\"fill\", \"steelblue\")\n    \n\n    }) })(element);\n    ",
      "text/plain": [
       "<IPython.core.display.Javascript object>"
      ]
     },
     "metadata": {},
     "output_type": "display_data"
    }
   ],
   "source": [
    "js_d3_histogram(numpy.random.normal(120,20,600), title=\"Normal distribution\", grid_lines=15)"
   ]
  },
  {
   "cell_type": "markdown",
   "id": "331afd35",
   "metadata": {},
   "source": [
    "---------\n",
    "\n",
    "## BubbleChart"
   ]
  },
  {
   "cell_type": "code",
   "execution_count": 41,
   "id": "0f0c252a",
   "metadata": {},
   "outputs": [
    {
     "data": {
      "application/javascript": "\n    (function(element) { require(['d3'], function(d3) {\n    \n\n    // set the dimensions and margins of the graph\n    var margin = {\"top\": 40, \"bottom\": 40, \"left\": 40, \"right\": 40},\n        width = 600 - margin.left - margin.right,\n        height = 400 - margin.top - margin.bottom;\n    \n    // append the svg object to the body of the page\n    var svg = d3\n       .select(element.get(0))\n      .append(\"svg\")\n        .attr(\"width\", width + margin.left + margin.right)\n        .attr(\"height\", height + margin.top + margin.bottom)\n        .style(\"background\", \"none\")\n      .append(\"g\")\n        .attr(\"transform\",\n              \"translate(\" + margin.left + \",\" + margin.top + \")\")\n    \n    // Obtain title\n    var title = \"Normal distribution\"\n    \n    if ( title.length > 0 ) {\n        svg.append(\"text\")\n            .attr(\"x\", (width / 2))\n            .attr(\"y\", 0 - (margin.top / 2))\n            .attr(\"text-anchor\", \"middle\")\n            .style(\"font-size\", \"16px\")\n            //.style(\"text-decoration\", \"underline\")\n            .text(title);\n    }\n    \n    // Obtain x-axis label\n    var xAxisLabel = \"\"\n    var xAxisLabelFontSize = 12\n    \n    if ( xAxisLabel.length > 0 ) {\n        svg.append(\"text\")\n            .attr(\"x\", (width / 2))\n            .attr(\"y\", height + margin.bottom - xAxisLabelFontSize/2)\n            .attr(\"text-anchor\", \"middle\")\n            .style(\"font-size\", xAxisLabelFontSize.toString() + \"px\")\n            .text(xAxisLabel);\n    }\n    \n    // Obtain y-axis label\n    var yAxisLabel = \"\"\n    var yAxisLabelFontSize = 12\n    \n    if ( yAxisLabel.length > 0 ) {\n        svg.append(\"text\")\n            .attr(\"transform\", \"rotate(-90)\")\n            .attr(\"x\", - (height / 2))\n            .attr(\"y\", 0 - margin.left + yAxisLabelFontSize)\n            .attr(\"text-anchor\", \"middle\")\n            .style(\"font-size\", yAxisLabelFontSize.toString() + \"px\")\n            .text(yAxisLabel);\n    }\n    \n\n    // Obtain data\n    var data = [{\"x\": 113.70753710350631, \"y\": 116.8332761348262, \"z\": 148.32794127397747}, {\"x\": 121.7677759672674, \"y\": 67.3930310905258, \"z\": 138.06255271009283}, {\"x\": 111.5633694806973, \"y\": 108.21327349686912, \"z\": 107.02657683018695}, {\"x\": 103.50974423201868, \"y\": 115.36331982694081, \"z\": 167.5049491820019}, {\"x\": 107.41933158938954, \"y\": 108.79526137138525, \"z\": 99.3679008721472}, {\"x\": 113.87506392860388, \"y\": 111.20759484373612, \"z\": 84.25834326286969}, {\"x\": 127.24788511651343, \"y\": 98.39895719620836, \"z\": 116.68739087575982}, {\"x\": 100.87734036591922, \"y\": 79.9397819808151, \"z\": 126.49978888090558}, {\"x\": 123.42911391506205, \"y\": 88.89377234959245, \"z\": 110.37673853245977}, {\"x\": 106.71305485516696, \"y\": 128.0215628031631, \"z\": 127.44200710087534}, {\"x\": 81.17684601577335, \"y\": 152.7203356263994, \"z\": 131.14801254507861}, {\"x\": 153.99016695081085, \"y\": 129.072030240817, \"z\": 110.02855530546138}, {\"x\": 108.91606228444695, \"y\": 125.03516481667573, \"z\": 143.89823220419424}, {\"x\": 98.06827849492186, \"y\": 139.69305138445375, \"z\": 107.60557732748516}, {\"x\": 121.28275317572789, \"y\": 116.70603973750067, \"z\": 89.92330165955619}, {\"x\": 110.3914684680559, \"y\": 171.33115091723732, \"z\": 116.41148542700904}, {\"x\": 116.66102795615569, \"y\": 122.18374036300631, \"z\": 128.70515335912825}, {\"x\": 102.57025165037169, \"y\": 128.45841150861057, \"z\": 157.09754841983084}, {\"x\": 153.5165926162481, \"y\": 149.32315705619789, \"z\": 109.2715512948172}, {\"x\": 125.11359781139512, \"y\": 128.41124222046813, \"z\": 134.66880312021436}, {\"x\": 115.3321650224567, \"y\": 143.0373741269946, \"z\": 141.28192127952082}, {\"x\": 76.13634213993237, \"y\": 106.32300176880827, \"z\": 122.31971328230556}, {\"x\": 96.15132652271235, \"y\": 110.49994715068789, \"z\": 142.64831217773184}, {\"x\": 119.45853715206424, \"y\": 116.87268613146998, \"z\": 70.18840417574607}, {\"x\": 139.12036551820918, \"y\": 114.35541057566707, \"z\": 111.58897845715106}, {\"x\": 98.4767955918291, \"y\": 124.60354895257068, \"z\": 132.85449703325747}, {\"x\": 128.41467703227963, \"y\": 116.81422747697073, \"z\": 117.76438538634513}, {\"x\": 95.28841637903355, \"y\": 107.1801658861234, \"z\": 136.7284785843893}, {\"x\": 122.86477573193423, \"y\": 125.72733623273255, \"z\": 112.66022877137631}, {\"x\": 142.26517244847807, \"y\": 106.31440394917561, \"z\": 149.99144102094397}, {\"x\": 154.98060214863926, \"y\": 130.0105129403103, \"z\": 120.40608673248535}, {\"x\": 107.87031236131563, \"y\": 96.45029127619777, \"z\": 70.36256918560927}, {\"x\": 164.11041264099873, \"y\": 115.04912924777283, \"z\": 154.1038999196396}, {\"x\": 143.70643707135983, \"y\": 101.25098148509092, \"z\": 123.67469171238392}, {\"x\": 136.9929302674, \"y\": 130.2498985561337, \"z\": 110.8037454811091}, {\"x\": 141.9524798356073, \"y\": 99.33855721531522, \"z\": 93.9814425328299}, {\"x\": 129.84666800406285, \"y\": 134.8087176612502, \"z\": 90.25089630786826}, {\"x\": 146.3072564167298, \"y\": 83.59490687165533, \"z\": 124.71266342318327}, {\"x\": 130.7738361448542, \"y\": 94.24207027411417, \"z\": 125.1501310884743}, {\"x\": 125.05336172637689, \"y\": 101.35093638778957, \"z\": 102.56053328316514}]\n\n    var xMin = Math.min.apply(Math, data.map(function(o) { return o.x; }))\n    var xMax = Math.max.apply(Math, data.map(function(o) { return o.x; }))\n\n    var yMin = Math.min.apply(Math, data.map(function(o) { return o.y; }))\n    var yMax = Math.max.apply(Math, data.map(function(o) { return o.y; }))\n\n    // X scale and Axis\n    var x = d3.scaleLinear()\n        .domain([xMin, xMax])\n        .range([0, width]);\n\n    // Y scale and Axis\n    var y = d3.scaleLinear()\n        .domain([yMin, yMax])\n        .range([height, 0]);\n    \n\n    svg\n      .append('g')\n      .attr(\"transform\", \"translate(0,\" + height + \")\")\n      .call(d3.axisBottom(x).ticks(5).tickSizeInner(-height))\n    \n    svg\n      .append('g')\n      .call(d3.axisLeft(y).ticks(5).tickSizeInner(-width));\n    \n\n    var zMin = Math.min.apply(Math, data.map(function(o) { return o.z; }))\n    var zMax = Math.max.apply(Math, data.map(function(o) { return o.z; }))\n    \n    // Add a scale for bubble size\n    const z = d3.scaleLinear()\n        .domain([zMin, zMax])\n        .range([1, 40]);\n    \n    // Add dots\n    svg.append('g')\n        .selectAll(\"dot\")\n        .data(data)\n        .join(\"circle\")\n          .attr(\"cx\", d => x(d.x))\n          .attr(\"cy\", d => y(d.y))\n          .attr(\"r\",  d => z(d.z))\n          .style(\"fill\", \"steelblue\")\n          .style(\"opacity\", \"0.7\")\n          .attr(\"stroke\", \"black\")\n    \n\n    }) })(element);\n    ",
      "text/plain": [
       "<IPython.core.display.Javascript object>"
      ]
     },
     "metadata": {},
     "output_type": "display_data"
    }
   ],
   "source": [
    "js_d3_bubble_chart(numpy.random.normal(120,20,(40,3)), title=\"Normal distribution\", grid_lines=5, background='none')"
   ]
  },
  {
   "cell_type": "code",
   "execution_count": 42,
   "id": "239f3b44",
   "metadata": {},
   "outputs": [
    {
     "data": {
      "text/plain": [
       "30"
      ]
     },
     "execution_count": 42,
     "metadata": {},
     "output_type": "execute_result"
    }
   ],
   "source": [
    "dfRandXYZG = random_data_frame(30, [\"x\", \"y\", \"z\", \"group\"],\n",
    "                           generators = {\"x\":numpy.random.normal, \"y\":numpy.random.normal, \"z\":numpy.random.normal, \"group\": [\"a\", \"b\", \"crane\"]})\n",
    "aRandXYZG = list(dfRandXYZG.transpose().to_dict().values())\n",
    "len(aRandXYZG)"
   ]
  },
  {
   "cell_type": "code",
   "execution_count": 43,
   "id": "7990be59",
   "metadata": {},
   "outputs": [
    {
     "data": {
      "application/javascript": "\n    (function(element) { require(['d3'], function(d3) {\n    \n\n    // set the dimensions and margins of the graph\n    var margin = {\"top\": 40, \"bottom\": 40, \"left\": 40, \"right\": 108},\n        width = 600 - margin.left - margin.right,\n        height = 400 - margin.top - margin.bottom;\n    \n    // append the svg object to the body of the page\n    var svg = d3\n       .select(element.get(0))\n      .append(\"svg\")\n        .attr(\"width\", width + margin.left + margin.right)\n        .attr(\"height\", height + margin.top + margin.bottom)\n        .style(\"background\", \"white\")\n      .append(\"g\")\n        .attr(\"transform\",\n              \"translate(\" + margin.left + \",\" + margin.top + \")\")\n    \n    // Obtain title\n    var title = \"Normal distributions\"\n    \n    if ( title.length > 0 ) {\n        svg.append(\"text\")\n            .attr(\"x\", (width / 2))\n            .attr(\"y\", 0 - (margin.top / 2))\n            .attr(\"text-anchor\", \"middle\")\n            .style(\"font-size\", \"16px\")\n            //.style(\"text-decoration\", \"underline\")\n            .text(title);\n    }\n    \n    // Obtain x-axis label\n    var xAxisLabel = \"\"\n    var xAxisLabelFontSize = 12\n    \n    if ( xAxisLabel.length > 0 ) {\n        svg.append(\"text\")\n            .attr(\"x\", (width / 2))\n            .attr(\"y\", height + margin.bottom - xAxisLabelFontSize/2)\n            .attr(\"text-anchor\", \"middle\")\n            .style(\"font-size\", xAxisLabelFontSize.toString() + \"px\")\n            .text(xAxisLabel);\n    }\n    \n    // Obtain y-axis label\n    var yAxisLabel = \"\"\n    var yAxisLabelFontSize = 12\n    \n    if ( yAxisLabel.length > 0 ) {\n        svg.append(\"text\")\n            .attr(\"transform\", \"rotate(-90)\")\n            .attr(\"x\", - (height / 2))\n            .attr(\"y\", 0 - margin.left + yAxisLabelFontSize)\n            .attr(\"text-anchor\", \"middle\")\n            .style(\"font-size\", yAxisLabelFontSize.toString() + \"px\")\n            .text(yAxisLabel);\n    }\n    \n\n    // Obtain data\n    var data = [{\"x\": 0.7909542470284301, \"y\": -1.68525725053337, \"z\": 0.6068823150373196, \"group\": \"b\"}, {\"x\": -0.06448239349846498, \"y\": -1.495663972883222, \"z\": -0.6809566811078476, \"group\": \"a\"}, {\"x\": 1.1896283704729331, \"y\": 0.3305066744149325, \"z\": -0.2743056622202758, \"group\": \"a\"}, {\"x\": -0.27418589526297243, \"y\": 1.4150412576605864, \"z\": -0.5839958551877473, \"group\": \"a\"}, {\"x\": -0.4851589393075775, \"y\": -0.12517195626104474, \"z\": 0.7239522135209773, \"group\": \"crane\"}, {\"x\": -0.1137743936637678, \"y\": -0.5948728711467672, \"z\": 1.0735916503165905, \"group\": \"b\"}, {\"x\": -1.3539038336702993, \"y\": 0.8449444588015468, \"z\": 0.40442849595327457, \"group\": \"b\"}, {\"x\": -0.021992706731197374, \"y\": 0.46554293240437206, \"z\": 0.2507761928558956, \"group\": \"crane\"}, {\"x\": -1.661002866492582, \"y\": -1.5501426551987192, \"z\": 0.33665914530622065, \"group\": \"b\"}, {\"x\": -0.8713619679238748, \"y\": 0.4726496748378593, \"z\": -1.6991619890818677, \"group\": \"a\"}, {\"x\": -0.2290809684280716, \"y\": -0.5832926183952357, \"z\": 0.16651506828396367, \"group\": \"crane\"}, {\"x\": 0.4667851844811039, \"y\": 0.03609841137350426, \"z\": -1.8598638660466398, \"group\": \"crane\"}, {\"x\": -0.031060019219235974, \"y\": -0.13051391982886268, \"z\": -0.12952116346136117, \"group\": \"a\"}, {\"x\": 1.0465685935039677, \"y\": -0.5715283800374937, \"z\": -0.27040060162415264, \"group\": \"b\"}, {\"x\": -0.13771961742035121, \"y\": 1.0813741149540712, \"z\": -2.130196147118872, \"group\": \"crane\"}, {\"x\": -0.06954324926819888, \"y\": 1.3890675157361305, \"z\": 1.1655211193729236, \"group\": \"crane\"}, {\"x\": -1.1983322599087114, \"y\": -1.7914651194310725, \"z\": 1.1260530385067289, \"group\": \"crane\"}, {\"x\": 1.4439330745802974, \"y\": 0.8021009249039112, \"z\": -1.4028475568639585, \"group\": \"b\"}, {\"x\": 1.353404228139072, \"y\": -1.356381233145303, \"z\": 0.8295612970815384, \"group\": \"b\"}, {\"x\": -2.986877467292766, \"y\": 1.0822957245417755, \"z\": 0.5813571666820987, \"group\": \"a\"}, {\"x\": 0.081948382044128, \"y\": 0.38907070535690974, \"z\": 0.36450175793944933, \"group\": \"a\"}, {\"x\": 0.5473573817408769, \"y\": 0.34164342507754863, \"z\": -0.3459387513300539, \"group\": \"crane\"}, {\"x\": 2.0087208956274063, \"y\": 0.14522357436615255, \"z\": 0.2814199416903184, \"group\": \"a\"}, {\"x\": 1.8559118092128561, \"y\": -1.2345832191556017, \"z\": -1.0249883649504326, \"group\": \"b\"}, {\"x\": -1.191889385262869, \"y\": -2.113951187690963, \"z\": -0.2743966231681653, \"group\": \"a\"}, {\"x\": 1.0730428247872732, \"y\": 0.6635278304753205, \"z\": 0.015090183178134434, \"group\": \"a\"}, {\"x\": -0.8409272058257451, \"y\": 0.5512950629814134, \"z\": 0.11920667506586877, \"group\": \"crane\"}, {\"x\": -1.8826991255754675, \"y\": -0.4988354996303216, \"z\": 0.07612096631255988, \"group\": \"a\"}, {\"x\": 0.5737963620715759, \"y\": -2.169372312572717, \"z\": 0.2109285490923878, \"group\": \"crane\"}, {\"x\": -0.157124630205958, \"y\": -1.3085507743082836, \"z\": -1.6010534742178821, \"group\": \"b\"}]\n\n    var xMin = Math.min.apply(Math, data.map(function(o) { return o.x; }))\n    var xMax = Math.max.apply(Math, data.map(function(o) { return o.x; }))\n\n    var yMin = Math.min.apply(Math, data.map(function(o) { return o.y; }))\n    var yMax = Math.max.apply(Math, data.map(function(o) { return o.y; }))\n\n    // X scale and Axis\n    var x = d3.scaleLinear()\n        .domain([xMin, xMax])\n        .range([0, width]);\n\n    // Y scale and Axis\n    var y = d3.scaleLinear()\n        .domain([yMin, yMax])\n        .range([height, 0]);\n    \n\n    svg\n      .append('g')\n      .attr(\"transform\", \"translate(0,\" + height + \")\")\n      .call(d3.axisBottom(x).ticks(15).tickSizeInner(-height))\n    \n    svg\n      .append('g')\n      .call(d3.axisLeft(y).ticks(15).tickSizeInner(-width));\n    \n\n    var zMin = Math.min.apply(Math, data.map(function(o) { return o.z; }))\n    var zMax = Math.max.apply(Math, data.map(function(o) { return o.z; }))\n    \n    // Add a scale for bubble size\n    const z = d3.scaleLinear()\n        .domain([zMin, zMax])\n        .range([1, 40]);\n    \n    // Add a scale for bubble color\n    var myColor = d3.scaleOrdinal()\n        .domain(data.map(function(o) { return o.group; }))\n        .range(d3.schemeSet2);\n    \n    // -1- Create a tooltip div that is hidden by default:\n    const tooltip = d3.select(element.get(0))\n        .append(\"div\")\n          .style(\"opacity\", 0)\n          .attr(\"class\", \"tooltip\")\n          .style(\"background-color\", \"black\")\n          .style(\"border-radius\", \"5px\")\n          .style(\"padding\", \"10px\")\n          .style(\"color\", \"white\")\n    \n    // -2- Create 3 functions to show / update (when mouse move but stay on same circle) / hide the tooltip\n    const showTooltip = function(event, d) {\n        tooltip\n          .transition()\n          .duration(200)\n        tooltip\n          .style(\"opacity\", 1)\n          .html(\"Group: \" + d.group + '<br/>z: ' + d.z.toString() + '<br/>x: ' + d.x.toString() + '<br/>y: ' + d.y.toString())\n          .style(\"left\", (event.x)/2 + \"px\")\n          .style(\"top\", (event.y)/2+10 + \"px\")\n      }\n      const moveTooltip = function(event, d) {\n        tooltip\n          .style(\"left\", (event.x)/2 + \"px\")\n          .style(\"top\", (event.y)/2+10 + \"px\")\n      }\n      const hideTooltip = function(event, d) {\n        tooltip\n          .transition()\n          .duration(200)\n          .style(\"opacity\", 0)\n      }\n    \n    // Add dots\n      svg.append('g')\n        .selectAll(\"dot\")\n        .data(data)\n        .join(\"circle\")\n          .attr(\"class\", \"bubbles\")\n          .attr(\"cx\", d => x(d.x))\n          .attr(\"cy\", d => y(d.y))\n          .attr(\"r\",  d => z(d.z))\n          .style(\"fill\", d => myColor(d.group))\n          .style(\"opacity\", \"0.7\")\n        // -3- Trigger the functions\n        .on(\"mouseover\", showTooltip )\n        .on(\"mousemove\", moveTooltip )\n        .on(\"mouseleave\", hideTooltip )\n    \n\n    // create a list of keys\n    var keys = data.map(function(o) { return o.group; })\n    keys = [...new Set(keys)];\n    \n    // Add one dot in the legend for each name.\n    svg.selectAll(\"mydots\")\n      .data(keys)\n      .enter()\n      .append(\"circle\")\n        .attr(\"cx\", width + 3*12)\n        .attr(\"cy\", function(d,i){ return 0 + i*25})\n        .attr(\"r\", 6)\n        .style(\"fill\", function(d){ return myColor(d)})\n    \n    // Add one dot in the legend for each name.\n    svg.selectAll(\"mylabels\")\n      .data(keys)\n      .enter()\n      .append(\"text\")\n        .attr(\"x\", width + 3*12 + 12)\n        .attr(\"y\", function(d,i){ return 0 + i*25})\n        .style(\"fill\", function(d){ return myColor(d)})\n        .text(function(d){ return d})\n        .attr(\"text-anchor\", \"left\")\n        .style(\"alignment-baseline\", \"middle\")\n        .style(\"font-size\", \"12px\")\n        .attr(\"font-family\", \"Courier\")\n    \n\n    }) })(element);\n    ",
      "text/plain": [
       "<IPython.core.display.Javascript object>"
      ]
     },
     "metadata": {},
     "output_type": "display_data"
    }
   ],
   "source": [
    "js_d3_bubble_chart(aRandXYZG, title=\"Normal distributions\", grid_lines=15, tooltip=True)"
   ]
  },
  {
   "cell_type": "markdown",
   "id": "4300fd0c",
   "metadata": {},
   "source": [
    "---------\n",
    "\n",
    "## DateListPlot"
   ]
  },
  {
   "cell_type": "code",
   "execution_count": 44,
   "id": "1aec2218",
   "metadata": {},
   "outputs": [
    {
     "data": {
      "text/plain": [
       "str"
      ]
     },
     "execution_count": 44,
     "metadata": {},
     "output_type": "execute_result"
    }
   ],
   "source": [
    "tsRand1=[[\"1970-04-15\", 3713.567898300845e0], [\"1970-05-19\", 4466.645127680633e0], [\"1970-07-28\", 4962.707644206486e0], [\"1970-08-07\", 4528.997415904021e0], [\"1970-08-13\", 5365.402079145894e0], [\"1971-11-08\", 8945.23867847915e0], [\"1971-12-17\", 9116.73075372545e0], [\"1972-05-01\", 10273.836690623637e0], [\"1973-06-24\", 10881.867233348434e0], [\"1973-12-09\", 13651.519872995486e0], [\"1974-04-26\", 13848.96559635215e0], [\"1974-05-24\", 13374.12844167666e0], [\"1974-10-12\", 16104.790409557521e0], [\"1974-11-12\", 14592.645875545222e0], [\"1975-09-12\", 14009.729561951815e0], [\"1976-04-21\", 14981.351834039335e0], [\"1976-09-19\", 17399.95561782246e0], [\"1976-11-28\", 15864.213638829973e0], [\"1976-12-15\", 16465.55117213528e0], [\"1977-06-02\", 19407.501334451685e0]]\n",
    "type(tsRand1[0][0])"
   ]
  },
  {
   "cell_type": "code",
   "execution_count": 45,
   "id": "3741f6bf",
   "metadata": {},
   "outputs": [
    {
     "data": {
      "application/javascript": "\n    (function(element) { require(['d3'], function(d3) {\n    \n\n    // set the dimensions and margins of the graph\n    var margin = {\"top\": 40, \"bottom\": 40, \"left\": 40, \"right\": 40},\n        width = 600 - margin.left - margin.right,\n        height = 400 - margin.top - margin.bottom;\n    \n    // append the svg object to the body of the page\n    var svg = d3\n       .select(element.get(0))\n      .append(\"svg\")\n        .attr(\"width\", width + margin.left + margin.right)\n        .attr(\"height\", height + margin.top + margin.bottom)\n        .style(\"background\", \"white\")\n      .append(\"g\")\n        .attr(\"transform\",\n              \"translate(\" + margin.left + \",\" + margin.top + \")\")\n    \n    // Obtain title\n    var title = \"\"\n    \n    if ( title.length > 0 ) {\n        svg.append(\"text\")\n            .attr(\"x\", (width / 2))\n            .attr(\"y\", 0 - (margin.top / 2))\n            .attr(\"text-anchor\", \"middle\")\n            .style(\"font-size\", \"16px\")\n            //.style(\"text-decoration\", \"underline\")\n            .text(title);\n    }\n    \n    // Obtain x-axis label\n    var xAxisLabel = \"\"\n    var xAxisLabelFontSize = 12\n    \n    if ( xAxisLabel.length > 0 ) {\n        svg.append(\"text\")\n            .attr(\"x\", (width / 2))\n            .attr(\"y\", height + margin.bottom - xAxisLabelFontSize/2)\n            .attr(\"text-anchor\", \"middle\")\n            .style(\"font-size\", xAxisLabelFontSize.toString() + \"px\")\n            .text(xAxisLabel);\n    }\n    \n    // Obtain y-axis label\n    var yAxisLabel = \"\"\n    var yAxisLabelFontSize = 12\n    \n    if ( yAxisLabel.length > 0 ) {\n        svg.append(\"text\")\n            .attr(\"transform\", \"rotate(-90)\")\n            .attr(\"x\", - (height / 2))\n            .attr(\"y\", 0 - margin.left + yAxisLabelFontSize)\n            .attr(\"text-anchor\", \"middle\")\n            .style(\"font-size\", yAxisLabelFontSize.toString() + \"px\")\n            .text(yAxisLabel);\n    }\n    \n\n    // Obtain data\n    var data = [{\"date\": \"1970-04-15\", \"value\": 3713.567898300845}, {\"date\": \"1970-05-19\", \"value\": 4466.645127680633}, {\"date\": \"1970-07-28\", \"value\": 4962.707644206486}, {\"date\": \"1970-08-07\", \"value\": 4528.997415904021}, {\"date\": \"1970-08-13\", \"value\": 5365.402079145894}, {\"date\": \"1971-11-08\", \"value\": 8945.23867847915}, {\"date\": \"1971-12-17\", \"value\": 9116.73075372545}, {\"date\": \"1972-05-01\", \"value\": 10273.836690623637}, {\"date\": \"1973-06-24\", \"value\": 10881.867233348434}, {\"date\": \"1973-12-09\", \"value\": 13651.519872995486}, {\"date\": \"1974-04-26\", \"value\": 13848.96559635215}, {\"date\": \"1974-05-24\", \"value\": 13374.12844167666}, {\"date\": \"1974-10-12\", \"value\": 16104.790409557521}, {\"date\": \"1974-11-12\", \"value\": 14592.645875545222}, {\"date\": \"1975-09-12\", \"value\": 14009.729561951815}, {\"date\": \"1976-04-21\", \"value\": 14981.351834039335}, {\"date\": \"1976-09-19\", \"value\": 17399.95561782246}, {\"date\": \"1976-11-28\", \"value\": 15864.213638829973}, {\"date\": \"1976-12-15\", \"value\": 16465.55117213528}, {\"date\": \"1977-06-02\", \"value\": 19407.501334451685}]\n\n    data = data.map(function(d){\n        var d2 = d;\n        d2[\"x\"] = d3.timeParse(\"%Y-%m-%d\")(d.date);\n        if ( \"value\" in d ) { d2[\"y\"] = d.value; }\n        return d2\n    })\n\n    var yMin = Math.min.apply(Math, data.map(function(o) { return o.y; }))\n    var yMax = Math.max.apply(Math, data.map(function(o) { return o.y; }))\n\n    // Add X axis --> it is a date format\n    var x = d3.scaleTime()\n      .domain(d3.extent(data, function(d) { return d.x; }))\n      .range([ 0, width ]);\n\n    // Y scale and Axis\n    var y = d3.scaleLinear()\n        .domain([yMin, yMax])\n        .range([height, 0]);\n    \n\n    svg\n        .append('g')\n        .attr(\"transform\", \"translate(0,\" + height + \")\")\n        .call(d3.axisBottom(x))\n\n    svg\n        .append('g')\n        .call(d3.axisLeft(y));\n    \n\n    // prepare a helper function\n    var lineFunc = d3.line()\n      .x(function(d) { return x(d.x) })\n      .y(function(d) { return y(d.y) })\n\n    // Add the path using this helper function\n    svg.append('path')\n      .attr('d', lineFunc(data))\n      .attr('stroke', \"steelblue\")\n      .attr('fill', 'none');\n    \n\n    }) })(element);\n    ",
      "text/plain": [
       "<IPython.core.display.Javascript object>"
      ]
     },
     "metadata": {},
     "output_type": "display_data"
    }
   ],
   "source": [
    "js_d3_date_list_plot(tsRand1)"
   ]
  },
  {
   "cell_type": "code",
   "execution_count": 46,
   "id": "90e92259",
   "metadata": {},
   "outputs": [
    {
     "data": {
      "text/plain": [
       "[['1970-04-15', 43.55850970555511],\n",
       " ['1970-05-19', 123.73398258398359],\n",
       " ['1970-07-28', 226.9376268947209]]"
      ]
     },
     "execution_count": 46,
     "metadata": {},
     "output_type": "execute_result"
    }
   ],
   "source": [
    "dates2=[\"1970-04-15\", \"1970-05-19\", \"1970-07-28\", \"1970-08-07\", \"1970-08-13\", \"1971-11-08\", \"1971-12-17\", \"1972-05-01\", \"1973-06-24\", \"1973-12-09\", \"1974-04-26\", \"1974-05-24\", \"1974-10-12\", \"1974-11-12\", \"1975-09-12\", \"1976-04-21\", \"1976-09-19\", \"1976-11-28\", \"1976-12-15\", \"1977-06-02\", \"1977-06-11\", \"1978-03-29\", \"1978-06-09\", \"1978-08-19\", \"1978-11-16\", \"1979-04-17\", \"1979-09-17\", \"1980-07-13\", \"1980-08-02\", \"1980-09-05\", \"1981-04-07\", \"1981-07-04\", \"1981-08-10\", \"1981-12-23\", \"1982-04-05\", \"1983-04-17\", \"1984-04-30\", \"1984-10-18\", \"1984-12-25\", \"1984-12-25\", \"1985-02-22\", \"1985-12-12\", \"1987-01-06\", \"1987-06-30\", \"1987-09-05\", \"1989-04-06\", \"1989-05-22\", \"1989-07-14\", \"1989-07-19\", \"1990-09-14\", \"1991-06-02\", \"1992-06-09\", \"1992-07-11\", \"1992-12-31\", \"1993-08-26\", \"1993-09-23\", \"1993-11-02\", \"1994-06-16\", \"1995-01-08\", \"1995-02-02\", \"1995-08-21\", \"1995-11-07\", \"1996-06-13\", \"1996-08-28\", \"1997-02-16\", \"1997-03-04\", \"1997-11-12\", \"1998-02-10\", \"1999-05-03\", \"1999-11-26\", \"2000-06-10\", \"2000-08-24\", \"2000-10-30\", \"2000-11-11\", \"2001-02-26\", \"2001-08-25\", \"2002-01-13\", \"2002-03-22\", \"2002-04-21\", \"2002-05-21\", \"2002-08-06\", \"2003-01-17\", \"2004-02-29\", \"2004-08-30\", \"2004-10-17\", \"2004-11-17\", \"2005-01-21\", \"2005-09-15\", \"2005-12-02\", \"2006-04-14\", \"2006-04-28\", \"2006-05-15\", \"2006-10-03\", \"2011-04-22\", \"2011-07-04\", \"2012-03-25\", \"2012-05-27\", \"2012-07-13\", \"2013-01-26\", \"2013-05-03\"]\n",
    "tsRand2=[[d, numpy.random.normal(120,70,1)[0]] for d in dates2]\n",
    "tsRand2[:3]"
   ]
  },
  {
   "cell_type": "code",
   "execution_count": 47,
   "id": "8269192c",
   "metadata": {},
   "outputs": [
    {
     "data": {
      "application/javascript": "\n    (function(element) { require(['d3'], function(d3) {\n    \n\n    // set the dimensions and margins of the graph\n    var margin = {\"top\": 40, \"bottom\": 40, \"left\": 40, \"right\": 40},\n        width = 600 - margin.left - margin.right,\n        height = 400 - margin.top - margin.bottom;\n    \n    // append the svg object to the body of the page\n    var svg = d3\n       .select(element.get(0))\n      .append(\"svg\")\n        .attr(\"width\", width + margin.left + margin.right)\n        .attr(\"height\", height + margin.top + margin.bottom)\n        .style(\"background\", \"white\")\n      .append(\"g\")\n        .attr(\"transform\",\n              \"translate(\" + margin.left + \",\" + margin.top + \")\")\n    \n    // Obtain title\n    var title = \"\"\n    \n    if ( title.length > 0 ) {\n        svg.append(\"text\")\n            .attr(\"x\", (width / 2))\n            .attr(\"y\", 0 - (margin.top / 2))\n            .attr(\"text-anchor\", \"middle\")\n            .style(\"font-size\", \"16px\")\n            //.style(\"text-decoration\", \"underline\")\n            .text(title);\n    }\n    \n    // Obtain x-axis label\n    var xAxisLabel = \"\"\n    var xAxisLabelFontSize = 12\n    \n    if ( xAxisLabel.length > 0 ) {\n        svg.append(\"text\")\n            .attr(\"x\", (width / 2))\n            .attr(\"y\", height + margin.bottom - xAxisLabelFontSize/2)\n            .attr(\"text-anchor\", \"middle\")\n            .style(\"font-size\", xAxisLabelFontSize.toString() + \"px\")\n            .text(xAxisLabel);\n    }\n    \n    // Obtain y-axis label\n    var yAxisLabel = \"\"\n    var yAxisLabelFontSize = 12\n    \n    if ( yAxisLabel.length > 0 ) {\n        svg.append(\"text\")\n            .attr(\"transform\", \"rotate(-90)\")\n            .attr(\"x\", - (height / 2))\n            .attr(\"y\", 0 - margin.left + yAxisLabelFontSize)\n            .attr(\"text-anchor\", \"middle\")\n            .style(\"font-size\", yAxisLabelFontSize.toString() + \"px\")\n            .text(yAxisLabel);\n    }\n    \n\n    // Obtain data\n    var data = [{\"date\": \"1970-04-15\", \"value\": 43.55850970555511}, {\"date\": \"1970-05-19\", \"value\": 123.73398258398359}, {\"date\": \"1970-07-28\", \"value\": 226.9376268947209}, {\"date\": \"1970-08-07\", \"value\": 162.07327345368526}, {\"date\": \"1970-08-13\", \"value\": 63.11748775594951}, {\"date\": \"1971-11-08\", \"value\": 168.8502803005794}, {\"date\": \"1971-12-17\", \"value\": 73.7495518580715}, {\"date\": \"1972-05-01\", \"value\": 85.24343389896158}, {\"date\": \"1973-06-24\", \"value\": -25.030460500284136}, {\"date\": \"1973-12-09\", \"value\": 166.08531771287028}, {\"date\": \"1974-04-26\", \"value\": 95.5895824575106}, {\"date\": \"1974-05-24\", \"value\": 146.48746670940739}, {\"date\": \"1974-10-12\", \"value\": 118.32890562805252}, {\"date\": \"1974-11-12\", \"value\": 10.453981303122049}, {\"date\": \"1975-09-12\", \"value\": 141.27103907243477}, {\"date\": \"1976-04-21\", \"value\": 167.03127105616858}, {\"date\": \"1976-09-19\", \"value\": 114.71463135793697}, {\"date\": \"1976-11-28\", \"value\": 183.79334263122678}, {\"date\": \"1976-12-15\", \"value\": 11.273864676531531}, {\"date\": \"1977-06-02\", \"value\": 272.12796817200547}, {\"date\": \"1977-06-11\", \"value\": 200.74404369460876}, {\"date\": \"1978-03-29\", \"value\": 352.68449908356195}, {\"date\": \"1978-06-09\", \"value\": 106.23488650270991}, {\"date\": \"1978-08-19\", \"value\": 166.82492264340098}, {\"date\": \"1978-11-16\", \"value\": 76.15363306888364}, {\"date\": \"1979-04-17\", \"value\": 136.57133212135787}, {\"date\": \"1979-09-17\", \"value\": 148.07757638505004}, {\"date\": \"1980-07-13\", \"value\": 181.16224406990207}, {\"date\": \"1980-08-02\", \"value\": 180.38697819425064}, {\"date\": \"1980-09-05\", \"value\": 102.7100183689621}, {\"date\": \"1981-04-07\", \"value\": 88.10351432621842}, {\"date\": \"1981-07-04\", \"value\": 188.86326079648916}, {\"date\": \"1981-08-10\", \"value\": 126.66889348742454}, {\"date\": \"1981-12-23\", \"value\": 56.082986763825836}, {\"date\": \"1982-04-05\", \"value\": 103.47626462723373}, {\"date\": \"1983-04-17\", \"value\": 163.72545085761578}, {\"date\": \"1984-04-30\", \"value\": 137.3217270302171}, {\"date\": \"1984-10-18\", \"value\": 77.53870266103704}, {\"date\": \"1984-12-25\", \"value\": 3.683822796110803}, {\"date\": \"1984-12-25\", \"value\": 110.9036925894645}, {\"date\": \"1985-02-22\", \"value\": 137.50487398387162}, {\"date\": \"1985-12-12\", \"value\": 155.07724235268063}, {\"date\": \"1987-01-06\", \"value\": 242.10625275112758}, {\"date\": \"1987-06-30\", \"value\": 131.01578571927402}, {\"date\": \"1987-09-05\", \"value\": 65.78941061264115}, {\"date\": \"1989-04-06\", \"value\": 213.01100137054834}, {\"date\": \"1989-05-22\", \"value\": 154.72192122306643}, {\"date\": \"1989-07-14\", \"value\": 110.55351018839687}, {\"date\": \"1989-07-19\", \"value\": 146.26025772747388}, {\"date\": \"1990-09-14\", \"value\": 143.86229203001835}, {\"date\": \"1991-06-02\", \"value\": 82.78045638823652}, {\"date\": \"1992-06-09\", \"value\": 70.3366012716464}, {\"date\": \"1992-07-11\", \"value\": 139.9913781584894}, {\"date\": \"1992-12-31\", \"value\": 100.69914149934093}, {\"date\": \"1993-08-26\", \"value\": 169.46355047608898}, {\"date\": \"1993-09-23\", \"value\": 119.42393209717017}, {\"date\": \"1993-11-02\", \"value\": 68.95141893761703}, {\"date\": \"1994-06-16\", \"value\": 181.41426082043768}, {\"date\": \"1995-01-08\", \"value\": 249.7286711291928}, {\"date\": \"1995-02-02\", \"value\": 83.6070003477057}, {\"date\": \"1995-08-21\", \"value\": -33.45266614640232}, {\"date\": \"1995-11-07\", \"value\": 181.42263000993762}, {\"date\": \"1996-06-13\", \"value\": 93.57260009917229}, {\"date\": \"1996-08-28\", \"value\": 143.76600835279748}, {\"date\": \"1997-02-16\", \"value\": 160.6443321566669}, {\"date\": \"1997-03-04\", \"value\": 92.56264626755313}, {\"date\": \"1997-11-12\", \"value\": 145.679808564722}, {\"date\": \"1998-02-10\", \"value\": 108.2248133988304}, {\"date\": \"1999-05-03\", \"value\": 26.623990311953975}, {\"date\": \"1999-11-26\", \"value\": 199.19826652930936}, {\"date\": \"2000-06-10\", \"value\": 95.48661374334495}, {\"date\": \"2000-08-24\", \"value\": 147.53997540318414}, {\"date\": \"2000-10-30\", \"value\": 234.999277564154}, {\"date\": \"2000-11-11\", \"value\": 73.29802132506674}, {\"date\": \"2001-02-26\", \"value\": 122.55031822280729}, {\"date\": \"2001-08-25\", \"value\": 79.02833405359783}, {\"date\": \"2002-01-13\", \"value\": 104.21480084855304}, {\"date\": \"2002-03-22\", \"value\": 131.50718066563056}, {\"date\": \"2002-04-21\", \"value\": 208.76155943554528}, {\"date\": \"2002-05-21\", \"value\": 114.99298580119854}, {\"date\": \"2002-08-06\", \"value\": 3.193481353215617}, {\"date\": \"2003-01-17\", \"value\": 162.5855209479713}, {\"date\": \"2004-02-29\", \"value\": 84.06744473386387}, {\"date\": \"2004-08-30\", \"value\": 71.10506181888655}, {\"date\": \"2004-10-17\", \"value\": 96.89256475800664}, {\"date\": \"2004-11-17\", \"value\": 116.68323853167503}, {\"date\": \"2005-01-21\", \"value\": 126.44305784042858}, {\"date\": \"2005-09-15\", \"value\": 78.4387711736183}, {\"date\": \"2005-12-02\", \"value\": 20.473130637319485}, {\"date\": \"2006-04-14\", \"value\": 142.08578163959928}, {\"date\": \"2006-04-28\", \"value\": 65.66431859563107}, {\"date\": \"2006-05-15\", \"value\": 168.86176344766}, {\"date\": \"2006-10-03\", \"value\": 156.6782659844696}, {\"date\": \"2011-04-22\", \"value\": 132.38199304810274}, {\"date\": \"2011-07-04\", \"value\": 60.17002222697961}, {\"date\": \"2012-03-25\", \"value\": 165.90670174727396}, {\"date\": \"2012-05-27\", \"value\": 200.6627219220087}, {\"date\": \"2012-07-13\", \"value\": 153.29188040945704}, {\"date\": \"2013-01-26\", \"value\": 96.4625630790038}, {\"date\": \"2013-05-03\", \"value\": 103.34461395168165}]\n\n    data = data.map(function(d){\n        var d2 = d;\n        d2[\"x\"] = d3.timeParse(\"%Y-%m-%d\")(d.date);\n        if ( \"value\" in d ) { d2[\"y\"] = d.value; }\n        return d2\n    })\n\n    var yMin = Math.min.apply(Math, data.map(function(o) { return o.y; }))\n    var yMax = Math.max.apply(Math, data.map(function(o) { return o.y; }))\n\n    // Add X axis --> it is a date format\n    var x = d3.scaleTime()\n      .domain(d3.extent(data, function(d) { return d.x; }))\n      .range([ 0, width ]);\n\n    // Y scale and Axis\n    var y = d3.scaleLinear()\n        .domain([yMin, yMax])\n        .range([height, 0]);\n    \n\n    svg\n        .append('g')\n        .attr(\"transform\", \"translate(0,\" + height + \")\")\n        .call(d3.axisBottom(x))\n\n    svg\n        .append('g')\n        .call(d3.axisLeft(y));\n    \n\n    // prepare a helper function\n    var lineFunc = d3.line()\n      .x(function(d) { return x(d.x) })\n      .y(function(d) { return y(d.y) })\n\n    // Add the path using this helper function\n    svg.append('path')\n      .attr('d', lineFunc(data))\n      .attr('stroke', \"steelblue\")\n      .attr('fill', 'none');\n    \n\n    }) })(element);\n    ",
      "text/plain": [
       "<IPython.core.display.Javascript object>"
      ]
     },
     "metadata": {},
     "output_type": "display_data"
    }
   ],
   "source": [
    "js_d3_date_list_plot(tsRand2)"
   ]
  },
  {
   "cell_type": "code",
   "execution_count": 48,
   "id": "29e09274",
   "metadata": {},
   "outputs": [
    {
     "data": {
      "application/javascript": "\n    (function(element) { require(['d3'], function(d3) {\n    \n\n    // set the dimensions and margins of the graph\n    var margin = {\"top\": 40, \"bottom\": 40, \"left\": 40, \"right\": 40},\n        width = 600 - margin.left - margin.right,\n        height = 400 - margin.top - margin.bottom;\n    \n    // append the svg object to the body of the page\n    var svg = d3\n       .select(element.get(0))\n      .append(\"svg\")\n        .attr(\"width\", width + margin.left + margin.right)\n        .attr(\"height\", height + margin.top + margin.bottom)\n        .style(\"background\", \"white\")\n      .append(\"g\")\n        .attr(\"transform\",\n              \"translate(\" + margin.left + \",\" + margin.top + \")\")\n    \n    // Obtain title\n    var title = \"\"\n    \n    if ( title.length > 0 ) {\n        svg.append(\"text\")\n            .attr(\"x\", (width / 2))\n            .attr(\"y\", 0 - (margin.top / 2))\n            .attr(\"text-anchor\", \"middle\")\n            .style(\"font-size\", \"16px\")\n            //.style(\"text-decoration\", \"underline\")\n            .text(title);\n    }\n    \n    // Obtain x-axis label\n    var xAxisLabel = \"\"\n    var xAxisLabelFontSize = 12\n    \n    if ( xAxisLabel.length > 0 ) {\n        svg.append(\"text\")\n            .attr(\"x\", (width / 2))\n            .attr(\"y\", height + margin.bottom - xAxisLabelFontSize/2)\n            .attr(\"text-anchor\", \"middle\")\n            .style(\"font-size\", xAxisLabelFontSize.toString() + \"px\")\n            .text(xAxisLabel);\n    }\n    \n    // Obtain y-axis label\n    var yAxisLabel = \"\"\n    var yAxisLabelFontSize = 12\n    \n    if ( yAxisLabel.length > 0 ) {\n        svg.append(\"text\")\n            .attr(\"transform\", \"rotate(-90)\")\n            .attr(\"x\", - (height / 2))\n            .attr(\"y\", 0 - margin.left + yAxisLabelFontSize)\n            .attr(\"text-anchor\", \"middle\")\n            .style(\"font-size\", yAxisLabelFontSize.toString() + \"px\")\n            .text(yAxisLabel);\n    }\n    \n\n    // Obtain data\n    var data = [{\"date\": \"1970-04-15\", \"value\": 43.55850970555511}, {\"date\": \"1970-05-19\", \"value\": 123.73398258398359}, {\"date\": \"1970-07-28\", \"value\": 226.9376268947209}, {\"date\": \"1970-08-07\", \"value\": 162.07327345368526}, {\"date\": \"1970-08-13\", \"value\": 63.11748775594951}, {\"date\": \"1971-11-08\", \"value\": 168.8502803005794}, {\"date\": \"1971-12-17\", \"value\": 73.7495518580715}, {\"date\": \"1972-05-01\", \"value\": 85.24343389896158}, {\"date\": \"1973-06-24\", \"value\": -25.030460500284136}, {\"date\": \"1973-12-09\", \"value\": 166.08531771287028}, {\"date\": \"1974-04-26\", \"value\": 95.5895824575106}, {\"date\": \"1974-05-24\", \"value\": 146.48746670940739}, {\"date\": \"1974-10-12\", \"value\": 118.32890562805252}, {\"date\": \"1974-11-12\", \"value\": 10.453981303122049}, {\"date\": \"1975-09-12\", \"value\": 141.27103907243477}, {\"date\": \"1976-04-21\", \"value\": 167.03127105616858}, {\"date\": \"1976-09-19\", \"value\": 114.71463135793697}, {\"date\": \"1976-11-28\", \"value\": 183.79334263122678}, {\"date\": \"1976-12-15\", \"value\": 11.273864676531531}, {\"date\": \"1977-06-02\", \"value\": 272.12796817200547}, {\"date\": \"1977-06-11\", \"value\": 200.74404369460876}, {\"date\": \"1978-03-29\", \"value\": 352.68449908356195}, {\"date\": \"1978-06-09\", \"value\": 106.23488650270991}, {\"date\": \"1978-08-19\", \"value\": 166.82492264340098}, {\"date\": \"1978-11-16\", \"value\": 76.15363306888364}, {\"date\": \"1979-04-17\", \"value\": 136.57133212135787}, {\"date\": \"1979-09-17\", \"value\": 148.07757638505004}, {\"date\": \"1980-07-13\", \"value\": 181.16224406990207}, {\"date\": \"1980-08-02\", \"value\": 180.38697819425064}, {\"date\": \"1980-09-05\", \"value\": 102.7100183689621}, {\"date\": \"1981-04-07\", \"value\": 88.10351432621842}, {\"date\": \"1981-07-04\", \"value\": 188.86326079648916}, {\"date\": \"1981-08-10\", \"value\": 126.66889348742454}, {\"date\": \"1981-12-23\", \"value\": 56.082986763825836}, {\"date\": \"1982-04-05\", \"value\": 103.47626462723373}, {\"date\": \"1983-04-17\", \"value\": 163.72545085761578}, {\"date\": \"1984-04-30\", \"value\": 137.3217270302171}, {\"date\": \"1984-10-18\", \"value\": 77.53870266103704}, {\"date\": \"1984-12-25\", \"value\": 3.683822796110803}, {\"date\": \"1984-12-25\", \"value\": 110.9036925894645}, {\"date\": \"1985-02-22\", \"value\": 137.50487398387162}, {\"date\": \"1985-12-12\", \"value\": 155.07724235268063}, {\"date\": \"1987-01-06\", \"value\": 242.10625275112758}, {\"date\": \"1987-06-30\", \"value\": 131.01578571927402}, {\"date\": \"1987-09-05\", \"value\": 65.78941061264115}, {\"date\": \"1989-04-06\", \"value\": 213.01100137054834}, {\"date\": \"1989-05-22\", \"value\": 154.72192122306643}, {\"date\": \"1989-07-14\", \"value\": 110.55351018839687}, {\"date\": \"1989-07-19\", \"value\": 146.26025772747388}, {\"date\": \"1990-09-14\", \"value\": 143.86229203001835}, {\"date\": \"1991-06-02\", \"value\": 82.78045638823652}, {\"date\": \"1992-06-09\", \"value\": 70.3366012716464}, {\"date\": \"1992-07-11\", \"value\": 139.9913781584894}, {\"date\": \"1992-12-31\", \"value\": 100.69914149934093}, {\"date\": \"1993-08-26\", \"value\": 169.46355047608898}, {\"date\": \"1993-09-23\", \"value\": 119.42393209717017}, {\"date\": \"1993-11-02\", \"value\": 68.95141893761703}, {\"date\": \"1994-06-16\", \"value\": 181.41426082043768}, {\"date\": \"1995-01-08\", \"value\": 249.7286711291928}, {\"date\": \"1995-02-02\", \"value\": 83.6070003477057}, {\"date\": \"1995-08-21\", \"value\": -33.45266614640232}, {\"date\": \"1995-11-07\", \"value\": 181.42263000993762}, {\"date\": \"1996-06-13\", \"value\": 93.57260009917229}, {\"date\": \"1996-08-28\", \"value\": 143.76600835279748}, {\"date\": \"1997-02-16\", \"value\": 160.6443321566669}, {\"date\": \"1997-03-04\", \"value\": 92.56264626755313}, {\"date\": \"1997-11-12\", \"value\": 145.679808564722}, {\"date\": \"1998-02-10\", \"value\": 108.2248133988304}, {\"date\": \"1999-05-03\", \"value\": 26.623990311953975}, {\"date\": \"1999-11-26\", \"value\": 199.19826652930936}, {\"date\": \"2000-06-10\", \"value\": 95.48661374334495}, {\"date\": \"2000-08-24\", \"value\": 147.53997540318414}, {\"date\": \"2000-10-30\", \"value\": 234.999277564154}, {\"date\": \"2000-11-11\", \"value\": 73.29802132506674}, {\"date\": \"2001-02-26\", \"value\": 122.55031822280729}, {\"date\": \"2001-08-25\", \"value\": 79.02833405359783}, {\"date\": \"2002-01-13\", \"value\": 104.21480084855304}, {\"date\": \"2002-03-22\", \"value\": 131.50718066563056}, {\"date\": \"2002-04-21\", \"value\": 208.76155943554528}, {\"date\": \"2002-05-21\", \"value\": 114.99298580119854}, {\"date\": \"2002-08-06\", \"value\": 3.193481353215617}, {\"date\": \"2003-01-17\", \"value\": 162.5855209479713}, {\"date\": \"2004-02-29\", \"value\": 84.06744473386387}, {\"date\": \"2004-08-30\", \"value\": 71.10506181888655}, {\"date\": \"2004-10-17\", \"value\": 96.89256475800664}, {\"date\": \"2004-11-17\", \"value\": 116.68323853167503}, {\"date\": \"2005-01-21\", \"value\": 126.44305784042858}, {\"date\": \"2005-09-15\", \"value\": 78.4387711736183}, {\"date\": \"2005-12-02\", \"value\": 20.473130637319485}, {\"date\": \"2006-04-14\", \"value\": 142.08578163959928}, {\"date\": \"2006-04-28\", \"value\": 65.66431859563107}, {\"date\": \"2006-05-15\", \"value\": 168.86176344766}, {\"date\": \"2006-10-03\", \"value\": 156.6782659844696}, {\"date\": \"2011-04-22\", \"value\": 132.38199304810274}, {\"date\": \"2011-07-04\", \"value\": 60.17002222697961}, {\"date\": \"2012-03-25\", \"value\": 165.90670174727396}, {\"date\": \"2012-05-27\", \"value\": 200.6627219220087}, {\"date\": \"2012-07-13\", \"value\": 153.29188040945704}, {\"date\": \"2013-01-26\", \"value\": 96.4625630790038}, {\"date\": \"2013-05-03\", \"value\": 103.34461395168165}]\n\n    data = data.map(function(d){\n        var d2 = d;\n        d2[\"x\"] = d3.timeParse(\"%Y-%m-%d\")(d.date);\n        if ( \"value\" in d ) { d2[\"y\"] = d.value; }\n        return d2\n    })\n\n    var yMin = Math.min.apply(Math, data.map(function(o) { return o.y; }))\n    var yMax = Math.max.apply(Math, data.map(function(o) { return o.y; }))\n\n    // Add X axis --> it is a date format\n    var x = d3.scaleTime()\n      .domain(d3.extent(data, function(d) { return d.x; }))\n      .range([ 0, width ]);\n\n    // Y scale and Axis\n    var y = d3.scaleLinear()\n        .domain([yMin, yMax])\n        .range([height, 0]);\n    \n\n    // prepare a helper function\n    var lineFunc = d3.line()\n      .x(function(d) { return x(d.x) })\n      .y(function(d) { return y(d.y) })\n\n    // Add the path using this helper function\n    svg.append('path')\n      .attr('d', lineFunc(data))\n      .attr('stroke', \"steelblue\")\n      .attr('fill', 'none');\n    \n\n    }) })(element);\n    ",
      "text/plain": [
       "<IPython.core.display.Javascript object>"
      ]
     },
     "metadata": {},
     "output_type": "display_data"
    }
   ],
   "source": [
    "tsRand3=[{\"date\":x[0], \"value\":x[1]} for x in tsRand2]\n",
    "js_d3_date_list_plot(tsRand3, grid_lines=True, axes=False)"
   ]
  }
 ],
 "metadata": {
  "kernelspec": {
   "display_name": "SciPyCentric",
   "language": "python",
   "name": "scipycentric"
  },
  "language_info": {
   "codemirror_mode": {
    "name": "ipython",
    "version": 3
   },
   "file_extension": ".py",
   "mimetype": "text/x-python",
   "name": "python",
   "nbconvert_exporter": "python",
   "pygments_lexer": "ipython3",
   "version": "3.10.8"
  }
 },
 "nbformat": 4,
 "nbformat_minor": 5
}
